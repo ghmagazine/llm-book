{
 "cells": [
  {
   "cell_type": "markdown",
   "id": "a6d58c60",
   "metadata": {
    "id": "a6d58c60"
   },
   "source": [
    "# 第9章 質問応答"
   ]
  },
  {
   "cell_type": "markdown",
   "source": [
    "## 9.5 文書検索モデルとChatGPTを組み合わせる"
   ],
   "metadata": {
    "id": "l0DcHHRuUC99"
   },
   "id": "l0DcHHRuUC99"
  },
  {
   "cell_type": "markdown",
   "id": "63a9f6c0",
   "metadata": {
    "id": "63a9f6c0"
   },
   "source": [
    "### 9.5.1 検索モデルの準備"
   ]
  },
  {
   "cell_type": "code",
   "execution_count": 1,
   "id": "09aae465",
   "metadata": {
    "id": "09aae465",
    "colab": {
     "base_uri": "https://localhost:8080/"
    },
    "executionInfo": {
     "status": "ok",
     "timestamp": 1689827878163,
     "user_tz": -540,
     "elapsed": 73733,
     "user": {
      "displayName": "Ryokan Ri",
      "userId": "09390037946487494940"
     }
    },
    "outputId": "82c85385-b63b-4e6c-bb5c-ab94b256ca7c"
   },
   "outputs": [
    {
     "output_type": "stream",
     "name": "stdout",
     "text": [
      "Collecting datasets\n",
      "  Downloading datasets-2.13.1-py3-none-any.whl (486 kB)\n",
      "\u001B[2K     \u001B[90m━━━━━━━━━━━━━━━━━━━━━━━━━━━━━━━━━━━━━━━\u001B[0m \u001B[32m486.2/486.2 kB\u001B[0m \u001B[31m6.0 MB/s\u001B[0m eta \u001B[36m0:00:00\u001B[0m\n",
      "\u001B[?25hCollecting openai\n",
      "  Downloading openai-0.27.8-py3-none-any.whl (73 kB)\n",
      "\u001B[2K     \u001B[90m━━━━━━━━━━━━━━━━━━━━━━━━━━━━━━━━━━━━━━━━\u001B[0m \u001B[32m73.6/73.6 kB\u001B[0m \u001B[31m5.2 MB/s\u001B[0m eta \u001B[36m0:00:00\u001B[0m\n",
      "\u001B[?25hCollecting tiktoken\n",
      "  Downloading tiktoken-0.4.0-cp310-cp310-manylinux_2_17_x86_64.manylinux2014_x86_64.whl (1.7 MB)\n",
      "\u001B[2K     \u001B[90m━━━━━━━━━━━━━━━━━━━━━━━━━━━━━━━━━━━━━━━━\u001B[0m \u001B[32m1.7/1.7 MB\u001B[0m \u001B[31m16.6 MB/s\u001B[0m eta \u001B[36m0:00:00\u001B[0m\n",
      "\u001B[?25hCollecting transformers[ja]\n",
      "  Downloading transformers-4.31.0-py3-none-any.whl (7.4 MB)\n",
      "\u001B[2K     \u001B[90m━━━━━━━━━━━━━━━━━━━━━━━━━━━━━━━━━━━━━━━━\u001B[0m \u001B[32m7.4/7.4 MB\u001B[0m \u001B[31m48.1 MB/s\u001B[0m eta \u001B[36m0:00:00\u001B[0m\n",
      "\u001B[?25hCollecting faiss-cpu\n",
      "  Downloading faiss_cpu-1.7.4-cp310-cp310-manylinux_2_17_x86_64.manylinux2014_x86_64.whl (17.6 MB)\n",
      "\u001B[2K     \u001B[90m━━━━━━━━━━━━━━━━━━━━━━━━━━━━━━━━━━━━━━━━\u001B[0m \u001B[32m17.6/17.6 MB\u001B[0m \u001B[31m57.2 MB/s\u001B[0m eta \u001B[36m0:00:00\u001B[0m\n",
      "\u001B[?25hRequirement already satisfied: numpy>=1.17 in /usr/local/lib/python3.10/dist-packages (from datasets) (1.22.4)\n",
      "Requirement already satisfied: pyarrow>=8.0.0 in /usr/local/lib/python3.10/dist-packages (from datasets) (9.0.0)\n",
      "Collecting dill<0.3.7,>=0.3.0 (from datasets)\n",
      "  Downloading dill-0.3.6-py3-none-any.whl (110 kB)\n",
      "\u001B[2K     \u001B[90m━━━━━━━━━━━━━━━━━━━━━━━━━━━━━━━━━━━━━━━\u001B[0m \u001B[32m110.5/110.5 kB\u001B[0m \u001B[31m7.0 MB/s\u001B[0m eta \u001B[36m0:00:00\u001B[0m\n",
      "\u001B[?25hRequirement already satisfied: pandas in /usr/local/lib/python3.10/dist-packages (from datasets) (1.5.3)\n",
      "Requirement already satisfied: requests>=2.19.0 in /usr/local/lib/python3.10/dist-packages (from datasets) (2.27.1)\n",
      "Requirement already satisfied: tqdm>=4.62.1 in /usr/local/lib/python3.10/dist-packages (from datasets) (4.65.0)\n",
      "Collecting xxhash (from datasets)\n",
      "  Downloading xxhash-3.2.0-cp310-cp310-manylinux_2_17_x86_64.manylinux2014_x86_64.whl (212 kB)\n",
      "\u001B[2K     \u001B[90m━━━━━━━━━━━━━━━━━━━━━━━━━━━━━━━━━━━━━━\u001B[0m \u001B[32m212.5/212.5 kB\u001B[0m \u001B[31m10.6 MB/s\u001B[0m eta \u001B[36m0:00:00\u001B[0m\n",
      "\u001B[?25hCollecting multiprocess (from datasets)\n",
      "  Downloading multiprocess-0.70.14-py310-none-any.whl (134 kB)\n",
      "\u001B[2K     \u001B[90m━━━━━━━━━━━━━━━━━━━━━━━━━━━━━━━━━━━━━━\u001B[0m \u001B[32m134.3/134.3 kB\u001B[0m \u001B[31m11.4 MB/s\u001B[0m eta \u001B[36m0:00:00\u001B[0m\n",
      "\u001B[?25hRequirement already satisfied: fsspec[http]>=2021.11.1 in /usr/local/lib/python3.10/dist-packages (from datasets) (2023.6.0)\n",
      "Requirement already satisfied: aiohttp in /usr/local/lib/python3.10/dist-packages (from datasets) (3.8.4)\n",
      "Collecting huggingface-hub<1.0.0,>=0.11.0 (from datasets)\n",
      "  Downloading huggingface_hub-0.16.4-py3-none-any.whl (268 kB)\n",
      "\u001B[2K     \u001B[90m━━━━━━━━━━━━━━━━━━━━━━━━━━━━━━━━━━━━━━\u001B[0m \u001B[32m268.8/268.8 kB\u001B[0m \u001B[31m22.1 MB/s\u001B[0m eta \u001B[36m0:00:00\u001B[0m\n",
      "\u001B[?25hRequirement already satisfied: packaging in /usr/local/lib/python3.10/dist-packages (from datasets) (23.1)\n",
      "Requirement already satisfied: pyyaml>=5.1 in /usr/local/lib/python3.10/dist-packages (from datasets) (6.0)\n",
      "Requirement already satisfied: regex>=2022.1.18 in /usr/local/lib/python3.10/dist-packages (from tiktoken) (2022.10.31)\n",
      "Requirement already satisfied: filelock in /usr/local/lib/python3.10/dist-packages (from transformers[ja]) (3.12.2)\n",
      "Collecting tokenizers!=0.11.3,<0.14,>=0.11.1 (from transformers[ja])\n",
      "  Downloading tokenizers-0.13.3-cp310-cp310-manylinux_2_17_x86_64.manylinux2014_x86_64.whl (7.8 MB)\n",
      "\u001B[2K     \u001B[90m━━━━━━━━━━━━━━━━━━━━━━━━━━━━━━━━━━━━━━━━\u001B[0m \u001B[32m7.8/7.8 MB\u001B[0m \u001B[31m48.4 MB/s\u001B[0m eta \u001B[36m0:00:00\u001B[0m\n",
      "\u001B[?25hCollecting safetensors>=0.3.1 (from transformers[ja])\n",
      "  Downloading safetensors-0.3.1-cp310-cp310-manylinux_2_17_x86_64.manylinux2014_x86_64.whl (1.3 MB)\n",
      "\u001B[2K     \u001B[90m━━━━━━━━━━━━━━━━━━━━━━━━━━━━━━━━━━━━━━━━\u001B[0m \u001B[32m1.3/1.3 MB\u001B[0m \u001B[31m11.3 MB/s\u001B[0m eta \u001B[36m0:00:00\u001B[0m\n",
      "\u001B[?25hCollecting fugashi>=1.0 (from transformers[ja])\n",
      "  Downloading fugashi-1.2.1-cp310-cp310-manylinux_2_17_x86_64.manylinux2014_x86_64.whl (599 kB)\n",
      "\u001B[2K     \u001B[90m━━━━━━━━━━━━━━━━━━━━━━━━━━━━━━━━━━━━━━\u001B[0m \u001B[32m599.9/599.9 kB\u001B[0m \u001B[31m15.3 MB/s\u001B[0m eta \u001B[36m0:00:00\u001B[0m\n",
      "\u001B[?25hCollecting ipadic<2.0,>=1.0.0 (from transformers[ja])\n",
      "  Downloading ipadic-1.0.0.tar.gz (13.4 MB)\n",
      "\u001B[2K     \u001B[90m━━━━━━━━━━━━━━━━━━━━━━━━━━━━━━━━━━━━━━━━\u001B[0m \u001B[32m13.4/13.4 MB\u001B[0m \u001B[31m36.4 MB/s\u001B[0m eta \u001B[36m0:00:00\u001B[0m\n",
      "\u001B[?25h  Preparing metadata (setup.py) ... \u001B[?25l\u001B[?25hdone\n",
      "Collecting unidic-lite>=1.0.7 (from transformers[ja])\n",
      "  Downloading unidic-lite-1.0.8.tar.gz (47.4 MB)\n",
      "\u001B[2K     \u001B[90m━━━━━━━━━━━━━━━━━━━━━━━━━━━━━━━━━━━━━━━━\u001B[0m \u001B[32m47.4/47.4 MB\u001B[0m \u001B[31m8.9 MB/s\u001B[0m eta \u001B[36m0:00:00\u001B[0m\n",
      "\u001B[?25h  Preparing metadata (setup.py) ... \u001B[?25l\u001B[?25hdone\n",
      "Collecting unidic>=1.0.2 (from transformers[ja])\n",
      "  Downloading unidic-1.1.0.tar.gz (7.7 kB)\n",
      "  Preparing metadata (setup.py) ... \u001B[?25l\u001B[?25hdone\n",
      "Collecting sudachipy>=0.6.6 (from transformers[ja])\n",
      "  Downloading SudachiPy-0.6.7-cp310-cp310-manylinux_2_17_x86_64.manylinux2014_x86_64.whl (2.2 MB)\n",
      "\u001B[2K     \u001B[90m━━━━━━━━━━━━━━━━━━━━━━━━━━━━━━━━━━━━━━━━\u001B[0m \u001B[32m2.2/2.2 MB\u001B[0m \u001B[31m98.1 MB/s\u001B[0m eta \u001B[36m0:00:00\u001B[0m\n",
      "\u001B[?25hCollecting sudachidict-core>=20220729 (from transformers[ja])\n",
      "  Downloading SudachiDict-core-20230110.tar.gz (9.0 kB)\n",
      "  Preparing metadata (setup.py) ... \u001B[?25l\u001B[?25hdone\n",
      "Collecting rhoknp<1.3.1,>=1.1.0 (from transformers[ja])\n",
      "  Downloading rhoknp-1.3.0-py3-none-any.whl (86 kB)\n",
      "\u001B[2K     \u001B[90m━━━━━━━━━━━━━━━━━━━━━━━━━━━━━━━━━━━━━━━━\u001B[0m \u001B[32m86.8/86.8 kB\u001B[0m \u001B[31m10.4 MB/s\u001B[0m eta \u001B[36m0:00:00\u001B[0m\n",
      "\u001B[?25hRequirement already satisfied: attrs>=17.3.0 in /usr/local/lib/python3.10/dist-packages (from aiohttp->datasets) (23.1.0)\n",
      "Requirement already satisfied: charset-normalizer<4.0,>=2.0 in /usr/local/lib/python3.10/dist-packages (from aiohttp->datasets) (2.0.12)\n",
      "Requirement already satisfied: multidict<7.0,>=4.5 in /usr/local/lib/python3.10/dist-packages (from aiohttp->datasets) (6.0.4)\n",
      "Requirement already satisfied: async-timeout<5.0,>=4.0.0a3 in /usr/local/lib/python3.10/dist-packages (from aiohttp->datasets) (4.0.2)\n",
      "Requirement already satisfied: yarl<2.0,>=1.0 in /usr/local/lib/python3.10/dist-packages (from aiohttp->datasets) (1.9.2)\n",
      "Requirement already satisfied: frozenlist>=1.1.1 in /usr/local/lib/python3.10/dist-packages (from aiohttp->datasets) (1.4.0)\n",
      "Requirement already satisfied: aiosignal>=1.1.2 in /usr/local/lib/python3.10/dist-packages (from aiohttp->datasets) (1.3.1)\n",
      "Requirement already satisfied: typing-extensions>=3.7.4.3 in /usr/local/lib/python3.10/dist-packages (from huggingface-hub<1.0.0,>=0.11.0->datasets) (4.7.1)\n",
      "Requirement already satisfied: urllib3<1.27,>=1.21.1 in /usr/local/lib/python3.10/dist-packages (from requests>=2.19.0->datasets) (1.26.16)\n",
      "Requirement already satisfied: certifi>=2017.4.17 in /usr/local/lib/python3.10/dist-packages (from requests>=2.19.0->datasets) (2023.5.7)\n",
      "Requirement already satisfied: idna<4,>=2.5 in /usr/local/lib/python3.10/dist-packages (from requests>=2.19.0->datasets) (3.4)\n",
      "Collecting wasabi<1.0.0,>=0.6.0 (from unidic>=1.0.2->transformers[ja])\n",
      "  Downloading wasabi-0.10.1-py3-none-any.whl (26 kB)\n",
      "Collecting plac<2.0.0,>=1.1.3 (from unidic>=1.0.2->transformers[ja])\n",
      "  Downloading plac-1.3.5-py2.py3-none-any.whl (22 kB)\n",
      "Requirement already satisfied: python-dateutil>=2.8.1 in /usr/local/lib/python3.10/dist-packages (from pandas->datasets) (2.8.2)\n",
      "Requirement already satisfied: pytz>=2020.1 in /usr/local/lib/python3.10/dist-packages (from pandas->datasets) (2022.7.1)\n",
      "Requirement already satisfied: six>=1.5 in /usr/local/lib/python3.10/dist-packages (from python-dateutil>=2.8.1->pandas->datasets) (1.16.0)\n",
      "Building wheels for collected packages: ipadic, sudachidict-core, unidic, unidic-lite\n",
      "  Building wheel for ipadic (setup.py) ... \u001B[?25l\u001B[?25hdone\n",
      "  Created wheel for ipadic: filename=ipadic-1.0.0-py3-none-any.whl size=13556703 sha256=7867fa6ed5e4ce0d00caf6172998e7702cc27d574efbb2cdd7a1f8cf5556826b\n",
      "  Stored in directory: /root/.cache/pip/wheels/5b/ea/e3/2f6e0860a327daba3b030853fce4483ed37468bbf1101c59c3\n",
      "  Building wheel for sudachidict-core (setup.py) ... \u001B[?25l\u001B[?25hdone\n",
      "  Created wheel for sudachidict-core: filename=SudachiDict_core-20230110-py3-none-any.whl size=71665379 sha256=c0b858e89dace6b29abe716093e51d0eede1e9bdb2b81adb1a528df62c2f6be6\n",
      "  Stored in directory: /root/.cache/pip/wheels/35/35/8a/5cd8203a86e68ccefc49d4a2975165bb9ee369d2693eb4049b\n",
      "  Building wheel for unidic (setup.py) ... \u001B[?25l\u001B[?25hdone\n",
      "  Created wheel for unidic: filename=unidic-1.1.0-py3-none-any.whl size=7409 sha256=1e8a0a027648631b78a996ef885fe8af90c28e1b59c5dc87a774409de32c8fbd\n",
      "  Stored in directory: /root/.cache/pip/wheels/7a/72/72/1f3d654c345ea69d5d51b531c90daf7ba14cc555eaf2c64ab0\n",
      "  Building wheel for unidic-lite (setup.py) ... \u001B[?25l\u001B[?25hdone\n",
      "  Created wheel for unidic-lite: filename=unidic_lite-1.0.8-py3-none-any.whl size=47658818 sha256=188531edf6c4456d4e293d9331a8d378b1418da12b855235265f4c7307d171b9\n",
      "  Stored in directory: /root/.cache/pip/wheels/89/e8/68/f9ac36b8cc6c8b3c96888cd57434abed96595d444f42243853\n",
      "Successfully built ipadic sudachidict-core unidic unidic-lite\n",
      "Installing collected packages: wasabi, unidic-lite, tokenizers, sudachipy, safetensors, plac, ipadic, faiss-cpu, xxhash, sudachidict-core, rhoknp, fugashi, dill, unidic, tiktoken, multiprocess, huggingface-hub, transformers, openai, datasets\n",
      "  Attempting uninstall: wasabi\n",
      "    Found existing installation: wasabi 1.1.2\n",
      "    Uninstalling wasabi-1.1.2:\n",
      "      Successfully uninstalled wasabi-1.1.2\n",
      "Successfully installed datasets-2.13.1 dill-0.3.6 faiss-cpu-1.7.4 fugashi-1.2.1 huggingface-hub-0.16.4 ipadic-1.0.0 multiprocess-0.70.14 openai-0.27.8 plac-1.3.5 rhoknp-1.3.0 safetensors-0.3.1 sudachidict-core-20230110 sudachipy-0.6.7 tiktoken-0.4.0 tokenizers-0.13.3 transformers-4.31.0 unidic-1.1.0 unidic-lite-1.0.8 wasabi-0.10.1 xxhash-3.2.0\n"
     ]
    }
   ],
   "source": [
    "!pip install datasets openai tiktoken transformers[ja] faiss-cpu"
   ]
  },
  {
   "cell_type": "code",
   "execution_count": 2,
   "id": "2b28ec38",
   "metadata": {
    "id": "2b28ec38",
    "colab": {
     "base_uri": "https://localhost:8080/",
     "height": 553,
     "referenced_widgets": [
      "9df0d3dd5ec74ad88097ca607f5f5be3",
      "ff49f89599e3458699dcfc2464ad76e0",
      "85c8a4d8c150421b8a169e5a65764d5f",
      "1f147ee4e8fe4f399511bb5c3d4cf1c2",
      "1795cf94539446a2914376246d7069a2",
      "d399228ff81e4b1d992a67e1665c551a",
      "0a72589ae01d4b36acb56905eec58a14",
      "536159c3e0844e54af10701955ac517a",
      "62d76e48b8224ef193616fdb2693c6c2",
      "90d7cbecbe1d4c79a52c392a5f03df9a",
      "a811e3cae1d84e5387b901d4655b2465",
      "3f11e7355d124c4085b7e00389c5d92c",
      "67fc2740db144c7ebeb295199fa6d54b",
      "ed320cbe6c894a3dabc54e1c6d85a87f",
      "1b3bc2402a794ab3b2a8239271143fd7",
      "240d2ddad777486393125bd2f4b4b968",
      "b2f305b54f774ffbaa235a8d792c6b67",
      "8e24de5b38004d988aa9a4f5ec623795",
      "d874770ca0db417182a526d86e7e552d",
      "a404ee0ed1f84535a35236cb9d2e86ba",
      "3e58724d95174ab4b5990e3d79cac55f",
      "9ea7b1af7282485da451d38e474fc652",
      "3a0b49f149fd4e6f9a016abe28f3f7b7",
      "bbe60c5feff643ab9b9a1606c078f6b7",
      "eed696ce72304843855d1e69bba16925",
      "8c67c20a00b447a0804f7062a3b5f775",
      "c228ee1f27414954b020ee51229b8a90",
      "fe932e96ea504a39bf704ed7ed5f3125",
      "37aa5d0893074b08b3e6ecd49deb35f4",
      "1086cb516340402eaec5c54ab929720e",
      "fcbd38105dba4754a442e9c5de7a9a33",
      "d315278ccddd42378cc447e149a85c1c",
      "996ab84c123f43cbb4596b898915371e",
      "387bde5054a044e5bd60c939fea9e269",
      "429d1cb13fa044a885482f6f1e053013",
      "32a6cb78c2bc40518a144e39c62b9b36",
      "409f019f94a54660af140a95e47a5a82",
      "b8f46645fe384aa48e2b48e30b6bd249",
      "72d2302307134c8ca3c5ccfcbb610e6f",
      "9157d5f7de044b05b806348d6ff847e4",
      "927ed7bdef044dc499b7a252463c2364",
      "e9d2f4d79732417589eb1fc9e78284b2",
      "95cd115620e84ae1afcb4210d18cacd3",
      "4dd44ad377a141b69969e5fbd80dc99a",
      "9e93a7c39a634e6094c890f5283f6d06",
      "b666cccf851349b79367de96fdb6edf3",
      "1daa1830746c43f9b3a93c18c17d43b3",
      "15ed0ad1bf014590bc78381c1ddb6c17",
      "9b628411454f427b82de8cd87033470e",
      "1d151e442d9b4d9ab9c91034e458bea3",
      "572979200e4a4cfc9fd2ceee1af09592",
      "d38391f46d1e45b6a05dd3b9245817c7",
      "f3cd14baf8f34078aa90106636cab5d6",
      "347af6ff229048d8a2ab8c2bfd286766",
      "4ca33487ba0146b3926885d8f1d4731b",
      "8d74eba78d084caba1acf80c8caf9958",
      "271189a369b54c17842006daa2d332e8",
      "3d2d1102d4694727a2cf711942e19037",
      "a8ffd609a82e4aa2b57b74f7603ac69c",
      "64309f15ae18495bb8c66c846148bf8a",
      "16357148b1d842cb9a9afe1fca2b940b",
      "b4c190026bb84483950fb8d271950b25",
      "38ea5949f53a4cd4a9192ad59f2401f0",
      "badad80968664d6aae2c847f62a6ff2f",
      "b87dd1a6afb349bd9258fb672d9ef476",
      "76cf8aaca5cd4400a25bbf8760dfda23",
      "2d9de6e4de40404187f44ef00e4dcf49",
      "7ee31d1743094d7f9d6d458d905c75a0",
      "268125fd433e49b3abd3a10e425f5e21",
      "5cd0671df3e14530b48ae25633955b61",
      "ec71fa73554f4a16b8525e68c52c99dd",
      "8084dee605fa4e2eaeda85ca1fc57a98",
      "c15613899c8047768604fbb61b1341f6",
      "76dfc4077b304348849322142a9cc04a",
      "631ad43f527849d19019bd5b969c5d48",
      "eacaf53b0e18481a9152cd4025e3ad45",
      "9e1548d84be1492e938f9617f5b62ba2",
      "b6dfd5e429ee4bd8be959d65c667fe4a",
      "29e8fc03d5374697a7fbbd42c6972713",
      "1e88802ee1c248d38d8352c8778bd00b",
      "6870da0a465c405ea60e30c0f50b5820",
      "8b12359b19d242cebda38cfb1888c9b5",
      "f9bca9e2b03d469db0c818fb65dd37d9",
      "7604a72f097b49478f5ea3fdd2eecb7f",
      "fbfac3a24179472c8f83645e9e80784f",
      "cf1e22863f2541a682b3978fd0758c8b",
      "dc1c3b9cc98e44a9b9a027145622ace0",
      "a5a689791ddc4df8aef85895148d3e10",
      "ebcb8cf34359485cacc26d8b7e47edf9",
      "54e87aff527048c485fbb9fee0d0341b",
      "5755d17455034798990feb462680013e",
      "d424d20b70ee4c92897c42fefd03baae",
      "45ed0822a3f04d12913086b96c3e1708",
      "55b3798609cc499a8b4f5f6de76887cd",
      "451df71121644acbb2fa476eca28ae7f",
      "4d37ec288ee04344a8ad43478d00e3bf",
      "a9a5702437dd4d34a695909794621ec0",
      "c8789c1eb5d041e4a8cffe2cd849db21",
      "0bace994363c4fbbb25e8844de693ebc",
      "a965fc75f5c54640ad84bf967c2b5010",
      "d4fd48f315d449d186727e5199955ee6",
      "dbc3000a433849dbb0066629de532ad5",
      "99e9ac342e254645af4416df7312143d",
      "ad14d09832d94ca08f3592bbad8020f6",
      "bcc933de68554c82a5433c5428e9d3b1",
      "5deb09d28f734f4cb76dee7e49561a47",
      "1bcf42538f8b48e49db1d2779dfe1bf6",
      "8f0e48b1816144b2b835a01d6c175ed6",
      "a97564b590c247e78c2f50847cb47ac6",
      "bb90679e56264932a9d8d6c884cc686d",
      "f6cd1cfc852843b494813e9d6d532eed",
      "ddda4f1e20a24a1c89b883d22826847f",
      "9ceb98fbebc4463583f37cdafa660a54",
      "c828407e5c594a0e982393bc2d8a1dc8",
      "13e6cfec19e1465a8e71ced5832899b6",
      "bb60c9884088458f8594ec72f5c26a7a",
      "590449890643475286625a51bb4f6457",
      "a5267e27027747188fa488d873c734a1",
      "1ff12321f2c34a5f82625f40383a7b2d",
      "0545b7be797449598dacdfa1083b7dff",
      "3c7047565b2a499998835d57a0dd5189",
      "ef8696e2f5cc4a5e910bc7fd74eb3015",
      "6c5de28b6d364cf9a70a95e4ef2a70fb",
      "996124f2ef684225befba3a7f30d866b",
      "ddbc8ced63ac4afe9462ee7e4d752881",
      "54124de36cdb41fcb1ca21a94d410b52",
      "ace0825726774c65a86626884d44008a",
      "953b72092fb449b58d47fb51fafe3229",
      "4392a69039244efd80d4e8cf28b2ec29",
      "a4b2cc7dbab744d880adeb5fa9cbf06d",
      "f4ee837297264885ade6760eb7052a68",
      "c2c6b126ceae4560aea9ba29481ec43f",
      "70d054512dea4f26a2ddd3bd5d31d45c",
      "26479c3c016a4971891318db53a4ef62",
      "ab128280b12c41fd81c3b3f9abdd1eb8",
      "1b77e63078dc44ef9a6d0185152caab7",
      "fc9617c10315431ca74b5a1ea1bb3c1a",
      "2704c2f1240847e9ae9d63e4b2eff532",
      "2614cacc857e4f39a3985f2c334c26b4",
      "a3be203ad76249b1a7655479c715c114",
      "da9da21491404b069df10555624bbb79",
      "ea9fbc66ea2b4c099bc6c05c83686a16",
      "4cf01e3892a341769fea4bf7bf773c3e",
      "b4c9d4c22d264ae281ae38416c7c6509",
      "9bf11d9c4f1c468ab30eec18cb8a4e62",
      "7a2f79ab98ad42f1b3f4d7fb9eb9280f",
      "3d4ed7db72c340aca4cd47b55069ab1f",
      "56b284e4f7cb4ed4a07fde0df26c4466",
      "79f05277a07d4e4b97967d1e727740c9",
      "393798f5b277496b84c3b984fb2e65e5",
      "582451c4fc0d4bb2bd6aea3a89c6e21d",
      "ffe13717d79a43d88b1050b05c3d880b",
      "47e5329adb9b40c68fc8333312969233",
      "1e2e6013955c4fa083b3de67b6e3c5da",
      "e87199d9784e48bd83d565be9b07c8fb",
      "54a16c5a0c9e406b86858e18ee3e988f",
      "07d5dbefdc9047dca468f2306fc493e4",
      "1774e083a33040589d1c41e35a0854f2",
      "fe360f93716446078834f25bf8524146",
      "4138fa66ebc64d998c799ba1d07c5d07",
      "04de50fe1cdb4e6396c68959f6c3c3cf",
      "88f7082c341a4d818ca76f3a01d856a6",
      "ccd1e630fdc840e380a931cd34c9a777",
      "8b59dc67126542288ccf3c937f1a0711",
      "20d5fe7fa2c84c73894f43bee9d6eb30",
      "0c30789afdc84fe4bf7038acf22b2f7d",
      "6fc2a8e0fd2a4a35be093c3a2b44a139",
      "baa9bb30fb194e71821f2c3da587e0d2",
      "fe61d7adc2af4aec9994461311b10fcf",
      "596406c5b76f40ec949f1aaeb6f358eb",
      "63985085f73e46a9af14e6889f094948",
      "6fcc2a574e294efc838dd3a975d3a79f",
      "808ee08392f94d00b8fd3e3438b25de3",
      "f9ee14ed05f84c69b2a0c27712200870",
      "46cec38c808b4737923e6d958dc759af",
      "87dd12a0b68143738c2b809e1db8ac53"
     ]
    },
    "executionInfo": {
     "status": "ok",
     "timestamp": 1689828008554,
     "user_tz": -540,
     "elapsed": 130396,
     "user": {
      "displayName": "Ryokan Ri",
      "userId": "09390037946487494940"
     }
    },
    "outputId": "ffaf7b1d-fe8a-4d10-f7e6-bb92b5340ff5"
   },
   "outputs": [
    {
     "output_type": "display_data",
     "data": {
      "text/plain": [
       "Downloading readme:   0%|          | 0.00/1.50k [00:00<?, ?B/s]"
      ],
      "application/vnd.jupyter.widget-view+json": {
       "version_major": 2,
       "version_minor": 0,
       "model_id": "9df0d3dd5ec74ad88097ca607f5f5be3"
      }
     },
     "metadata": {}
    },
    {
     "output_type": "stream",
     "name": "stdout",
     "text": [
      "Downloading and preparing dataset None/None to /root/.cache/huggingface/datasets/llm-book___parquet/llm-book--aio-passages-bpr-bert-base-japanese-v3-ff2436ef460125f5/0.0.0/14a00e99c0d15a23649d0db8944380ac81082d4b021f398733dd84f3a6c569a7...\n"
     ]
    },
    {
     "output_type": "display_data",
     "data": {
      "text/plain": [
       "Downloading data files:   0%|          | 0/1 [00:00<?, ?it/s]"
      ],
      "application/vnd.jupyter.widget-view+json": {
       "version_major": 2,
       "version_minor": 0,
       "model_id": "3f11e7355d124c4085b7e00389c5d92c"
      }
     },
     "metadata": {}
    },
    {
     "output_type": "display_data",
     "data": {
      "text/plain": [
       "Downloading data:   0%|          | 0.00/343M [00:00<?, ?B/s]"
      ],
      "application/vnd.jupyter.widget-view+json": {
       "version_major": 2,
       "version_minor": 0,
       "model_id": "3a0b49f149fd4e6f9a016abe28f3f7b7"
      }
     },
     "metadata": {}
    },
    {
     "output_type": "display_data",
     "data": {
      "text/plain": [
       "Downloading data:   0%|          | 0.00/328M [00:00<?, ?B/s]"
      ],
      "application/vnd.jupyter.widget-view+json": {
       "version_major": 2,
       "version_minor": 0,
       "model_id": "387bde5054a044e5bd60c939fea9e269"
      }
     },
     "metadata": {}
    },
    {
     "output_type": "display_data",
     "data": {
      "text/plain": [
       "Downloading data:   0%|          | 0.00/307M [00:00<?, ?B/s]"
      ],
      "application/vnd.jupyter.widget-view+json": {
       "version_major": 2,
       "version_minor": 0,
       "model_id": "9e93a7c39a634e6094c890f5283f6d06"
      }
     },
     "metadata": {}
    },
    {
     "output_type": "display_data",
     "data": {
      "text/plain": [
       "Downloading data:   0%|          | 0.00/304M [00:00<?, ?B/s]"
      ],
      "application/vnd.jupyter.widget-view+json": {
       "version_major": 2,
       "version_minor": 0,
       "model_id": "8d74eba78d084caba1acf80c8caf9958"
      }
     },
     "metadata": {}
    },
    {
     "output_type": "display_data",
     "data": {
      "text/plain": [
       "Downloading data:   0%|          | 0.00/296M [00:00<?, ?B/s]"
      ],
      "application/vnd.jupyter.widget-view+json": {
       "version_major": 2,
       "version_minor": 0,
       "model_id": "2d9de6e4de40404187f44ef00e4dcf49"
      }
     },
     "metadata": {}
    },
    {
     "output_type": "display_data",
     "data": {
      "text/plain": [
       "Downloading data:   0%|          | 0.00/294M [00:00<?, ?B/s]"
      ],
      "application/vnd.jupyter.widget-view+json": {
       "version_major": 2,
       "version_minor": 0,
       "model_id": "b6dfd5e429ee4bd8be959d65c667fe4a"
      }
     },
     "metadata": {}
    },
    {
     "output_type": "display_data",
     "data": {
      "text/plain": [
       "Downloading data:   0%|          | 0.00/289M [00:00<?, ?B/s]"
      ],
      "application/vnd.jupyter.widget-view+json": {
       "version_major": 2,
       "version_minor": 0,
       "model_id": "ebcb8cf34359485cacc26d8b7e47edf9"
      }
     },
     "metadata": {}
    },
    {
     "output_type": "display_data",
     "data": {
      "text/plain": [
       "Extracting data files:   0%|          | 0/1 [00:00<?, ?it/s]"
      ],
      "application/vnd.jupyter.widget-view+json": {
       "version_major": 2,
       "version_minor": 0,
       "model_id": "a965fc75f5c54640ad84bf967c2b5010"
      }
     },
     "metadata": {}
    },
    {
     "output_type": "display_data",
     "data": {
      "text/plain": [
       "Generating train split:   0%|          | 0/4288198 [00:00<?, ? examples/s]"
      ],
      "application/vnd.jupyter.widget-view+json": {
       "version_major": 2,
       "version_minor": 0,
       "model_id": "f6cd1cfc852843b494813e9d6d532eed"
      }
     },
     "metadata": {}
    },
    {
     "output_type": "stream",
     "name": "stdout",
     "text": [
      "Dataset parquet downloaded and prepared to /root/.cache/huggingface/datasets/llm-book___parquet/llm-book--aio-passages-bpr-bert-base-japanese-v3-ff2436ef460125f5/0.0.0/14a00e99c0d15a23649d0db8944380ac81082d4b021f398733dd84f3a6c569a7. Subsequent calls will reuse this data.\n"
     ]
    },
    {
     "output_type": "display_data",
     "data": {
      "text/plain": [
       "Downloading (…)lve/main/config.json:   0%|          | 0.00/634 [00:00<?, ?B/s]"
      ],
      "application/vnd.jupyter.widget-view+json": {
       "version_major": 2,
       "version_minor": 0,
       "model_id": "ef8696e2f5cc4a5e910bc7fd74eb3015"
      }
     },
     "metadata": {}
    },
    {
     "output_type": "display_data",
     "data": {
      "text/plain": [
       "Downloading pytorch_model.bin:   0%|          | 0.00/445M [00:00<?, ?B/s]"
      ],
      "application/vnd.jupyter.widget-view+json": {
       "version_major": 2,
       "version_minor": 0,
       "model_id": "70d054512dea4f26a2ddd3bd5d31d45c"
      }
     },
     "metadata": {}
    },
    {
     "output_type": "display_data",
     "data": {
      "text/plain": [
       "Downloading (…)okenizer_config.json:   0%|          | 0.00/529 [00:00<?, ?B/s]"
      ],
      "application/vnd.jupyter.widget-view+json": {
       "version_major": 2,
       "version_minor": 0,
       "model_id": "b4c9d4c22d264ae281ae38416c7c6509"
      }
     },
     "metadata": {}
    },
    {
     "output_type": "display_data",
     "data": {
      "text/plain": [
       "Downloading (…)solve/main/vocab.txt:   0%|          | 0.00/231k [00:00<?, ?B/s]"
      ],
      "application/vnd.jupyter.widget-view+json": {
       "version_major": 2,
       "version_minor": 0,
       "model_id": "e87199d9784e48bd83d565be9b07c8fb"
      }
     },
     "metadata": {}
    },
    {
     "output_type": "display_data",
     "data": {
      "text/plain": [
       "Downloading (…)cial_tokens_map.json:   0%|          | 0.00/125 [00:00<?, ?B/s]"
      ],
      "application/vnd.jupyter.widget-view+json": {
       "version_major": 2,
       "version_minor": 0,
       "model_id": "0c30789afdc84fe4bf7038acf22b2f7d"
      }
     },
     "metadata": {}
    }
   ],
   "source": [
    "from datasets import load_dataset\n",
    "from transformers import pipeline\n",
    "\n",
    "dataset_name = \"llm-book/aio-passages-bpr-bert-base-japanese-v3\"\n",
    "passage_dataset = load_dataset(dataset_name, split=\"train\")\n",
    "\n",
    "encoder_model_name = \"llm-book/bert-base-japanese-v3-bpr-question-aio\"\n",
    "encoder_pipeline = pipeline(\n",
    "    \"feature-extraction\", model=encoder_model_name, device=\"cuda:0\"\n",
    ")"
   ]
  },
  {
   "cell_type": "code",
   "execution_count": 3,
   "id": "61b3f31d",
   "metadata": {
    "id": "61b3f31d",
    "colab": {
     "base_uri": "https://localhost:8080/"
    },
    "executionInfo": {
     "status": "ok",
     "timestamp": 1689828294587,
     "user_tz": -540,
     "elapsed": 286038,
     "user": {
      "displayName": "Ryokan Ri",
      "userId": "09390037946487494940"
     }
    },
    "outputId": "29b2298f-b3e6-409f-fa4a-3d19998385cf"
   },
   "outputs": [
    {
     "output_type": "stream",
     "name": "stderr",
     "text": [
      "100%|██████████| 4288198/4288198 [04:45<00:00, 15007.88it/s]\n"
     ]
    }
   ],
   "source": [
    "import faiss\n",
    "import numpy as np\n",
    "from tqdm import tqdm\n",
    "\n",
    "# インデックスの初期化\n",
    "embed_size = encoder_pipeline.model.config.hidden_size\n",
    "faiss_index = faiss.IndexBinaryIDMap2(\n",
    "    faiss.IndexBinaryFlat(embed_size)\n",
    ")\n",
    "\n",
    "with tqdm(total=len(passage_dataset)) as pbar:\n",
    "    i = 0\n",
    "    for batch in passage_dataset.iter(batch_size=512):\n",
    "        bs = len(batch[\"embeddings\"])\n",
    "\n",
    "        # 埋め込みをインデックスに適したdtypeへと変換\n",
    "        batch_embeddings = np.array(\n",
    "            batch[\"embeddings\"], dtype=np.uint8\n",
    "        )\n",
    "        batch_indices = np.arange(i, i + bs, dtype=np.int64)\n",
    "\n",
    "        # 埋め込みをインデックスに格納\n",
    "        faiss_index.add_with_ids(batch_embeddings, batch_indices)\n",
    "\n",
    "        pbar.update(n=bs)\n",
    "        i += bs"
   ]
  },
  {
   "cell_type": "code",
   "execution_count": 4,
   "id": "9e1ad195",
   "metadata": {
    "id": "9e1ad195",
    "executionInfo": {
     "status": "ok",
     "timestamp": 1689828294587,
     "user_tz": -540,
     "elapsed": 4,
     "user": {
      "displayName": "Ryokan Ri",
      "userId": "09390037946487494940"
     }
    }
   },
   "outputs": [],
   "source": [
    "import torch\n",
    "\n",
    "def embed_questions(questions: list[str]) -> np.ndarray:\n",
    "    \"\"\"質問文を実数ベクトルに変換\"\"\"\n",
    "    output_tensors = encoder_pipeline(questions, return_tensors=\"pt\")\n",
    "    embeddings = np.stack(\n",
    "        [\n",
    "            t.squeeze(0)[0].numpy().astype(np.float32)\n",
    "            for t in output_tensors\n",
    "        ]\n",
    "    )\n",
    "    return embeddings\n",
    "\n",
    "def binarize_embeddings(embeddings: np.ndarray) -> np.ndarray:\n",
    "    \"\"\"実数ベクトルをバイナリベクトルに変換\"\"\"\n",
    "    # 0未満の値を0に、0以上の値を1に変換\n",
    "    binary_embeddings = np.where(embeddings < 0, 0, 1)\n",
    "    # バイト単位でまとめてuint8に変換\n",
    "    packed_binary_embeddings = np.packbits(binary_embeddings, axis=-1)\n",
    "    return packed_binary_embeddings"
   ]
  },
  {
   "cell_type": "code",
   "execution_count": 5,
   "id": "360bbff5",
   "metadata": {
    "id": "360bbff5",
    "colab": {
     "base_uri": "https://localhost:8080/"
    },
    "executionInfo": {
     "status": "ok",
     "timestamp": 1689828295123,
     "user_tz": -540,
     "elapsed": 537,
     "user": {
      "displayName": "Ryokan Ri",
      "userId": "09390037946487494940"
     }
    },
    "outputId": "27e8b776-2ada-4db4-8cf8-0848be98ab4b"
   },
   "outputs": [
    {
     "output_type": "stream",
     "name": "stdout",
     "text": [
      "[[141 210 243   2 153 138 188 209 212 205 166 253 146  26  12 135 215 208\n",
      "    0 233 223  17  43   5 198 163   1 116 111  63 138 212 106 118 126  84\n",
      "   31 166  23 194 190 164 201 165 139  83 132  46  86  11  97  24  81 227\n",
      "   12  46 128 115  17  49  22 224 101  16 252 100 229  33  92  77 216 119\n",
      "  176  62 252  97  16 110 203  36 195 208  32 170 138 159 255  83  83 122\n",
      "   64 166 100 246  83  44]]\n"
     ]
    }
   ],
   "source": [
    "q_embed = embed_questions([\"日本で一番高い山は何？\"])\n",
    "binary_q_embed = binarize_embeddings(q_embed)\n",
    "print(binary_q_embed)"
   ]
  },
  {
   "cell_type": "code",
   "execution_count": 6,
   "id": "81e5033e",
   "metadata": {
    "id": "81e5033e",
    "colab": {
     "base_uri": "https://localhost:8080/"
    },
    "executionInfo": {
     "status": "ok",
     "timestamp": 1689828295525,
     "user_tz": -540,
     "elapsed": 405,
     "user": {
      "displayName": "Ryokan Ri",
      "userId": "09390037946487494940"
     }
    },
    "outputId": "a3b656b7-3f09-4736-e76a-37e4bd98ccac"
   },
   "outputs": [
    {
     "output_type": "stream",
     "name": "stdout",
     "text": [
      "スコア: [[168 169 170 173 174]]\n",
      "パッセージID: [[2222502 2783191 2879647 3581406 1149955]]\n"
     ]
    }
   ],
   "source": [
    "scores, passage_ids = faiss_index.search(binary_q_embed, k=5)\n",
    "print(f\"スコア: {scores}\")\n",
    "print(f\"パッセージID: {passage_ids}\")"
   ]
  },
  {
   "cell_type": "code",
   "execution_count": 7,
   "id": "2642a90e",
   "metadata": {
    "id": "2642a90e",
    "colab": {
     "base_uri": "https://localhost:8080/"
    },
    "executionInfo": {
     "status": "ok",
     "timestamp": 1689828295526,
     "user_tz": -540,
     "elapsed": 13,
     "user": {
      "displayName": "Ryokan Ri",
      "userId": "09390037946487494940"
     }
    },
    "outputId": "563856cd-fd2e-4e18-e9da-527da61cca69"
   },
   "outputs": [
    {
     "output_type": "stream",
     "name": "stdout",
     "text": [
      "['日本の領土に占める山間部の割合はおよそ7割程度である。2020年現在、日本で一番高い山は富士山で、逆に一番低い山は日和山である。日本は新期造山帯に位置し、多くの火山が見られる。日本では昔から人々が山と共生する文化が培われてきた。それらの山は里山とよばれ、農村などでは山を共有地として村全体で管理し、薪をとったり土や山菜などを利用する目的で利用され、手入れをされてきた。しかし、明治時代になるとそれらの山の中には国有地にされてしまったものも多く存在する。また、日本の山の中には霊峰とよばれ、民間信仰の場にされた山も多くある。山の中には昔から金山や銀山として、近代では銅や石炭などを入手するため多くの鉱山が作られ、鉱毒や粉塵などが問題になった。特に近代において、山林の多くで木材を得るための大規模な伐採などが行われた。', '3000 m峰は、独立峰の富士山と御嶽山及び飛騨山脈(北アルプス)と赤石山脈(南アルプス)の山域に限られている。24番目に高い山は剱岳 (2999 m) で、3000 mにわずか1 m届いていない。標高3000 mを越える一帯は森林限界のハイマツ帯で、高山植物の群生地となっている。また多くの3000 m峰のハイマツ帯は、ライチョウ(雷鳥)の生息地となっている。', '三角点は一般的に眺望の利く場所に設置され一等三角点は970点余りに上るが、その中で風格のある山容、優れた眺望、高い知名度、さらに概ね標高1,000m以上で登りがいのある山が選定された。一等三角点の最高峰は、標高3,121 mの南アルプスの赤石岳である。三角点がその山の最高峰とは限らず、山頂に三角点より高い場所があり、その地点すなわち標高点や測定点を以て山の高さとしている例も少なくない(例:早池峰、御嶽山、金剛山)。また連山を形成している場合、最高峰でないピークに一等三角点が設置されている例もある(例:赤城山、穂高岳、阿蘇山)。特殊な例としては雲仙普賢岳のように、噴火により一等三角点が最高峰でなくなった事例もある。利尻岳中腹の長官山のように全く山頂とは離れた地点に一等三角点が設置されている例もある(山頂は二等三角点「利尻絶頂」)。', 'この項では世界最高峰と考えられていた山(せかいさいこうほうとかんがえられていたやま)について述べる。19世紀初頭までアンデスが世界で最も高い山脈だと考えられていた。ヒマラヤの測量はインドに進出していたイギリス人によって19世紀初頭から行われた。8,000メートルを越える測量値も出たが、当初は専門家に信用されなかった。ヒマラヤが世界で一番高いと一般的に認められたのは、1830年代になってジョージ・エベレストが大三角測量を行ってからである。', '最高峰(さいこうほう)とは、ある大陸・島や地方、国などで一番高い山に対する呼称である。例えば世界の最高峰はエベレスト山(8848m)、日本の最高峰は富士山の剣ヶ峰(3776m)である。七大陸最高峰、各都道府県の最高峰など、テーマを決めて最高峰の完登に挑戦する登山者も少なくない。転じて、ある一群の中で最高のものの意にも使用される。']\n"
     ]
    }
   ],
   "source": [
    "print(passage_dataset[passage_ids[0]][\"text\"])"
   ]
  },
  {
   "cell_type": "code",
   "execution_count": 8,
   "id": "0c925794",
   "metadata": {
    "id": "0c925794",
    "colab": {
     "base_uri": "https://localhost:8080/"
    },
    "executionInfo": {
     "status": "ok",
     "timestamp": 1689828295526,
     "user_tz": -540,
     "elapsed": 10,
     "user": {
      "displayName": "Ryokan Ri",
      "userId": "09390037946487494940"
     }
    },
    "outputId": "afcb5859-91d0-4d5d-8145-60667c6be872"
   },
   "outputs": [
    {
     "output_type": "stream",
     "name": "stdout",
     "text": [
      "[1 0 0 0 0 1 0 1 1 0 1 0 0 0 1 0 1 0 0 1 0 0 0 1 0 0 0 1 0 1 0 1 1 0 0 1 0\n",
      " 1 1 1 1 1 0 1 0 1 1 1 1 1 1 1 1 1 1 0 0 1 1 1 0 1 1 1 1 1 0 1 0 1 1 0 0 1\n",
      " 0 1 0 0 0 0 0 0 0 0 0 1 0 0 1 0 1 1 1 1 0 1 1 0 1 1 0 0 0 1 0 0 1 1 0 1 0\n",
      " 1 0 1 1 0 0 1 0 0 0 1 1 1 0 0 1 1 0 1 0 0 0 1 0 0 1 0 1 1 0 0 0 1 0 1 0 0\n",
      " 0 1 1 0 0 1 1 0 0 1 1 1 0 0 1 0 1 0 0 1 0 1 0 1 1 0 1 0 0 1 1 1 1 1 1 1 1\n",
      " 1 1 0 0 0 1 1 0 1 1 1 0 0 0 1 0 0 0 1 1 0 1 1 0 1 0 0 0 1 1 1 1 0 0 1 0 1\n",
      " 0 0 0 1 0 1 1 1 0 0 1 0 1 0 0 0 1 0 1 0 1 1 0 0 0 0 1 0 0 0 0 1 0 1 0 1 1\n",
      " 0 1 0 0 1 0 1 1 0 0 0 1 1 0 0 0 1 0 0 0 0 0 0 0 1 0 0 0 0 0 0 1 1 0 1 0 0\n",
      " 0 1 0 0 0 1 1 0 1 0 0 0 0 1 0 0 0 0 1 0 1 1 1 0 0 0 0 0 0 0 1 0 0 0 1 0 0\n",
      " 0 0 0 1 1 0 1 0 0 1 1 1 0 0 1 0 1 0 1 0 0 0 1 1 1 0 1 0 1 1 0 0 1 1 1 0 0\n",
      " 1 1 0 1 0 1 1 1 1 0 1 0 0 1 0 0 0 1 1 1 0 1 1 1 0 0 0 1 1 1 0 1 1 1 1 1 0\n",
      " 0 0 1 0 0 0 0 0 1 1 0 1 1 0 0 1 0 0 1 0 1 1 0 1 0 0 0 1 1 1 1 0 0 0 0 1 0\n",
      " 0 0 0 0 1 1 0 0 1 0 0 1 0 1 1 1 0 0 1 0 1 1 0 1 0 1 1 0 1 0 0 0 0 1 0 0 0\n",
      " 0 1 1 1 1 0 0 1 1 1 1 1 1 1 0 1 1 0 1 1 0 0 0 1 1 1 1 1 0 0 1 1 0 1 1 1 0\n",
      " 0 0 0 0 1 1 1 0 0 1 0 1 1 1 0 1 1 1 1 0 1 1 0 1 0 1 0 0 0 1 0 1 1 1 1 1 1\n",
      " 1 1 1 0 1 0 1 1 1 1 0 0 1 0 1 0 1 0 0 1 1 0 0 1 1 1 1 1 1 0 1 1 1 0 0 1 1\n",
      " 1 0 0 0 1 1 0 1 0 1 0 0 1 0 0 1 0 1 0 1 1 0 1 0 0 0 0 0 0 0 0 0 1 1 1 0 1\n",
      " 1 1 1 1 1 1 0 0 0 0 1 1 1 0 0 0 0 1 0 1 1 1 1 1 0 0 0 0 0 0 1 0 0 0 0 0 1\n",
      " 1 0 1 1 0 0 0 1 0 0 0 0 1 0 1 1 0 1 0 1 1 1 0 1 1 1 1 1 0 0 1 1 1 1 1 0 0\n",
      " 0 0 0 0 0 0 0 0 0 0 0 0 1 1 0 1 0 1 1 0 1 0 1 1 0 0 1 0 0 1 1 1 0 0 0 1 1\n",
      " 0 1 0 0 0 1 1 1 0 1 1 0 0 1 1 1 0 0 1 1 1 1 0 0 0 0 1 0]\n"
     ]
    }
   ],
   "source": [
    "passage_id = 0\n",
    "print(np.unpackbits(faiss_index.reconstruct(passage_id)))"
   ]
  },
  {
   "cell_type": "code",
   "execution_count": 9,
   "id": "0725ecf7",
   "metadata": {
    "id": "0725ecf7",
    "executionInfo": {
     "status": "ok",
     "timestamp": 1689828295526,
     "user_tz": -540,
     "elapsed": 8,
     "user": {
      "displayName": "Ryokan Ri",
      "userId": "09390037946487494940"
     }
    }
   },
   "outputs": [],
   "source": [
    "import numpy as np\n",
    "import torch\n",
    "\n",
    "def retrieve_passages(\n",
    "    questions: list[str],\n",
    "    binary_k: int = 2048,  # リランキングするための候補の取得数\n",
    "    top_k: int = 3,  # リランキング後に出力する最終的なパッセージ数\n",
    ") -> list[list[str]]:\n",
    "    \"\"\"質問から関連するパッセージを取得\"\"\"\n",
    "    # 質問をバイナリベクトルに変換する\n",
    "    q_embed = embed_questions(questions)\n",
    "    q_bin_embed = binarize_embeddings(q_embed)\n",
    "\n",
    "    # バイナリベクトルを使用して検索する\n",
    "    binary_k_scores, binary_k_p_ids = faiss_index.search(\n",
    "        q_bin_embed, binary_k\n",
    "    )\n",
    "\n",
    "    batch_size = len(questions)\n",
    "    embed_dim = q_bin_embed.shape[-1] * 8\n",
    "    # インデックスからパッセージのベクトルを復元\n",
    "    p_uint8_embed = [\n",
    "        faiss_index.reconstruct(int(p_id))\n",
    "        for p_id in binary_k_p_ids.flatten()\n",
    "    ]\n",
    "    # uint8からboolに変換\n",
    "    p_bin_embed = np.vstack([np.unpackbits(e) for e in p_uint8_embed])\n",
    "    # 型とシェイプを変換\n",
    "    p_bin_embed = p_bin_embed.astype(np.float32).reshape(\n",
    "        batch_size, binary_k, embed_dim\n",
    "    )\n",
    "    p_bin_embed = p_bin_embed * 2 - 1\n",
    "\n",
    "    # 質問の実数ベクトルとパッセージのバイナリベクトルで再度スコアを計算する\n",
    "    re_scores = np.einsum(\"ijk,ik->ij\", p_bin_embed, q_embed)\n",
    "    top_k_indices = np.argsort(-re_scores, axis=-1)[:, :top_k]\n",
    "    top_k_p_ids = np.take_along_axis(\n",
    "        binary_k_p_ids, top_k_indices, axis=-1\n",
    "    )\n",
    "\n",
    "    # top_kのテキストを整形して出力する\n",
    "    retrieved_texts: list[list[str]] = []\n",
    "    for p_ids in top_k_p_ids:\n",
    "        formatted_texts = [\n",
    "            f\"タイトル：{passage_dataset[i]['title']}\\n\"\n",
    "            f\"本文：{passage_dataset[i]['text']}\"\n",
    "            for i in p_ids.tolist()\n",
    "        ]\n",
    "        retrieved_texts.append(formatted_texts)\n",
    "\n",
    "    return retrieved_texts"
   ]
  },
  {
   "cell_type": "code",
   "execution_count": 10,
   "id": "1a0594d2",
   "metadata": {
    "id": "1a0594d2",
    "colab": {
     "base_uri": "https://localhost:8080/"
    },
    "executionInfo": {
     "status": "ok",
     "timestamp": 1689828295526,
     "user_tz": -540,
     "elapsed": 8,
     "user": {
      "displayName": "Ryokan Ri",
      "userId": "09390037946487494940"
     }
    },
    "outputId": "81097d2e-2bbb-4535-8b0f-e4095e0667e2"
   },
   "outputs": [
    {
     "output_type": "stream",
     "name": "stdout",
     "text": [
      "タイトル：日本の山\n",
      "本文：日本の領土に占める山間部の割合はおよそ7割程度である。2020年現在、日本で一番高い山は富士山で、逆に一番低い山は日和山である。日本は新期造山帯に位置し、多くの火山が見られる。日本では昔から人々が山と共生する文化が培われてきた。それらの山は里山とよばれ、農村などでは山を共有地として村全体で管理し、薪をとったり土や山菜などを利用する目的で利用され、手入れをされてきた。しかし、明治時代になるとそれらの山の中には国有地にされてしまったものも多く存在する。また、日本の山の中には霊峰とよばれ、民間信仰の場にされた山も多くある。山の中には昔から金山や銀山として、近代では銅や石炭などを入手するため多くの鉱山が作られ、鉱毒や粉塵などが問題になった。特に近代において、山林の多くで木材を得るための大規模な伐採などが行われた。\n",
      "タイトル：日本の山一覧 (3000m峰)\n",
      "本文：3000 m峰は、独立峰の富士山と御嶽山及び飛騨山脈(北アルプス)と赤石山脈(南アルプス)の山域に限られている。24番目に高い山は剱岳 (2999 m) で、3000 mにわずか1 m届いていない。標高3000 mを越える一帯は森林限界のハイマツ帯で、高山植物の群生地となっている。また多くの3000 m峰のハイマツ帯は、ライチョウ(雷鳥)の生息地となっている。\n",
      "タイトル：一等三角点百名山\n",
      "本文：三角点は一般的に眺望の利く場所に設置され一等三角点は970点余りに上るが、その中で風格のある山容、優れた眺望、高い知名度、さらに概ね標高1,000m以上で登りがいのある山が選定された。一等三角点の最高峰は、標高3,121 mの南アルプスの赤石岳である。三角点がその山の最高峰とは限らず、山頂に三角点より高い場所があり、その地点すなわち標高点や測定点を以て山の高さとしている例も少なくない(例:早池峰、御嶽山、金剛山)。また連山を形成している場合、最高峰でないピークに一等三角点が設置されている例もある(例:赤城山、穂高岳、阿蘇山)。特殊な例としては雲仙普賢岳のように、噴火により一等三角点が最高峰でなくなった事例もある。利尻岳中腹の長官山のように全く山頂とは離れた地点に一等三角点が設置されている例もある(山頂は二等三角点「利尻絶頂」)。\n"
     ]
    }
   ],
   "source": [
    "passages = retrieve_passages([\"日本で一番高い山は何？\"], top_k=3)[0]\n",
    "for passage in passages:\n",
    "    print(passage)"
   ]
  },
  {
   "cell_type": "markdown",
   "id": "ffe5cd8a",
   "metadata": {
    "id": "ffe5cd8a"
   },
   "source": [
    "### 9.5.2 検索結果のプロンプトへの組み込み"
   ]
  },
  {
   "cell_type": "code",
   "execution_count": 11,
   "id": "af96dcc5",
   "metadata": {
    "id": "af96dcc5",
    "executionInfo": {
     "status": "ok",
     "timestamp": 1689828295527,
     "user_tz": -540,
     "elapsed": 5,
     "user": {
      "displayName": "Ryokan Ri",
      "userId": "09390037946487494940"
     }
    }
   },
   "outputs": [],
   "source": [
    "import os\n",
    "\n",
    "# 取得したAPIキーに置き換えてください\n",
    "os.environ[\"OPENAI_API_KEY\"] = \"sk-...\""
   ]
  },
  {
   "cell_type": "code",
   "execution_count": 13,
   "id": "1584d71d",
   "metadata": {
    "id": "1584d71d",
    "executionInfo": {
     "status": "ok",
     "timestamp": 1689829248124,
     "user_tz": -540,
     "elapsed": 3,
     "user": {
      "displayName": "Ryokan Ri",
      "userId": "09390037946487494940"
     }
    }
   },
   "outputs": [],
   "source": [
    "from abc import ABCMeta, abstractmethod\n",
    "\n",
    "class PromptMaker(metaclass=ABCMeta):\n",
    "    \"\"\"クイズ用プロンプトを作成するための抽象クラス\"\"\"\n",
    "\n",
    "    @abstractmethod\n",
    "    def run(self, questions: list[str]) -> list[str]:\n",
    "        \"\"\"プロンプトの作成（具体的な実装は継承先で行われる）\"\"\"\n",
    "        pass\n",
    "\n",
    "class RetrievalPromptMaker(PromptMaker):\n",
    "    \"\"\"\n",
    "    質問から関連するテキストを取得し、\n",
    "    それを組み入れたプロンプトを作成する\n",
    "    \"\"\"\n",
    "\n",
    "    def __init__(self, binary_k: int = 2048, top_k: int = 3):\n",
    "        \"\"\"初期化処理の定義\"\"\"\n",
    "        self.binary_k = binary_k\n",
    "        self.top_k = top_k\n",
    "\n",
    "    def run(self, questions: list[str]) -> list[str]:\n",
    "        \"\"\"プロンプトを作成\"\"\"\n",
    "        retrieved_passages_list = retrieve_passages(\n",
    "            questions, binary_k=self.binary_k, top_k=self.top_k\n",
    "        )\n",
    "        retrieved_texts = [\n",
    "            \"\\n\".join(ps) for ps in retrieved_passages_list\n",
    "        ]\n",
    "        return [\n",
    "            \"あなたには今からクイズに答えてもらいます。\"\n",
    "            \"問題を与えますので、その解答のみを簡潔に出力してください。\\n\"\n",
    "            \"また解答の参考になりうるテキストを与えます。\"\n",
    "            \"解答を含まない場合もあるのでその場合は無視してください。\\n\"\n",
    "            \"\\n\"\n",
    "            f\"{text}\\n\"\n",
    "            \"\\n\"\n",
    "            f\"問題：{question}\\n\"\n",
    "            \"解答：\"\n",
    "            for question, text in zip(questions, retrieved_texts)\n",
    "        ]"
   ]
  },
  {
   "cell_type": "code",
   "execution_count": 14,
   "id": "7b7c351b",
   "metadata": {
    "id": "7b7c351b",
    "colab": {
     "base_uri": "https://localhost:8080/"
    },
    "executionInfo": {
     "status": "ok",
     "timestamp": 1689829250642,
     "user_tz": -540,
     "elapsed": 5,
     "user": {
      "displayName": "Ryokan Ri",
      "userId": "09390037946487494940"
     }
    },
    "outputId": "997a6956-ddb0-455d-c8b1-2493eb9974cc"
   },
   "outputs": [
    {
     "output_type": "stream",
     "name": "stdout",
     "text": [
      "あなたには今からクイズに答えてもらいます。問題を与えますので、その解答のみを簡潔に出力してください。\n",
      "また解答の参考になりうるテキストを与えます。解答を含まない場合もあるのでその場合は無視してください。\n",
      "\n",
      "タイトル：日本の山\n",
      "本文：日本の領土に占める山間部の割合はおよそ7割程度である。2020年現在、日本で一番高い山は富士山で、逆に一番低い山は日和山である。日本は新期造山帯に位置し、多くの火山が見られる。日本では昔から人々が山と共生する文化が培われてきた。それらの山は里山とよばれ、農村などでは山を共有地として村全体で管理し、薪をとったり土や山菜などを利用する目的で利用され、手入れをされてきた。しかし、明治時代になるとそれらの山の中には国有地にされてしまったものも多く存在する。また、日本の山の中には霊峰とよばれ、民間信仰の場にされた山も多くある。山の中には昔から金山や銀山として、近代では銅や石炭などを入手するため多くの鉱山が作られ、鉱毒や粉塵などが問題になった。特に近代において、山林の多くで木材を得るための大規模な伐採などが行われた。\n",
      "タイトル：日本の山一覧 (3000m峰)\n",
      "本文：3000 m峰は、独立峰の富士山と御嶽山及び飛騨山脈(北アルプス)と赤石山脈(南アルプス)の山域に限られている。24番目に高い山は剱岳 (2999 m) で、3000 mにわずか1 m届いていない。標高3000 mを越える一帯は森林限界のハイマツ帯で、高山植物の群生地となっている。また多くの3000 m峰のハイマツ帯は、ライチョウ(雷鳥)の生息地となっている。\n",
      "タイトル：一等三角点百名山\n",
      "本文：三角点は一般的に眺望の利く場所に設置され一等三角点は970点余りに上るが、その中で風格のある山容、優れた眺望、高い知名度、さらに概ね標高1,000m以上で登りがいのある山が選定された。一等三角点の最高峰は、標高3,121 mの南アルプスの赤石岳である。三角点がその山の最高峰とは限らず、山頂に三角点より高い場所があり、その地点すなわち標高点や測定点を以て山の高さとしている例も少なくない(例:早池峰、御嶽山、金剛山)。また連山を形成している場合、最高峰でないピークに一等三角点が設置されている例もある(例:赤城山、穂高岳、阿蘇山)。特殊な例としては雲仙普賢岳のように、噴火により一等三角点が最高峰でなくなった事例もある。利尻岳中腹の長官山のように全く山頂とは離れた地点に一等三角点が設置されている例もある(山頂は二等三角点「利尻絶頂」)。\n",
      "\n",
      "問題：日本で一番高い山は何？\n",
      "解答：\n"
     ]
    }
   ],
   "source": [
    "retrieval_prompt_maker = RetrievalPromptMaker(top_k=3)\n",
    "print(retrieval_prompt_maker.run([\"日本で一番高い山は何？\"])[0])"
   ]
  },
  {
   "cell_type": "code",
   "source": [
    "import tiktoken\n",
    "\n",
    "def calculate_prompt_cost(\n",
    "    prompts: list[str],\n",
    "    num_output_tokens: int = 40,\n",
    "    model: str = \"gpt-3.5-turbo\",\n",
    "    usd_per_token: float = 0.0015 / 1000,\n",
    "):\n",
    "    \"\"\"\n",
    "    プロンプトをOpenAI APIに送信した際にかかる費用を見積もる\n",
    "    \"\"\"\n",
    "    # トークナイザの初期化\n",
    "    encoding = tiktoken.encoding_for_model(model)\n",
    "\n",
    "    # 入力プロンプトの合計トークン数を算出\n",
    "    total_num_prompt_tokens = 0\n",
    "    for prompt in prompts:\n",
    "        total_num_prompt_tokens += len(encoding.encode(prompt))\n",
    "\n",
    "    avg_num_prompt_tokens = total_num_prompt_tokens / len(prompts)\n",
    "    print(\n",
    "        \"入力プロンプトの平均トークン数:\"\n",
    "        f\" {int(avg_num_prompt_tokens)}\"\n",
    "    )\n",
    "\n",
    "    # モデル出力の合計トークン数を見積もる\n",
    "    total_num_output_tokens = num_output_tokens * len(prompts)\n",
    "\n",
    "    # 費用の計算\n",
    "    total_cost = (\n",
    "        total_num_prompt_tokens + total_num_output_tokens\n",
    "    ) * usd_per_token\n",
    "    print(f\"合計コスト: {round(total_cost, 3)} USD\")"
   ],
   "metadata": {
    "id": "_1tkHceqs2Ra",
    "executionInfo": {
     "status": "ok",
     "timestamp": 1689829749772,
     "user_tz": -540,
     "elapsed": 2,
     "user": {
      "displayName": "Ryokan Ri",
      "userId": "09390037946487494940"
     }
    }
   },
   "id": "_1tkHceqs2Ra",
   "execution_count": 19,
   "outputs": []
  },
  {
   "cell_type": "code",
   "execution_count": 20,
   "id": "65283064",
   "metadata": {
    "id": "65283064",
    "colab": {
     "base_uri": "https://localhost:8080/"
    },
    "executionInfo": {
     "status": "ok",
     "timestamp": 1689829756590,
     "user_tz": -540,
     "elapsed": 3385,
     "user": {
      "displayName": "Ryokan Ri",
      "userId": "09390037946487494940"
     }
    },
    "outputId": "87b2a50b-1f5f-44b1-8788-10f6188cac02"
   },
   "outputs": [
    {
     "output_type": "stream",
     "name": "stdout",
     "text": [
      "入力プロンプトの平均トークン数: 1098\n",
      "合計コスト: 1.708 USD\n"
     ]
    }
   ],
   "source": [
    "from tqdm import tqdm\n",
    "\n",
    "quiz_dataset = load_dataset(\"llm-book/aio\", split=\"validation\")\n",
    "prompts = []\n",
    "with tqdm(total=len(quiz_dataset)) as pbar:\n",
    "    for batch in quiz_dataset.iter(batch_size=8):\n",
    "        prompts += retrieval_prompt_maker.run(batch[\"question\"])\n",
    "        pbar.update(len(batch[\"question\"]))\n",
    "calculate_prompt_cost(prompts)"
   ]
  },
  {
   "cell_type": "code",
   "source": [
    "import asyncio\n",
    "from typing import Awaitable, Callable, TypeVar\n",
    "from openai.error import OpenAIError\n",
    "\n",
    "T = TypeVar(\"T\")\n",
    "\n",
    "async def retry_on_error(\n",
    "    openai_call: Callable[[], Awaitable[T]],\n",
    "    max_num_trials: int = 5,\n",
    "    first_wait_time: int = 10,\n",
    ") -> Awaitable[T]:\n",
    "    \"\"\"OpenAI API使用時にエラーが返ってきた場合に再試行する\"\"\"\n",
    "    for i in range(max_num_trials):\n",
    "        try:\n",
    "            # 関数を実行する\n",
    "            return await openai_call()\n",
    "        except OpenAIError as e:\n",
    "            # 試行回数が上限に達したらエラーを送出\n",
    "            if i == max_num_trials - 1:\n",
    "                raise\n",
    "            print(f\"エラーを受け取りました：{e}\")\n",
    "            wait_time_seconds = first_wait_time * (2**i)\n",
    "            print(f\"{wait_time_seconds}秒待機します\")\n",
    "            await asyncio.sleep(wait_time_seconds)"
   ],
   "metadata": {
    "id": "fI-JsLYotFIZ",
    "executionInfo": {
     "status": "ok",
     "timestamp": 1689829866683,
     "user_tz": -540,
     "elapsed": 2,
     "user": {
      "displayName": "Ryokan Ri",
      "userId": "09390037946487494940"
     }
    }
   },
   "id": "fI-JsLYotFIZ",
   "execution_count": 25,
   "outputs": []
  },
  {
   "cell_type": "code",
   "source": [
    "import openai\n",
    "\n",
    "async def _async_batch_run_chatgpt(\n",
    "    messages_list: list[list[dict[str, str]]],\n",
    "    temperature: float,\n",
    "    max_tokens: int,\n",
    "    stop: str | list[str],\n",
    ") -> list[str]:\n",
    "    \"\"\"OpenAI APIに並列してリクエストを送る\"\"\"\n",
    "    # コルーチンオブジェクトをtasksに格納\n",
    "    tasks = [\n",
    "        retry_on_error(\n",
    "            # ラムダ式で無名関数を定義して渡し、\n",
    "            # retry_on_error関数の内部で呼び出させる\n",
    "            openai_call=lambda x=ms: openai.ChatCompletion.acreate(\n",
    "                model=\"gpt-3.5-turbo\",\n",
    "                messages=x,\n",
    "                temperature=temperature,\n",
    "                max_tokens=max_tokens,\n",
    "                stop=stop,\n",
    "            )\n",
    "        )\n",
    "        for ms in messages_list\n",
    "    ]\n",
    "    # tasks内の非同期処理を実行し結果を収集\n",
    "    completions = await asyncio.gather(*tasks)\n",
    "    return [\n",
    "        c[\"choices\"][0][\"message\"][\"content\"] for c in completions\n",
    "    ]\n",
    "\n",
    "def batch_run_chatgpt(\n",
    "    messages_list: list[list[dict[str, str]]],\n",
    "    temperature: float = 0.0,\n",
    "    max_tokens: int = None,\n",
    "    stop: str | list[str] = None,\n",
    ") -> list[str]:\n",
    "    \"\"\"非同期処理関数を実行するためのラッパー\"\"\"\n",
    "    return asyncio.run(\n",
    "        _async_batch_run_chatgpt(\n",
    "            messages_list, temperature, max_tokens, stop\n",
    "        )\n",
    "    )"
   ],
   "metadata": {
    "id": "wojoKpgRtLp1",
    "executionInfo": {
     "status": "ok",
     "timestamp": 1689829906691,
     "user_tz": -540,
     "elapsed": 1,
     "user": {
      "displayName": "Ryokan Ri",
      "userId": "09390037946487494940"
     }
    }
   },
   "id": "wojoKpgRtLp1",
   "execution_count": 30,
   "outputs": []
  },
  {
   "cell_type": "code",
   "source": [
    "import nest_asyncio\n",
    "\n",
    "nest_asyncio.apply()"
   ],
   "metadata": {
    "id": "T5rC5viwtcmP",
    "executionInfo": {
     "status": "ok",
     "timestamp": 1689829888868,
     "user_tz": -540,
     "elapsed": 489,
     "user": {
      "displayName": "Ryokan Ri",
      "userId": "09390037946487494940"
     }
    }
   },
   "id": "T5rC5viwtcmP",
   "execution_count": 28,
   "outputs": []
  },
  {
   "cell_type": "code",
   "source": [
    "from datasets import Dataset\n",
    "from tqdm import tqdm\n",
    "\n",
    "def get_chatgpt_outputs_for_quiz(\n",
    "    quiz_prompt_maker: PromptMaker,\n",
    "    quiz_dataset: Dataset,\n",
    "    batch_size: int,\n",
    ") -> list[str]:\n",
    "    \"\"\"\n",
    "    クイズ用のプロンプトを使用した際の\n",
    "    データセットの各問題に対するモデルの解答を集める\n",
    "    \"\"\"\n",
    "    output_answers: list[str] = []\n",
    "    with tqdm(total=len(quiz_dataset)) as pbar:\n",
    "        for batch in quiz_dataset.iter(batch_size=batch_size):\n",
    "            # 入力の準備\n",
    "            prompts = quiz_prompt_maker.run(batch[\"question\"])\n",
    "            inputs = [\n",
    "                [{\"role\": \"user\", \"content\": p}] for p in prompts\n",
    "            ]\n",
    "\n",
    "            # APIにリクエストを送信\n",
    "            answers = batch_run_chatgpt(inputs)\n",
    "\n",
    "            # モデルの解答を表示\n",
    "            for question, answer in zip(batch[\"question\"], answers):\n",
    "                print(f\"問題：{question}\")\n",
    "                print(f\"解答：{answer}\")\n",
    "                print()\n",
    "\n",
    "            output_answers += answers\n",
    "            pbar.update(len(answers))\n",
    "    return output_answers"
   ],
   "metadata": {
    "id": "1U6-8tOGs_St",
    "executionInfo": {
     "status": "ok",
     "timestamp": 1689829774969,
     "user_tz": -540,
     "elapsed": 3,
     "user": {
      "displayName": "Ryokan Ri",
      "userId": "09390037946487494940"
     }
    }
   },
   "id": "1U6-8tOGs_St",
   "execution_count": 22,
   "outputs": []
  },
  {
   "cell_type": "code",
   "source": [
    "def calculate_quiz_accuracy(\n",
    "    output_answers: list[str], correct_answers_list: list[list[str]]\n",
    ") -> float:\n",
    "    \"\"\"モデルの解答と正解の解答例から正解率を算出する\"\"\"\n",
    "    num_correct = 0\n",
    "    for output_answer, answers in zip(\n",
    "        output_answers, correct_answers_list\n",
    "    ):\n",
    "        # モデルの出力が解答例を一つでも含んでいれば正解とみなす\n",
    "        num_correct += int(any(a in output_answer for a in answers))\n",
    "    return num_correct / len(output_answers)"
   ],
   "metadata": {
    "id": "n0qAcerNtBB6",
    "executionInfo": {
     "status": "ok",
     "timestamp": 1689829780698,
     "user_tz": -540,
     "elapsed": 499,
     "user": {
      "displayName": "Ryokan Ri",
      "userId": "09390037946487494940"
     }
    }
   },
   "id": "n0qAcerNtBB6",
   "execution_count": 23,
   "outputs": []
  },
  {
   "cell_type": "code",
   "execution_count": 31,
   "id": "4d980e20",
   "metadata": {
    "id": "4d980e20",
    "colab": {
     "base_uri": "https://localhost:8080/"
    },
    "executionInfo": {
     "status": "ok",
     "timestamp": 1689830658552,
     "user_tz": -540,
     "elapsed": 748484,
     "user": {
      "displayName": "Ryokan Ri",
      "userId": "09390037946487494940"
     }
    },
    "outputId": "28a1b0b2-3c13-4681-db27-a086b7713238"
   },
   "outputs": [
    {
     "output_type": "stream",
     "name": "stderr",
     "text": [
      "\r  0%|          | 0/1000 [00:00<?, ?it/s]/usr/local/lib/python3.10/dist-packages/transformers/pipelines/base.py:1083: UserWarning: You seem to be using the pipelines sequentially on GPU. In order to maximize efficiency please use a dataset\n",
      "  warnings.warn(\n",
      "  0%|          | 4/1000 [00:02<10:20,  1.60it/s]"
     ]
    },
    {
     "output_type": "stream",
     "name": "stdout",
     "text": [
      "問題：映画『ウエスト・サイド物語』に登場する2つの少年グループといえば、シャーク団と何団?\n",
      "解答：ジェット団\n",
      "\n",
      "問題：氷った海に穴を開けて漁をすることから、漢字で「氷の下の魚」と書くタラ科の魚は何?\n",
      "解答：コマイ\n",
      "\n",
      "問題：アメリカとロシア間で結ばれた「戦略兵器削減条約」のことをアルファベット5文字の略称で何という?\n",
      "解答：START\n",
      "\n",
      "問題：リンゴが木から落ちる様子を見て「万有引力」を発見したといわれる、17世紀のイギリスの科学者は誰?\n",
      "解答：アイザック・ニュートン\n",
      "\n"
     ]
    },
    {
     "output_type": "stream",
     "name": "stderr",
     "text": [
      "/usr/lib/python3.10/threading.py:852: RuntimeWarning: coroutine '_async_batch_run_chatgpt' was never awaited\n",
      "  kwargs = {}\n",
      "RuntimeWarning: Enable tracemalloc to get the object allocation traceback\n",
      "  1%|          | 8/1000 [00:04<09:43,  1.70it/s]"
     ]
    },
    {
     "output_type": "stream",
     "name": "stdout",
     "text": [
      "問題：聖武天皇の時代に栄えた、東大寺正倉院や唐招提寺金堂など、中国・唐の影響を強く受けた貴族文化を何という?\n",
      "解答：天平文化\n",
      "\n",
      "問題：アメリカ・メジャーリーグの2つのリーグといえば、ナショナルリーグと何リーグ?\n",
      "解答：アメリカンリーグ\n",
      "\n",
      "問題：池坊、草月流、小原流といえば、どんな分野の三大流派?\n",
      "解答：いけばな\n",
      "\n",
      "問題：英語で「取り巻く」という意味がある、前後左右から音が聞こえる立体音響を何という?\n",
      "解答：サラウンドサウンド\n",
      "\n"
     ]
    },
    {
     "output_type": "stream",
     "name": "stderr",
     "text": [
      "\r  1%|          | 12/1000 [00:06<09:07,  1.81it/s]"
     ]
    },
    {
     "output_type": "stream",
     "name": "stdout",
     "text": [
      "問題：半導体で、電荷を運ぶキャリアにホールが使われるのをP型半導体というのに対し、自由電子が使われるのを何型半導体という?\n",
      "解答：N型半導体\n",
      "\n",
      "問題：大根を使った料理「紫おろし」や「染めおろし」といえば、おろした大根に何をかけた料理?\n",
      "解答：赤おろし\n",
      "\n",
      "問題：かつては自動車製造や重工業で発展したものの、近年衰退した、アメリカ五大湖から大西洋にいたる地域のことを、「さび付いた工業地帯」という意味の英語で「何ベルト」という?\n",
      "解答：Rust Belt\n",
      "\n",
      "問題：将棋の駒の一大産地となっている山形県の市は何市?\n",
      "解答：天童市\n",
      "\n"
     ]
    },
    {
     "output_type": "stream",
     "name": "stderr",
     "text": [
      "\r  2%|▏         | 16/1000 [00:08<08:47,  1.87it/s]"
     ]
    },
    {
     "output_type": "stream",
     "name": "stdout",
     "text": [
      "問題：作家の森鴎外、斎藤茂吉、安部公房は、現在の東京大学の何学部出身?\n",
      "解答：文学部\n",
      "\n",
      "問題：パソコンの情報量を表す単位、1キロバイトとは何バイトのこと?\n",
      "解答：1キロバイトは1,024バイトのことです。\n",
      "\n",
      "問題：山上宗二が著した「山上宗二記」にその生涯が記されている、「侘び茶」の創始者として知られる室町時代の茶人は誰?\n",
      "解答：村田珠光\n",
      "\n",
      "問題：テニスのダブルスでは、プレーしている選手はコートに全部で何人いる?\n",
      "解答：4人\n",
      "\n"
     ]
    },
    {
     "output_type": "stream",
     "name": "stderr",
     "text": [
      "\r  2%|▏         | 20/1000 [00:10<08:46,  1.86it/s]"
     ]
    },
    {
     "output_type": "stream",
     "name": "stdout",
     "text": [
      "問題：日本のテレビ業界で「プライムタイム」といえば、毎日19時から何時までの時間帯のこと?\n",
      "解答：23:00\n",
      "\n",
      "問題：アイドルグループ・ももいろクローバーZのメンバーで、最年長は高城れにですが、最年少は誰?\n",
      "解答：玉井詩織\n",
      "\n",
      "問題：リス・ネズミ・ヤマアラシなど、絶えず伸びつづける門歯を持つ哺乳類を何類という?\n",
      "解答：齧歯類\n",
      "\n",
      "問題：英語で「タングツイスター」という言葉遊びは何?\n",
      "解答：タングツイスターは、英語で\"tongue twister\"という。\n",
      "\n"
     ]
    },
    {
     "output_type": "stream",
     "name": "stderr",
     "text": [
      "\r  2%|▏         | 24/1000 [00:12<07:31,  2.16it/s]"
     ]
    },
    {
     "output_type": "stream",
     "name": "stdout",
     "text": [
      "問題：建設当時の元号にちなんで名づけられた、日本初の南極観測基地は何?\n",
      "解答：昭和基地\n",
      "\n",
      "問題：「話し始めるやいなや」という意味がある、落語の寄席で最初の一席を指す言葉といえば何?\n",
      "解答：開口一番\n",
      "\n",
      "問題：「眠りを殺してしまった」「きれいは汚い、汚いはきれい」などの有名なフレーズが登場する、国王ダンカンに対して謀反を起こす将軍を描いたシェイクスピアの戯曲は何?\n",
      "解答：マクベス\n",
      "\n",
      "問題：頭で考えただけの、実際の役には立たない計画のことを「机上の何」という?\n",
      "解答：机上の空想\n",
      "\n"
     ]
    },
    {
     "output_type": "stream",
     "name": "stderr",
     "text": [
      "\r  3%|▎         | 28/1000 [00:13<07:09,  2.27it/s]"
     ]
    },
    {
     "output_type": "stream",
     "name": "stdout",
     "text": [
      "問題：NECが運営するスポーツチームで、女子バレーボールV・プレミアリーグのチーム名はレッドロケッツですが、ラグビートップリーグのチーム名は何?\n",
      "解答：NECグリーンロケッツ\n",
      "\n",
      "問題：音楽の楽譜で、最初にシャープが1つつくとト長調ですが、2つつくと何長調になる?\n",
      "解答：嬰ヘ長調\n",
      "\n",
      "問題：1869年、明治新政府が全国の藩主に土地と人民を朝廷に返上させ、中央集権をはかった政策を、漢字4文字で何という?\n",
      "解答：版籍奉還\n",
      "\n",
      "問題：司馬遼太郎のペンネームの由来となった、中国・前漢時代の歴史家は誰?\n",
      "解答：司馬遷\n",
      "\n"
     ]
    },
    {
     "output_type": "stream",
     "name": "stderr",
     "text": [
      "\r  3%|▎         | 32/1000 [00:15<06:39,  2.42it/s]"
     ]
    },
    {
     "output_type": "stream",
     "name": "stdout",
     "text": [
      "問題：大腸の運動や分泌機能の異常で起こる「過敏腸性症候群」のことをアルファベット3文字の略称で何という?\n",
      "解答：IBS\n",
      "\n",
      "問題：ニューヨーク州のニックネームからその名がついた、マンハッタン5番街に建つ102階建ての超高層ビルは何?\n",
      "解答：エンパイアステートビル\n",
      "\n",
      "問題：漫画版が累計発行部数200万部を突破して話題になった、主人公・コペル君こと本田潤一の成長を描いた吉野源三郎の小説は何?\n",
      "解答：君たちはどう生きるか\n",
      "\n",
      "問題：別名を「振袖火事」ともいう、1657年に江戸を焼き尽くした火事のことを、その元号から何という?\n",
      "解答：明暦の大火\n",
      "\n"
     ]
    },
    {
     "output_type": "stream",
     "name": "stderr",
     "text": [
      "\r  4%|▎         | 36/1000 [00:17<06:47,  2.37it/s]"
     ]
    },
    {
     "output_type": "stream",
     "name": "stdout",
     "text": [
      "問題：椋鳩十の童話『大造じいさんとガン』に登場する、ガンの群れの頭領の名前は何?\n",
      "解答：ガンの群れの頭領の名前は不明です。\n",
      "\n",
      "問題：1969年にアポロ11号が初めて月面着陸した場所は何の海?\n",
      "解答：静かの海\n",
      "\n",
      "問題：戦国武将の今川氏親、義元親子によって制定された分国法は何?\n",
      "解答：仮名目録\n",
      "\n",
      "問題：「ミスターX」という人物が極東地区のマネージャーを務める、アニメ『タイガーマスク』に登場する悪役レスラー養成所の名前は何?\n",
      "解答：虎の穴\n",
      "\n"
     ]
    },
    {
     "output_type": "stream",
     "name": "stderr",
     "text": [
      "\r  4%|▍         | 40/1000 [00:19<07:31,  2.13it/s]"
     ]
    },
    {
     "output_type": "stream",
     "name": "stdout",
     "text": [
      "問題：夏の盛りに、多くのセミが一斉に鳴く様子を、雨が降る様子にたとえて何という?\n",
      "解答：蝉時雨\n",
      "\n",
      "問題：英語では「ウォーターストライダー」。体から甘いにおいを発することから名づけられた、水面をスイスイと滑って移動する昆虫といえば何?\n",
      "解答：ウォーターストライダー\n",
      "\n",
      "問題：詩を作る才能がすぐれていることを、中国・魏の曹植がたった7歩ほど歩く間に詩を作ったという故事から何という?\n",
      "解答：七歩詩\n",
      "\n",
      "問題：「タタータ」などと表現される、音楽でリズムに変化をつけるためにアクセントの位置をずらすことを指す用語は何?\n",
      "解答：シンコペーション\n",
      "\n"
     ]
    },
    {
     "output_type": "stream",
     "name": "stderr",
     "text": [
      "\r  4%|▍         | 44/1000 [00:21<07:26,  2.14it/s]"
     ]
    },
    {
     "output_type": "stream",
     "name": "stdout",
     "text": [
      "問題：1603年、江戸幕府が開かれた時の日本の元号は何?\n",
      "解答：慶長\n",
      "\n",
      "問題：黄道十二星座を漢字で書いた時に「子ども」の「子」という字が使われるのは、双子座と何座?\n",
      "解答：子どもの「子」という字が使われるのは、双子座と子ども座です。\n",
      "\n",
      "問題：ト音記号の元になったアルファベットは何?\n",
      "解答：G\n",
      "\n",
      "問題：囲碁では十段戦を、将棋ではヒューリック杯棋聖戦を主催している日本の新聞社はどこ?\n",
      "解答：読売新聞社\n",
      "\n"
     ]
    },
    {
     "output_type": "stream",
     "name": "stderr",
     "text": [
      "\r  5%|▍         | 48/1000 [00:23<07:37,  2.08it/s]"
     ]
    },
    {
     "output_type": "stream",
     "name": "stdout",
     "text": [
      "問題：英語では「ファイアフライ・スクイード」という、体中に発光器を持ち、青白く光ることで知られるイカは何?\n",
      "解答：ホタルイカ\n",
      "\n",
      "問題：東北地方の郷土富士で、津軽富士といえば岩木山ですが、出羽富士といえば何山?\n",
      "解答：鳥海山\n",
      "\n",
      "問題：組織の内部にいながらその組織に害を及ぼす者のことを俗に「何の虫」という?\n",
      "解答：寄生虫\n",
      "\n",
      "問題：ゼラの戦いでシーザーが残したとされる名言「Veni, vidi, vici」は、日本語では何という言葉で知られる?\n",
      "解答：「来た、見た、勝った」\n",
      "\n"
     ]
    },
    {
     "output_type": "stream",
     "name": "stderr",
     "text": [
      "\r  5%|▌         | 52/1000 [00:24<06:41,  2.36it/s]"
     ]
    },
    {
     "output_type": "stream",
     "name": "stdout",
     "text": [
      "問題：もともとは、日本人移民が古い着物を現地風のシャツにリメイクして作られたものが起源とされる、ハワイ名物のカラフルなシャツは何?\n",
      "解答：アロハシャツ\n",
      "\n",
      "問題：「ナルシスト」という言葉の語源となったギリシャ神話の美少年・ナルキッソスが死んだ後に咲いたとされる花は何?\n",
      "解答：スイセン\n",
      "\n",
      "問題：フットサルのポジションで、サッカーのフォワードにあたるのは「ピヴォ」、ディフェンダーにあたるのは「フィクソ」ですが、ミッドフィルダーにあたるのは何?\n",
      "解答：アラ\n",
      "\n",
      "問題：6、28、496などのように、その数以外のすべて約数の和がその数と等しくなる自然数のことを何数という?\n",
      "解答：完全数\n",
      "\n"
     ]
    },
    {
     "output_type": "stream",
     "name": "stderr",
     "text": [
      "\r  6%|▌         | 56/1000 [00:25<06:06,  2.57it/s]"
     ]
    },
    {
     "output_type": "stream",
     "name": "stdout",
     "text": [
      "問題：「Trp」という略号で表される、チーズや牛乳などに多く含まれ、睡眠を促す効果があるとされる必須アミノ酸の一種は何?\n",
      "解答：トリプトファン\n",
      "\n",
      "問題：歌詞の中に登場することから、青函連絡船の八甲田丸の係留地や龍飛崎に歌碑が建てられている、石川さゆりの代表曲といえば何?\n",
      "解答：津軽海峡・冬景色\n",
      "\n",
      "問題：企業買収の際などに行われる「株式公開買付」のことをアルファベット3文字で何という?\n",
      "解答：TOB\n",
      "\n",
      "問題：戦国武将の加藤清正が朝鮮から日本に持ち込んだことから「キヨマサニンジン」とも呼ばれる、独特の香りが特徴的な野菜は何?\n",
      "解答：セロリ\n",
      "\n"
     ]
    },
    {
     "output_type": "stream",
     "name": "stderr",
     "text": [
      "\r  6%|▌         | 60/1000 [00:26<05:50,  2.68it/s]"
     ]
    },
    {
     "output_type": "stream",
     "name": "stdout",
     "text": [
      "問題：百人一首を使う競技かるたで、自分と相手の残り札がともに1枚ずつになった局面を何という?\n",
      "解答：「札取り」\n",
      "\n",
      "問題：第1回はマザー・テレサが受賞した、宗教家や思想家に贈られることから「宗教界のノーベル賞」と呼ばれる賞は何?\n",
      "解答：テンプルトン賞\n",
      "\n",
      "問題：「酸っぱいニシン」という意味がある、「世界一臭い食べ物」などとも呼ばれるスウェーデン名物の缶詰といえば何?\n",
      "解答：シュールストレミング\n",
      "\n",
      "問題：腸を整える整腸剤の原料にも用いられる、原子番号83、元素記号Biの元素は何?\n",
      "解答：ビスマス\n",
      "\n"
     ]
    },
    {
     "output_type": "stream",
     "name": "stderr",
     "text": [
      "\r  6%|▋         | 64/1000 [00:28<05:53,  2.65it/s]"
     ]
    },
    {
     "output_type": "stream",
     "name": "stdout",
     "text": [
      "問題：鎌倉時代に成立した「五摂家」とは、近衛家、九条家、一条家、二条家と何家?\n",
      "解答：鷹司家\n",
      "\n",
      "問題：神が生け贄として選んだ者の家の屋根に印をたてたという伝説に由来する、「多くの者の中から選び出される」という意味の慣用句は何?\n",
      "解答：白羽の矢が立つ\n",
      "\n",
      "問題：理髪店の前に置かれている、赤・白・青の3色の縞模様が回転する円柱形の看板を何という?\n",
      "解答：サインポール\n",
      "\n",
      "問題：カクテルのストロー・ハット、レッドアイ、ブラッディメアリーに共通して用いられるのは何ジュース?\n",
      "解答：トマト・ジュース\n",
      "\n"
     ]
    },
    {
     "output_type": "stream",
     "name": "stderr",
     "text": [
      "\r  7%|▋         | 68/1000 [00:30<05:51,  2.66it/s]"
     ]
    },
    {
     "output_type": "stream",
     "name": "stdout",
     "text": [
      "問題：広辞苑でこの言葉を引くと、収入、東、お茶、双六などの説明書きがある、かなにすると3文字の言葉は何?\n",
      "解答：茶\n",
      "\n",
      "問題：太陽系の惑星で、ジュリエット、オフィーリア、デズデモーナなどシェイクスピアの作品に登場する人物の名が付けられた衛星を持つ星は何?\n",
      "解答：天王星\n",
      "\n",
      "問題：登山で危険な岩壁を登るとき、安全のためお互いの体をザイルで結び合うことをドイツ語で何という?\n",
      "解答：アンザイレン\n",
      "\n",
      "問題：1938年のニューヨーク博覧会で最初に使われた言葉で、現在の記録やメッセージなどを未来に残すために地中に埋めておく容器のことを何という?\n",
      "解答：タイムカプセル\n",
      "\n"
     ]
    },
    {
     "output_type": "stream",
     "name": "stderr",
     "text": [
      "\r  7%|▋         | 72/1000 [00:31<05:48,  2.66it/s]"
     ]
    },
    {
     "output_type": "stream",
     "name": "stdout",
     "text": [
      "問題：つるの切り口から出る液体が化粧水としても利用される、漢字で「糸瓜」と書く植物は何?\n",
      "解答：トウガン\n",
      "\n",
      "問題：オーストラリアの公用語は英語ですが、オーストリアの公用語は何語?\n",
      "解答：オーストリアの公用語はドイツ語です。\n",
      "\n",
      "問題：サッカー用語の「ハットトリック」は、もともとはどんなスポーツで使われた言葉?\n",
      "解答：サッカー\n",
      "\n",
      "問題：ササン朝ペルシアで国教とされた、アフラ・マズダを最高神とする宗教は何?\n",
      "解答：ゾロアスター教\n",
      "\n"
     ]
    },
    {
     "output_type": "stream",
     "name": "stderr",
     "text": [
      "\r  8%|▊         | 76/1000 [00:32<05:40,  2.71it/s]"
     ]
    },
    {
     "output_type": "stream",
     "name": "stdout",
     "text": [
      "問題：野球は3アウトでチェンジですが、野球の原型となったクリケットは何アウトでチェンジとなる?\n",
      "解答：10アウト\n",
      "\n",
      "問題：ホッケーは1チーム11人ですが、アイスホッケーは1チーム何人?\n",
      "解答：アイスホッケーは1チーム6人です。\n",
      "\n",
      "問題：作家アガサ・クリスティーが産んだ「灰色の脳細胞」と呼ばれる名探偵は誰?\n",
      "解答：エルキュール・ポアロ\n",
      "\n",
      "問題：アメリカの二大政党で、民主党のシンボルとなっている動物はロバですが、共和党のシンボルとなっている動物は何?\n",
      "解答：ゾウ\n",
      "\n"
     ]
    },
    {
     "output_type": "stream",
     "name": "stderr",
     "text": [
      "\r  8%|▊         | 80/1000 [00:34<05:38,  2.71it/s]"
     ]
    },
    {
     "output_type": "stream",
     "name": "stdout",
     "text": [
      "問題：「インスタント」と「テレグラム」という英語を合成して名付けられた、写真・動画の共有アプリといえば何?\n",
      "解答：Instagram\n",
      "\n",
      "問題：イタリア・セリエAの「ミラノダービー」で対戦するサッカーチームは、ACミランとどこ?\n",
      "解答：インテルナツィオナーレ・ミラノ\n",
      "\n",
      "問題：昭和24年の火災によって金堂の壁画が焼失したことがきっかけで、文化財保護法が成立することとなった、奈良県のお寺は何?\n",
      "解答：法隆寺\n",
      "\n",
      "問題：小説や戯曲で、物語の序盤に登場した人物や小道具を、終盤で重要な意味を持つ伏線として描く手法を、ロシアの作家にちなんで「誰の銃」という?\n",
      "解答：チェーホフの銃\n",
      "\n"
     ]
    },
    {
     "output_type": "stream",
     "name": "stderr",
     "text": [
      "\r  8%|▊         | 84/1000 [00:36<06:38,  2.30it/s]"
     ]
    },
    {
     "output_type": "stream",
     "name": "stdout",
     "text": [
      "問題：正式名称を「ザンクト・ペーター・ウント・マリア大聖堂」という、ゴシック様式の建築物として世界最大を誇る、ドイツにある世界遺産の大聖堂は何?\n",
      "解答：ケルン大聖堂\n",
      "\n",
      "問題：「万物の根源は数である」と説いた、「三平方の定理」の別名にも名を残す古代ギリシャの数学者は誰?\n",
      "解答：ピタゴラス\n",
      "\n",
      "問題：『ヨハネ受難曲』や『ブランデンブルク協奏曲』を作曲したドイツの音楽家は誰?\n",
      "解答：ヨハン・ゼバスティアン・バッハ\n",
      "\n",
      "問題：翼が生えた靴を履くとされるローマ神話の神様にちなんで名付けられた、アメリカ初の有人宇宙飛行計画は何?\n",
      "解答：アポロ計画\n",
      "\n"
     ]
    },
    {
     "output_type": "stream",
     "name": "stderr",
     "text": [
      "\r  9%|▉         | 88/1000 [00:38<06:17,  2.42it/s]"
     ]
    },
    {
     "output_type": "stream",
     "name": "stdout",
     "text": [
      "問題：1952年にノーベル生理学・医学賞を受賞した、ストレプトマイシンの発見で知られる細菌学者は誰?\n",
      "解答：セルマン・ワクスマン\n",
      "\n",
      "問題：花の形が墨を入れる壺に似ていることから名がついた、春に紫色の花を咲かせる植物は何?\n",
      "解答：スミレ\n",
      "\n",
      "問題：理髪店でみられる赤、白、青の縞模様が回転する看板のことを何という?\n",
      "解答：サインポール\n",
      "\n",
      "問題：姥山貝塚、西之城貝塚、加曽利貝塚などをはじめ、全国にある貝塚の4分の1が位置する都道府県はどこ?\n",
      "解答：千葉県\n",
      "\n"
     ]
    },
    {
     "output_type": "stream",
     "name": "stderr",
     "text": [
      "\r  9%|▉         | 92/1000 [00:39<06:13,  2.43it/s]"
     ]
    },
    {
     "output_type": "stream",
     "name": "stdout",
     "text": [
      "問題：美人を形容する言葉、「立てば芍薬、座れば牡丹、歩く姿は・・・」、さて、「何の花」?\n",
      "解答：百合\n",
      "\n",
      "問題：アメリカの州の愛称で「ゴールデンステート」と呼ばれるのはカリフォルニア州ですが、「シルバーステート」と呼ばれるのは何州?\n",
      "解答：シルバーステートと呼ばれるのはネバダ州です。\n",
      "\n",
      "問題：コレクター心をくすぐる「フルコンプ」や「コンプガチャ」の、「コンプ」とは何という英単語の略?\n",
      "解答：complete\n",
      "\n",
      "問題：弥生式土器の名前の由来となった弥生町がある、東京都の区は何区?\n",
      "解答：文京区\n",
      "\n"
     ]
    },
    {
     "output_type": "stream",
     "name": "stderr",
     "text": [
      "\r 10%|▉         | 96/1000 [00:41<06:13,  2.42it/s]"
     ]
    },
    {
     "output_type": "stream",
     "name": "stdout",
     "text": [
      "問題：玉ねぎを炒める時の炒め具合の目安となる明るい褐色のことを、あるお菓子にたとえて何色という?\n",
      "解答：きつね色\n",
      "\n",
      "問題：1980年代、おまけとしてつけられた「悪魔vs天使シール」が子どもたちの間でブームとなった、ロッテのお菓子は何?\n",
      "解答：ビックリマンチョコ\n",
      "\n",
      "問題：「0対0」という意味がある、卓球やバドミントンの試合開始で主審が行う合図は何?\n",
      "解答：サーブ\n",
      "\n",
      "問題：銅を用いた合金で、青銅で加えるのはスズですが、赤銅で加える金属は何?\n",
      "解答：赤銅で加える金属はスズです。\n",
      "\n"
     ]
    },
    {
     "output_type": "stream",
     "name": "stderr",
     "text": [
      "\r 10%|█         | 100/1000 [00:42<05:49,  2.58it/s]"
     ]
    },
    {
     "output_type": "stream",
     "name": "stdout",
     "text": [
      "問題：フランス人農園主とアメリカ人従軍看護婦との恋を描いた、『魅惑の宵』『バリハイ』などの劇中曲が有名なミュージカル映画は何?\n",
      "解答：『浮かれ姫君』\n",
      "\n",
      "問題：故事成語「守株」で、切り株にぶつかって死んでしまった動物は何?\n",
      "解答：ウシ\n",
      "\n",
      "問題：人間の体で、咽頭と噴門の間にある、口から入った食べ物を、ぜん動運動によって胃に送る消化器官は何?\n",
      "解答：食道\n",
      "\n",
      "問題：競技かるたで、「秋の田の」と「秋風に」のように、決まり字が途中まで一緒である札を何という?\n",
      "解答：かるた\n",
      "\n"
     ]
    },
    {
     "output_type": "stream",
     "name": "stderr",
     "text": [
      "\r 10%|█         | 104/1000 [00:44<05:52,  2.54it/s]"
     ]
    },
    {
     "output_type": "stream",
     "name": "stdout",
     "text": [
      "問題：ボクシングで、アゴの先端は「チン」といいますが、アゴの側面は何という?\n",
      "解答：アゴの側面は「あごの外側」という。\n",
      "\n",
      "問題：1825年12月にロシアで起きた反乱を、「十二月党」という意味の言葉から「何の乱」という?\n",
      "解答：デカブリストの乱\n",
      "\n",
      "問題：第二次世界大戦を終結させるために連合国と日本の間で締結された平和条約を、署名されたアメリカの都市から何という?\n",
      "解答：サンフランシスコ\n",
      "\n",
      "問題：ブエノスアイレスを中心に広がっている、アルゼンチンの草原地帯を何という?\n",
      "解答：パンパ\n",
      "\n"
     ]
    },
    {
     "output_type": "stream",
     "name": "stderr",
     "text": [
      "\r 11%|█         | 108/1000 [00:45<05:35,  2.66it/s]"
     ]
    },
    {
     "output_type": "stream",
     "name": "stdout",
     "text": [
      "問題：飛行機の客室乗務員のことをアルファベット2文字で「CA」などといいますが、これを略さずいうと「何・アテンダント」?\n",
      "解答：キャビンアテンダント\n",
      "\n",
      "問題：多くの文豪が通った「ル・ドーム」や「ル・セレクト」などの老舗カフェがある、パリ・セーヌ川左岸の地区は何?\n",
      "解答：モンパルナス地区\n",
      "\n",
      "問題：InstagramなどのSNSで重視される、写真うつりのよいことを英語で何という?\n",
      "解答：photogenic\n",
      "\n",
      "問題：ホルストの組曲『惑星』で、第1曲は「火星」ですが、第2曲は何?\n",
      "解答：第2曲は「金星」です。\n",
      "\n"
     ]
    },
    {
     "output_type": "stream",
     "name": "stderr",
     "text": [
      "\r 11%|█         | 112/1000 [00:47<05:25,  2.73it/s]"
     ]
    },
    {
     "output_type": "stream",
     "name": "stdout",
     "text": [
      "問題：うどんの上に生卵を乗せる「月見うどん」で、黄身は月に見立てていますが、白身は何に見立てている?\n",
      "解答：白身は雲に見立てています。\n",
      "\n",
      "問題：『イパネマの娘』などの曲に代表される、1950年代後半に、サンバにジャズの感覚を取り入れて、ブラジルで生れた音楽は何?\n",
      "解答：ボサノヴァ\n",
      "\n",
      "問題：紫式部の『源氏物語』全54帖の巻名で、最初の第1帖は『桐壺』ですが、次の第2帖は何?\n",
      "解答：帚木\n",
      "\n",
      "問題：文化財保護法第71条第2項にもとづいて文部科学大臣が指定する「重要無形文化財保持者」のことを何という?\n",
      "解答：人間国宝\n",
      "\n"
     ]
    },
    {
     "output_type": "stream",
     "name": "stderr",
     "text": [
      "\r 12%|█▏        | 116/1000 [00:48<05:06,  2.88it/s]"
     ]
    },
    {
     "output_type": "stream",
     "name": "stdout",
     "text": [
      "問題：ヒンドゥー教の女神・ラクシュミーにあたる、美や幸運をもたらすとされる仏教の神様は誰?\n",
      "解答：弁才天\n",
      "\n",
      "問題：大坂城の「玉造門」や「京橋門」、江戸城の「平河門」など、お城の裏口にある門のことを、「大手門」に対して何という?\n",
      "解答：搦手門\n",
      "\n",
      "問題：江戸時代の僧侶・禅海が、30年余りの歳月をかけて完成させたと伝えられる、大分県の耶馬溪にあるトンネルは何?\n",
      "解答：青の洞門\n",
      "\n",
      "問題：衆議院で内閣不信任決議案が可決された場合、内閣は何日以内に総辞職か衆議院解散を行わなくてはならないと定められている?\n",
      "解答：10日以内\n",
      "\n"
     ]
    },
    {
     "output_type": "stream",
     "name": "stderr",
     "text": [
      "\r 12%|█▏        | 120/1000 [00:50<05:25,  2.70it/s]"
     ]
    },
    {
     "output_type": "stream",
     "name": "stdout",
     "text": [
      "問題：「市松模様」という名前の由来となった江戸時代の歌舞伎俳優は誰?\n",
      "解答：市村羽左衛門 (17代目)\n",
      "\n",
      "問題：紀元前4世紀にチャンドラグプタが建国し、3代目のアショーカ王の時代に最盛期を迎えた、古代インド最初の統一王朝は何?\n",
      "解答：マウリヤ朝\n",
      "\n",
      "問題：紀元前3000年ごろ、シュメール人の都市国家が成立したことに始まる、チグリス・ユーフラテス川流域で栄えた、世界最古の文明のひとつは何?\n",
      "解答：メソポタミア文明\n",
      "\n",
      "問題：唱歌『夏は来ぬ』の歌詞に登場する2種類の鳥とは、ホトトギスと何?\n",
      "解答：ウグイス\n",
      "\n"
     ]
    },
    {
     "output_type": "stream",
     "name": "stderr",
     "text": [
      "\r 12%|█▏        | 124/1000 [00:51<05:08,  2.84it/s]"
     ]
    },
    {
     "output_type": "stream",
     "name": "stdout",
     "text": [
      "問題：湖底からナウマンゾウやオオツノジカなどの化石が多数発掘されたことで有名な、長野県黒姫山のふもとにある湖は何?\n",
      "解答：野尻湖\n",
      "\n",
      "問題：上場企業の発行済み株式数に株価をかけて算出される、いわゆる「企業価値」を表す指標を何という?\n",
      "解答：時価総額\n",
      "\n",
      "問題：選挙において、候補者が選挙区をこまめに回り、有権者1人1人に訴えかける選挙手法を、家の前に渡された板にたとえて何選挙という?\n",
      "解答：ドブ板選挙\n",
      "\n",
      "問題：漫画のテーマになっているスポーツで、『ハイキュー!!』といえばバレーボールですが、『カイチュー!』といえば何?\n",
      "解答：弓道\n",
      "\n"
     ]
    },
    {
     "output_type": "stream",
     "name": "stderr",
     "text": [
      "\r 13%|█▎        | 128/1000 [00:53<06:17,  2.31it/s]"
     ]
    },
    {
     "output_type": "stream",
     "name": "stdout",
     "text": [
      "問題：アメリカの社会学者デビッド・フィリップスが命名した、マスメディアで取り上げられた自殺報道に影響されることで自殺者が増える現象を何効果という?\n",
      "解答：ウェルテル効果\n",
      "\n",
      "問題：インターネットのホームページのアドレスでよく見る「http」は、何という英語の略?\n",
      "解答：Hypertext Transfer Protocol\n",
      "\n",
      "問題：選挙の結果を予測するため、投票を終えた人に誰に投票したかなどを尋ねて得票数を推測することを何調査という?\n",
      "解答：出口調査\n",
      "\n",
      "問題：日本の旧国名で「肥後の国」といえば現在の熊本県にあたりますが、「肥後の国」の語呂合わせで標高を覚える、標高1592mの熊本県の山はどこ?\n",
      "解答：肥後の国の語呂合わせで標高1592mの熊本県の山は「肥後富士」です。\n",
      "\n"
     ]
    },
    {
     "output_type": "stream",
     "name": "stderr",
     "text": [
      "\r 13%|█▎        | 132/1000 [00:56<07:43,  1.87it/s]"
     ]
    },
    {
     "output_type": "stream",
     "name": "stdout",
     "text": [
      "問題：交差した2本の剣のトレードマークでおなじみのドイツの陶磁器ブランドで、「ブルーオニオン」や「インドの華」などのシリーズで知られるものは何?\n",
      "解答：メーカー名は不明ですが、ドイツの陶磁器ブランドは「ブルーオニオン」や「インドの華」などのシリーズで知られています。\n",
      "\n",
      "問題：小説『桜の木の下には』の作者は梶井基次郎ですが、『桜の森の満開の下』の作者は誰?\n",
      "解答：坂口安吾\n",
      "\n",
      "問題：日本最大の切手のひとつの図柄にもなった、菱川師宣の代表作の浮世絵は何?\n",
      "解答：『見返り美人』\n",
      "\n",
      "問題：美術監督のセドリック・ギボンズによってデザインされた、アカデミー賞の受賞者に贈られる黄金像の通称は何?\n",
      "解答：オスカー像\n",
      "\n",
      "エラーを受け取りました：The server is overloaded or not ready yet.\n",
      "10秒待機します\n"
     ]
    },
    {
     "output_type": "stream",
     "name": "stderr",
     "text": [
      "\r 14%|█▎        | 136/1000 [01:38<50:41,  3.52s/it]"
     ]
    },
    {
     "output_type": "stream",
     "name": "stdout",
     "text": [
      "問題：第1回は小説『博士の愛した数式』が受賞した、全国の書店員の投票によって選ばれる文学賞は何?\n",
      "解答：本問題には解答が含まれていません。\n",
      "\n",
      "問題：童話『オズの魔法使い』で、ライオンが欲しがったものは勇気ですが、ブリキの木こりが欲しがったものは何?\n",
      "解答：心\n",
      "\n",
      "問題：第1回夏季オリンピックが開催されたのはアテネですが、第1回冬季オリンピックが開催されたのはどこ?\n",
      "解答：シャモニー\n",
      "\n",
      "問題：ドイツの国旗に使われている3色の色といえば、黒、赤と何色?\n",
      "解答：金色\n",
      "\n"
     ]
    },
    {
     "output_type": "stream",
     "name": "stderr",
     "text": [
      "\r 14%|█▍        | 140/1000 [01:39<36:32,  2.55s/it]"
     ]
    },
    {
     "output_type": "stream",
     "name": "stdout",
     "text": [
      "問題：1580年にイエズス会の宣教師によって初めて設立された、日本人聖職者を養成するための神学校を何という?\n",
      "解答：セミナリヨ\n",
      "\n",
      "問題：動きが素早いことや時間が短いことを、稲妻の光や火打ち石の火にたとえた四字熟語で何という?\n",
      "解答：電光石火\n",
      "\n",
      "問題：世間のさまざまな話題のことを、漢数字の「四」を使って何話という?\n",
      "解答：井戸端会議\n",
      "\n",
      "問題：「青の洞窟」などの観光名所がある、イタリア・ナポリ沖に浮かぶ風光明媚な島はどこ?\n",
      "解答：カプリ島\n",
      "\n"
     ]
    },
    {
     "output_type": "stream",
     "name": "stderr",
     "text": [
      "\r 14%|█▍        | 144/1000 [01:41<27:20,  1.92s/it]"
     ]
    },
    {
     "output_type": "stream",
     "name": "stdout",
     "text": [
      "問題：小説『城の崎にて』や『暗夜行路』で知られる白樺派の作家は誰?\n",
      "解答：志賀直哉\n",
      "\n",
      "問題：1989年から95年の間に生まれた人たちのことを、「千年紀」という意味の言葉を使って「何世代」という?\n",
      "解答：「千年紀」という意味の言葉を使って「2000年世代」という。\n",
      "\n",
      "問題：略称はTNSC。豊かな自然に囲まれ「世界一美しいロケット発射場」とも呼ばれる、JAXAが運営する施設は何?\n",
      "解答：種子島宇宙センター\n",
      "\n",
      "問題：交通情報の提供を行う、日本道路交通情報センターのことを、ジャパン・ロード・トラフィック・インフォメーション・センターの頭文字の略称で何という?\n",
      "解答：JARTIC\n",
      "\n"
     ]
    },
    {
     "output_type": "stream",
     "name": "stderr",
     "text": [
      "\r 15%|█▍        | 148/1000 [01:43<21:24,  1.51s/it]"
     ]
    },
    {
     "output_type": "stream",
     "name": "stdout",
     "text": [
      "問題：カーリングで、ストーンを投げ入れる目標となる同心円のことを何という?\n",
      "解答：ハウス\n",
      "\n",
      "問題：「セコい」「ヨイショ」「トリ」といえば、何に由来する言葉?\n",
      "解答：「セコい」「ヨイショ」「トリ」といえば、オジエル・ノザキに由来する言葉です。\n",
      "\n",
      "問題：「repeated unit」を略して名付けられた、111や1111のようにすべてのケタの数字が1である数のことを何という?\n",
      "解答：レピュニット\n",
      "\n",
      "問題：銀行などの金融機関で、長期間預け入れや払い戻しのない預貯金口座のことを何という?\n",
      "解答：休眠口座\n",
      "\n"
     ]
    },
    {
     "output_type": "stream",
     "name": "stderr",
     "text": [
      "\r 15%|█▌        | 152/1000 [01:45<16:14,  1.15s/it]"
     ]
    },
    {
     "output_type": "stream",
     "name": "stdout",
     "text": [
      "問題：アメリカのビジネススクールを修了した人に授与される「経営管理学修士号」をアルファベットの略称で何という?\n",
      "解答：MBA\n",
      "\n",
      "問題：切手用語で、シートに印刷された切手が隣り同士で互いに上下逆さになったもののことをフランス語で何という?\n",
      "解答：ターニングペア\n",
      "\n",
      "問題：文房具で、メモ帳のロディア、手帳のクオバディスといえばどこの国のメーカー?\n",
      "解答：フランス\n",
      "\n",
      "問題：韓国・ソウルの観光スポットにもなっている、1395年に建設された朝鮮王朝の正宮は何?\n",
      "解答：景福宮\n",
      "\n"
     ]
    },
    {
     "output_type": "stream",
     "name": "stderr",
     "text": [
      "\r 16%|█▌        | 156/1000 [01:46<13:02,  1.08it/s]"
     ]
    },
    {
     "output_type": "stream",
     "name": "stdout",
     "text": [
      "問題：ダイヤモンドや方解石などに見られる、鉱物の結晶がある特定の方向に沿って割れやすいという性質を何という?\n",
      "解答：へき開\n",
      "\n",
      "問題：7月24日の芥川龍之介の命日を、生前に残した小説や、好んで描いた絵にちなんで何忌という?\n",
      "解答：河童忌\n",
      "\n",
      "問題：英語で「昼食」と「魅力」を意味する言葉から名づけられた、お弁当などに添えられる、魚の形のタレ容器は何?\n",
      "解答：ランチャーム\n",
      "\n",
      "問題：スリランカの国旗に描かれている4つの葉は、どんな植物の葉?\n",
      "解答：菩提樹の葉\n",
      "\n"
     ]
    },
    {
     "output_type": "stream",
     "name": "stderr",
     "text": [
      "\r 16%|█▌        | 160/1000 [01:47<10:18,  1.36it/s]"
     ]
    },
    {
     "output_type": "stream",
     "name": "stdout",
     "text": [
      "問題：フランス語で「新しい料理」という意味がある、1970年代に提唱された、フランス料理の傾向は何?\n",
      "解答：ヌーベルキュイジーヌ\n",
      "\n",
      "問題：ハシヤスメ・アツコやアイナ・ジ・エンドなど6人のメンバーからなる、「楽器を持たないパンクバンド」と呼ばれるガールズグループは何?\n",
      "解答：BiSH\n",
      "\n",
      "問題：1889年、フランス革命100周年を記念したパリ万博の際に建設された、パリ・セーヌ河畔の塔は何?\n",
      "解答：エッフェル塔\n",
      "\n",
      "問題：バスケットボールで、試合やピリオド終了のブザーと同時、またはその直後に決まるシュートのことを何という?\n",
      "解答：ブザービーター\n",
      "\n"
     ]
    },
    {
     "output_type": "stream",
     "name": "stderr",
     "text": [
      "\r 16%|█▋        | 164/1000 [01:49<08:23,  1.66it/s]"
     ]
    },
    {
     "output_type": "stream",
     "name": "stdout",
     "text": [
      "問題：インドネシア、マレーシア、ブルネイが領土を所有している、世界で3番目に面積が大きい島はどこ?\n",
      "解答：ボルネオ島\n",
      "\n",
      "問題：厚い布地に絵や刺繍などが施された、劇場で舞台と客席とを仕切る、上下に開閉する幕を何という?\n",
      "解答：緞帳\n",
      "\n",
      "問題：感情が揺さぶられる音楽などを指して使われる「エモい」の「エモ」とは、何という英語の略?\n",
      "解答：Emotional\n",
      "\n",
      "問題：ひと桁の素数をすべて足すといくつになる?\n",
      "解答：2 + 3 + 5 + 7 = 17\n",
      "\n"
     ]
    },
    {
     "output_type": "stream",
     "name": "stderr",
     "text": [
      "\r 17%|█▋        | 168/1000 [01:50<07:40,  1.81it/s]"
     ]
    },
    {
     "output_type": "stream",
     "name": "stdout",
     "text": [
      "問題：1642年にクロムウェルを指導者として起こったイギリスの市民革命のことを、何革命という?\n",
      "解答：ピューリタン革命\n",
      "\n",
      "問題：理科の実験などで、液体の体積を量るために用いられる、円筒形のガラスやプラスチック製の容器に目盛りをつけた道具は何?\n",
      "解答：メスシリンダー\n",
      "\n",
      "問題：女性科学者の名前に由来する元素で、キュリウムの原子番号は96番ですが、マイトネリウムの原子番号は何番?\n",
      "解答：109番\n",
      "\n",
      "問題：スペインのサッカークラブの「ソシエダ」や「マドリード」の前につく、スペイン語で「王立の、王朝の」という意味がある言葉は何?\n",
      "解答：「レアル」\n",
      "\n"
     ]
    },
    {
     "output_type": "stream",
     "name": "stderr",
     "text": [
      "\r 17%|█▋        | 172/1000 [01:53<07:41,  1.79it/s]"
     ]
    },
    {
     "output_type": "stream",
     "name": "stdout",
     "text": [
      "問題：動物園でもおなじみの大型の哺乳類で、英語では「ヒポポタマス」というのは何?\n",
      "解答：ヒポポタマス\n",
      "\n",
      "問題：体積の単位で、「1リットル」は「何デシリットル」?\n",
      "解答：10 dL\n",
      "\n",
      "問題：ニュースなどで聞く「生涯未婚率」とは、満何歳の時点で結婚したことがない人の割合を算出したもの?\n",
      "解答：生涯未婚率は、満50歳の時点で結婚したことがない人の割合を算出したものです。\n",
      "\n",
      "問題：月の表面に見られる、火山の噴火や隕石の衝突によってできるくぼみのことを何という?\n",
      "解答：クレーター\n",
      "\n"
     ]
    },
    {
     "output_type": "stream",
     "name": "stderr",
     "text": [
      "\r 18%|█▊        | 176/1000 [01:55<07:19,  1.88it/s]"
     ]
    },
    {
     "output_type": "stream",
     "name": "stdout",
     "text": [
      "問題：周期表において、第3族から第11族の間に位置する元素のことを総称して何元素という?\n",
      "解答：遷移元素\n",
      "\n",
      "問題：ガルシア=マルケスの『百年の孤独』など、中南米の小説にみられる、現実と幻想を融合させた表現技法を何という?\n",
      "解答：マジックリアリズム\n",
      "\n",
      "問題：昭和13年秋のシーズンに、日本プロ野球史上初の三冠王に輝いた、当時の東京巨人軍の選手は誰?\n",
      "解答：中島治康\n",
      "\n",
      "問題：ラジウムの原子番号は88番ですが、パラジウムの原子番号は何番?\n",
      "解答：46番\n",
      "\n"
     ]
    },
    {
     "output_type": "stream",
     "name": "stderr",
     "text": [
      "\r 18%|█▊        | 180/1000 [01:56<06:30,  2.10it/s]"
     ]
    },
    {
     "output_type": "stream",
     "name": "stdout",
     "text": [
      "問題：1963年、ボストーク6号に搭乗して宇宙に飛び立った、史上初の女性宇宙飛行士は誰?\n",
      "解答：ワレンチナ・テレシコワ\n",
      "\n",
      "問題：複数のプレーヤーがコンピュータゲームで対戦する競技のことを、アルファベット1文字を使って「何スポーツ」という?\n",
      "解答：eスポーツ\n",
      "\n",
      "問題：「100日間の美術館」とも呼ばれる、ドイツのカッセルで原則として4年ごとに開かれる国際美術展は何?\n",
      "解答：ドクメンタ\n",
      "\n",
      "問題：画家ブリューゲルが題材として描いたものが特に有名な、『旧約聖書』の『創世記』に登場する伝説上の塔といえば何?\n",
      "解答：バベルの塔\n",
      "\n"
     ]
    },
    {
     "output_type": "stream",
     "name": "stderr",
     "text": [
      "\r 18%|█▊        | 184/1000 [01:58<06:31,  2.08it/s]"
     ]
    },
    {
     "output_type": "stream",
     "name": "stdout",
     "text": [
      "問題：日本式の天気記号で、「天気不明」の記号に横棒を1本加えると、どんな天気を表す?\n",
      "解答：「雨」を表す。\n",
      "\n",
      "問題：自分で何かを作ったり、修繕したりすることを指す「DIY」とは、何という言葉の略?\n",
      "解答：DIY(ディー・アイ・ワイ)\n",
      "\n",
      "問題：日本の裁判所は5種類に分けられますが、このうち裁判員裁判が行われるのは何裁判所?\n",
      "解答：裁判員裁判が行われるのは地方裁判所。\n",
      "\n",
      "問題：音楽のある特定のフレーズが、頭の中で何度もリピートされる現象のことを何効果という?\n",
      "解答：イヤーワーム効果\n",
      "\n"
     ]
    },
    {
     "output_type": "stream",
     "name": "stderr",
     "text": [
      "\r 19%|█▉        | 188/1000 [02:00<06:43,  2.01it/s]"
     ]
    },
    {
     "output_type": "stream",
     "name": "stdout",
     "text": [
      "問題：会議の投票で、賛成派と反対派が同数である場合に、議長が投ずる最終決定票のことを、英語で何という?\n",
      "解答：tie-breaking vote\n",
      "\n",
      "問題：「三段論法」における3つの命題といえば、大前提、小前提と何?\n",
      "解答：結論\n",
      "\n",
      "問題：「弥生時代」の「弥生」は東京都の地名に由来しますが、「飛鳥時代」の「飛鳥」は何県の地名に由来する?\n",
      "解答：奈良県\n",
      "\n",
      "問題：ハワイのマウナロア火山に代表される、流動性の大きい溶岩が火口から静かに流出した場合にできる、傾斜の緩やかな火山を何という?\n",
      "解答：シールド火山\n",
      "\n"
     ]
    },
    {
     "output_type": "stream",
     "name": "stderr",
     "text": [
      "\r 19%|█▉        | 192/1000 [02:01<05:51,  2.30it/s]"
     ]
    },
    {
     "output_type": "stream",
     "name": "stdout",
     "text": [
      "問題：池井戸潤原作のドラマで、『半沢直樹』の舞台となった架空の銀行は東京中央銀行ですが、『花咲舞が黙ってない』の舞台となった架空の銀行は何?\n",
      "解答：東京第一銀行\n",
      "\n",
      "問題：「弾丸ツアー」という言葉を商標登録している企業はどこ?\n",
      "解答：オリオンツアー\n",
      "\n",
      "問題：『平家物語』にも登場する、猿の頭、狸の胴体、蛇の尾、虎の手足を持つ日本の妖怪は何?\n",
      "解答：鵺\n",
      "\n",
      "問題：デリシャスとゴールデンデリシャスを掛け合わせて誕生した、世界最大の大きさを誇るリンゴの品種は何?\n",
      "解答：ジョナゴールド\n",
      "\n"
     ]
    },
    {
     "output_type": "stream",
     "name": "stderr",
     "text": [
      "\r 20%|█▉        | 196/1000 [02:02<05:18,  2.53it/s]"
     ]
    },
    {
     "output_type": "stream",
     "name": "stdout",
     "text": [
      "問題：演劇実験室「天井桟敷」を設立し、著書に『田園に死す』や『書を捨てよ、町へ出よう』がある劇作家は誰?\n",
      "解答：寺山修司\n",
      "\n",
      "問題：「明治日本の産業革命遺産」や「古都京都の文化財」のように、世界遺産登録に際して、複数の物件をひとつの資産群としてまとめる方式を何という?\n",
      "解答：シリアルノミネーション\n",
      "\n",
      "問題：『行け、我が想いよ、黄金の翼に乗って』などの曲で有名な、バビロニアの王ネブカドネザル2世を題材にしたヴェルディのオペラは何?\n",
      "解答：ナブッコ\n",
      "\n",
      "問題：トランプのポーカーの役で、ストレートよりも強く、フルハウスよりも弱いものは何?\n",
      "解答：フォーカード\n",
      "\n"
     ]
    },
    {
     "output_type": "stream",
     "name": "stderr",
     "text": [
      "\r 20%|██        | 200/1000 [02:04<04:55,  2.71it/s]"
     ]
    },
    {
     "output_type": "stream",
     "name": "stdout",
     "text": [
      "問題：世の中の栄枯盛衰がはかないことを、古代中国の趙という国の都にちなんで何という?\n",
      "解答：邯鄲の夢\n",
      "\n",
      "問題：東京で、歌舞伎座があるのは中央区ですが、歌舞伎町と呼ばれる歓楽街があるのは何区?\n",
      "解答：新宿区\n",
      "\n",
      "問題：15世紀、スペイン女王の援助を受け、新大陸を発見したイタリア生まれの探検家は誰?\n",
      "解答：クリストファー・コロンブス\n",
      "\n",
      "問題：国際開発金融機関のひとつ「アジアインフラ投資銀行」のことを、アルファベット4文字の略称で何という?\n",
      "解答：AIIB\n",
      "\n"
     ]
    },
    {
     "output_type": "stream",
     "name": "stderr",
     "text": [
      "\r 20%|██        | 204/1000 [02:05<04:38,  2.86it/s]"
     ]
    },
    {
     "output_type": "stream",
     "name": "stdout",
     "text": [
      "問題：大宝律令の制定や和同開珎の鋳造が行われた時の日本の都は何京といった?\n",
      "解答：平城京\n",
      "\n",
      "問題：バスケットボールはトールブラックス、サッカーはオールホワイツ、ラグビーはオールブラックス、という愛称で呼ばれる代表チームが活躍する南半球の国はどこ?\n",
      "解答：ニュージーランド\n",
      "\n",
      "問題：フランスのソーテルヌ、ドイツのトロッケンベーレンアウスレーゼと並び、世界三大貴腐ワインと称されるハンガリーのワインは何?\n",
      "解答：トカイワイン\n",
      "\n",
      "問題：アメリカ南北戦争を背景にした小説『病院のスケッチ』や『若草物語』などで知られる女性作家は誰?\n",
      "解答：ルイーザ・メイ・オルコット\n",
      "\n"
     ]
    },
    {
     "output_type": "stream",
     "name": "stderr",
     "text": [
      "\r 21%|██        | 208/1000 [02:06<04:22,  3.01it/s]"
     ]
    },
    {
     "output_type": "stream",
     "name": "stdout",
     "text": [
      "問題：「勝負には口出し無用」という意味をこめて、将棋盤の脚にかたどられている花は何?\n",
      "解答：クチナシ\n",
      "\n",
      "問題：紫式部の『源氏物語』全54帖の巻名で、漢字1文字のものといえば、『葵』『蛍』と何?\n",
      "解答：『夕』\n",
      "\n",
      "問題：映画などで役者の演技に合わせて声をあてることを「アフレコ」といいますが、これは何という言葉の略?\n",
      "解答：アフター・レコーディング\n",
      "\n",
      "問題：サーフィンで、自分の意思でボードから落ちることをプルアウトというのに対し、意思に反して落ちてしまうことを何という?\n",
      "解答：ワイプアウト\n",
      "\n"
     ]
    },
    {
     "output_type": "stream",
     "name": "stderr",
     "text": [
      "\r 21%|██        | 212/1000 [02:07<04:08,  3.18it/s]"
     ]
    },
    {
     "output_type": "stream",
     "name": "stdout",
     "text": [
      "問題：バビロン第1王朝の王が制定した、「目には目を、歯には歯を」でおなじみの法典は何?\n",
      "解答：ハンムラビ法典\n",
      "\n",
      "問題：絶滅の恐れのある動植物の国際取引を規制する条約のことを、あるアメリカの都市の名前から何条約という?\n",
      "解答：ワシントン条約\n",
      "\n",
      "問題：ゴルフの各ホールで最初にティーショットを打つ人のことを、「名誉」という意味の英語で何という?\n",
      "解答：オナー\n",
      "\n",
      "問題：エリザベス2世が元首を務める国のうち、面積が最も大きいのはどこ?\n",
      "解答：カナダ\n",
      "\n"
     ]
    },
    {
     "output_type": "stream",
     "name": "stderr",
     "text": [
      "\r 22%|██▏       | 216/1000 [02:08<03:54,  3.34it/s]"
     ]
    },
    {
     "output_type": "stream",
     "name": "stdout",
     "text": [
      "問題：数学用語で、方程式の解が存在しないことを「不能」といいますが、方程式の解が無数にあることを何という?\n",
      "解答：不定解\n",
      "\n",
      "問題：中国・唐および宋の時代に活躍した、韓愈、柳宗元、欧陽修、蘇洵、蘇軾、蘇轍、曾鞏、王安石の8人の散文作家を総称して何という?\n",
      "解答：唐宋八大家\n",
      "\n",
      "問題：スーパーマーケットの中で食事ができるようになっている業態の店を、「グローサリー」と「レストラン」を合わせた言葉で何という?\n",
      "解答：グローサラン\n",
      "\n",
      "問題：ウィリアム・フォークナーの小説『響きと怒り』や『サンクチュアリ』など多くの作品で舞台として描かれている架空の町はどこ?\n",
      "解答：ジェファーソン\n",
      "\n"
     ]
    },
    {
     "output_type": "stream",
     "name": "stderr",
     "text": [
      "\r 22%|██▏       | 220/1000 [02:10<04:00,  3.24it/s]"
     ]
    },
    {
     "output_type": "stream",
     "name": "stdout",
     "text": [
      "問題：明治維新に際して起きた、新政府軍と旧幕府軍との一連の戦いを、戦争が勃発した明治元年の干支から何という?\n",
      "解答：戊辰戦争\n",
      "\n",
      "問題：19世紀のギリシャ独立戦争で、オスマントルコの軍隊による虐殺で悲劇に見舞われた島をモチーフにして描いた、画家・ドラクロワの有名な絵画は何?\n",
      "解答：キオス島の虐殺\n",
      "\n",
      "問題：広島県の鞆の浦をイメージしたという、新春によく聴く、宮城道雄による琴の名曲は何?\n",
      "解答：春の海\n",
      "\n",
      "問題：英語で「輝く」という意味を持つ、ダイヤモンドを58面体にする研磨方法を「何カット」という?\n",
      "解答：ブリリアントカット\n",
      "\n"
     ]
    },
    {
     "output_type": "stream",
     "name": "stderr",
     "text": [
      "\r 22%|██▏       | 224/1000 [02:11<04:23,  2.94it/s]"
     ]
    },
    {
     "output_type": "stream",
     "name": "stdout",
     "text": [
      "問題：東京学生アメリカンフットボール連盟の設立にも尽力し「日本フットボールの父」とも呼ばれているアメリカ人は誰?\n",
      "解答：ポール・ラッシュ\n",
      "\n",
      "問題：部屋の内装をインテリアというのに対し、塀や門扉などの外装のことを何という?\n",
      "解答：エクステリア\n",
      "\n",
      "問題：激しい争いの場を「修羅場」といいますが、この言葉の由来で戦った神は阿修羅と誰?\n",
      "解答：帝釈天\n",
      "\n",
      "問題：洋服の柄で、ヒッコリー、レジメンタル、チョーク、ピンなどの種類があるのはどんな模様?\n",
      "解答：ストライプ模様\n",
      "\n"
     ]
    },
    {
     "output_type": "stream",
     "name": "stderr",
     "text": [
      "\r 23%|██▎       | 228/1000 [02:13<04:27,  2.88it/s]"
     ]
    },
    {
     "output_type": "stream",
     "name": "stdout",
     "text": [
      "問題：マフィンやマカロンなどのともだちがいる、ゴールデン・レトリバーをモチーフにしたサンリオのキャラクターは何?\n",
      "解答：ポムポムプリン\n",
      "\n",
      "問題：13世紀から16世紀にかけてリューベックやハンブルクが結成した、北ドイツの都市同盟は何?\n",
      "解答：ハンザ同盟\n",
      "\n",
      "問題：司法書士免許を交付するのは法務大臣ですが、行政書士免許を交付するのは何大臣?\n",
      "解答：総務大臣\n",
      "\n",
      "問題：「eスポーツ」の「e」は何という英単語の頭文字?\n",
      "解答：「エレクトロニック」\n",
      "\n"
     ]
    },
    {
     "output_type": "stream",
     "name": "stderr",
     "text": [
      "\r 23%|██▎       | 232/1000 [02:14<04:20,  2.95it/s]"
     ]
    },
    {
     "output_type": "stream",
     "name": "stdout",
     "text": [
      "問題：本名をアレッサンドロ・マリアーノ・フィリペピという、代表作『ビーナスの誕生』『プリマヴェーラ』で知られるイタリアの画家は誰?\n",
      "解答：サンドロ・ボッティチェッリ\n",
      "\n",
      "問題：フランス語で「新しい橋」という意味の名がついた、セーヌ川にかかるパリの橋のうち、最も古いものは何?\n",
      "解答：ポンヌフ\n",
      "\n",
      "問題：ニューヨークを舞台に、主人公の少女が両親を探して奮闘する姿を描いた、劇中歌『Tomorrow』も有名なミュージカルは何?\n",
      "解答：「アニー」\n",
      "\n",
      "問題：タナカ、カトウ、ケンモツ、ヤマワキ、グシケン、モリスエといえば、体操のどの種目の技の名前?\n",
      "解答：モリスエ\n",
      "\n"
     ]
    },
    {
     "output_type": "stream",
     "name": "stderr",
     "text": [
      "\r 24%|██▎       | 236/1000 [02:15<04:10,  3.05it/s]"
     ]
    },
    {
     "output_type": "stream",
     "name": "stdout",
     "text": [
      "問題：小説『トム・ソーヤーの冒険』や『ハックルベリー・フィンの冒険』などを書いたアメリカの作家は誰?\n",
      "解答：マーク・トウェイン\n",
      "\n",
      "問題：赤ら顔の子どもの姿で、ガジュマルの木に棲むとされる、沖縄の妖怪は何?\n",
      "解答：キジムナー\n",
      "\n",
      "問題：正式名称を「リバティ・エンライトニング・ザ・ワールド」という、ニューヨーク・リバティ島に建つ有名な像は何?\n",
      "解答：自由の女神像\n",
      "\n",
      "問題：「オルレアンの少女」と呼ばれ、15世紀の百年戦争でフランスを勝利に導いた女性といえば誰?\n",
      "解答：ジャンヌ・ダルク\n",
      "\n"
     ]
    },
    {
     "output_type": "stream",
     "name": "stderr",
     "text": [
      "\r 24%|██▍       | 240/1000 [02:16<03:54,  3.24it/s]"
     ]
    },
    {
     "output_type": "stream",
     "name": "stdout",
     "text": [
      "問題：高杉晋作など多くの幕末の志士が学んだ、吉田松陰が主宰した長州藩の私塾は何?\n",
      "解答：松下村塾\n",
      "\n",
      "問題：早稲田大学のラグビー蹴球部が大学選手権で優勝した時にのみ歌われる、部の第二部歌のタイトルは何?\n",
      "解答：「荒ぶる」\n",
      "\n",
      "問題：2112年9月3日生まれ。身長129.3cm、体重129.3kg。おなかの四次元ポケットから様々なひみつ道具を出す、藤子・F・不二雄の漫画のキャラクターといえば何?\n",
      "解答：ドラえもん\n",
      "\n",
      "問題：グレートアーテジアン盆地、グレートサンディ砂漠、グレートディヴァイディング山脈がある国はどこ?\n",
      "解答：オーストラリア\n",
      "\n"
     ]
    },
    {
     "output_type": "stream",
     "name": "stderr",
     "text": [
      "\r 24%|██▍       | 244/1000 [02:17<03:42,  3.40it/s]"
     ]
    },
    {
     "output_type": "stream",
     "name": "stdout",
     "text": [
      "問題：映画『ピノキオ』で、コオロギのジミニー・クリケットが歌い、アカデミー歌曲賞を受賞した挿入歌は何?\n",
      "解答：「星に願いを」\n",
      "\n",
      "問題：仏教における「四天王」とは、東を護る持国天、西を護る広目天、南を護る増長天と、北を護る何という神様?\n",
      "解答：多聞天\n",
      "\n",
      "問題：1936年の春場所から1939年の春場所まで、69連勝の記録を作った昭和の横綱は誰?\n",
      "解答：双葉山定次\n",
      "\n",
      "問題：長崎市の沖にある、かつて炭鉱の島として栄えた端島は、その外見からあるものに見立てて何島と呼ばれる?\n",
      "解答：軍艦島\n",
      "\n"
     ]
    },
    {
     "output_type": "stream",
     "name": "stderr",
     "text": [
      "\r 25%|██▍       | 248/1000 [02:19<03:50,  3.26it/s]"
     ]
    },
    {
     "output_type": "stream",
     "name": "stdout",
     "text": [
      "問題：1446年に「ハングル」を公布し普及させた、李氏朝鮮の第4代国王は誰?\n",
      "解答：世宗大王\n",
      "\n",
      "問題：原題は『ブッチ・キャシディ・アンド・ザ・サンダンス・キッド』。ポール・ニューマンとロバート・レッドフォードが2人組の強盗を演じた、アメリカン・ニューシネマの傑作といえば何?\n",
      "解答：『明日に向って撃て!』\n",
      "\n",
      "問題：第一次護憲運動が起こった時の総理大臣は桂太郎ですが、第二次護憲運動が起こった時の総理大臣は誰?\n",
      "解答：犬養毅\n",
      "\n",
      "問題：西洋で不吉とされる「13」という数字を嫌うことを、ギリシャ語の「13」と英語の「恐怖症」という意味の言葉で何という?\n",
      "解答：triskaidekaphobia\n",
      "\n"
     ]
    },
    {
     "output_type": "stream",
     "name": "stderr",
     "text": [
      "\r 25%|██▌       | 252/1000 [02:20<03:46,  3.30it/s]"
     ]
    },
    {
     "output_type": "stream",
     "name": "stdout",
     "text": [
      "問題：重さ350g以上、糖度15度以上などの基準を満たしたものだけがこう呼ばれる、宮崎県産の完熟マンゴーの愛称は何?\n",
      "解答：完熟マンゴー\n",
      "\n",
      "問題：野菜の切り方で、「半月切り」にしたものをさらに半分にすることを、その形がある植物に似ていることから「何切り」という?\n",
      "解答：いちょう切り\n",
      "\n",
      "問題：もともと芝居の幕と幕の間の休憩時間に食べたことから名がついた、ご飯と数種類のおかずを詰め合わせた弁当は何?\n",
      "解答：幕の内弁当\n",
      "\n",
      "問題：分数で、4分の2を2分の1とするように、分母と分子を同じ数で割って、簡単な分数にすることを何という?\n",
      "解答：通分\n",
      "\n"
     ]
    },
    {
     "output_type": "stream",
     "name": "stderr",
     "text": [
      "\r 26%|██▌       | 256/1000 [02:21<03:47,  3.27it/s]"
     ]
    },
    {
     "output_type": "stream",
     "name": "stdout",
     "text": [
      "問題：中国の詩人、李白や孟浩然らの詩をドイツ語に訳した詩集「中国の笛」に基づいて歌詞が書かれている、グスタフ・マーラーの交響曲は何?\n",
      "解答：「大地の歌」\n",
      "\n",
      "問題：小説『太郎物語』の作者は曽野綾子ですが、『次郎物語』の作者は誰?\n",
      "解答：下村湖人\n",
      "\n",
      "問題：経済学の古典『資本論』を書いたのはマルクスですが、その『資本論』をさらに展開させた『金融資本論』を書いたドイツの経済学者は誰?\n",
      "解答：ルドルフ・ヒルファーディング\n",
      "\n",
      "問題：「へのへのもへじ」の落書きで、「も」が表しているのは顔のどの部分?\n",
      "解答：鼻\n",
      "\n"
     ]
    },
    {
     "output_type": "stream",
     "name": "stderr",
     "text": [
      "\r 26%|██▌       | 260/1000 [02:22<03:43,  3.31it/s]"
     ]
    },
    {
     "output_type": "stream",
     "name": "stdout",
     "text": [
      "問題：毎年12月に「今年の漢字」が発表される京都のお寺はどこ?\n",
      "解答：清水寺\n",
      "\n",
      "問題：ミケランジェロの『ダビデ像』などのように、彫刻作品で、体の重心を片方の足にかけて、左右非対称の姿勢に表現したものを何という?\n",
      "解答：コントラポスト\n",
      "\n",
      "問題：中央にマサイ族の盾と槍が描かれた国旗を持つ、首都をナイロビに置くアフリカの国はどこ?\n",
      "解答：ケニア\n",
      "\n",
      "問題：関係者の言い分が食い違っていて真相がわからないことを、芥川龍之介の小説にちなんで何という?\n",
      "解答：「蜘蛛の糸」\n",
      "\n",
      "エラーを受け取りました：The server is overloaded or not ready yet.\n",
      "10秒待機します\n"
     ]
    },
    {
     "output_type": "stream",
     "name": "stderr",
     "text": [
      "\r 26%|██▋       | 264/1000 [03:03<40:34,  3.31s/it]"
     ]
    },
    {
     "output_type": "stream",
     "name": "stdout",
     "text": [
      "問題：歴史物語で「四鏡」と呼ばれる4つの書物は、『大鏡』『今鏡』『水鏡』とあとひとつは何?\n",
      "解答：『増鏡』\n",
      "\n",
      "問題：中国の国会に相当する立法機関を何という?\n",
      "解答：全国人民代表大会\n",
      "\n",
      "問題：「邪念を抱くものに災いあれ」という意味のフランス語が刺繍されている、エドワード3世が制定したイギリスの最高勲章といえば何?\n",
      "解答：ガーター勲章\n",
      "\n",
      "問題：日本で「領海」と規定されているのは、領土から何海里離れたところまでの海を指す?\n",
      "解答：12海里\n",
      "\n"
     ]
    },
    {
     "output_type": "stream",
     "name": "stderr",
     "text": [
      "\r 27%|██▋       | 268/1000 [03:05<29:19,  2.40s/it]"
     ]
    },
    {
     "output_type": "stream",
     "name": "stdout",
     "text": [
      "問題：ワーグナーの楽劇『ニーベルングの指環』を構成する四部作といえば、『ラインの黄金』『ワルキューレ』『ジークフリート』と何?\n",
      "解答：『神々の黄昏』\n",
      "\n",
      "問題：同一人物が同じ時刻に別の場所に現れる現象や、自分と同じ姿をしたもう1人の自分を見る現象のことを、ドイツ語で何という?\n",
      "解答：ドッペルゲンガー\n",
      "\n",
      "問題：大阪府にある唯一の村は千早赤阪村ですが、京都府にある唯一の村は何?\n",
      "解答：南山城村\n",
      "\n",
      "問題：サンチョ・パンサという従者を引き連れて遍歴の旅に出かける主人公の姿を描いた、セルバンテスの小説は何?\n",
      "解答：『ドン・キホーテ』\n",
      "\n"
     ]
    },
    {
     "output_type": "stream",
     "name": "stderr",
     "text": [
      "\r 27%|██▋       | 272/1000 [03:06<21:26,  1.77s/it]"
     ]
    },
    {
     "output_type": "stream",
     "name": "stdout",
     "text": [
      "問題：小説に登場する名探偵で、法月綸太郎の生みの親は法月綸太郎ですが、法水麟太郎の生みの親は誰?\n",
      "解答：誰もいない\n",
      "\n",
      "問題：意外なところから意外なものが出ることをいったことわざ。「何から駒」?\n",
      "解答：何から駒\n",
      "\n",
      "問題：針金やプラスチックの枠に和紙を貼ってつくられる、金魚すくいで金魚をすくう道具は何?\n",
      "解答：ポイ\n",
      "\n",
      "問題：国会や地方議会で、議事の進行や議決に必要な最小限の出席人数のことを何という?\n",
      "解答：定足数\n",
      "\n"
     ]
    },
    {
     "output_type": "stream",
     "name": "stderr",
     "text": [
      "\r 28%|██▊       | 276/1000 [03:07<16:11,  1.34s/it]"
     ]
    },
    {
     "output_type": "stream",
     "name": "stdout",
     "text": [
      "問題：「フットスツール」とも呼ばれる、椅子の前に置いて足を乗せるクッション台のことを英語で何という?\n",
      "解答：ottoman\n",
      "\n",
      "問題：英語で「コーン」という立体は「円すい」ですが、「シリンダー」という立体は何?\n",
      "解答：シリンダー\n",
      "\n",
      "問題：1973年に採択された、「絶滅のおそれのある野生動植物の種の国際取引に関する条約」の通称は何条約?\n",
      "解答：ワシントン条約\n",
      "\n",
      "問題：江戸幕末から明治にかけて活躍した人物で、「郵便の父」と呼ばれたのは前島密ですが、「新聞の父」と呼ばれた、日本語による初の新聞「海外新聞」の創設者は誰?\n",
      "解答：ジョン・レディー・ブラック\n",
      "\n"
     ]
    },
    {
     "output_type": "stream",
     "name": "stderr",
     "text": [
      "\r 28%|██▊       | 280/1000 [03:08<12:17,  1.02s/it]"
     ]
    },
    {
     "output_type": "stream",
     "name": "stdout",
     "text": [
      "問題：1914年に、アメリカの植物学者の調査によって世界に知られたことから名前がついた、屋久杉の大きな切り株を何という?\n",
      "解答：ウィルソン株\n",
      "\n",
      "問題：クラン川とゴンパック川が合流する地点であることから、「濁った川が交わる場所」という意味の名前がつけられた、マレーシアの首都はどこ?\n",
      "解答：クアラルンプール\n",
      "\n",
      "問題：標高は3193メートル。火山ではない山としては、日本で標高が最も高い山は何?\n",
      "解答：剱岳\n",
      "\n",
      "問題：受難前夜、イエス・キリストが12人の弟子たちとともに過ごした夕食風景を描いた、レオナルド・ダ・ヴィンチの名画は何?\n",
      "解答：最後の晩餐\n",
      "\n"
     ]
    },
    {
     "output_type": "stream",
     "name": "stderr",
     "text": [
      "\r 28%|██▊       | 284/1000 [03:10<10:05,  1.18it/s]"
     ]
    },
    {
     "output_type": "stream",
     "name": "stdout",
     "text": [
      "問題：イギリスのエリザベス1世はチューダー朝の女王ですが、エリザベス2世は何朝の女王?\n",
      "解答：エリザベス2世はウィンザー朝の女王です。\n",
      "\n",
      "問題：日本庭園で、地面に大きな甕を埋め、その中に少しずつ水が滴り落ちるようして、涼やかな音色を響かせる仕掛けを何という?\n",
      "解答：水琴窟\n",
      "\n",
      "問題：パリ郊外・ジヴェルニーの自宅の庭に作った池をモチーフにして描き続けた、画家クロード・モネの連作シリーズといえば何?\n",
      "解答：睡蓮\n",
      "\n",
      "問題：「知に働けば角が立つ、情に棹させば流される」という有名な一節が登場する、夏目漱石の小説は何?\n",
      "解答：草枕\n",
      "\n"
     ]
    },
    {
     "output_type": "stream",
     "name": "stderr",
     "text": [
      "\r 29%|██▉       | 288/1000 [03:11<07:55,  1.50it/s]"
     ]
    },
    {
     "output_type": "stream",
     "name": "stdout",
     "text": [
      "問題：「No plan like yours to study history wisely」といえば、どこの国の王朝を覚えるためのフレーズ?\n",
      "解答：朝鮮\n",
      "\n",
      "問題：兼好法師の随筆『徒然草』の第52段「仁和寺にある法師」で、仁和寺の法師が参拝に出かける、京都の神社はどこ?\n",
      "解答：出雲大神宮\n",
      "\n",
      "問題：イヌの品種で、パグ、シー・ズー、チャウチャウ、ペキニーズの原産国は、いずれもどこ?\n",
      "解答：中国\n",
      "\n",
      "問題：カレーやシチューにとろみをつけるために加えられる、小麦粉をバターで炒めたものを何という?\n",
      "解答：ルー\n",
      "\n"
     ]
    },
    {
     "output_type": "stream",
     "name": "stderr",
     "text": [
      "\r 29%|██▉       | 292/1000 [03:12<06:34,  1.79it/s]"
     ]
    },
    {
     "output_type": "stream",
     "name": "stdout",
     "text": [
      "問題：アニメ『ちびまる子ちゃん』のオープニング曲『おどるポンポコリン』の、作詞はさくらももこですが、作曲は誰?\n",
      "解答：佐橋俊彦\n",
      "\n",
      "問題：音楽にちなんだ記念日で、6月9日は「ロックの日」ですが、9月4日は何の日?\n",
      "解答：9月4日は「アポロの日」です。\n",
      "\n",
      "問題：日本三景のうち、京都府にあるものは何?\n",
      "解答：天橋立\n",
      "\n",
      "問題：エンゲージリングのデザインとして人気が高い、宝石を1粒だけあしらった指輪を、フランス語で何という?\n",
      "解答：ソリテール\n",
      "\n"
     ]
    },
    {
     "output_type": "stream",
     "name": "stderr",
     "text": [
      "\r 30%|██▉       | 296/1000 [03:13<05:40,  2.07it/s]"
     ]
    },
    {
     "output_type": "stream",
     "name": "stdout",
     "text": [
      "問題：雪が解けきらないうちに花を咲かせることから「雪中花」とも呼ばれる、黄、クチベニ、ラッパなどの品種がある植物は何?\n",
      "解答：クロッカス\n",
      "\n",
      "問題：『パリのアメリカ人』『ラプソディー・イン・ブルー』などの作品で知られるアメリカの作曲家は誰?\n",
      "解答：ジョージ・ガーシュウィン\n",
      "\n",
      "問題：絵を描く時に使う、絵の具を溶いたり、混ぜたりするための板のことを何という?\n",
      "解答：パレット\n",
      "\n",
      "問題：NHLのメイプルリーフス、NBAのラプターズ、MLBのブルージェイズが本拠地を置くカナダの都市はどこ?\n",
      "解答：トロント\n",
      "\n",
      "エラーを受け取りました：The server is overloaded or not ready yet.\n",
      "10秒待機します\n"
     ]
    },
    {
     "output_type": "stream",
     "name": "stderr",
     "text": [
      "\r 30%|███       | 300/1000 [03:55<40:31,  3.47s/it]"
     ]
    },
    {
     "output_type": "stream",
     "name": "stdout",
     "text": [
      "問題：「八代集」といわれる勅撰和歌集の中で、最初に編纂されたのは「古今和歌集」ですが、2番目に編纂されたのは何?\n",
      "解答：「後撰集」\n",
      "\n",
      "問題：黄道十二星座で、「スコルピウス」という学名を持つのは「さそり座」ですが、「サジタリウス」という学名を持つのは何座?\n",
      "解答：やぎ座\n",
      "\n",
      "問題：「火中の栗を拾う」の由来となった寓話で、サルに火の中にある栗を拾わされた動物は何?\n",
      "解答：キツネ\n",
      "\n",
      "問題：石津謙介が提唱した、服装を、時間・場所・場合に応じて決めるという考えを何という?\n",
      "解答：トータルコーディネート\n",
      "\n"
     ]
    },
    {
     "output_type": "stream",
     "name": "stderr",
     "text": [
      "\r 30%|███       | 304/1000 [03:58<30:52,  2.66s/it]"
     ]
    },
    {
     "output_type": "stream",
     "name": "stdout",
     "text": [
      "問題：国語の教科書にもよく出てくる、「くれなゐの二尺のびたる薔薇の芽の針やはらかに春雨の降る」を詠んだ有名な歌人は誰?\n",
      "解答：与謝野晶子\n",
      "\n",
      "問題：力量が同じ人同士のことを「実力伯仲」などといいますが、この「伯仲」とはもともとどんな関係を表す言葉?\n",
      "解答：伯仲はもともと「伯仲国会」で使用される言葉であり、国会の議席が与野党で伯仲している状況を表す言葉です。\n",
      "\n",
      "問題：タラッサ、ナイアド、ネレイド、トリトンなどの衛星をもつ、太陽系の惑星は何?\n",
      "解答：海王星\n",
      "\n",
      "問題：ジェームス・ディーンが主演した3つの映画作品は、『エデンの東』『理由なき反抗』と何?\n",
      "解答：『巨人』\n",
      "\n"
     ]
    },
    {
     "output_type": "stream",
     "name": "stderr",
     "text": [
      "\r 31%|███       | 308/1000 [04:00<22:33,  1.96s/it]"
     ]
    },
    {
     "output_type": "stream",
     "name": "stdout",
     "text": [
      "問題：映画やテレビの撮影で音声スタッフが持つマイクに取り付けられる、フワフワした毛皮のようなカバーを何という?\n",
      "解答：デッドキャット\n",
      "\n",
      "問題：音楽、文学、芸術など、人間の様々な知的活動を司るとされる、ギリシャ神話に登場する9人の女神たちを何という?\n",
      "解答：ムーサ\n",
      "\n",
      "問題：手相占いで「三大線」と呼ばれる3つの線といえば、知能線、感情線と、あとひとつは何線?\n",
      "解答：生命線\n",
      "\n",
      "問題：小説『レ・ミゼラブル』で、逃亡生活を送るジャン・バルジャンが養女として育てる少女の名前は何?\n",
      "解答：コゼット\n",
      "\n"
     ]
    },
    {
     "output_type": "stream",
     "name": "stderr",
     "text": [
      "\r 31%|███       | 312/1000 [04:01<16:48,  1.47s/it]"
     ]
    },
    {
     "output_type": "stream",
     "name": "stdout",
     "text": [
      "問題：細い方の先端をスモールチップ、太い方の先端をブレードという、主に男性が首に巻くファッションアイテムは何?\n",
      "解答：ネクタイ\n",
      "\n",
      "問題：2人の人物が背中合わせに立つ様子をかたどって作られた、ある方角を表す漢字は何?\n",
      "解答：北\n",
      "\n",
      "問題：芝居のセリフで、1人で言うものをモノローグというのに対し、2人以上で交わされるものを何という?\n",
      "解答：対話\n",
      "\n",
      "問題：1968年にチェコスロバキアで起こった「プラハの春」を背景に、2人の女性テレーザとサビーナ、主人公のトマシュの三角関係を描いた、ミラン・クンデラの小説は何?\n",
      "解答：『存在の耐えられない軽さ』\n",
      "\n"
     ]
    },
    {
     "output_type": "stream",
     "name": "stderr",
     "text": [
      "\r 32%|███▏      | 316/1000 [04:02<12:44,  1.12s/it]"
     ]
    },
    {
     "output_type": "stream",
     "name": "stdout",
     "text": [
      "問題：聖母マリアを讃え「マリアの黄金の花」という意味の名がつけられたとされる、園芸植物としてもおなじみのキク科の花は何?\n",
      "解答：マリーゴールド\n",
      "\n",
      "問題：ネルソン提督率いるイギリス艦隊が、フランス・スペインの連合艦隊を破った1805年の戦いは何?\n",
      "解答：トラファルガーの海戦\n",
      "\n",
      "問題：英語では「アブソルート・モナーキズム」という、16世紀から18世紀のヨーロッパで、強大な権力を持つ国王が国を支配した政治形態を何という?\n",
      "解答：絶対君主制\n",
      "\n",
      "問題：イタリア語で「空気」という意味がある、オペラなどで歌われる伴奏つきの旋律的な独唱を何という?\n",
      "解答：アリア\n",
      "\n"
     ]
    },
    {
     "output_type": "stream",
     "name": "stderr",
     "text": [
      "\r 32%|███▏      | 320/1000 [04:04<10:07,  1.12it/s]"
     ]
    },
    {
     "output_type": "stream",
     "name": "stdout",
     "text": [
      "問題：ルネサンス期のヨーロッパの三大発明と呼ばれるものとは、火薬、羅針盤と何?\n",
      "解答：印刷術\n",
      "\n",
      "問題：もともと、男女ペアが円を描くように踊る曲だったことからドイツ語で「回転する」という意味の名前がつけられた、日本語では「円舞曲」と呼ばれる音楽の楽曲形式は何?\n",
      "解答：ワルツ\n",
      "\n",
      "問題：狂言師で「萬斎」「万蔵」の名字は野村ですが、「宗彦」「逸平」の名字は何?\n",
      "解答：「宗彦」「逸平」の名字は不明です。\n",
      "\n",
      "問題：広島県にある世界遺産で、原爆ドームがあるのは広島市ですが、厳島神社があるのは何市?\n",
      "解答：廿日市市\n",
      "\n"
     ]
    },
    {
     "output_type": "stream",
     "name": "stderr",
     "text": [
      "\r 32%|███▏      | 324/1000 [04:05<08:09,  1.38it/s]"
     ]
    },
    {
     "output_type": "stream",
     "name": "stdout",
     "text": [
      "問題：長ネギの白い部分をごく細くせん切りにしたものを、人間の髪の毛にたとえて何という?\n",
      "解答：ネギの髪\n",
      "\n",
      "問題：元素の周期表において第11族に属する、銅、銀、金、レントゲニウムを総称して何元素という?\n",
      "解答：第11族元素\n",
      "\n",
      "問題：「足元を見る」「肩代わり」「相棒」。これらの言葉の語源となった職業は何?\n",
      "解答：キャディー\n",
      "\n",
      "問題：フランス北西海岸のサン・マロ湾に浮かぶ陸繋島に築かれた、世界遺産にも登録されている修道院は何?\n",
      "解答：モン・サン＝ミシェル\n",
      "\n"
     ]
    },
    {
     "output_type": "stream",
     "name": "stderr",
     "text": [
      "\r 33%|███▎      | 328/1000 [04:06<06:57,  1.61it/s]"
     ]
    },
    {
     "output_type": "stream",
     "name": "stdout",
     "text": [
      "問題：円周率において、小数点以下762ケタから767ケタで、数字の「9」が連続して6個並ぶ部分のことを、アメリカの物理学者の名から何という?\n",
      "解答：ファインマン・ポイント\n",
      "\n",
      "問題：アルファベット2文字での表記は「FB」。ラグビーで、ディフェンスラインの最後尾に位置し、相手チームの攻撃に対する「最後の砦」となるポジションは何?\n",
      "解答：フルバック\n",
      "\n",
      "問題：1992年の映画『ボディガード』でヒロインを演じ、主題歌『オールウェイズ・ラヴ・ユー』を歌った女性歌手は誰?\n",
      "解答：ホイットニー・ヒューストン\n",
      "\n",
      "問題：東京メトロで、「虎ノ門」駅があるのは銀座線ですが、「桜田門」駅があるのは何線?\n",
      "解答：有楽町線\n",
      "\n"
     ]
    },
    {
     "output_type": "stream",
     "name": "stderr",
     "text": [
      "\r 33%|███▎      | 332/1000 [04:08<06:29,  1.71it/s]"
     ]
    },
    {
     "output_type": "stream",
     "name": "stdout",
     "text": [
      "問題：七福神の中で、唯一の日本の神様は何?\n",
      "解答：寿老人\n",
      "\n",
      "問題：貝を大きく2種類に分けると、二枚貝と何?\n",
      "解答：巻貝\n",
      "\n",
      "問題：頭を入れる部分が多いカウボーイハットの一種を10ガロンもの水が入るということから何という?\n",
      "解答：テンガロンハット\n",
      "\n",
      "問題：映画『麗しのサブリナ』や『ローマの休日』などに主演した往年の女優は誰?\n",
      "解答：オードリー・ヘプバーン\n",
      "\n"
     ]
    },
    {
     "output_type": "stream",
     "name": "stderr",
     "text": [
      "\r 34%|███▎      | 336/1000 [04:09<05:21,  2.07it/s]"
     ]
    },
    {
     "output_type": "stream",
     "name": "stdout",
     "text": [
      "問題：悪石島や宝島など12の島からなる、屋久島と奄美大島の間にある火山列島は何?\n",
      "解答：トカラ列島\n",
      "\n",
      "問題：自分で自分をほめることを、「自」という字を2回使った四字熟語で何という?\n",
      "解答：自画自賛\n",
      "\n",
      "問題：主人公ダルタニアンが、3人の剣士、アトス、アラミス、ポルトスとともに活躍する姿を描いたデュマの小説は何?\n",
      "解答：『三銃士』\n",
      "\n",
      "問題：野菜スティックやクラッカーなどにつけることが多いクリーム状のソースを、「浸す」という意味の英語で何という?\n",
      "解答：ディップ\n",
      "\n"
     ]
    },
    {
     "output_type": "stream",
     "name": "stderr",
     "text": [
      "\r 34%|███▍      | 340/1000 [04:11<04:41,  2.35it/s]"
     ]
    },
    {
     "output_type": "stream",
     "name": "stdout",
     "text": [
      "問題：日本の作家で、哲郎、朱門、綾子、しをんに共通する名字は何?\n",
      "解答：相田\n",
      "\n",
      "問題：『源氏物語』全54帖で唯一、前巻と後巻に分かれているのは何?\n",
      "解答：「幻」\n",
      "\n",
      "問題：長さ約1000キロメートルで国内最長、流域面積も国土の5分の1以上を占めるという、フランスの大河は何?\n",
      "解答：ロワール川\n",
      "\n",
      "問題：デパートの化粧品売り場で働く美容部員のことをアルファベット2文字で「BA」といいますが、これは何という言葉の略?\n",
      "解答：ビューティーアドバイザー\n",
      "\n"
     ]
    },
    {
     "output_type": "stream",
     "name": "stderr",
     "text": [
      "\r 34%|███▍      | 344/1000 [04:12<04:12,  2.60it/s]"
     ]
    },
    {
     "output_type": "stream",
     "name": "stdout",
     "text": [
      "問題：囲碁で、名人、棋聖、本因坊の三大タイトルを獲得することを何という?\n",
      "解答：大三冠\n",
      "\n",
      "問題：「新約聖書」の一節からタイトルをつけた、昭和30年代に起きた連続殺人事件を題材にした、佐木隆三の直木賞受賞作は何?\n",
      "解答：『新約聖書』\n",
      "\n",
      "問題：人間の心臓にある4つの部屋のうち、大動脈が流れ出ているのはどの部屋から?\n",
      "解答：左心室\n",
      "\n",
      "問題：和風建築で縁側などの前に置かれる、踏み台にしたり履物を置いたりする大きな石を何という?\n",
      "解答：役石\n",
      "\n"
     ]
    },
    {
     "output_type": "stream",
     "name": "stderr",
     "text": [
      "\r 35%|███▍      | 348/1000 [04:13<03:47,  2.87it/s]"
     ]
    },
    {
     "output_type": "stream",
     "name": "stdout",
     "text": [
      "問題：北はロシア、南は中国と国境を接している、首都をウランバートルに置く国はどこ?\n",
      "解答：モンゴル国\n",
      "\n",
      "問題：「すべての贈り物」という意味の名前を持つ、ギリシャ神話で人類最初の女性として登場する人物は誰?\n",
      "解答：パンドーラー\n",
      "\n",
      "問題：正式には「南町通り」という東京・青山にある通りで、通り沿いにアンティークショップが建ち並ぶことからつけられた愛称は何?\n",
      "解答：骨董通り\n",
      "\n",
      "問題：格闘技で、テコンドーが生まれた国は韓国ですが、カポエイラが生まれた国はどこ?\n",
      "解答：ブラジル\n",
      "\n"
     ]
    },
    {
     "output_type": "stream",
     "name": "stderr",
     "text": [
      "\r 35%|███▌      | 352/1000 [04:14<03:33,  3.04it/s]"
     ]
    },
    {
     "output_type": "stream",
     "name": "stdout",
     "text": [
      "問題：北海道西部に広がる、札幌市が位置している平野は何平野?\n",
      "解答：石狩平野\n",
      "\n",
      "問題：衆議院議員の被選挙権は満25歳以上ですが、参議院議員の被選挙権は満何歳以上?\n",
      "解答：30歳以上\n",
      "\n",
      "問題：「Be Prepared-備えよ常に」をモットーとする、1908年にロバート・ベーデン=パウエルによって設立された青少年団体は何?\n",
      "解答：ボーイスカウト\n",
      "\n",
      "問題：裁判の判決で、有罪による刑罰を言い渡した上で、一定期間、別の刑事事件を犯さなければ、その刑を科さないという制度を一般に何という?\n",
      "解答：執行猶予\n",
      "\n"
     ]
    },
    {
     "output_type": "stream",
     "name": "stderr",
     "text": [
      "\r 36%|███▌      | 356/1000 [04:15<03:33,  3.02it/s]"
     ]
    },
    {
     "output_type": "stream",
     "name": "stdout",
     "text": [
      "問題：「PV」と略される、スタジアムなどに大型スクリーンを設置し、大勢の観客がスポーツの試合などを見ることを何という?\n",
      "解答：パブリックビューイング\n",
      "\n",
      "問題：白色人種のことを「コーカソイド」といいますが、この由来となった、黒海とカスピ海に挟まれた地方といえば何地方?\n",
      "解答：コーカサス地方\n",
      "\n",
      "問題：代表作『真珠夫人』『恩讐の彼方に』『父帰る』で知られる作家は誰?\n",
      "解答：中島丈博\n",
      "\n",
      "問題：漫画『ドラえもん』に登場するキャラクター、のび太の名字は何?\n",
      "解答：野比\n",
      "\n"
     ]
    },
    {
     "output_type": "stream",
     "name": "stderr",
     "text": [
      "\r 36%|███▌      | 360/1000 [04:16<03:22,  3.16it/s]"
     ]
    },
    {
     "output_type": "stream",
     "name": "stdout",
     "text": [
      "問題：『論語』に由来する年齢を表す言葉で、「不惑」といえば40歳ですが、「従心」といえば何歳のこと?\n",
      "解答：22歳\n",
      "\n",
      "問題：アナログ時計にふと目を向けたとき、秒針が一瞬だけ止まって見えるという錯覚を何という?\n",
      "解答：ストロボ効果\n",
      "\n",
      "問題：国木田独歩の妻をモデルにした早月葉子を主人公とする、有島武郎の長編小説は何?\n",
      "解答：『破戒』\n",
      "\n",
      "問題：鉄道のスピードを調節する「マスコン」とは、何という言葉の略?\n",
      "解答：マスター・コントローラー\n",
      "\n"
     ]
    },
    {
     "output_type": "stream",
     "name": "stderr",
     "text": [
      "\r 36%|███▋      | 364/1000 [04:17<03:07,  3.40it/s]"
     ]
    },
    {
     "output_type": "stream",
     "name": "stdout",
     "text": [
      "問題：1914年に起きた、オーストリア皇太子夫妻がセルビア人の青年に暗殺され、第一次世界大戦のきっかけとなった事件を、発生した都市から何という?\n",
      "解答：サラエヴォ\n",
      "\n",
      "問題：熊本県が日本国内のおよそ9割と日本一の生産量を誇る、畳おもての材料となる植物は何?\n",
      "解答：イグサ\n",
      "\n",
      "問題：「けぎらい」「はなむけ」「かけひき」などの言葉の由来となった動物は何?\n",
      "解答：ヒクイナ\n",
      "\n",
      "問題：5つ存在する正多面体とは、正四面体、正六面体、正八面体、正十二面体と何?\n",
      "解答：正二十面体\n",
      "\n"
     ]
    },
    {
     "output_type": "stream",
     "name": "stderr",
     "text": [
      "\r 37%|███▋      | 368/1000 [04:19<03:07,  3.38it/s]"
     ]
    },
    {
     "output_type": "stream",
     "name": "stdout",
     "text": [
      "問題：中国三国時代の蜀の武将・馬良の顔の特徴に由来する、多くの中で最も優れた人やものを指す言葉は何?\n",
      "解答：白眉\n",
      "\n",
      "問題：石川県の奥能登で作られる、イカやイワシの内臓や頭、骨を塩漬けにして発酵させて作る魚醤を何という?\n",
      "解答：いしる\n",
      "\n",
      "問題：ヤード・ポンド法の長さの単位で、1ヤードは3フィートですが、さらにインチに換算すると何インチ?\n",
      "解答：1ヤードは36インチです。\n",
      "\n",
      "問題：走り高跳びの跳び方で、踏み切ったあとお腹を下にして、バーに覆いかぶさるようにして跳ぶことを何という?\n",
      "解答：ソ連式ベリーロール\n",
      "\n"
     ]
    },
    {
     "output_type": "stream",
     "name": "stderr",
     "text": [
      "\r 37%|███▋      | 372/1000 [04:20<03:33,  2.94it/s]"
     ]
    },
    {
     "output_type": "stream",
     "name": "stdout",
     "text": [
      "問題：スペイン国王フアン・カルロス1世の妃の名前がつけられた、ピカソの『ゲルニカ』などを所蔵する、マドリードの美術館は何?\n",
      "解答：ソフィア王妃芸術センター\n",
      "\n",
      "問題：「キーベッド」ともいう、地質学で、同一の噴火によるとみられる火山灰の層など、離れた地域の間で地層の同じ堆積を結びつける重要な層を何という?\n",
      "解答：キーベッド\n",
      "\n",
      "問題：日本の初代内閣総理大臣は伊藤博文ですが、アメリカの初代大統領は誰?\n",
      "解答：ジョージ・ワシントン\n",
      "\n",
      "問題：細長い長方形のテープを180度ねじり、両端を貼り合わせてできる、表と裏の区別がない図形のことをドイツの数学者の名から何の帯という?\n",
      "解答：メビウスの帯\n",
      "\n"
     ]
    },
    {
     "output_type": "stream",
     "name": "stderr",
     "text": [
      "\r 38%|███▊      | 376/1000 [04:22<03:41,  2.82it/s]"
     ]
    },
    {
     "output_type": "stream",
     "name": "stdout",
     "text": [
      "問題：童話『ピーターパン』で、ピーターパンがウェンディたちを連れていく子どもの国はどこ?\n",
      "解答：ネバーランド\n",
      "\n",
      "問題：食事をする際の箸使いのマナー違反で、ひとつの料理ばかりを食べ続けることを何箸という?\n",
      "解答：嫌い箸\n",
      "\n",
      "問題：京都府の市で、「鶴」という漢字がつくのは舞鶴市ですが、「亀」という漢字がつくのは何市?\n",
      "解答：亀岡市\n",
      "\n",
      "問題：夜回りを欠かさなかったことから「ランプの貴婦人」、野戦病院の改革から「クリミアの天使」などと呼ばれた、19世紀、近代看護の基礎を確立した女性は誰?\n",
      "解答：フローレンス・ナイチンゲール\n",
      "\n"
     ]
    },
    {
     "output_type": "stream",
     "name": "stderr",
     "text": [
      "\r 38%|███▊      | 380/1000 [04:23<03:44,  2.76it/s]"
     ]
    },
    {
     "output_type": "stream",
     "name": "stdout",
     "text": [
      "問題：神社で、参道や境内を囲むようにもうけられた森林のことを特に「何の森」という?\n",
      "解答：鎮守の森\n",
      "\n",
      "問題：夏目漱石の小説で、9月1日頃にある雑節がタイトルになっているのは何?\n",
      "解答：「二百十日」\n",
      "\n",
      "問題：アナログ時計の長針は60分で一周しますが、サウナに置かれているサウナタイマーの長針は何分で一周する?\n",
      "解答：サウナタイマーの長針は30分で一周する。\n",
      "\n",
      "問題：お箸の使い方のマナー違反で、箸の先から汁がポタポタ落ちてしまうことを何という?\n",
      "解答：箸落とし\n",
      "\n"
     ]
    },
    {
     "output_type": "stream",
     "name": "stderr",
     "text": [
      "\r 38%|███▊      | 384/1000 [04:25<04:05,  2.51it/s]"
     ]
    },
    {
     "output_type": "stream",
     "name": "stdout",
     "text": [
      "問題：「犯人は物語のはじめに登場していなければならない」など、推理小説を書く上で守るべき10項目のルールのことを、提唱したイギリスの作家の名から何という?\n",
      "解答：ノックス\n",
      "\n",
      "問題：他人のものの方がよく見えることの例えで、赤く見えるのは隣の花ですが、青く見えるのは隣の何?\n",
      "解答：青く見えるのは青いバラです。\n",
      "\n",
      "問題：ノーベル文学賞受賞者のタゴールが国歌の作詞を手掛けた国は、インドとどこ?\n",
      "解答：バングラデシュ\n",
      "\n",
      "問題：俗に「男は度胸、女は愛嬌」といいますが、それに続く言葉は何?\n",
      "解答：「男は度胸、女は愛嬌」という言葉には続きがありません。\n",
      "\n"
     ]
    },
    {
     "output_type": "stream",
     "name": "stderr",
     "text": [
      "\r 39%|███▉      | 388/1000 [04:27<04:04,  2.50it/s]"
     ]
    },
    {
     "output_type": "stream",
     "name": "stdout",
     "text": [
      "問題：1917年、ロシア革命で倒されるまで、300年余りも栄華を誇った、ロシアの王朝は何王朝?\n",
      "解答：ロマノフ王朝\n",
      "\n",
      "問題：サッカーFIFAワールドカップなどで行われる、全チームを複数の組に分け、各組でリーグ戦を行う形式を何という?\n",
      "解答：グループリーグ\n",
      "\n",
      "問題：ゴルフでロストボールのペナルティは、ボールを見失ってから何分経過したときに適用される?\n",
      "解答：5分\n",
      "\n",
      "問題：「Mehr Licht!」という言葉を残してこの世を去ったといわれるドイツの作家は誰?\n",
      "解答：ヨハン・ヴォルフガング・フォン・ゲーテ\n",
      "\n"
     ]
    },
    {
     "output_type": "stream",
     "name": "stderr",
     "text": [
      "\r 39%|███▉      | 392/1000 [04:28<03:38,  2.79it/s]"
     ]
    },
    {
     "output_type": "stream",
     "name": "stdout",
     "text": [
      "問題：古生代の区分で、デボン紀の「デボン」はイギリスの地名に由来しますが、ペルム紀の「ペルム」はどこの国の地名に由来する?\n",
      "解答：ロシア\n",
      "\n",
      "問題：日本の旧国名で、「雲の州」と書く「雲州」は「出雲」ですが、「石の州」と書く「石州」は何という国?\n",
      "解答：中国\n",
      "\n",
      "問題：童謡『お山の杉の子』で、杉の子に「これこれ杉の子おきなさい」と声をかけたのは何?\n",
      "解答：お母さん\n",
      "\n",
      "問題：ファッション用語で、男性向けのものを「オム」というのに対し、女性向けのものを何という?\n",
      "解答：ファム\n",
      "\n"
     ]
    },
    {
     "output_type": "stream",
     "name": "stderr",
     "text": [
      "\r 40%|███▉      | 396/1000 [04:29<03:21,  3.00it/s]"
     ]
    },
    {
     "output_type": "stream",
     "name": "stdout",
     "text": [
      "問題：誕生した1930年に発見された星にちなんで名前がつけられた、ミッキーマウスのペットである犬の名前は何?\n",
      "解答：プルート\n",
      "\n",
      "問題：「万物の根源は火である」と唱えた、「万物流転説」などでも知られる古代ギリシャの哲学者は誰?\n",
      "解答：ヘラクレイトス\n",
      "\n",
      "問題：「アルキメデスの数」や「ルドルフの数」とも呼ばれる、記号「π」で表される数字といえば何率?\n",
      "解答：円周率\n",
      "\n",
      "問題：ベートーベンの、交響曲第5番の別名は『運命』ですが、ピアノ協奏曲第5番の別名は何?\n",
      "解答：皇帝\n",
      "\n"
     ]
    },
    {
     "output_type": "stream",
     "name": "stderr",
     "text": [
      "\r 40%|████      | 400/1000 [04:30<03:19,  3.01it/s]"
     ]
    },
    {
     "output_type": "stream",
     "name": "stdout",
     "text": [
      "問題：衣服の中でも襟と袖は特に目立つことから、ある集団において中心となる重要人物のことを何という?\n",
      "解答：襟袖\n",
      "\n",
      "問題：中国・明の時代に使われ始めたことから名づけられた、新聞や書籍によく使われる、縦線が太く横線が細い書体は何?\n",
      "解答：ゴシック体\n",
      "\n",
      "問題：「司会者」を指す「MC」は何という言葉の略?\n",
      "解答：マスター・オブ・セレモニー\n",
      "\n",
      "問題：琵琶湖から流れ出る唯一の河川である瀬田川は、京都府内に入るときには何という川に名前を変える?\n",
      "解答：宇治川\n",
      "\n"
     ]
    },
    {
     "output_type": "stream",
     "name": "stderr",
     "text": [
      "\r 40%|████      | 404/1000 [04:33<04:11,  2.37it/s]"
     ]
    },
    {
     "output_type": "stream",
     "name": "stdout",
     "text": [
      "問題：「庭の山椒の木鳴る鈴かけて」という歌い出しで始まる、源氏の那須大八郎と平氏の鶴富姫の悲恋を歌った宮崎県民謡は何?\n",
      "解答：ひえつき節\n",
      "\n",
      "問題：マンガで、ショックを受けたときの「ガーン!」という表現が初めて登場したとされる、川崎のぼるの作品は何?\n",
      "解答：『いなかっぺ大将』\n",
      "\n",
      "問題：サッカーのコートで、短いほうの辺はゴールラインですが、長いほうの辺は何という?\n",
      "解答：サッカーのコートで、短いほうの辺はゴールラインですが、長いほうの辺はサイドラインと呼ばれます。\n",
      "\n",
      "問題：「ケッペンの気候区分」で、「BS」で表されるのはステップ気候ですが、「BW」で表されるのは何?\n",
      "解答：砂漠気候\n",
      "\n"
     ]
    },
    {
     "output_type": "stream",
     "name": "stderr",
     "text": [
      "\r 41%|████      | 408/1000 [04:34<03:59,  2.48it/s]"
     ]
    },
    {
     "output_type": "stream",
     "name": "stdout",
     "text": [
      "問題：「混ぜ合わせる」という意味の沖縄料理で、ニガウリを入れたゴーヤのものが特に有名なのは何?\n",
      "解答：ゴーヤーチャンプルー\n",
      "\n",
      "問題：卒業式で、在校生代表が卒業生に向ける別れの言葉を「送辞」というのに対し、卒業生代表から在校生に向ける言葉を何という?\n",
      "解答：答辞\n",
      "\n",
      "問題：1336年に起こった足利尊氏・足利直義が、新田義貞・楠木正成軍を破った戦いで、敗れた楠木正成が自害したことで知られるのは何?\n",
      "解答：湊川の戦い\n",
      "\n",
      "問題：肉料理の匂い消しやピザのトッピングとして使われる、和名を「ハナハッカ」というシソ科の植物は何?\n",
      "解答：オレガノ\n",
      "\n"
     ]
    },
    {
     "output_type": "stream",
     "name": "stderr",
     "text": [
      "\r 41%|████      | 412/1000 [04:35<03:30,  2.79it/s]"
     ]
    },
    {
     "output_type": "stream",
     "name": "stdout",
     "text": [
      "問題：「朝三暮四」という言葉の由来となった故事で、中国・宋の猿回しが猿に与えたのは何の実?\n",
      "解答：木の実\n",
      "\n",
      "問題：古代中国の官吏登用試験・科挙で、最も優秀な答案を一番上に乗せたことに由来する、全体の中で最も優れたものを表す言葉は何?\n",
      "解答：圧巻\n",
      "\n",
      "問題：年間120万円までの投資から得られる譲渡益や配当が5年間非課税となる「少額投資非課税制度」のことを、アルファベット4文字の略称で何という?\n",
      "解答：NISA\n",
      "\n",
      "問題：ローマのテルミニ駅をモデルにして建てられ、1988年に駅舎として初めて国の重要文化財に指定された、福岡県にあるJRの駅はどこ?\n",
      "解答：博多駅\n",
      "\n"
     ]
    },
    {
     "output_type": "stream",
     "name": "stderr",
     "text": [
      "\r 42%|████▏     | 416/1000 [04:37<03:17,  2.95it/s]"
     ]
    },
    {
     "output_type": "stream",
     "name": "stdout",
     "text": [
      "問題：ナミ、ゾロ、サンジ、チョッパー、ルフィなどが登場する、尾田栄一郎の漫画は何?\n",
      "解答：ONE PIECE\n",
      "\n",
      "問題：狭心症の薬としても使われる、ダイナマイトの原料となる有機化合物は何?\n",
      "解答：ニトログリセリン\n",
      "\n",
      "問題：ギリシャ神話の神々に仕えるトロイアの美少年にちなんで名づけられた、太陽系最大の衛星である木星の第3衛星は何?\n",
      "解答：ガニメデ\n",
      "\n",
      "問題：ペットボトルの「ペット」は何というプラスチック素材のこと?\n",
      "解答：ポリエチレンテレフタラート\n",
      "\n"
     ]
    },
    {
     "output_type": "stream",
     "name": "stderr",
     "text": [
      "\r 42%|████▏     | 420/1000 [04:38<03:16,  2.96it/s]"
     ]
    },
    {
     "output_type": "stream",
     "name": "stdout",
     "text": [
      "問題：繊細で華やかな絵付けを特徴とする、17世紀に李参平によって創始された佐賀県の焼物は何?\n",
      "解答：伊万里焼\n",
      "\n",
      "問題：『シャル・ウィ・ダンス』などの劇中曲で有名な、タイの国王と教育係のアンナとの交流を描いたミュージカルは何?\n",
      "解答：王様と私\n",
      "\n",
      "問題：1789年6月20日、フランスで第三身分の人々が憲法制定まで議会を解散しないと誓った出来事を、行われた場所から「何の誓い」という?\n",
      "解答：球戯場の誓い\n",
      "\n",
      "問題：物事の状態に変化がなく、ほとんど動きがなくなることを、「膠」という漢字を使って「何状態」という?\n",
      "解答：凝状態\n",
      "\n"
     ]
    },
    {
     "output_type": "stream",
     "name": "stderr",
     "text": [
      "\r 42%|████▏     | 424/1000 [04:39<03:17,  2.91it/s]"
     ]
    },
    {
     "output_type": "stream",
     "name": "stdout",
     "text": [
      "問題：高速道路の「電子式料金自動収受システム」のことをアルファベット3文字で何という?\n",
      "解答：ETC\n",
      "\n",
      "問題：悔しがったり怒ったりして、激しく地面を踏むことを、大型のふいごを足で踏んで風を送るときの動作になぞらえて「何を踏む」という?\n",
      "解答：大型のふいごを踏む\n",
      "\n",
      "問題：仏教で、「人が生まれ、死んだあと、また再び生まれ変わる」という考え方を、四字熟語で「何転生」という?\n",
      "解答：輪廻転生\n",
      "\n",
      "問題：甲子園球場にある、アルプススタンド以外の内野席全体を覆う屋根のことを俗に何という?\n",
      "解答：銀傘\n",
      "\n"
     ]
    },
    {
     "output_type": "stream",
     "name": "stderr",
     "text": [
      "\r 43%|████▎     | 428/1000 [04:40<03:04,  3.10it/s]"
     ]
    },
    {
     "output_type": "stream",
     "name": "stdout",
     "text": [
      "問題：中国で隋の時代に始まり、清の時代まで続いた、官吏の登用試験を何という?\n",
      "解答：科挙\n",
      "\n",
      "問題：1月の英語名「January」の由来となっている、ローマ神話の扉や出入り口の守護神は何?\n",
      "解答：ヤーヌス\n",
      "\n",
      "問題：昆虫が、卵からかえることを「孵化」といいますが、幼虫がさなぎになることを何という?\n",
      "解答：蛹化\n",
      "\n",
      "問題：『小倉百人一首』に収められている紫式部と清少納言の和歌に共通して使われている漢字は何?\n",
      "解答：恋\n",
      "\n"
     ]
    },
    {
     "output_type": "stream",
     "name": "stderr",
     "text": [
      "\r 43%|████▎     | 432/1000 [04:42<03:23,  2.79it/s]"
     ]
    },
    {
     "output_type": "stream",
     "name": "stdout",
     "text": [
      "問題：ラーメンの麺を湯切りするときに使う、持ち手がついた筒型のザルを何という?\n",
      "解答：平ザル\n",
      "\n",
      "問題：日本気象協会が発表する、木綿のシャツが一定の時間でどれだけ乾くかという実験データから算出する数値を「何指数」という?\n",
      "解答：乾燥指数\n",
      "\n",
      "問題：深田久弥の著書『日本百名山』に登場する山のうち、標高877メートルと最も低い山は何?\n",
      "解答：標高877メートルと最も低い山は「ニペソツ山」です。\n",
      "\n",
      "問題：歌舞伎や浄瑠璃の最も重要な見せ場に由来する、ここぞという大切な局面を指す言葉は何?\n",
      "解答：クライマックス\n",
      "\n"
     ]
    },
    {
     "output_type": "stream",
     "name": "stderr",
     "text": [
      "\r 44%|████▎     | 436/1000 [04:43<03:10,  2.97it/s]"
     ]
    },
    {
     "output_type": "stream",
     "name": "stdout",
     "text": [
      "問題：「金字塔を打ちたてる」という時の「金字塔」は、もともと、どんな建造物のこと?\n",
      "解答：ピラミッド\n",
      "\n",
      "問題：英語で「道化師」という意味がある、トランプで基本のセット52枚以外に1枚加えられるカードを何という?\n",
      "解答：ジョーカー\n",
      "\n",
      "問題：池田理代子の漫画のヒロインとしても描かれたロシア・ロマノフ朝の第8代皇帝で、ポーランド分割や新法典の編纂などの政策で知られるのは誰?\n",
      "解答：エカチェリーナ2世\n",
      "\n",
      "問題：『初恋』『父と子』『猟人日記』などの作品を残したロシアの作家は誰?\n",
      "解答：イワン・ツルゲーネフ\n",
      "\n"
     ]
    },
    {
     "output_type": "stream",
     "name": "stderr",
     "text": [
      "\r 44%|████▍     | 440/1000 [04:44<02:57,  3.15it/s]"
     ]
    },
    {
     "output_type": "stream",
     "name": "stdout",
     "text": [
      "問題：金融機関で、貸出額が預金額を上回った状態を、英語で何という?\n",
      "解答：オーバーレンディング\n",
      "\n",
      "問題：ダーツで一番オーソドックスなルールであるゲームで、1ラウンド3回で8ラウンドの計24回投げて合計得点を競うものは何?\n",
      "解答：301\n",
      "\n",
      "問題：本来は、ブドウの当たり年に作られたワインのことで、ジーンズやアロハシャツなど、質の高い年代物のファッションアイテムを指すようにもなった言葉といえば何?\n",
      "解答：ヴィンテージ\n",
      "\n",
      "問題：岩手県盛岡市の名物で「盛岡三大麺」と呼ばれるのは、盛岡冷麺、盛岡じゃじゃ麺と何?\n",
      "解答：わんこそば\n",
      "\n"
     ]
    },
    {
     "output_type": "stream",
     "name": "stderr",
     "text": [
      "\r 44%|████▍     | 444/1000 [04:46<03:23,  2.73it/s]"
     ]
    },
    {
     "output_type": "stream",
     "name": "stdout",
     "text": [
      "問題：シカの骨を焼いてその割れ方で吉凶を占う、古代日本で行われていた占いは何?\n",
      "解答：鹿卜(かぼく)または鹿占(しかうら)\n",
      "\n",
      "問題：xy平面において、xとyがともにプラスなのは「第1象限」ですが、xとyがともにマイナスなのは第何象限?\n",
      "解答：第3象限\n",
      "\n",
      "問題：正式名を乾坤山という千葉県にある標高329.4mの山で、稜線がギザギザしていることからつけられた一般的な名称は何?\n",
      "解答：鋸山\n",
      "\n",
      "問題：タリム川の流れが移動することにより湖の位置も変わることから「さまよえる湖」とも呼ばれる、中国ウイグル自治区にある湖は何?\n",
      "解答：ロプノール\n",
      "\n"
     ]
    },
    {
     "output_type": "stream",
     "name": "stderr",
     "text": [
      "\r 45%|████▍     | 448/1000 [04:47<03:09,  2.91it/s]"
     ]
    },
    {
     "output_type": "stream",
     "name": "stdout",
     "text": [
      "問題：1615年の大坂夏の陣で豊臣氏が滅亡し平和な時代が訪れたことを、その時の元号を使った四字熟語で何という?\n",
      "解答：元和偃武\n",
      "\n",
      "問題：現在は「故宮博物院」になっている、中国・北京にある明王朝、清王朝の王宮といえば何?\n",
      "解答：紫禁城\n",
      "\n",
      "問題：ライブやコンサートの曲順のことを「セトリ」などといいますが、これは何という言葉の略?\n",
      "解答：セットリスト\n",
      "\n",
      "問題：イタリア語で「美しい歌」という意味がある、18世紀に成立した滑らかで柔らかな声を響かせる歌唱法は何?\n",
      "解答：ベルカント\n",
      "\n"
     ]
    },
    {
     "output_type": "stream",
     "name": "stderr",
     "text": [
      "\r 45%|████▌     | 452/1000 [04:49<02:55,  3.13it/s]"
     ]
    },
    {
     "output_type": "stream",
     "name": "stdout",
     "text": [
      "問題：キャンディのチュッパチャプスのロゴデザインを手掛けた有名な画家は誰?\n",
      "解答：サルバドール・ダリ\n",
      "\n",
      "問題：コンドルやハチドリなどさまざまな動物や幾何学図形が描かれている、ペルー南部の盆地に残る模様を「何の地上絵」という?\n",
      "解答：ナスカの地上絵\n",
      "\n",
      "問題：山の頂上で太陽に背中を向けた時、前方の雲や霧に自分の影が映り、その周りに光の輪が現れる現象を何という?\n",
      "解答：ブロッケン現象\n",
      "\n",
      "問題：競馬の騎手が着るカラフルなユニフォームのことを何という?\n",
      "解答：勝負服\n",
      "\n"
     ]
    },
    {
     "output_type": "stream",
     "name": "stderr",
     "text": [
      "\r 46%|████▌     | 456/1000 [04:50<02:44,  3.31it/s]"
     ]
    },
    {
     "output_type": "stream",
     "name": "stdout",
     "text": [
      "問題：西ガーツ山脈と東ガーツ山脈に挟まれた、綿花の世界的産地として有名なインド半島の高原地帯は何?\n",
      "解答：デカン高原\n",
      "\n",
      "問題：フェンシングで、「一歩前へ」を指示する言葉は「マルシェ」ですが、「一歩後ろへ」を指示する言葉は何?\n",
      "解答：ロンペ\n",
      "\n",
      "問題：嫁ヶ島という島が湖の中に浮かぶ、島根県の湖は何?\n",
      "解答：宍道湖\n",
      "\n",
      "問題：写真の「アルバム」は、もともとどんな色を表す言葉?\n",
      "解答：黒い\n",
      "\n"
     ]
    },
    {
     "output_type": "stream",
     "name": "stderr",
     "text": [
      "\r 46%|████▌     | 460/1000 [04:51<02:42,  3.33it/s]"
     ]
    },
    {
     "output_type": "stream",
     "name": "stdout",
     "text": [
      "問題：スマホで使われる用語で、「アプリ」といえば「アプリケーション」の略ですが、「アプデ」といえば何の略?\n",
      "解答：「アップデート」の略です。\n",
      "\n",
      "問題：中国とベトナム、台湾などが領土を主張する諸島で、「南沙諸島」と呼ばれるのはスプラトリー諸島ですが、「西沙諸島」と呼ばれるのは何諸島?\n",
      "解答：パラセル諸島\n",
      "\n",
      "問題：小乗仏教を採用し多くの寺院を造営したことから「建寺王朝」の異称がある、1044年アノータヤーが建国したビルマ最初の王朝は何?\n",
      "解答：パガン王朝\n",
      "\n",
      "問題：「十月のその土曜日、長く続いた雨があがった」という書き出しで始まる、江戸川乱歩賞と直木賞をダブル受賞した藤原伊織の小説は何?\n",
      "解答：「てのひらの闇」\n",
      "\n"
     ]
    },
    {
     "output_type": "stream",
     "name": "stderr",
     "text": [
      "\r 46%|████▋     | 464/1000 [04:52<02:36,  3.42it/s]"
     ]
    },
    {
     "output_type": "stream",
     "name": "stdout",
     "text": [
      "問題：アレキサンダー大王の家庭教師を務めていた経験を持つ、「万学の祖」とも呼ばれる古代ギリシャの哲学者は誰?\n",
      "解答：アリストテレス\n",
      "\n",
      "問題：「寛政の三奇人」と呼ばれた江戸時代の3人の人物といえば、蒲生君平、高山彦九郎と誰?\n",
      "解答：林子平\n",
      "\n",
      "問題：モール型とホフマン型の2種類に大別される、化学実験でゴム管をはさんで締めつけ,液体が管を流れるのを止める金具を何という?\n",
      "解答：ピンセット\n",
      "\n",
      "問題：テニスや卓球でボールを打つ道具はラケットですが、羽根つきで羽根をつくのに用いる木の板を何という?\n",
      "解答：羽子板\n",
      "\n"
     ]
    },
    {
     "output_type": "stream",
     "name": "stderr",
     "text": [
      "\r 47%|████▋     | 468/1000 [04:53<02:28,  3.57it/s]"
     ]
    },
    {
     "output_type": "stream",
     "name": "stdout",
     "text": [
      "問題：北海道で5月の下旬頃、夕方になると急に冷え込みが増す現象を、ある花の名を用いて何という?\n",
      "解答：五九豪雪\n",
      "\n",
      "問題：京都を舞台にした小説『五番町夕霧楼』や『雁の寺』を書いた作家は誰?\n",
      "解答：水上勉\n",
      "\n",
      "問題：美しい町並みから「東の軽井沢、西のココ」と並び称される、夏の映画祭でも親しまれる大分県の温泉地はどこ?\n",
      "解答：湯布院\n",
      "\n",
      "問題：ガブリエル・ガルシア=マルケスの小説『百年の孤独』の舞台となった町の名前は何?\n",
      "解答：アラカタカ\n",
      "\n"
     ]
    },
    {
     "output_type": "stream",
     "name": "stderr",
     "text": [
      "\r 47%|████▋     | 472/1000 [04:54<02:36,  3.36it/s]"
     ]
    },
    {
     "output_type": "stream",
     "name": "stdout",
     "text": [
      "問題：ハイチ、カメルーン、カナダ、モナコで共通して公用語として定められている言語は何語?\n",
      "解答：フランス語\n",
      "\n",
      "問題：病院の「集中治療室」のことを、アルファベット3文字で何という?\n",
      "解答：ICU\n",
      "\n",
      "問題：オペラ『サムソンとデリラ』や組曲『動物の謝肉祭』で知られる、フランスの作曲家は誰?\n",
      "解答：カミーユ・サン=サーンス\n",
      "\n",
      "問題：1802年から1945年までフエを首都として栄えた、ベトナム最後の王朝は何?\n",
      "解答：阮朝\n",
      "\n"
     ]
    },
    {
     "output_type": "stream",
     "name": "stderr",
     "text": [
      "\r 48%|████▊     | 476/1000 [04:56<02:44,  3.18it/s]"
     ]
    },
    {
     "output_type": "stream",
     "name": "stdout",
     "text": [
      "問題：図々しい様子、こっそり逃げ出すこと、相撲で勝ち負けを繰り返すこと。これらに共通する言葉は何?\n",
      "解答：スカす\n",
      "\n",
      "問題：ハヌマーン、ガネーシャ、インドラといえば、何という宗教の神様?\n",
      "解答：ヒンドゥー教\n",
      "\n",
      "問題：日本肥満学会が定める内臓脂肪型肥満の基準とされるウエスト周りは、男性は85センチ以上ですが、女性は何センチ以上とされている?\n",
      "解答：女性は90センチ以上とされています。\n",
      "\n",
      "問題：中国の歴代王朝が北方民族の侵入を防ぐために建造した、全長2万km以上にもおよぶ世界遺産の城壁は何?\n",
      "解答：万里の長城\n",
      "\n"
     ]
    },
    {
     "output_type": "stream",
     "name": "stderr",
     "text": [
      "\r 48%|████▊     | 480/1000 [04:57<02:50,  3.06it/s]"
     ]
    },
    {
     "output_type": "stream",
     "name": "stdout",
     "text": [
      "問題：数学において、小文字では標準偏差を、大文字では数列の和を表すギリシャ文字は何?\n",
      "解答：小文字では「σ」、大文字では「Σ」。\n",
      "\n",
      "問題：コンスタンティノープルの征服など数々の遠征を行ったことから「征服王」と呼ばれた、オスマン帝国の皇帝は誰?\n",
      "解答：メフメト2世\n",
      "\n",
      "問題：病院などでX線写真を見るときに使われる、内側に蛍光灯を備え付けたディスプレイ機器を何という?\n",
      "解答：シャウカステン\n",
      "\n",
      "問題：占いで使われる筮竹は、普通何本で1セット?\n",
      "解答：50本\n",
      "\n"
     ]
    },
    {
     "output_type": "stream",
     "name": "stderr",
     "text": [
      "\r 48%|████▊     | 484/1000 [04:58<02:46,  3.09it/s]"
     ]
    },
    {
     "output_type": "stream",
     "name": "stdout",
     "text": [
      "問題：京都大学が主張する「畿内説」、東京大学が主張する「九州説」といえば、何という古代国家に関する論争?\n",
      "解答：邪馬台国\n",
      "\n",
      "問題：煮物料理などで、材料に味をよくしみこませるために使う、鍋よりもひと回り小さい蓋は何?\n",
      "解答：落とし蓋\n",
      "\n",
      "問題：「日曜日」という意味のオランダ語から名づけられた、毎年5月に福岡市で行われるお祭りは何?\n",
      "解答：博多どんたく\n",
      "\n",
      "問題：海外で上演される際は「JUST A MOMENT」と訳される、主人公・鎌倉権五郎の掛け声から名付けられた歌舞伎十八番の演目は何?\n",
      "解答：「暫」\n",
      "\n"
     ]
    },
    {
     "output_type": "stream",
     "name": "stderr",
     "text": [
      "\r 49%|████▉     | 488/1000 [04:59<02:41,  3.18it/s]"
     ]
    },
    {
     "output_type": "stream",
     "name": "stdout",
     "text": [
      "問題：アニメ『NARUTO疾風伝』に登場する主人公・うずまきナルトが思いを寄せる、チームメイトのくノ一の名前は何?\n",
      "解答：春野サクラ\n",
      "\n",
      "問題：メロヴィング朝、カロリング朝という王朝によって統治された、現在のドイツ、フランス、イタリアのもととなった王国は何?\n",
      "解答：フランク王国\n",
      "\n",
      "問題：江戸幕府将軍・徳川綱吉の子・徳松のお祝いが行われた日にちなんで、毎年11月15日に行われる、3歳、5歳、7歳の子どもの成長を祝う年中行事は何?\n",
      "解答：七五三\n",
      "\n",
      "問題：ラテン語で「冠」という意味の、太陽の大気のもっとも外側の部分を何という?\n",
      "解答：コロナ\n",
      "\n"
     ]
    },
    {
     "output_type": "stream",
     "name": "stderr",
     "text": [
      "\r 49%|████▉     | 492/1000 [05:01<02:47,  3.03it/s]"
     ]
    },
    {
     "output_type": "stream",
     "name": "stdout",
     "text": [
      "問題：九州の有明海や八代海で夜、大潮の干潮時に見られることがある、漁火の異常屈折現象のことを何という?\n",
      "解答：不知火\n",
      "\n",
      "問題：慣用句「百も承知」に続く言葉。「二百も何」?\n",
      "解答：承知\n",
      "\n",
      "問題：日本のヒット曲に多く用いられている、C、G、Am、Em、F、C、F、Gと続くコード進行のことを、元になったパッヘルベルのクラシック曲にちなんで何進行という?\n",
      "解答：パッヘルベル進行\n",
      "\n",
      "問題：狩猟で仕留めた動物の頭部などを、インテリアとして部屋の壁に飾るために剥製にしたものを何という?\n",
      "解答：トロフィー\n",
      "\n"
     ]
    },
    {
     "output_type": "stream",
     "name": "stderr",
     "text": [
      "\r 50%|████▉     | 496/1000 [05:02<02:36,  3.23it/s]"
     ]
    },
    {
     "output_type": "stream",
     "name": "stdout",
     "text": [
      "問題：日本国憲法で、「すべて国民は、健康で文化的な最低限度の生活を営む権利を有する。」という、いわゆる生存権を規定しているのは第何条?\n",
      "解答：第25条\n",
      "\n",
      "問題：趣味として行う大工のことを、ある曜日を使って何大工という?\n",
      "解答：日曜大工\n",
      "\n",
      "問題：大分県にある景勝地「青の洞門」の逸話をもとにして書かれた、了海を主人公とする菊池寛の小説は何?\n",
      "解答：恩讐の彼方に\n",
      "\n",
      "問題：再生能力が高いことから理科の実験材料によく用いられる、三角形の頭と細長い体が特徴的な扁形動物は何?\n",
      "解答：プラナリア\n",
      "\n"
     ]
    },
    {
     "output_type": "stream",
     "name": "stderr",
     "text": [
      "\r 50%|█████     | 500/1000 [05:03<02:41,  3.10it/s]"
     ]
    },
    {
     "output_type": "stream",
     "name": "stdout",
     "text": [
      "問題：トランプを大きさから2種類に分けるとポーカーサイズと、日本で普及している何サイズ?\n",
      "解答：ブリッジサイズ\n",
      "\n",
      "問題：スキーのジャンプ競技で、踏み切り台の先端から、安全に着地できる地点までの距離のことを何という?\n",
      "解答：K点\n",
      "\n",
      "問題：天文学で、英語で「グロービュラー・クラスター」といえば「球状星団」のことですが、「オープン・クラスター」といえば何星団のこと?\n",
      "解答：散開星団\n",
      "\n",
      "問題：日本の国会議員で、衆議院議員の任期は4年ですが、参議院議員の任期は何年?\n",
      "解答：参議院議員の任期は6年です。\n",
      "\n"
     ]
    },
    {
     "output_type": "stream",
     "name": "stderr",
     "text": [
      "\r 50%|█████     | 504/1000 [05:05<02:35,  3.20it/s]"
     ]
    },
    {
     "output_type": "stream",
     "name": "stdout",
     "text": [
      "問題：仏教遺跡の「アンコール・ワット」とともにカンボジアの二大世界遺産といわれる、ジャヤーヴァルマン7世によって建設された城砦都市遺跡は何?\n",
      "解答：アンコール・トム\n",
      "\n",
      "問題：映画『インディ・ジョーンズ』シリーズや『ジュラシック・パーク』シリーズを手がけた映画監督は誰?\n",
      "解答：スティーヴン・スピルバーグ\n",
      "\n",
      "問題：カタカナの「タ」と「ト」を組み合わせてできる漢字が「外」なら、「タ」と「ロ」を組み合わせてできる漢字は何?\n",
      "解答：鳥\n",
      "\n",
      "問題：英語では「International Court of Justice」という、オランダのハーグに本部を置く、国際紛争を法律的に解決する機関は何?\n",
      "解答：International Court of Justice\n",
      "\n",
      "エラーを受け取りました：The server is overloaded or not ready yet.\n",
      "10秒待機します\n"
     ]
    },
    {
     "output_type": "stream",
     "name": "stderr",
     "text": [
      "\r 51%|█████     | 508/1000 [05:46<27:03,  3.30s/it]"
     ]
    },
    {
     "output_type": "stream",
     "name": "stdout",
     "text": [
      "問題：渋沢栄一の出身地であり、渋沢栄一記念館がある埼玉県の都市はどこ?\n",
      "解答：深谷市\n",
      "\n",
      "問題：アンデルセン童話『親指姫』で、親指姫の名前は何?\n",
      "解答：親指姫\n",
      "\n",
      "問題：「九つの村がある谷」という意味の名前を持つ、原生林に点在する100以上の湖沼が美しい絶景を作り出すことで知られる中国四川省の峡谷は何?\n",
      "解答：九寨沟\n",
      "\n",
      "問題：日本語では「乳塩基性タンパク質」と呼ばれる、牛乳や母乳に含まれるタンパク質をアルファベット3文字で何という?\n",
      "解答：カゼイン\n",
      "\n"
     ]
    },
    {
     "output_type": "stream",
     "name": "stderr",
     "text": [
      "\r 51%|█████     | 512/1000 [05:47<19:44,  2.43s/it]"
     ]
    },
    {
     "output_type": "stream",
     "name": "stdout",
     "text": [
      "問題：日本で最も長い川は信濃川ですが、世界で最も長い川は何?\n",
      "解答：ナイル川\n",
      "\n",
      "問題：元号にちなんで「昭和塔」という名称も候補にあった、昭和の高度経済成長の象徴として親しまれたランドマークは何?\n",
      "解答：東京タワー\n",
      "\n",
      "問題：日本語の活用で、文語文法の已然形にあたるものを、口語文法では何という?\n",
      "解答：仮定形\n",
      "\n",
      "問題：漢字の「凹」「凸」の画数はともに何画?\n",
      "解答：「凹」は「5画」、「凸」も「5画」です。\n",
      "\n"
     ]
    },
    {
     "output_type": "stream",
     "name": "stderr",
     "text": [
      "\r 52%|█████▏    | 516/1000 [05:48<14:24,  1.79s/it]"
     ]
    },
    {
     "output_type": "stream",
     "name": "stdout",
     "text": [
      "問題：汗を分泌する汗腺で、大汗腺と呼ばれるのはエクリン腺ですが、小汗腺と呼ばれるのは何腺?\n",
      "解答：アポクリン腺\n",
      "\n",
      "問題：アニメ映画『となりのトトロ』のラストで、サツキとメイが入院中のお母さんに届けた野菜は何?\n",
      "解答：トウモロコシ\n",
      "\n",
      "問題：「2つの銀河の間の距離が離れているほど、互いが離れていく速度も比例する」という法則を、提唱したアメリカとベルギーの2人の天文学者の名前から何の法則という?\n",
      "解答：ハッブルの法則\n",
      "\n",
      "問題：山型の歯車を重ねた「ダブル・シェブロン」というエンブレムでおなじみのフランスの自動車メーカーはどこ?\n",
      "解答：シトロエン\n",
      "\n"
     ]
    },
    {
     "output_type": "stream",
     "name": "stderr",
     "text": [
      "\r 52%|█████▏    | 520/1000 [05:50<10:50,  1.35s/it]"
     ]
    },
    {
     "output_type": "stream",
     "name": "stdout",
     "text": [
      "問題：日本の元号に使われた漢字で生き物を表すものは3つあります。「亀」「鳥」と何?\n",
      "解答：「鳳凰」\n",
      "\n",
      "問題：ジャガイモの裏ごしを入れて作る冷たいスープを、フランスの都市の名を取って何という?\n",
      "解答：ヴィシソワーズ\n",
      "\n",
      "問題：1867年、クリミア戦争による財政難にあったロシアが720万ドルでアメリカに売却し、後にアメリカの49番目の州となった土地はどこ?\n",
      "解答：アラスカ\n",
      "\n",
      "問題：冬から春にかけて、フランスのローヌ川から地中海の北西沿岸にかけて吹き降りる冷たい北風を何という?\n",
      "解答：ミストラル\n",
      "\n"
     ]
    },
    {
     "output_type": "stream",
     "name": "stderr",
     "text": [
      "\r 52%|█████▏    | 524/1000 [05:51<08:21,  1.05s/it]"
     ]
    },
    {
     "output_type": "stream",
     "name": "stdout",
     "text": [
      "問題：ボクシングやラグビーの選手が頭や耳を保護するために着用する防具のことを何という?\n",
      "解答：ヘッドギア\n",
      "\n",
      "問題：イングリッシュマフィンの上にハムやポーチドエッグをのせ、オランデーズソースをかけた料理を何という?\n",
      "解答：エッグベネディクト\n",
      "\n",
      "問題：暦の上では「暑さが峠を越えてひと段落する頃」という、8月23日ごろにある二十四節気のひとつは何?\n",
      "解答：処暑\n",
      "\n",
      "問題：バチカン市国で国歌として歌われている『賛歌と教皇の行進曲』の作曲をしたフランスの作曲家は誰?\n",
      "解答：シャルル・グノー\n",
      "\n"
     ]
    },
    {
     "output_type": "stream",
     "name": "stderr",
     "text": [
      "\r 53%|█████▎    | 528/1000 [05:53<07:03,  1.11it/s]"
     ]
    },
    {
     "output_type": "stream",
     "name": "stdout",
     "text": [
      "問題：無用な発言をしなければ災いを招かずにすむという意味のことわざを、「何も鳴かずば撃たれまい」という?\n",
      "解答：雉も鳴かずば撃たれまい\n",
      "\n",
      "問題：ラテン語で「女神」という意味がある、オペラのプリマドンナなどの「歌姫」を指す言葉は何?\n",
      "解答：ディーヴァ\n",
      "\n",
      "問題：小説『ファーストラヴ』で第159回直木賞を受賞した、『ナラタージュ』『リトル・バイ・リトル』などの作品でも知られる作家は誰?\n",
      "解答：唯川恵\n",
      "\n",
      "問題：煙突を表す地図記号に、煙を表す線は何本ひかれている?\n",
      "解答：問題文には煙突を表す地図記号に関する情報は含まれていません。\n",
      "\n"
     ]
    },
    {
     "output_type": "stream",
     "name": "stderr",
     "text": [
      "\r 53%|█████▎    | 532/1000 [05:54<05:32,  1.41it/s]"
     ]
    },
    {
     "output_type": "stream",
     "name": "stdout",
     "text": [
      "問題：昔話の主人公で、桃から生まれた男の子は桃太郎ですが、瓜から生まれた女の子は何?\n",
      "解答：瓜子姫\n",
      "\n",
      "問題：江戸時代初期の浮世絵師で、『見返り美人図』などの作品で知られるのは誰?\n",
      "解答：菱川師宣\n",
      "\n",
      "問題：漢字で「白い頭の鳥」とも書く鳥で、源義経が一ノ谷の戦いで奇襲をかけるために通ったとされる山道の名前にもなっているのは何?\n",
      "解答：鵯越\n",
      "\n",
      "問題：昔話「さるかに合戦」で、猿が蟹が持っていたおむすびと交換したものといえばどんな果物の種?\n",
      "解答：柿の種\n",
      "\n"
     ]
    },
    {
     "output_type": "stream",
     "name": "stderr",
     "text": [
      "\r 54%|█████▎    | 536/1000 [05:56<04:41,  1.65it/s]"
     ]
    },
    {
     "output_type": "stream",
     "name": "stdout",
     "text": [
      "問題：十両以上で達成した場合「8勝7敗」「7勝8敗」のいずれかとなる、大相撲で白星と黒星を繰り返すことを何という?\n",
      "解答：連相撲\n",
      "\n",
      "問題：日本の仏像や古代ギリシャの彫刻に見られる、かすかな微笑みのことを英語で何という?\n",
      "解答：Archaic smile\n",
      "\n",
      "問題：映画『ローマの休日』に登場したトリニタ・ディ・モンティ階段が有名な、ある国の名前がつけられたローマ市内の広場は何?\n",
      "解答：スペイン広場\n",
      "\n",
      "問題：漢字の「日」「昌」の「日」は「太陽」を表しますが、「晶」の「日」は何を表す?\n",
      "解答：「晶」の「日」は「氷」を表す。\n",
      "\n"
     ]
    },
    {
     "output_type": "stream",
     "name": "stderr",
     "text": [
      "\r 54%|█████▍    | 540/1000 [05:57<03:51,  1.99it/s]"
     ]
    },
    {
     "output_type": "stream",
     "name": "stdout",
     "text": [
      "問題：大股で歩いても小股で歩いても危険であるということからその名がついたといわれる、吉野川の激流によって作られた徳島県にある渓谷は何?\n",
      "解答：小歩危\n",
      "\n",
      "問題：ニュージーランドに生息する飛べない鳥にちなんで名がつけられた、中国原産の果物は何?\n",
      "解答：キウイフルーツ\n",
      "\n",
      "問題：13世紀の神聖ローマ帝国で、ホーエンシュタウフェン朝の断絶からハプスブルク朝の成立までの間、皇帝が事実上不在となった期間のことを何という?\n",
      "解答：大空位時代\n",
      "\n",
      "問題：外科手術で、狭くなった血管や食道を内側から広げるために用いられる金属製の筒を何という?\n",
      "解答：ステント\n",
      "\n"
     ]
    },
    {
     "output_type": "stream",
     "name": "stderr",
     "text": [
      "\r 54%|█████▍    | 544/1000 [05:58<03:30,  2.16it/s]"
     ]
    },
    {
     "output_type": "stream",
     "name": "stdout",
     "text": [
      "問題：京野菜で、田中、伏見、万願寺といえば、何という野菜の品種?\n",
      "解答：万願寺とうがらし\n",
      "\n",
      "問題：猫の品種「ヒマラヤン」は、シャム猫と何という猫を交配し改良して生まれた猫?\n",
      "解答：ペルシャ猫\n",
      "\n",
      "問題：詩人になれず、強い自尊心から虎に変身してしまう主人公・李徴を描いた、中島敦の小説は何?\n",
      "解答：山月記\n",
      "\n",
      "問題：1921年にジョン・ゴールズワージーを初代会長として設立された、ロンドンに本部を置く文学団体は何?\n",
      "解答：国際ペンクラブ\n",
      "\n",
      "エラーを受け取りました：The server is overloaded or not ready yet.\n",
      "10秒待機します\n"
     ]
    },
    {
     "output_type": "stream",
     "name": "stderr",
     "text": [
      "\r 55%|█████▍    | 548/1000 [06:39<25:37,  3.40s/it]"
     ]
    },
    {
     "output_type": "stream",
     "name": "stdout",
     "text": [
      "問題：劇中の『凱旋行進曲』が有名な、エジプトの将軍ラダメスとエチオピア王女の悲恋を描いたヴェルディ作曲のオペラは何?\n",
      "解答：アイーダ\n",
      "\n",
      "問題：谷川俊太郎の第一詩集『二十億光年の孤独』で、「ひき合う孤独の力である」と表現されているものは何?\n",
      "解答：「詩」\n",
      "\n",
      "問題：イタリアのシチリア島にあるヨーロッパ最大の活火山は何山?\n",
      "解答：エトナ山\n",
      "\n",
      "問題：出身地や支援したい自治体に寄付を行うことによって、住民税の一部が控除されるという制度のことを「何納税」という?\n",
      "解答：ふるさと納税\n",
      "\n"
     ]
    },
    {
     "output_type": "stream",
     "name": "stderr",
     "text": [
      "\r 55%|█████▌    | 552/1000 [06:40<18:23,  2.46s/it]"
     ]
    },
    {
     "output_type": "stream",
     "name": "stdout",
     "text": [
      "問題：『源氏物語』の作者は紫式部ですが、その注釈本『源氏物語湖月抄』の作者は誰?\n",
      "解答：北村季吟\n",
      "\n",
      "問題：「電流の強さは、電圧に比例し、電気抵抗に反比例する」という法則を「何の法則」という?\n",
      "解答：オームの法則\n",
      "\n",
      "問題：Windowsのパソコンで、ブラウザの画面を更新する際に用いるのは「Fいくつ」?\n",
      "解答：5\n",
      "\n",
      "問題：220と284のように、自身を除いた約数の和が互いに等しくなるような自然数の組のことを何数という?\n",
      "解答：友愛数\n",
      "\n"
     ]
    },
    {
     "output_type": "stream",
     "name": "stderr",
     "text": [
      "\r 56%|█████▌    | 556/1000 [06:42<13:40,  1.85s/it]"
     ]
    },
    {
     "output_type": "stream",
     "name": "stdout",
     "text": [
      "問題：「己を知りうる者は賢者なり」という言葉を残した、『カンタベリ物語』で知られるイギリスの詩人は誰?\n",
      "解答：ジェフリー・チョーサー\n",
      "\n",
      "問題：クリミア戦争での働きぶりから「クリミアの天使」と呼ばれた看護師は誰?\n",
      "解答：フローレンス・ナイチンゲール\n",
      "\n",
      "問題：アルファベット2文字でGDと略される就職活動における企業の選考方法のひとつで、学生を数人の組に分け、特定のテーマについて討論させることを何という?\n",
      "解答：グループ・ディスカッション\n",
      "\n",
      "問題：イギリス民謡を原曲とする、「丘を越え行こうよ口笛吹きつつ」という歌い出しで始まる童謡は何?\n",
      "解答：「ピクニック」\n",
      "\n"
     ]
    },
    {
     "output_type": "stream",
     "name": "stderr",
     "text": [
      "\r 56%|█████▌    | 560/1000 [06:44<10:24,  1.42s/it]"
     ]
    },
    {
     "output_type": "stream",
     "name": "stdout",
     "text": [
      "問題：「ばねが伸びる長さは引く力に比例する」という法則を、これを発見したイギリスの科学者の名をとって「何の法則」という?\n",
      "解答：フックの法則\n",
      "\n",
      "問題：2024年に開催されるパリオリンピックの競技として正式採用されたブレイキンとは、何ダンスのこと?\n",
      "解答：ブレイキンはブレイクダンスのことです。\n",
      "\n",
      "問題：「若いカップルが一緒に食べるように」との思いを込めて名付けられた、まるか食品が販売するソース焼きそばといえば何?\n",
      "解答：ペヤングソース焼きそば\n",
      "\n",
      "問題：1841年3月4日に就任するも、同年4月4日に死去したため、在位31日と歴代アメリカ大統領でもっとも在任期間が短い、第9代大統領は誰?\n",
      "解答：ウィリアム・ヘンリー・ハリソン\n",
      "\n"
     ]
    },
    {
     "output_type": "stream",
     "name": "stderr",
     "text": [
      "\r 56%|█████▋    | 564/1000 [06:45<07:47,  1.07s/it]"
     ]
    },
    {
     "output_type": "stream",
     "name": "stdout",
     "text": [
      "問題：ほとんど老化しないことから、近年、長寿の研究対象となっている、哺乳類で唯一の真社会性を持つというネズミの仲間は何?\n",
      "解答：ナキウサギ\n",
      "\n",
      "問題：アニメなどの声優をアルファベット2文字で「CV」と表しますが、これは何という和製英語の頭文字?\n",
      "解答：「Character Voice」\n",
      "\n",
      "問題：太陽、雲、雨などをモチーフにした「はれるん」といえば、何という中央官庁のマスコットキャラクター?\n",
      "解答：総務省\n",
      "\n",
      "問題：万年筆のメカニズムにも利用されている、液体の中に細い管を入れると管の中の液体面の高さが外のものより高くなる現象を何という?\n",
      "解答：毛細管現象\n",
      "\n"
     ]
    },
    {
     "output_type": "stream",
     "name": "stderr",
     "text": [
      "\r 57%|█████▋    | 568/1000 [06:46<06:11,  1.16it/s]"
     ]
    },
    {
     "output_type": "stream",
     "name": "stdout",
     "text": [
      "問題：19世紀にバイエルン王国のルートヴィヒ1世の結婚式のお祝いとして開かれた祝賀会を起源とする、毎年秋にドイツのミュンヘンで開催される世界最大のビール祭りは何?\n",
      "解答：オクトーバーフェスト\n",
      "\n",
      "問題：薬局で働く専門の職業で、お医者さんからの指示に基づいて、患者に薬を提供したり、薬を調合したりする資格を持つ人を何師という?\n",
      "解答：薬剤師\n",
      "\n",
      "問題：エビやイカ、タコなどの血液が青く見える主な要因である、血液中に含まれる、銅を含む色素たんぱく質を何という?\n",
      "解答：ヘモシアニン\n",
      "\n",
      "問題：日本で最初の元号「大化」が始まったのは西暦何年?\n",
      "解答：645年\n",
      "\n"
     ]
    },
    {
     "output_type": "stream",
     "name": "stderr",
     "text": [
      "\r 57%|█████▋    | 572/1000 [06:47<04:54,  1.45it/s]"
     ]
    },
    {
     "output_type": "stream",
     "name": "stdout",
     "text": [
      "問題：安納芋、宇宙センター、鉄砲伝来。これらから連想される鹿児島県の島はどこ?\n",
      "解答：種子島\n",
      "\n",
      "問題：旅館の部屋に置かれている、衣類や手回り品などを一時的に入れておくための浅い箱を何という?\n",
      "解答：引き出し\n",
      "\n",
      "問題：ゾウを主人公とした絵本で『ぞうのエルマー』の生みの親はデビッド・マッキーですが、『ぞうのババール』の生みの親であるフランスの作家は誰?\n",
      "解答：ジャン・ド・ブリュノフ\n",
      "\n",
      "問題：もともとは、映画用のフィルムの縁にある音声を記録する部分のことで、そこから、映画やドラマのBGMや挿入曲を指すようになった言葉といえば何?\n",
      "解答：サウンドトラック\n",
      "\n"
     ]
    },
    {
     "output_type": "stream",
     "name": "stderr",
     "text": [
      "\r 58%|█████▊    | 576/1000 [06:50<04:53,  1.45it/s]"
     ]
    },
    {
     "output_type": "stream",
     "name": "stdout",
     "text": [
      "問題：お寿司屋さんで使われている隠語で、「クサ」とは何のこと?\n",
      "解答：酢飯のこと\n",
      "\n",
      "問題：王者には常に危険がつきまとうということを、シラクサ王ディオニシオスが家来を諭した故事から何という?\n",
      "解答：ダモクレスの剣\n",
      "\n",
      "問題：オーケストラで、演奏をとりまとめる役割をする「コンサートマスター」といえば、一般にどんな楽器の演奏者が担当する?\n",
      "解答：第1ヴァイオリンの首席奏者\n",
      "\n",
      "問題：地図の中でも、島や陸地の輪郭だけが描かれていて、他に何も描かれていないものを、何地図という?\n",
      "解答：地図の中でも、島や陸地の輪郭だけが描かれていて、他に何も描かれていないものを、空白地図という。\n",
      "\n"
     ]
    },
    {
     "output_type": "stream",
     "name": "stderr",
     "text": [
      "\r 58%|█████▊    | 580/1000 [06:51<03:58,  1.76it/s]"
     ]
    },
    {
     "output_type": "stream",
     "name": "stdout",
     "text": [
      "問題：ガラスの瓶にドライフラワーを入れ、専用のオイルで満たして保存する、インテリアとして人気の植物標本を何という?\n",
      "解答：ハーバリウム\n",
      "\n",
      "問題：野球で、ここ一番というチャンスに強いバッターのことを、英語で何ヒッターという?\n",
      "解答：クラッチヒッター\n",
      "\n",
      "問題：映画にも描かれた中国・三国時代の古戦場で、呉・蜀の連合軍対魏の水上戦が行われたことでも有名なのはどこ?\n",
      "解答：夷陵の戦い\n",
      "\n",
      "問題：家庭用ゲーム機でプレーするゲームのことを、ゲームセンターの筐体でプレーする「アーケードゲーム」に対して何という?\n",
      "解答：コンシューマーゲーム\n",
      "\n"
     ]
    },
    {
     "output_type": "stream",
     "name": "stderr",
     "text": [
      "\r 58%|█████▊    | 584/1000 [06:52<03:19,  2.08it/s]"
     ]
    },
    {
     "output_type": "stream",
     "name": "stdout",
     "text": [
      "問題：兄リチャード・妹カレンの兄妹デュオで、『イエスタディ・ワンス・モア』などのヒット曲で知られるのは?\n",
      "解答：カーペンターズ\n",
      "\n",
      "問題：ギリシャ語で「母」という意味の名前がつけられた、アニメ『銀河鉄道999』で星野鉄郎とともに旅をする女性は誰?\n",
      "解答：プロメシューム\n",
      "\n",
      "問題：英語で12の月名を書いたとき、もっとも文字数が少なくなるのは何月?\n",
      "解答：May\n",
      "\n",
      "問題：紙に書いてする計算を「筆算」といいますが、頭の中でする計算を何という?\n",
      "解答：暗算\n",
      "\n"
     ]
    },
    {
     "output_type": "stream",
     "name": "stderr",
     "text": [
      "\r 59%|█████▉    | 588/1000 [06:54<02:58,  2.31it/s]"
     ]
    },
    {
     "output_type": "stream",
     "name": "stdout",
     "text": [
      "問題：煮物料理などで、材料の頭が少し水面に出るくらいの水の分量のことを何という?\n",
      "解答：浸水\n",
      "\n",
      "問題：「電磁誘導の法則」や「電気分解の法則」を発見した、科学入門の名著『ロウソクの科学』でも知られる物理学者は誰?\n",
      "解答：マイケル・ファラデー\n",
      "\n",
      "問題：男女のペアに見立てて「夫婦星」と呼ばれる2つの星は、うしかい座のアークトゥルスと、おとめ座の何という星?\n",
      "解答：スピカ\n",
      "\n",
      "問題：1860年、江戸幕府の大老・井伊直弼が、水戸藩や薩摩藩の浪士らに暗殺された事件を何という?\n",
      "解答：桜田門外の変\n",
      "\n"
     ]
    },
    {
     "output_type": "stream",
     "name": "stderr",
     "text": [
      "\r 59%|█████▉    | 592/1000 [06:55<02:45,  2.47it/s]"
     ]
    },
    {
     "output_type": "stream",
     "name": "stdout",
     "text": [
      "問題：昭和58年、中曽根総理大臣から国民栄誉賞の授与を打診されたものの、「そんなんもろたら立ちションもでけへんようになる」といって辞退した元プロ野球選手は誰?\n",
      "解答：千代の富士貢\n",
      "\n",
      "問題：昭和初期、雑誌『ホトトギス』で活躍し「4S」と呼ばれた俳人は、阿波野青畝、高野素十、水原秋桜子と誰?\n",
      "解答：山口誓子\n",
      "\n",
      "問題：八岐大蛇の生贄になるところを素戔嗚尊によって助けられた、日本神話に登場する女神は誰?\n",
      "解答：クシナダヒメ\n",
      "\n",
      "問題：1910年に慶應義塾文科の機関誌として永井荷風らが創刊した、耽美的な傾向を特徴とする文芸雑誌は何?\n",
      "解答：三田文学\n",
      "\n"
     ]
    },
    {
     "output_type": "stream",
     "name": "stderr",
     "text": [
      "\r 60%|█████▉    | 596/1000 [06:57<02:40,  2.52it/s]"
     ]
    },
    {
     "output_type": "stream",
     "name": "stdout",
     "text": [
      "問題：松野家の六つ子が大人になった姿を描いた、赤塚不二夫の漫画を原作とするアニメは何?\n",
      "解答：おそ松さん\n",
      "\n",
      "問題：パック、オーベロン、ティタニアという妖精が登場する、シェイクスピアの戯曲は何?\n",
      "解答：『夏の夜の夢』\n",
      "\n",
      "問題：人気のボードゲームのタイトルにもなっている、イギリスのロンドン警視庁の通称といえば何?\n",
      "解答：スコットランドヤード\n",
      "\n",
      "問題：日本国憲法の全11章のうち、たった1つの条項のみで構成されている2つの章とは、第2章の「戦争の放棄」と、第9章の何?\n",
      "解答：第9章の「戦争の放棄」\n",
      "\n"
     ]
    },
    {
     "output_type": "stream",
     "name": "stderr",
     "text": [
      "\r 60%|██████    | 600/1000 [06:58<02:25,  2.75it/s]"
     ]
    },
    {
     "output_type": "stream",
     "name": "stdout",
     "text": [
      "問題：勉強に使う文房具で、鉛筆は英語で「ペンシル」といいますが、消しゴムは英語で何という?\n",
      "解答：eraser\n",
      "\n",
      "問題：関係者でないにもかかわらず、寄席や芝居の楽屋に出入りして内情に詳しい人のことを、ある鳥を使って何という?\n",
      "解答：カラス\n",
      "\n",
      "問題：1925年、普通選挙法とほぼ同時期に制定された、天皇制や私有財産制を否定する活動を弾圧するための法律は何?\n",
      "解答：治安維持法\n",
      "\n",
      "問題：名古屋城の金の鯱に由来する社名がつけられた、朱肉のいらない印鑑の製造で有名な企業はどこ?\n",
      "解答：シヤチハタ\n",
      "\n"
     ]
    },
    {
     "output_type": "stream",
     "name": "stderr",
     "text": [
      "\r 60%|██████    | 604/1000 [06:59<02:10,  3.04it/s]"
     ]
    },
    {
     "output_type": "stream",
     "name": "stdout",
     "text": [
      "問題：「コイン」「ピン」「ポルカ」などの種類がある柄は何?\n",
      "解答：水玉模様\n",
      "\n",
      "問題：数十mに渡って吊り下げた花火に一斉に火をつけることで火花が滝のように流れ落ちるものを、ある有名な滝の名前をとって何花火という?\n",
      "解答：滝花火\n",
      "\n",
      "問題：フランスの詩人トリスタン・ツァラが名付けた、既存の価値を否定し自由な発想と表現を目指した芸術運動は何?\n",
      "解答：ダダイスム\n",
      "\n",
      "問題：太陽系の惑星の中で、太陽に最も近いのは水星ですが、最も遠いのは何?\n",
      "解答：海王星\n",
      "\n"
     ]
    },
    {
     "output_type": "stream",
     "name": "stderr",
     "text": [
      "\r 61%|██████    | 608/1000 [07:00<02:08,  3.06it/s]"
     ]
    },
    {
     "output_type": "stream",
     "name": "stdout",
     "text": [
      "問題：人間の心臓から出る2種類の動脈といえば何動脈と何動脈?\n",
      "解答：肺動脈と大動脈\n",
      "\n",
      "問題：上野の寛永寺、平泉の中尊寺、比叡山の延暦寺といえば、何宗のお寺?\n",
      "解答：天台宗\n",
      "\n",
      "問題：オリンピックでは男子でのみ採用されている、レスリングで腰より下を攻めてはいけない種目は何?\n",
      "解答：グレコローマンスタイル\n",
      "\n",
      "問題：夏と冬で羽の色が変わる、長野県、岐阜県、富山県に共通する県の鳥は何?\n",
      "解答：ライチョウ\n",
      "\n"
     ]
    },
    {
     "output_type": "stream",
     "name": "stderr",
     "text": [
      "\r 61%|██████    | 612/1000 [07:01<01:58,  3.28it/s]"
     ]
    },
    {
     "output_type": "stream",
     "name": "stdout",
     "text": [
      "問題：ムエタイの選手が試合で身につける装飾品で、頭に巻くものは「モンコン」といいますが、腕に巻く輪は何という?\n",
      "解答：パープラチアット\n",
      "\n",
      "問題：「終末期医療」とも呼ばれる、死を間近に迎えた患者に対して行う看護や心理的な医療のことを何という?\n",
      "解答：ターミナルケア\n",
      "\n",
      "問題：分数を書き表すとき、分子と分母を分ける線を何という?\n",
      "解答：括線\n",
      "\n",
      "問題：囲碁で、アタリの連続で相手の石をとる手筋のことで、「これを知らずに碁を打つな」という格言もあるのは何?\n",
      "解答：シチョウ\n",
      "\n"
     ]
    },
    {
     "output_type": "stream",
     "name": "stderr",
     "text": [
      "\r 62%|██████▏   | 616/1000 [07:02<01:55,  3.31it/s]"
     ]
    },
    {
     "output_type": "stream",
     "name": "stdout",
     "text": [
      "問題：これまでの日本の元号に使われた漢字のうち、5回と最も多く登場した生き物は何?\n",
      "解答：鳥\n",
      "\n",
      "問題：ハリウッド俳優ローレンス・オリビエの、最初の妻はジル・エズモンドですが、2人目の妻は誰だった?\n",
      "解答：ジョーン・プロウライト\n",
      "\n",
      "問題：「フレミングの法則」を発見したフレミングのファーストネームはジョンですが、ペニシリンを発見したフレミングのファーストネームは何?\n",
      "解答：アレクサンダー\n",
      "\n",
      "問題：上皇や法皇ではなく、天皇がみずから政治を行うことを、「院政」に対して何という?\n",
      "解答：親政\n",
      "\n"
     ]
    },
    {
     "output_type": "stream",
     "name": "stderr",
     "text": [
      "\r 62%|██████▏   | 620/1000 [07:03<01:55,  3.30it/s]"
     ]
    },
    {
     "output_type": "stream",
     "name": "stdout",
     "text": [
      "問題：栄養素を豊富に含むことから健康食品としても注目されている、「ユーグレナ」の別名を持つ生物は何?\n",
      "解答：ミドリムシ\n",
      "\n",
      "問題：馬が首につけていた鈴に形が似ているところから「馬鈴薯」と呼ばれるようになったともいわれる野菜は何?\n",
      "解答：ジャガイモ\n",
      "\n",
      "問題：人間のふくらはぎにある、魚の名前がついた筋肉は何?\n",
      "解答：腓腹筋\n",
      "\n",
      "問題：ニューヨークのセントラルパークの東側にある、「The Met」の愛称で知られる美術館は何?\n",
      "解答：メトロポリタン美術館\n",
      "\n"
     ]
    },
    {
     "output_type": "stream",
     "name": "stderr",
     "text": [
      "\r 62%|██████▏   | 624/1000 [07:05<01:51,  3.38it/s]"
     ]
    },
    {
     "output_type": "stream",
     "name": "stdout",
     "text": [
      "問題：プロ野球で、各報道機関の記者の投票によって、ポジションごとにセ・パ合わせて19人が選ばれる、その年に好成績を残した選手のことを何という?\n",
      "解答：ゴールデングラブ賞\n",
      "\n",
      "問題：キルトなど、スコットランドの民族衣装で目にする、元々は氏族を表すために用いられた格子柄のデザインのことを何チェックという?\n",
      "解答：タータンチェック\n",
      "\n",
      "問題：仏教遺跡の「アンコール・ワット」があるアジアの国はどこ?\n",
      "解答：カンボジア\n",
      "\n",
      "問題：アメリカの州の名前で、方角がついているのは、ノースカロライナ、サウスカロライナ、ノースダコタ、サウスダコタとどこ?\n",
      "解答：ウェストバージニア州\n",
      "\n"
     ]
    },
    {
     "output_type": "stream",
     "name": "stderr",
     "text": [
      "\r 63%|██████▎   | 628/1000 [07:06<01:46,  3.49it/s]"
     ]
    },
    {
     "output_type": "stream",
     "name": "stdout",
     "text": [
      "問題：古代ギリシャ建築の「三大様式」といえば、「ドーリア式」「イオニア式」と何?\n",
      "解答：コリント式\n",
      "\n",
      "問題：知ったかぶりをすることやぐっすり眠っていて何も知らないことを、昔、京都を見てきたふりをした男が苦し紛れの嘘をついたという話に由来して何という?\n",
      "解答：つる\n",
      "\n",
      "問題：元々はローマへの巡礼のために作られた、ヴュルツブルクからフュッセンまでのドイツの有名な街道は何?\n",
      "解答：ロマンティック街道\n",
      "\n",
      "問題：織田信長が朱印の印章として用いた、「武力によって天下に号令する」という意味の言葉は何?\n",
      "解答：天下布武\n",
      "\n"
     ]
    },
    {
     "output_type": "stream",
     "name": "stderr",
     "text": [
      "\r 63%|██████▎   | 632/1000 [07:07<01:53,  3.25it/s]"
     ]
    },
    {
     "output_type": "stream",
     "name": "stdout",
     "text": [
      "問題：英語では「How I want a drink」「Yes, I have a number」、日本では「産医師異国に向かう」という語呂合わせで覚えられるものといえば何?\n",
      "解答：赤ちゃんポスト\n",
      "\n",
      "問題：大統領官邸で、モネダ宮殿といえばチリですが、アルボラーダ宮殿といえばどこの国?\n",
      "解答：アルゼンチン\n",
      "\n",
      "問題：指輪の中でも「インデックスリング」といえば、何指にはめるもの?\n",
      "解答：インデックスリングは「人差し指」にはめるものです。\n",
      "\n",
      "問題：ウィレム・デ・クーニングやジャクソン・ポロックが代表的画家である、キャンバスに顔料を垂らしたり飛び散らせたりする描画手法は何?\n",
      "解答：アクション・ペインティング\n",
      "\n"
     ]
    },
    {
     "output_type": "stream",
     "name": "stderr",
     "text": [
      "\r 64%|██████▎   | 636/1000 [07:10<02:24,  2.53it/s]"
     ]
    },
    {
     "output_type": "stream",
     "name": "stdout",
     "text": [
      "問題：ベートーベンの交響曲第5番は『運命』ですが、ショスタコービッチの交響曲第5番は何?\n",
      "解答：革命\n",
      "\n",
      "問題：カボチャやメロンの種の周りについている、繊維状のモワモワした部分のことを、普通、何という?\n",
      "解答：繊維状のモワモワした部分は、普通、「綿毛」と呼ばれます。\n",
      "\n",
      "問題：皮袋にためた空気を押し出しリードを振動させて演奏する、スコットランドの民族楽器は何?\n",
      "解答：バッグパイプ\n",
      "\n",
      "問題：共和政ローマの時代に起こった奴隷戦争の指導者の名前がつけられた、カール・リープクネヒトやローザ・ルクセンブルグらによって結成されたドイツの政治結社は何?\n",
      "解答：スパルタクス団\n",
      "\n"
     ]
    },
    {
     "output_type": "stream",
     "name": "stderr",
     "text": [
      "\r 64%|██████▍   | 640/1000 [07:11<02:24,  2.49it/s]"
     ]
    },
    {
     "output_type": "stream",
     "name": "stdout",
     "text": [
      "問題：泳げない人のことを、ある大工道具にたとえて何という?\n",
      "解答：ハンマー\n",
      "\n",
      "問題：1981年に設立された、鹿児島県にある日本で唯一の国立の体育大学は何?\n",
      "解答：鹿屋体育大学\n",
      "\n",
      "問題：トランプゲームのブラックジャックにおいて、プレイヤーとディーラーが目標とする合計点はいくつ?\n",
      "解答：プレイヤーとディーラーが目標とする合計点は21点。\n",
      "\n",
      "問題：花札で11月の柳の下に描かれている人物は誰?\n",
      "解答：小野道風\n",
      "\n"
     ]
    },
    {
     "output_type": "stream",
     "name": "stderr",
     "text": [
      "\r 64%|██████▍   | 644/1000 [07:13<02:20,  2.54it/s]"
     ]
    },
    {
     "output_type": "stream",
     "name": "stdout",
     "text": [
      "問題：仙台七夕にちなんで、織姫と彦星とされる星に由来する名前がつけられた、仙台に本拠地を置くJリーグのチームはどこ?\n",
      "解答：ベガルタ仙台\n",
      "\n",
      "問題：ムガール帝国の皇帝シャー・ジャハーンが最愛の妻をしのんで建造した白亜の霊廟は何?\n",
      "解答：タージ・マハル\n",
      "\n",
      "問題：日本で最初の元号は「大化」ですが、中国で最初の元号は何?\n",
      "解答：中国で最初の元号は「黄帝紀元」です。\n",
      "\n",
      "問題：摂氏温度ではマイナス273.15度。熱力学的に考えられる最低温度のことを漢字4文字で何という?\n",
      "解答：絶対零度\n",
      "\n"
     ]
    },
    {
     "output_type": "stream",
     "name": "stderr",
     "text": [
      "\r 65%|██████▍   | 648/1000 [07:14<02:12,  2.65it/s]"
     ]
    },
    {
     "output_type": "stream",
     "name": "stdout",
     "text": [
      "問題：大正時代に同人誌『文芸時代』で活躍した、今東光、横光利一、川端康成などの新進作家グループを何派といった?\n",
      "解答：新感覚派\n",
      "\n",
      "問題：大江健三郎や檀一雄が愛用者として知られる、丸型で縁の太い眼鏡を、アメリカの喜劇俳優の名前から何眼鏡という?\n",
      "解答：ロイド眼鏡\n",
      "\n",
      "問題：650年、長門の国司が孝徳天皇に白いキジを献上したことに伴い改元された、日本で2番目の元号は何?\n",
      "解答：白雉\n",
      "\n",
      "問題：飛騨山脈の山々を「日本アルプス」と命名したイギリス人技師で、古代日本の古墳を研究したことから「日本考古学の父」という異名で呼ばれたのは誰?\n",
      "解答：ウィリアム・ゴーランド\n",
      "\n"
     ]
    },
    {
     "output_type": "stream",
     "name": "stderr",
     "text": [
      "\r 65%|██████▌   | 652/1000 [07:15<01:58,  2.93it/s]"
     ]
    },
    {
     "output_type": "stream",
     "name": "stdout",
     "text": [
      "問題：郵便局が発行する「切手」を略さずに言うと何?\n",
      "解答：普通切手\n",
      "\n",
      "問題：トンボなどの昆虫にみられる、たくさんの小さな眼が集まってできた眼のことを特に何という?\n",
      "解答：複眼\n",
      "\n",
      "問題：素粒子のニュートリノを3つに大別すると、電子ニュートリノ、ミューニュートリノと何?\n",
      "解答：タウニュートリノ\n",
      "\n",
      "問題：ペルシャ語で「四行詩集」という意味がある、ペルシャの詩人オマル・ハイヤームの詩集は何?\n",
      "解答：ルバイヤート\n",
      "\n"
     ]
    },
    {
     "output_type": "stream",
     "name": "stderr",
     "text": [
      "\r 66%|██████▌   | 656/1000 [07:16<01:51,  3.08it/s]"
     ]
    },
    {
     "output_type": "stream",
     "name": "stdout",
     "text": [
      "問題：あてが外れて喜んだ後にがっかりすることを、お米に関するあるものを使って「何喜び」という?\n",
      "解答：「米喜び」\n",
      "\n",
      "問題：一等星を2つ持つ星座は、オリオン座、みなみじゅうじ座と何?\n",
      "解答：ケンタウルス座\n",
      "\n",
      "問題：直木三十五は年齢に合わせてペンネームを変えましたが、最初につけたペンネームは「直木いくつ」?\n",
      "解答：直木三十一\n",
      "\n",
      "問題：統計学で用いられる回帰分析で、説明変数を一つ用いて行うものを「単回帰分析」といいますが、説明変数を2つ以上用いて行うものを何分析という?\n",
      "解答：重回帰分析\n",
      "\n"
     ]
    },
    {
     "output_type": "stream",
     "name": "stderr",
     "text": [
      "\r 66%|██████▌   | 660/1000 [07:17<01:44,  3.26it/s]"
     ]
    },
    {
     "output_type": "stream",
     "name": "stdout",
     "text": [
      "問題：川底が周辺の土地の高さよりも高い位置にある川を何という?\n",
      "解答：天井川\n",
      "\n",
      "問題：複雑な問題をあざやかに解決することを、よく切れる刀でもつれた麻糸を切る様子にたとえて「何を断つ」という?\n",
      "解答：難問を断つ\n",
      "\n",
      "問題：自然主義文学を代表する小説『黴』『あらくれ』などの作品で知られる作家は誰?\n",
      "解答：徳田秋声\n",
      "\n",
      "問題：「光が真空中を2億9979万2458分の1秒の間に進む長さ」を1とするSI基本単位は何?\n",
      "解答：メートル\n",
      "\n"
     ]
    },
    {
     "output_type": "stream",
     "name": "stderr",
     "text": [
      "\r 66%|██████▋   | 664/1000 [07:18<01:36,  3.48it/s]"
     ]
    },
    {
     "output_type": "stream",
     "name": "stdout",
     "text": [
      "問題：1943年にイングヴァル・カンプラードが創業した、スウェーデン発の家具の大型チェーン店は何?\n",
      "解答：イケア\n",
      "\n",
      "問題：疲れやすい、頭が重いといった、特定の病気としてまとめることができない体の不調の訴えを、漢字4文字で何という?\n",
      "解答：不定愁訴\n",
      "\n",
      "問題：元々は、1本だけの貴重なロウソクのことで、転じて、持っている服の中で一番上等なものを指す言葉は何?\n",
      "解答：スリーピース\n",
      "\n",
      "問題：一般的なダーツボードで、一番上にある数字は20ですが、反対の一番下にある数字はいくつ?\n",
      "解答：1\n",
      "\n"
     ]
    },
    {
     "output_type": "stream",
     "name": "stderr",
     "text": [
      "\r 67%|██████▋   | 668/1000 [07:19<01:31,  3.61it/s]"
     ]
    },
    {
     "output_type": "stream",
     "name": "stdout",
     "text": [
      "問題：周囲からの期待の重圧に苦しむ少年ハンスを主人公とする、ヘルマン・ヘッセの小説は何?\n",
      "解答：車輪の下\n",
      "\n",
      "問題：文学賞の「芥川賞」に名を残す作家は芥川龍之介ですが、「直木賞」に名を残す作家は誰?\n",
      "解答：直木三十五\n",
      "\n",
      "問題：『さるのこしかけ』や『もものかんづめ』などの著書もベストセラーとなりエッセイストとしても活躍した、漫画『ちびまる子ちゃん』の作者は誰?\n",
      "解答：さくらももこ\n",
      "\n",
      "問題：「逆鱗に触れる」や「矛盾」などの故事成語の出典である中国の書物は何?\n",
      "解答：『新語』\n",
      "\n"
     ]
    },
    {
     "output_type": "stream",
     "name": "stderr",
     "text": [
      "\r 67%|██████▋   | 672/1000 [07:20<01:34,  3.48it/s]"
     ]
    },
    {
     "output_type": "stream",
     "name": "stdout",
     "text": [
      "問題：槍先に飛んできたある虫がそのまま真っ二つに切れてしまったという逸話から名付けられた、戦国武将・本多忠勝が愛用した槍は何?\n",
      "解答：蜻蛉切\n",
      "\n",
      "問題：ヘイワード、レインボーレッド、ゴールドなどの種類がある、ニュージーランド産のものが有名な、マタタビ科の果物は何?\n",
      "解答：キウイフルーツ\n",
      "\n",
      "問題：ボウリングのスコア表示で、「G」はガターを表しますが、「F」は何を表す?\n",
      "解答：ファール\n",
      "\n",
      "問題：トランプに使われているマークには4種類ありますが、そのうち、赤いマークはハートと何?\n",
      "解答：ダイヤ\n",
      "\n"
     ]
    },
    {
     "output_type": "stream",
     "name": "stderr",
     "text": [
      "\r 68%|██████▊   | 676/1000 [07:22<01:38,  3.27it/s]"
     ]
    },
    {
     "output_type": "stream",
     "name": "stdout",
     "text": [
      "問題：『ドレミの歌』の歌詞に出てくる楽器は何?\n",
      "解答：ヴァイオリン\n",
      "\n",
      "問題：最近の車に搭載されている「ドラレコ」とは、何の略?\n",
      "解答：ドライブレコーダー\n",
      "\n",
      "問題：柔道の延長戦に導入されている、どちらかがポイントを取った時点で試合終了となる方式を何という?\n",
      "解答：ゴールデンスコア方式\n",
      "\n",
      "問題：ミレーの絵画『晩鐘』『落穂ひろい』などを所蔵している、パリの美術館はどこ?\n",
      "解答：オルセー美術館\n",
      "\n"
     ]
    },
    {
     "output_type": "stream",
     "name": "stderr",
     "text": [
      "\r 68%|██████▊   | 680/1000 [07:23<01:37,  3.29it/s]"
     ]
    },
    {
     "output_type": "stream",
     "name": "stdout",
     "text": [
      "問題：乳酸菌やポリフェノールを多く含むなど機能性を高めたものが人気となっている、カカオから作られる甘い食べ物といえば何?\n",
      "解答：チョコレート\n",
      "\n",
      "問題：英語で、需要を「デマンド」というのに対し、供給を何という?\n",
      "解答：オファー\n",
      "\n",
      "問題：キク科の花で、ダリア、マリーゴールド、コスモスといえば、原産国はどこ?\n",
      "解答：メキシコ\n",
      "\n",
      "問題：1974年『氷の世界』で、アルバムとしては日本初のミリオンセールスを記録した歌手といえば誰?\n",
      "解答：井上陽水\n",
      "\n"
     ]
    },
    {
     "output_type": "stream",
     "name": "stderr",
     "text": [
      "\r 68%|██████▊   | 684/1000 [07:24<01:30,  3.49it/s]"
     ]
    },
    {
     "output_type": "stream",
     "name": "stdout",
     "text": [
      "問題：サッカーやバスケットボールの紅白戦で、チームの区別をつけるためにユニフォームの上に着るベストを何という?\n",
      "解答：ベスト\n",
      "\n",
      "問題：2013年にノーベル賞を受賞したイギリスの物理学者の名前がついた、物に重さを与えるとされる粒子は何粒子?\n",
      "解答：ヒッグス粒子\n",
      "\n",
      "問題：ガーデニングで、樹木を幾何学形や生き物の形に刈り込んで仕立てたものを何という?\n",
      "解答：トピアリー\n",
      "\n",
      "問題：「思いがけないことがきっかけで偶然良い方向に導かれること」「小さな欠点を直そうとして全体をだめにしてしまうこと」「商売は気長に努力することが大事であるという教訓」。これらを表すことわざに共通して登場する動物は何?\n",
      "解答：兎\n",
      "\n"
     ]
    },
    {
     "output_type": "stream",
     "name": "stderr",
     "text": [
      "\r 69%|██████▉   | 688/1000 [07:25<01:30,  3.46it/s]"
     ]
    },
    {
     "output_type": "stream",
     "name": "stdout",
     "text": [
      "問題：パリのノートルダム大聖堂やロンドンのウエストミンスター寺院に代表される、尖頭アーチなどを特徴とする建築様式は何?\n",
      "解答：ゴシック建築\n",
      "\n",
      "問題：戯曲『熱いトタン屋根の猫』や『欲望という名の電車』を書いたアメリカの劇作家は誰?\n",
      "解答：テネシー・ウィリアムズ\n",
      "\n",
      "問題：豆腐や、ニンジン・ゴボウなどの野菜を煮込んで作られる料理で、鎌倉・建長寺の修行僧が作ったことにちなんで名付けられたともいわれるすまし汁といえば何?\n",
      "解答：けんちん汁\n",
      "\n",
      "問題：1年のちょうど真ん中の日に生まれた人は、星占いの星座では何座にあたる?\n",
      "解答：しし座\n",
      "\n"
     ]
    },
    {
     "output_type": "stream",
     "name": "stderr",
     "text": [
      "\r 69%|██████▉   | 692/1000 [07:26<01:29,  3.46it/s]"
     ]
    },
    {
     "output_type": "stream",
     "name": "stdout",
     "text": [
      "問題：地球の表面部分を形成する、厚さ100km前後の硬い板状の層のことを何という?\n",
      "解答：プレート\n",
      "\n",
      "問題：1615年に江戸幕府が制定した、天皇や公家のありかたなどについて規定した法令を何という?\n",
      "解答：禁中並公家諸法度\n",
      "\n",
      "問題：もともとは中国で、裁判官が法廷で顔の表情を悟られないよう身につけたものが始まりともわれる、日光を遮るために使われる眼鏡といえば何?\n",
      "解答：サングラス\n",
      "\n",
      "問題：夏目漱石の前期三部作といえば、『三四郎』『それから』と何?\n",
      "解答：『門』\n",
      "\n"
     ]
    },
    {
     "output_type": "stream",
     "name": "stderr",
     "text": [
      "\r 70%|██████▉   | 696/1000 [07:28<01:36,  3.16it/s]"
     ]
    },
    {
     "output_type": "stream",
     "name": "stdout",
     "text": [
      "問題：地球を訪れたエイリアンと主人公の言語学者・ルイーズの交流を描いた、テッド・チャンのSF小説は何?\n",
      "解答：「ストーリー・オブ・ユア・ライフ」\n",
      "\n",
      "問題：「千里が竹虎狩りの段」などが有名な、明朝の復興を志して奮闘する英雄、鄭成功の活躍を描いた、近松門左衛門の浄瑠璃は何?\n",
      "解答：国性爺合戦\n",
      "\n",
      "問題：映画『スティング』や『オーシャンズ11』などに代表される、登場人物たちが騙し騙され、ストーリーが二転三転するようなジャンルの作品を何という?\n",
      "解答：ケイパー映画\n",
      "\n",
      "問題：デンマークの科学者ニコラウス・ステノが提唱した、「互いに重なっている地層では、上に堆積した地層ほど新しい」という法則を何という?\n",
      "解答：地層累重の法則\n",
      "\n"
     ]
    },
    {
     "output_type": "stream",
     "name": "stderr",
     "text": [
      "\r 70%|███████   | 700/1000 [07:29<01:32,  3.24it/s]"
     ]
    },
    {
     "output_type": "stream",
     "name": "stdout",
     "text": [
      "問題：言語学者の周有光がその父と呼ばれている、中国語の発音をローマ字表記したものを何という?\n",
      "解答：漢語拼音\n",
      "\n",
      "問題：北部にコモロ諸島、南部にユローパ島などの島々が浮かぶ、アフリカ大陸とマダガスカル島の間にある海峡は何?\n",
      "解答：モザンビーク海峡\n",
      "\n",
      "問題：「すくいとる」という意味の英語に由来する、新聞や雑誌が他社に先駆けて大きなニュースを報道することを何という?\n",
      "解答：スクープ\n",
      "\n",
      "問題：世界の通信社で、APといえばアメリカですが、AFPといえばどこの国の通信社?\n",
      "解答：フランス\n",
      "\n"
     ]
    },
    {
     "output_type": "stream",
     "name": "stderr",
     "text": [
      "\r 70%|███████   | 704/1000 [07:31<01:38,  3.00it/s]"
     ]
    },
    {
     "output_type": "stream",
     "name": "stdout",
     "text": [
      "問題：定番の制汗剤で、「8×4」を製造・販売しているのは花王ですが、Banを製造・販売しているのはどこ?\n",
      "解答：Banを製造・販売しているのはライオンです。\n",
      "\n",
      "問題：攻撃側をレイダー、守備側をアンティという、インド発祥のスポーツは何?\n",
      "解答：カバディ\n",
      "\n",
      "問題：鳥取の空の玄関口・鳥取空港は、鳥取に関係のある2つのものにちなんで、何という愛称で呼ばれる?\n",
      "解答：鳥取砂丘コナン空港\n",
      "\n",
      "問題：漢字2文字では「臭い橙」と書く、大分県が生産量日本一を誇る柑橘類は何?\n",
      "解答：カボス\n",
      "\n"
     ]
    },
    {
     "output_type": "stream",
     "name": "stderr",
     "text": [
      "\r 71%|███████   | 708/1000 [07:32<01:38,  2.96it/s]"
     ]
    },
    {
     "output_type": "stream",
     "name": "stdout",
     "text": [
      "問題：絶えず転がり落ちる岩を山頂に押し上げるという罰を与えられたギリシャ神話のコリント王の名前に由来する、「無駄な努力」を表す言葉といえば「何の岩」?\n",
      "解答：シーシュポスの岩\n",
      "\n",
      "問題：探査機「はやぶさ2」が到達した、昔話『浦島太郎』にちなんだ名前を持つ小惑星は何?\n",
      "解答：リュウグウ\n",
      "\n",
      "問題：フランス語で「金のシュロの葉」という意味がある、カンヌ国際映画祭で最優秀作品に贈られる最高賞は何?\n",
      "解答：パルム・ドール\n",
      "\n",
      "問題：和名を「アフリカセンボンヤリ」というキク科の花で、その名前はドイツの植物学者ゲルベルの名前にちなむのは何?\n",
      "解答：ダリア\n",
      "\n"
     ]
    },
    {
     "output_type": "stream",
     "name": "stderr",
     "text": [
      "\r 71%|███████   | 712/1000 [07:33<01:35,  3.00it/s]"
     ]
    },
    {
     "output_type": "stream",
     "name": "stdout",
     "text": [
      "問題：ジョニー・マーサーが作詞、ヘンリー・マンシーニが作曲を手掛けた、映画『ティファニーで朝食を』の主題歌は何?\n",
      "解答：ムーン・リバー\n",
      "\n",
      "問題：統計調査で、「景気ウォッチャー調査」を発表しているのは内閣府ですが、「地域経済報告」を発表しているのはどこ?\n",
      "解答：日本銀行\n",
      "\n",
      "問題：1979年にイギリスの首相に就任し、保守的で強硬な姿勢から「鉄の女」と呼ばれた政治家は誰?\n",
      "解答：マーガレット・サッチャー\n",
      "\n",
      "問題：クロスカントリースキーとライフル射撃を組み合わせた、オリンピックの種目にもなっている複合競技は何?\n",
      "解答：バイアスロン\n",
      "\n"
     ]
    },
    {
     "output_type": "stream",
     "name": "stderr",
     "text": [
      "\r 72%|███████▏  | 716/1000 [07:35<01:50,  2.58it/s]"
     ]
    },
    {
     "output_type": "stream",
     "name": "stdout",
     "text": [
      "問題：1968年にシカゴで第1回が開催された、知的障害者のための国際スポーツ競技大会は何?\n",
      "解答：スペシャルオリンピックス・ワールドゲームズ\n",
      "\n",
      "問題：海の漁師にちなんだ「漁師風」という意味のパスタは「ペスカトーレ」ですが、狩りをする猟師にちなんだ「猟師風」という意味のパスタは何?\n",
      "解答：「猟師風」という意味のパスタは「カチャトーラ」です。\n",
      "\n",
      "問題：ヒロインのマリアが歌う『ドレミの歌』や、トラップ大佐が歌う『エーデルワイス』などの劇中歌でも有名な、ロバート・ワイズ監督のミュージカル映画は何?\n",
      "解答：『サウンド・オブ・ミュージック』\n",
      "\n",
      "問題：オーストラリアのクイーンズランド州にある、そのほとんどが砂でできていることから「世界で最も大きな砂島」と呼ばれる世界遺産の島は何?\n",
      "解答：フレーザー島\n",
      "\n"
     ]
    },
    {
     "output_type": "stream",
     "name": "stderr",
     "text": [
      "\r 72%|███████▏  | 720/1000 [07:37<01:42,  2.72it/s]"
     ]
    },
    {
     "output_type": "stream",
     "name": "stdout",
     "text": [
      "問題：紀元前47年に起こったローマ軍とポントス王国との戦いで、カエサルの「来た、見た、勝った」という有名な勝利報告でも知られるのは何?\n",
      "解答：ゼラの戦い\n",
      "\n",
      "問題：アメリカンフットボールで、試合終了間際に劣勢のチームが一発逆転を狙って行うロングパスを、聖母マリアに祈るような気持ちで投げることから何という?\n",
      "解答：イマーキュレート・レセプション\n",
      "\n",
      "問題：せかせか働く様子を意味する「あくせく」を漢字2文字で表したときに共通して使われる部首は何?\n",
      "解答：旁\n",
      "\n",
      "問題：紀元前367年に制定された、最高公職者のコンスルを平民から1人選出するなどを定め平民の権利と身分を保護した古代ローマの法律は何法?\n",
      "解答：リキニウス・セクスティウス法\n",
      "\n"
     ]
    },
    {
     "output_type": "stream",
     "name": "stderr",
     "text": [
      "\r 72%|███████▏  | 724/1000 [07:38<01:31,  3.02it/s]"
     ]
    },
    {
     "output_type": "stream",
     "name": "stdout",
     "text": [
      "問題：様々な形の「ホールド」と呼ばれる突起物に手や足をかけ、人工の壁を、ロープを使わずに登る競技といえば何?\n",
      "解答：ボルダリング\n",
      "\n",
      "問題：1467年に起こった応仁の乱で、東軍の総大将をつとめたのは細川勝元ですが、西軍の総大将をつとめたのは誰?\n",
      "解答：山名宗全\n",
      "\n",
      "問題：「ガリレオ衛星」と呼ばれる4つの衛星をもつ、英語で「ジュピター」という太陽系の惑星は何?\n",
      "解答：木星\n",
      "\n",
      "問題：古代中国の武将・韓信に由来する、国中で並ぶ者がないほど優れた人物を指す四字熟語は何?\n",
      "解答：国士無双\n",
      "\n"
     ]
    },
    {
     "output_type": "stream",
     "name": "stderr",
     "text": [
      "\r 73%|███████▎  | 728/1000 [07:39<01:26,  3.15it/s]"
     ]
    },
    {
     "output_type": "stream",
     "name": "stdout",
     "text": [
      "問題：チーズを白ワインで溶かしたものに、一口大に切ったパンや野菜をつけて食べる、スイスの郷土料理は何?\n",
      "解答：フォンデュ\n",
      "\n",
      "問題：世界遺産になっている、オーストラリア北東部にある世界最大の珊瑚礁は何?\n",
      "解答：グレートバリアリーフ\n",
      "\n",
      "問題：忙しく動き回ることを、邦楽で使われる太鼓の音にたとえて「何舞い」という?\n",
      "解答：狂言雷舞\n",
      "\n",
      "問題：ある人について思い浮かべる時、その人の顔やプロフィールは思い出せるのに名前だけが思い出せない、という現象を何という?\n",
      "解答：「名前の出てこない現象」\n",
      "\n"
     ]
    },
    {
     "output_type": "stream",
     "name": "stderr",
     "text": [
      "\r 73%|███████▎  | 732/1000 [07:40<01:26,  3.10it/s]"
     ]
    },
    {
     "output_type": "stream",
     "name": "stdout",
     "text": [
      "問題：酒井忠次、本多忠勝、榊原康政、井伊直政といえば、誰の四天王とうたわれた武将?\n",
      "解答：徳川四天王\n",
      "\n",
      "問題：お酒を飲んで顔が真っ赤になることを、俗に「金時の何」という?\n",
      "解答：金時の面\n",
      "\n",
      "問題：頭文字から「JPG」とも表記される、薔薇や龍をモチーフにした前衛的なデザインが特徴的なフランスのデザイナーは誰?\n",
      "解答：ジャン・ポール・ゴルチエ\n",
      "\n",
      "問題：天正10年、明智光秀が織田信長を襲い自害させたとされる事件を、舞台となった京都の寺の名前から何という?\n",
      "解答：本能寺\n",
      "\n"
     ]
    },
    {
     "output_type": "stream",
     "name": "stderr",
     "text": [
      "\r 74%|███████▎  | 736/1000 [07:41<01:25,  3.08it/s]"
     ]
    },
    {
     "output_type": "stream",
     "name": "stdout",
     "text": [
      "問題：バイオリンの4本の弦で、最も低い音が出る弦はG線ですが、最も高い音が出る弦は何?\n",
      "解答：E線\n",
      "\n",
      "問題：フォボスとダイモスという2つの衛星を持つ、太陽系の惑星は何?\n",
      "解答：火星\n",
      "\n",
      "問題：その水面に興福寺の五重塔を映し出すことで有名な、奈良市の観光名所である池は何?\n",
      "解答：猿沢池\n",
      "\n",
      "問題：南アメリカ大陸でもっとも高い山はアコンカグアですが、北アメリカ大陸でもっとも高い山は何?\n",
      "解答：デナリ\n",
      "\n"
     ]
    },
    {
     "output_type": "stream",
     "name": "stderr",
     "text": [
      "\r 74%|███████▍  | 740/1000 [07:43<01:20,  3.24it/s]"
     ]
    },
    {
     "output_type": "stream",
     "name": "stdout",
     "text": [
      "問題：涙で床にネズミの絵を描いた逸話も有名な、室町時代に水墨画を大成した画家は誰?\n",
      "解答：雪舟\n",
      "\n",
      "問題：江戸幕末、薩摩藩や長州藩からの依頼で西洋との貿易を行った、坂本龍馬が結成した組織といえば何隊?\n",
      "解答：海援隊\n",
      "\n",
      "問題：パタゴニアで繁殖する、ある歴史上の人物の名前がついたペンギンは何?\n",
      "解答：オウサマペンギン\n",
      "\n",
      "問題：医学的には「上腕骨内上顆」と呼ばれる、人間のヒジにある、ぶつけるとジーンとしびれる部分の名前は何?\n",
      "解答：肘頭\n",
      "\n"
     ]
    },
    {
     "output_type": "stream",
     "name": "stderr",
     "text": [
      "\r 74%|███████▍  | 744/1000 [07:44<01:23,  3.06it/s]"
     ]
    },
    {
     "output_type": "stream",
     "name": "stdout",
     "text": [
      "問題：唱歌『花』、『お正月』、『荒城の月』などを作曲した音楽家は誰?\n",
      "解答：瀧廉太郎\n",
      "\n",
      "問題：サーフィン用語で、陸から海に向かって吹く風のことを、「岸を離れる」という意味の英語で何という?\n",
      "解答：オフショア\n",
      "\n",
      "問題：サマセット・モームがこよなく愛し、「サマセット・モーム・スイート」と名づけられた部屋があることでも知られる、シンガポールの名門ホテルは何?\n",
      "解答：マンダリン・オリエンタル・シンガポール\n",
      "\n",
      "問題：日本の地図記号で、小中学校は「文」の漢字を記号化したものですが、森林管理署は何という漢字を記号化したもの?\n",
      "解答：林\n",
      "\n"
     ]
    },
    {
     "output_type": "stream",
     "name": "stderr",
     "text": [
      "\r 75%|███████▍  | 748/1000 [07:46<01:29,  2.81it/s]"
     ]
    },
    {
     "output_type": "stream",
     "name": "stdout",
     "text": [
      "問題：プロレスで、レスラーが2人以上のチームを組み、リング上で1人ずつが戦う試合形式のことを、何マッチという?\n",
      "解答：タッグマッチ\n",
      "\n",
      "問題：地図記号で、そろばんの珠と軸の形をモチーフにしているのは何?\n",
      "解答：警棒\n",
      "\n",
      "問題：競馬のGIレースで、皐月賞は中山競馬場、日本ダービーは東京競馬場で開催されますが、菊花賞はどこの競馬場で開催される?\n",
      "解答：菊花賞は京都競馬場で開催される。\n",
      "\n",
      "問題：ロシア・ロマノフ朝時代、エカチェリーナ2世が美術コレクションを展示するために建造した、サンクトペテルブルクにある美術館は何?\n",
      "解答：エルミタージュ美術館\n",
      "\n"
     ]
    },
    {
     "output_type": "stream",
     "name": "stderr",
     "text": [
      "\r 75%|███████▌  | 752/1000 [07:48<01:41,  2.45it/s]"
     ]
    },
    {
     "output_type": "stream",
     "name": "stdout",
     "text": [
      "問題：男女間の愛情が冷めることを、風にたとえて「何が立つ」という?\n",
      "解答：愛情が冷めることを「風にたとえて、愛は消える」という。\n",
      "\n",
      "問題：京都「哲学の道」にある石碑に書かれた、「人は人吾はわれ也」から始まる歌を詠んだ、この道ゆかりの哲学者は誰?\n",
      "解答：西田幾多郎\n",
      "\n",
      "問題：ウルグアイの音楽家・ロドリゲスが作曲した、「仮装行列」という意味があるタンゴのスタンダートナンバーといえば何?\n",
      "解答：ラ・クンパルシータ\n",
      "\n",
      "問題：死んでもなお大きな影響力を持つということを、中国・三国時代の諸葛亮と司馬懿の故事から何という?\n",
      "解答：死後の影響力\n",
      "\n",
      "エラーを受け取りました：The server is overloaded or not ready yet.\n",
      "10秒待機します\n"
     ]
    },
    {
     "output_type": "stream",
     "name": "stderr",
     "text": [
      "\r 76%|███████▌  | 756/1000 [08:29<13:47,  3.39s/it]"
     ]
    },
    {
     "output_type": "stream",
     "name": "stdout",
     "text": [
      "問題：勝負の分かれ目にたとえられる山で、「天王山」があるのは京都府ですが、「天目山」があるのはどこの都道府県?\n",
      "解答：山梨県\n",
      "\n",
      "問題：『少女ファイト』『リベロ革命!!』『ハイキュー!!』といえば、どんなスポーツを題材にした漫画?\n",
      "解答：バレーボール\n",
      "\n",
      "問題：日本国憲法65条で行政権が属すると定められている、総理大臣と国務大臣で組織される機関は何?\n",
      "解答：内閣\n",
      "\n",
      "問題：テーブルウェアブランドで、「アラビア」「イッタラ」といえば、どこの国のブランド?\n",
      "解答：フィンランド\n",
      "\n"
     ]
    },
    {
     "output_type": "stream",
     "name": "stderr",
     "text": [
      "\r 76%|███████▌  | 760/1000 [08:30<09:51,  2.46s/it]"
     ]
    },
    {
     "output_type": "stream",
     "name": "stdout",
     "text": [
      "問題：イギリスのエリザベス朝やヴィクトリア朝の貴婦人の間で流行したアイテムを取り入れた、「ゴスロリ」などと略されるファッションは何?\n",
      "解答：ゴシック・アンド・ロリータ\n",
      "\n",
      "問題：夢の中で入れ替わってしまう少年・瀧と、ヒロイン・三葉の恋を描いた、新海誠監督・脚本のアニメ映画は何?\n",
      "解答：君の名は。\n",
      "\n",
      "問題：現在の静岡市葵区にあったお城で、徳川家康が亡くなったことで知られるのはどこ?\n",
      "解答：駿府城\n",
      "\n",
      "問題：ギリシャ、ブルガリア、アルバニアなどの国が含まれる、「ヨーロッパの火薬庫」と呼ばれた半島は何半島?\n",
      "解答：バルカン半島\n",
      "\n",
      "エラーを受け取りました：The server is overloaded or not ready yet.\n",
      "10秒待機します\n"
     ]
    },
    {
     "output_type": "stream",
     "name": "stderr",
     "text": [
      "\r 76%|███████▋  | 764/1000 [09:12<18:59,  4.83s/it]"
     ]
    },
    {
     "output_type": "stream",
     "name": "stdout",
     "text": [
      "問題：江戸時代に、長崎郊外にシーボルトが開いた私塾の名前は何?\n",
      "解答：鳴滝塾\n",
      "\n",
      "問題：「エルゴノミクス」ともいう、機械などを自然な動きで使えるようにデザインしようとする学問を、漢字4文字で何という?\n",
      "解答：人間工学\n",
      "\n",
      "問題：アマチュアレスリングで、試合が行われるマットの直径は何メートル?\n",
      "解答：アマチュアレスリングで、試合が行われるマットの直径は5.48メートル。\n",
      "\n",
      "問題：ジャズミュージシャンで、オスカー・ピーターソン、ハービー・ハンコック、キース・ジャレットは、何の楽器の演奏家?\n",
      "解答：ピアノの演奏家\n",
      "\n"
     ]
    },
    {
     "output_type": "stream",
     "name": "stderr",
     "text": [
      "\r 77%|███████▋  | 768/1000 [09:13<13:26,  3.48s/it]"
     ]
    },
    {
     "output_type": "stream",
     "name": "stdout",
     "text": [
      "問題：世界遺産にも登録された中尊寺や毛越寺など、奥州藤原氏の栄華を物語る遺跡が数多く残る、岩手県西磐井郡の町はどこ?\n",
      "解答：平泉町\n",
      "\n",
      "問題：東京都の「都の花」はソメイヨシノですが、京都府の「府の花」は同じくサクラの何という品種?\n",
      "解答：佐野藤右衛門\n",
      "\n",
      "問題：1975年に第1回先進国首脳会議が開催された、フランスの都市はどこ?\n",
      "解答：ランブイエ\n",
      "\n",
      "問題：大酒飲みの人の太って丸く突き出たお腹を、あるお酒を使って「何腹」という?\n",
      "解答：「えびすこ」という。\n",
      "\n"
     ]
    },
    {
     "output_type": "stream",
     "name": "stderr",
     "text": [
      "\r 77%|███████▋  | 772/1000 [09:14<09:33,  2.52s/it]"
     ]
    },
    {
     "output_type": "stream",
     "name": "stdout",
     "text": [
      "問題：1563年、「ドン・バルトロメオ」という洗礼名を受け、日本初のキリシタン大名となった戦国武将は誰?\n",
      "解答：大村純忠\n",
      "\n",
      "問題：ビリヤードで、的球に当てた手球を他の球に当てて、その球をポケットインさせるショットを何ショットという?\n",
      "解答：カラムショット\n",
      "\n",
      "問題：1919年、グロピウスらによってワイマールに創設された総合芸術学校は何?\n",
      "解答：バウハウス\n",
      "\n",
      "問題：「ロボットは人間に危害を加えてはいけない」などの「ロボット工学の三原則」を記した短編集『われはロボット』などで知られるSF作家は誰?\n",
      "解答：アイザック・アシモフ\n",
      "\n"
     ]
    },
    {
     "output_type": "stream",
     "name": "stderr",
     "text": [
      "\r 78%|███████▊  | 776/1000 [09:15<06:52,  1.84s/it]"
     ]
    },
    {
     "output_type": "stream",
     "name": "stdout",
     "text": [
      "問題：古代中国・唐の文人・韓愈が詠んだ詩「鴻溝を過ぐ」の一節に由来する、「運を天にまかせた大勝負」を意味する言葉は何?\n",
      "解答：鴻門の会\n",
      "\n",
      "問題：芝居などで、幕が開いたときに役者がすでに舞台の上に出ている状態を何という?\n",
      "解答：幕切れ\n",
      "\n",
      "問題：三角形の三辺の長さから面積を求める公式のことを、発見したギリシャの数学者の名をとって「何の公式」という?\n",
      "解答：ヘロンの公式\n",
      "\n",
      "問題：日本年金機構が年金加入者に対して毎年誕生月に郵送する記録通知書のことを何便という?\n",
      "解答：ねんきん特別便\n",
      "\n"
     ]
    },
    {
     "output_type": "stream",
     "name": "stderr",
     "text": [
      "\r 78%|███████▊  | 780/1000 [09:17<05:13,  1.42s/it]"
     ]
    },
    {
     "output_type": "stream",
     "name": "stdout",
     "text": [
      "問題：サッカーの判定システム「VAR」は何という言葉の略?\n",
      "解答：VARは「ビデオ・アシスタント・レフェリー」の略です。\n",
      "\n",
      "問題：刑部親王や藤原不比等らによって701年に完成された日本の法典は何?\n",
      "解答：大宝律令\n",
      "\n",
      "問題：初期の作風を「青の時代」、その次の作風を「桃色の時代」といったスペインの画家は誰?\n",
      "解答：ピカソ\n",
      "\n",
      "問題：男女の立場が逆転し、女性が将軍となった徳川政権下の日本を描いた、よしながふみの漫画は何?\n",
      "解答：大奥\n",
      "\n"
     ]
    },
    {
     "output_type": "stream",
     "name": "stderr",
     "text": [
      "\r 78%|███████▊  | 784/1000 [09:19<03:58,  1.11s/it]"
     ]
    },
    {
     "output_type": "stream",
     "name": "stdout",
     "text": [
      "問題：常用漢字で部首が「魚へん」なのは鯨と何?\n",
      "解答：鮪\n",
      "\n",
      "問題：1893年にこれを寄贈したイギリスのカナダ総督の名前がつけられた、NHLの優勝チームに与えられるトロフィーの名前は何?\n",
      "解答：スタンレー・カップ\n",
      "\n",
      "問題：トリスタンやランスロットなど、「アーサー王伝説」でアーサー王に仕えた騎士のことを何という?\n",
      "解答：円卓の騎士\n",
      "\n",
      "問題：理科の実験ではアンモニア以外で行われることはほとんどない、水に溶けやすく空気よりも軽い気体を集める方法は何?\n",
      "解答：上方置換\n",
      "\n",
      "エラーを受け取りました：The server is overloaded or not ready yet.\n",
      "10秒待機します\n"
     ]
    },
    {
     "output_type": "stream",
     "name": "stderr",
     "text": [
      "\r 79%|███████▉  | 788/1000 [10:00<13:38,  3.86s/it]"
     ]
    },
    {
     "output_type": "stream",
     "name": "stdout",
     "text": [
      "問題：1830年に起きたフランス7月革命を題材にした、ウジェーヌ・ドラクロワの絵画は何?\n",
      "解答：民衆を導く自由の女神\n",
      "\n",
      "問題：鹿児島県から宮崎県にかけて広がる、火山から噴出した白色の堆積物からなる台地を何という?\n",
      "解答：シラス台地\n",
      "\n",
      "問題：ローマ字の表記法に名を残すジェームス・ヘボンが初代総長を務めたのは、現在の何大学?\n",
      "解答：明治学院大学\n",
      "\n",
      "問題：アカデミー賞で、外国語映画として初めて作品賞を受賞した、半地下の家で暮らすギテク、チュンスク、ギウ、ギジョンの4人家族を描いた、ポン・ジュノ監督の映画は何?\n",
      "解答：パラサイト 半地下の家族\n",
      "\n"
     ]
    },
    {
     "output_type": "stream",
     "name": "stderr",
     "text": [
      "\r 79%|███████▉  | 792/1000 [10:01<09:39,  2.79s/it]"
     ]
    },
    {
     "output_type": "stream",
     "name": "stdout",
     "text": [
      "問題：英語で「追跡」という意味の、スピードスケートの団体種目は何?\n",
      "解答：team pursuit\n",
      "\n",
      "問題：ハワイ語で「はねるノミ」という意味がある、ハワイアンミュージックでおなじみの4本弦の楽器は何?\n",
      "解答：ウクレレ\n",
      "\n",
      "問題：鍋料理の「柳川鍋」は、ドジョウと何の野菜を卵でとじた料理?\n",
      "解答：ゴボウ\n",
      "\n",
      "問題：長野県の諏訪湖で厳しい冬にあらわれる、湖の水面が気温の変化で収縮・膨張し、「氷の道」のように盛り上がる現象を何という?\n",
      "解答：御神渡り\n",
      "\n"
     ]
    },
    {
     "output_type": "stream",
     "name": "stderr",
     "text": [
      "\r 80%|███████▉  | 796/1000 [10:02<07:01,  2.07s/it]"
     ]
    },
    {
     "output_type": "stream",
     "name": "stdout",
     "text": [
      "問題：「雄のミツバチ」を意味する英語から名づけられた、遠隔操作が可能な小型の無人航空機といえば何?\n",
      "解答：ドローン\n",
      "\n",
      "問題：赤外線を発見した物理学者はハーシェルですが、紫外線を発見した物理学者は誰?\n",
      "解答：リッター\n",
      "\n",
      "問題：古代エジプトやメソポタミアで使われていた、人の肘から中指の先までをもとにして作られた長さの単位は何?\n",
      "解答：キュビット\n",
      "\n",
      "問題：陸上競技などのトレーニングで、一定の間隔をおいて、激しい運動とゆるやかな運動を繰り返すことを「何トレーニング」という?\n",
      "解答：インターバルトレーニング\n",
      "\n"
     ]
    },
    {
     "output_type": "stream",
     "name": "stderr",
     "text": [
      "\r 80%|████████  | 800/1000 [10:04<05:11,  1.56s/it]"
     ]
    },
    {
     "output_type": "stream",
     "name": "stdout",
     "text": [
      "問題：天へと至るような美しい景観から「天国への階段」とも呼ばれる、フィリピン・ルソン島北部の中央山岳地に広がる世界遺産の棚田は何?\n",
      "解答：フィリピン・コルディリェーラの棚田群\n",
      "\n",
      "問題：映画やドラマの撮影で、ロケ地の提供やエキストラの手配など様々な支援を行い、地域の活性化を図る機関を何という?\n",
      "解答：フィルム・コミッション\n",
      "\n",
      "問題：昔から「西の富士、東のここ」と呼ばれる茨城県の山で、毎年8月に行われるガマ祭りでも有名なのはどこ?\n",
      "解答：西金砂山\n",
      "\n",
      "問題：団体旅行に同行する添乗員を「ツアコン」といいますが、これを略さずにいうと何?\n",
      "解答：ツアーコンダクター\n",
      "\n"
     ]
    },
    {
     "output_type": "stream",
     "name": "stderr",
     "text": [
      "\r 80%|████████  | 804/1000 [10:05<03:49,  1.17s/it]"
     ]
    },
    {
     "output_type": "stream",
     "name": "stdout",
     "text": [
      "問題：麻雀で使われる、白・發・中の3種類の牌のことを、総称して何牌という?\n",
      "解答：三元牌\n",
      "\n",
      "問題：楽譜に用いる音楽記号で、同じ高さの2つの音符を弧線で結び、ひとつの音のようにつなげて演奏することを指示する記号を何という?\n",
      "解答：タイ\n",
      "\n",
      "問題：全日本かるた協会の規定では「難波津の歌」と定められている、小倉百人一首を用いて行う競技かるたにおいて、最初に読まれる歌のことを何という?\n",
      "解答：序歌\n",
      "\n",
      "問題：液体がその表面積をできるだけ小さくしようとする力を何という?\n",
      "解答：表面張力\n",
      "\n"
     ]
    },
    {
     "output_type": "stream",
     "name": "stderr",
     "text": [
      "\r 81%|████████  | 808/1000 [10:06<02:53,  1.11it/s]"
     ]
    },
    {
     "output_type": "stream",
     "name": "stdout",
     "text": [
      "問題：息をつく間もなくひたすら喋り続けることを、ある武器にたとえて、俗に「何トーク」という?\n",
      "解答：マシンガントーク\n",
      "\n",
      "問題：安土桃山時代に京都で「かぶき踊り」を演じ、「歌舞伎の祖」として歴史に名を残す女性は誰?\n",
      "解答：出雲阿国\n",
      "\n",
      "問題：奈良・平安時代に貴族が食べていた乳製品が語源となった、「本当の面白さ」を意味する言葉は?\n",
      "解答：鳥のミルク\n",
      "\n",
      "問題：ラーメンの丼など中華料理の器によく描かれる、「喜」という漢字を2つ並べた紋様を何という?\n",
      "解答：双喜紋\n",
      "\n",
      "エラーを受け取りました：The server is overloaded or not ready yet.\n",
      "10秒待機します\n"
     ]
    },
    {
     "output_type": "stream",
     "name": "stderr",
     "text": [
      "\r 81%|████████  | 812/1000 [10:48<11:44,  3.75s/it]"
     ]
    },
    {
     "output_type": "stream",
     "name": "stdout",
     "text": [
      "問題：1903年のノーベル物理学賞をキュリー夫妻とともに受賞した、放射能の単位に名を残すフランスの物理学者は誰?\n",
      "解答：アンリ・ベクレル\n",
      "\n",
      "問題：スーパーコンピュータの「富岳」を運用している、文部科学省所管の自然科学系総合研究所といえば何?\n",
      "解答：理化学研究所\n",
      "\n",
      "問題：物事に決着をつけることを、和歌や俳句の最後によく使われる2文字の言葉にちなんで「何をつける」という?\n",
      "解答：結び\n",
      "\n",
      "問題：ミュージカルの代名詞ともなっている、ニューヨークを南北に貫く通りは何?\n",
      "解答：ブロードウェイ\n",
      "\n"
     ]
    },
    {
     "output_type": "stream",
     "name": "stderr",
     "text": [
      "\r 82%|████████▏ | 816/1000 [10:48<08:15,  2.69s/it]"
     ]
    },
    {
     "output_type": "stream",
     "name": "stdout",
     "text": [
      "問題：日本のうちわの生産量9割をしめる、香川県の都市はどこ?\n",
      "解答：丸亀市\n",
      "\n",
      "問題：「イケダン」や「シロガネーゼ」という言葉を生み出した、光文社が発売している女性向け月刊ファッション雑誌は何?\n",
      "解答：VERY\n",
      "\n",
      "問題：「カラカラ」と呼ばれる容器で出されることが多い、沖縄を代表する米焼酎といえば何?\n",
      "解答：泡盛\n",
      "\n",
      "問題：2012年4月に氷河の存在が確認された、「岩と雪の殿堂」とも呼ばれる飛騨山脈・立山連峰の山は何?\n",
      "解答：剱岳\n",
      "\n"
     ]
    },
    {
     "output_type": "stream",
     "name": "stderr",
     "text": [
      "\r 82%|████████▏ | 820/1000 [10:50<05:55,  1.97s/it]"
     ]
    },
    {
     "output_type": "stream",
     "name": "stdout",
     "text": [
      "問題：「憂鬱」「溜息」「退屈」「消失」などのシリーズがある、角川書店のライトノベルは何?\n",
      "解答：涼宮ハルヒシリーズ\n",
      "\n",
      "問題：ユダヤ暦のニサン月14日の夜から一週間行われる、ユダヤ民族がエジプトを脱出したことを記念するお祭りは何?\n",
      "解答：過越祭\n",
      "\n",
      "問題：競技中にユニフォームの襟がパタパタしないようにと「ボタンダウン」のデザインが生まれたスポーツは何?\n",
      "解答：ポロ競技\n",
      "\n",
      "問題：幕末、戊辰戦争に際して会津藩が組織した、16歳から17歳の男子を中心とした少年部隊は何?\n",
      "解答：白虎隊\n",
      "\n"
     ]
    },
    {
     "output_type": "stream",
     "name": "stderr",
     "text": [
      "\r 82%|████████▏ | 824/1000 [10:51<04:17,  1.47s/it]"
     ]
    },
    {
     "output_type": "stream",
     "name": "stdout",
     "text": [
      "問題：郵便局が販売する、あらかじめ料金63円が印刷され、封筒と便箋が一体となった「郵便書簡」のことを何という?\n",
      "解答：ミニレター\n",
      "\n",
      "問題：ベートーベンの交響曲第3番『英雄』。この「英雄」とは、もともと誰のこと?\n",
      "解答：ナポレオン\n",
      "\n",
      "問題：胃液や膵液といった消化液に多く含まれる、中性脂肪を脂肪酸とグリセリンに加水分解する消化酵素は何?\n",
      "解答：リパーゼ\n",
      "\n",
      "問題：衆議院で内閣不信任決議案が可決された場合、内閣は何日以内に総辞職か衆議院解散を行わなくてはならない?\n",
      "解答：10日以内\n",
      "\n"
     ]
    },
    {
     "output_type": "stream",
     "name": "stderr",
     "text": [
      "\r 83%|████████▎ | 828/1000 [10:52<03:12,  1.12s/it]"
     ]
    },
    {
     "output_type": "stream",
     "name": "stdout",
     "text": [
      "問題：車椅子バスケットボールでよく行われる、片側の車輪を浮かせて高さを出すプレーを、「傾ける」という意味の英語で何という?\n",
      "解答：ティルト\n",
      "\n",
      "問題：外国人が日本に帰化する場合、原則として、何年以上継続して日本に住んでいなくてはならない?\n",
      "解答：5年\n",
      "\n",
      "問題：クラーク博士やフェノロサなど、明治時代に日本政府によって招かれ、技術や学問を指導した外国人のことを特に何という?\n",
      "解答：お雇い外国人\n",
      "\n",
      "問題：1955年に福武哲彦が設立した福武書店を前身とする、「こどもちゃれんじ」や「進研ゼミ」などの通信教育事業で知られる企業はどこ?\n",
      "解答：ベネッセコーポレーション\n",
      "\n"
     ]
    },
    {
     "output_type": "stream",
     "name": "stderr",
     "text": [
      "\r 83%|████████▎ | 832/1000 [10:53<02:29,  1.12it/s]"
     ]
    },
    {
     "output_type": "stream",
     "name": "stdout",
     "text": [
      "問題：主に銅の精製で行われる、2つの金属板をイオン溶液に入れ、電気を流して純度を上げていくことを漢字4文字で何という?\n",
      "解答：電解精錬\n",
      "\n",
      "問題：順徳天皇、日蓮、世阿弥などが流された、日本海の島はどこ?\n",
      "解答：喜界島\n",
      "\n",
      "問題：名前の由来には病害虫に強く寿命が長いことからという説がある、宮崎県の県の木に指定されているヤシ科の植物は何?\n",
      "解答：カナリーヤシ\n",
      "\n",
      "問題：エスプレッソを飲む時に用いる小型のコーヒーカップを、「半分のカップ」という意味のフランス語で何という?\n",
      "解答：デミタス\n",
      "\n"
     ]
    },
    {
     "output_type": "stream",
     "name": "stderr",
     "text": [
      "\r 84%|████████▎ | 836/1000 [10:55<01:55,  1.42it/s]"
     ]
    },
    {
     "output_type": "stream",
     "name": "stdout",
     "text": [
      "問題：『万葉集』におさめられている、班田制下で貧しい生活を送る農民の姿を歌った山上憶良の歌は何?\n",
      "解答：『貧窮問答歌』\n",
      "\n",
      "問題：「セシルカット」や「サブリナパンツ」など、映画から生まれたファッションのことを何という?\n",
      "解答：ムービースタイル\n",
      "\n",
      "問題：管楽器の演奏で、マウスピースを口にあてる形や口の周りの筋肉の使い方を、フランス語で何という?\n",
      "解答：エンボシュア\n",
      "\n",
      "問題：「ぶーん」という音を出して飛ぶことから漢字で「虫へんに文学の文」と書く、ともいわれる生き物は何?\n",
      "解答：蜂\n",
      "\n"
     ]
    },
    {
     "output_type": "stream",
     "name": "stderr",
     "text": [
      "\r 84%|████████▍ | 840/1000 [10:55<01:30,  1.77it/s]"
     ]
    },
    {
     "output_type": "stream",
     "name": "stdout",
     "text": [
      "問題：新潮文庫で累計発行部数最多を誇る、「先生と私」「両親と私」「先生と遺書」の3部からなる、夏目漱石の小説は何?\n",
      "解答：『こゝろ』\n",
      "\n",
      "問題：文化遺産保護に関わる国際的な非政府組織「国際記念物遺跡会議」のことを、アルファベット6文字の略称で何という?\n",
      "解答：ICOMOS\n",
      "\n",
      "問題：パソコンのキーボードでは右側に位置していることが多い、数字を入力するためのキーの総称は何?\n",
      "解答：テンキー\n",
      "\n",
      "問題：「居ぬ」と「死ぬ」の2語のみ該当する、文語文法の動詞の活用のひとつは何?\n",
      "解答：五段活用\n",
      "\n"
     ]
    },
    {
     "output_type": "stream",
     "name": "stderr",
     "text": [
      "\r 84%|████████▍ | 844/1000 [10:57<01:15,  2.06it/s]"
     ]
    },
    {
     "output_type": "stream",
     "name": "stdout",
     "text": [
      "問題：1221年に後鳥羽上皇が鎌倉幕府を打ち倒そうと兵を起こしたが鎮圧された事件のことを、その時の年号から何の乱という?\n",
      "解答：承久の乱\n",
      "\n",
      "問題：沖縄料理のひとつ「中身汁」とは、何の内臓を使って作られた料理?\n",
      "解答：豚の内臓\n",
      "\n",
      "問題：テナガザルやチンパンジーが行う、長い腕を使って枝伝いに木を移動する方法を英語で何という?\n",
      "解答：ブラキエーション\n",
      "\n",
      "問題：ホテルやレストランでは「予約」のこと、スポーツの世界では「控えの選手」を指す英語といえば何?\n",
      "解答：「サブ」\n",
      "\n"
     ]
    },
    {
     "output_type": "stream",
     "name": "stderr",
     "text": [
      "\r 85%|████████▍ | 848/1000 [10:58<01:05,  2.33it/s]"
     ]
    },
    {
     "output_type": "stream",
     "name": "stdout",
     "text": [
      "問題：北海道で地方裁判所が置かれている4つの市とは、札幌市、函館市、旭川市と何市?\n",
      "解答：釧路市\n",
      "\n",
      "問題：大正から戦後まで発行され、『二銭銅貨』や『黒死館殺人事件』など数多くの探偵小説を世に出した、モダニズムを代表する雑誌は何?\n",
      "解答：新青年\n",
      "\n",
      "問題：生まれてからちょうど10000日目の人の満年齢は何歳?\n",
      "解答：27歳\n",
      "\n",
      "問題：アメリカ本土でもっとも高いホイットニー山がある、スペイン語で「雪を頂く山」という意味がある山脈は何?\n",
      "解答：シエラネバダ山脈\n",
      "\n"
     ]
    },
    {
     "output_type": "stream",
     "name": "stderr",
     "text": [
      "\r 85%|████████▌ | 852/1000 [10:59<00:59,  2.49it/s]"
     ]
    },
    {
     "output_type": "stream",
     "name": "stdout",
     "text": [
      "問題：玄宗皇帝と楊貴妃の悲恋をうたった、中国・唐の詩人・白居易の叙事詩は何?\n",
      "解答：長恨歌\n",
      "\n",
      "問題：「よさこい祭り」といえば高知市のお祭りですが、「YOSAKOIソーラン祭り」といえばどこの都市のお祭り?\n",
      "解答：札幌市\n",
      "\n",
      "問題：その歌声は「天使の歌声」と表現される、オーストリアを代表する有名な少年合唱団は何?\n",
      "解答：ウィーン少年合唱団\n",
      "\n",
      "問題：システィナ礼拝堂の天井画『創世記』や壁画『最後の審判』を描いた、イタリア・ルネサンスの芸術家は誰?\n",
      "解答：ミケランジェロ\n",
      "\n"
     ]
    },
    {
     "output_type": "stream",
     "name": "stderr",
     "text": [
      "\r 86%|████████▌ | 856/1000 [11:01<01:00,  2.38it/s]"
     ]
    },
    {
     "output_type": "stream",
     "name": "stdout",
     "text": [
      "問題：正式には「ザ・チャンピオンシップ」という、イギリスで開催されるテニスの四大大会のひとつは何?\n",
      "解答：ウィンブルドン選手権\n",
      "\n",
      "問題：近未来のネット社会を描いた1999年公開の映画『ザ・インターネット』のピザの宅配シーンをきっかけに、実業家の花蜜幸伸が創設した、日本最大級の宅配デリバリーサイトは何?\n",
      "解答：出前館\n",
      "\n",
      "問題：水道光熱費の使用量の単位で、ガスや水道については「立方メートル」が用いられますが、電気の使用量を表す単位は何?\n",
      "解答：電気の使用量を表す単位は「キロワット時」です。\n",
      "\n",
      "問題：松尾芭蕉にちなんだ「バショー」、夏目漱石にちなんだ「ソーセキ」、芥川龍之介にちなんだ「アクタガワ」といった名前のクレーターがある太陽系の惑星は何?\n",
      "解答：水星\n",
      "\n"
     ]
    },
    {
     "output_type": "stream",
     "name": "stderr",
     "text": [
      "\r 86%|████████▌ | 860/1000 [11:03<00:59,  2.37it/s]"
     ]
    },
    {
     "output_type": "stream",
     "name": "stdout",
     "text": [
      "問題：清少納言の随筆『枕草子』の冒頭で最初にでてくる色は何?\n",
      "解答：春夏秋冬の四季を取り上げたということである。\n",
      "\n",
      "問題：夜空に輝く88星座の中で、ギリシャ神話の女性の名前がそのままつけられたものはアンドロメダ座と何座?\n",
      "解答：カシオペヤ座\n",
      "\n",
      "問題：青森県の陸奥湾に面する3つの半島は、下北半島、津軽半島と何?\n",
      "解答：夏泊半島\n",
      "\n",
      "問題：7種類の材料を使って作ることから、縁起の良い神様にちなんで名づけられた、カレーの付け合わせとしてもおなじみの漬物は何?\n",
      "解答：福神漬\n",
      "\n"
     ]
    },
    {
     "output_type": "stream",
     "name": "stderr",
     "text": [
      "\r 86%|████████▋ | 864/1000 [11:04<00:52,  2.60it/s]"
     ]
    },
    {
     "output_type": "stream",
     "name": "stdout",
     "text": [
      "問題：スペイン語では「サルー」、ドイツ語では「プロースト」、英語で「チアーズ」といえば、日本語では何という言葉?\n",
      "解答：応援\n",
      "\n",
      "問題：牛乳を温めると表面に薄い膜が張りますが、この現象を発見した科学者にちなんで何という?\n",
      "解答：ラムスデン現象\n",
      "\n",
      "問題：アメリカに入国する際に必要な「電子渡航認証システム」のことを、アルファベット4文字の略称で何という?\n",
      "解答：ESTA\n",
      "\n",
      "問題：「ショッキング」「サーモン」「チェリー」といえば何色の種類?\n",
      "解答：赤\n",
      "\n"
     ]
    },
    {
     "output_type": "stream",
     "name": "stderr",
     "text": [
      "\r 87%|████████▋ | 868/1000 [11:05<00:45,  2.89it/s]"
     ]
    },
    {
     "output_type": "stream",
     "name": "stdout",
     "text": [
      "問題：日本で使われた元号で、「文明」という元号があったのは室町時代ですが、「文化」という元号があったのは何時代?\n",
      "解答：江戸時代\n",
      "\n",
      "問題：フランス語で「大使館員」という意味がある、ビジネスマンが多く用いる角型のブリーフケースは何?\n",
      "解答：アタッシュケース\n",
      "\n",
      "問題：漢数字の「一」と「千」を用いた四字熟語で、「たいへん待ち遠しいこと」は「一日千秋」といいますが、「時間が貴重なこと」は何という?\n",
      "解答：一刻千金\n",
      "\n",
      "問題：京都「五山送り火」で灯される5つの形のうち、最初に点火されるのは「大文字」ですが、最後に点火されるのは何?\n",
      "解答：鳥居形\n",
      "\n"
     ]
    },
    {
     "output_type": "stream",
     "name": "stderr",
     "text": [
      "\r 87%|████████▋ | 872/1000 [11:06<00:42,  3.04it/s]"
     ]
    },
    {
     "output_type": "stream",
     "name": "stdout",
     "text": [
      "問題：困難に出会ってはじめてその人の真価が問われる、ということを、「疾風に何を知る」という?\n",
      "解答：疾風に何を知る\n",
      "\n",
      "問題：ハイテク産業の会社が集まることから「インドのシリコンバレー」と呼ばれる、カルナータカ州の州都はどこ?\n",
      "解答：ベンガルール\n",
      "\n",
      "問題：1898年、キュリー夫妻がウラン鉱石から発見した、元素記号「Ra」の元素は何?\n",
      "解答：ラジウム\n",
      "\n",
      "問題：物理学において、大きさと方向を持つ力を「ベクトル」というのに対し、大きさのみの力のことを何という?\n",
      "解答：スカラー\n",
      "\n"
     ]
    },
    {
     "output_type": "stream",
     "name": "stderr",
     "text": [
      "\r 88%|████████▊ | 876/1000 [11:07<00:38,  3.20it/s]"
     ]
    },
    {
     "output_type": "stream",
     "name": "stdout",
     "text": [
      "問題：世界文化遺産「古都京都の文化財」に指定されている寺社のうち、唯一、京都府内にはないお寺は何?\n",
      "解答：大原三千院\n",
      "\n",
      "問題：煮物料理などで、材料を回しながら不規則な形に切る切り方を何という?\n",
      "解答：乱切り\n",
      "\n",
      "問題：炭化水素で、炭素間の結合が単結合のみであるものをアルカンといいますが、1組だけ二重結合を含むものを何という?\n",
      "解答：アルケン\n",
      "\n",
      "問題：猛烈な勢いで物事にあたることを、百獣の王・ライオンが奮闘する様子になぞらえた四字熟語で何という?\n",
      "解答：猪突猛進\n",
      "\n"
     ]
    },
    {
     "output_type": "stream",
     "name": "stderr",
     "text": [
      "\r 88%|████████▊ | 880/1000 [11:09<00:39,  3.03it/s]"
     ]
    },
    {
     "output_type": "stream",
     "name": "stdout",
     "text": [
      "問題：カウアイ島、マウイ島、オアフ島といえば、アメリカの何州に属する島?\n",
      "解答：ハワイ州\n",
      "\n",
      "問題：ビクトル・ユーゴーから本の売れ行きを確かめるために「?」だけの手紙を送りつけられ、「!」だけの返事を書いた、世界一短い手紙のやり取りを行ったという出版社はどこ?\n",
      "解答：シェイクスピア・アンド・カンパニー書店\n",
      "\n",
      "問題：人の好みや考え方はみんな異なることを、漢数字の「十」という字を2回用いた四字熟語で何という?\n",
      "解答：十人十色\n",
      "\n",
      "問題：ペリーが黒船で来日したときに、英語と日本語の間に入って通訳されたのは何語?\n",
      "解答：オランダ語\n",
      "\n"
     ]
    },
    {
     "output_type": "stream",
     "name": "stderr",
     "text": [
      "\r 88%|████████▊ | 884/1000 [11:10<00:36,  3.18it/s]"
     ]
    },
    {
     "output_type": "stream",
     "name": "stdout",
     "text": [
      "問題：「ファスナー」を指す「チャック」の語源となったものは何?\n",
      "解答：巾着\n",
      "\n",
      "問題：1960年代半ばに起きた、稲や小麦の品種改良による技術革新のことを、ある色を使って「何の革命」という?\n",
      "解答：緑の革命\n",
      "\n",
      "問題：お酢として料理に使われたことから、かつては「酢橘」と呼ばれていた、徳島県名産の柑橘類は何?\n",
      "解答：スダチ\n",
      "\n",
      "問題：ミルクティーなどに入れられることが多い、キャッサバの根からとったデンプンを何という?\n",
      "解答：タピオカ\n",
      "\n"
     ]
    },
    {
     "output_type": "stream",
     "name": "stderr",
     "text": [
      "\r 89%|████████▉ | 888/1000 [11:11<00:34,  3.28it/s]"
     ]
    },
    {
     "output_type": "stream",
     "name": "stdout",
     "text": [
      "問題：共同浴場である本館は重要文化財に指定されている、愛媛県松山市にある有名な温泉は何?\n",
      "解答：道後温泉\n",
      "\n",
      "問題：アンデルセン童話『親指姫』で、親指姫は何の花の中から生まれた?\n",
      "解答：チューリップの花\n",
      "\n",
      "問題：豊臣秀吉と明智光秀が戦った戦場に由来する、物事の大事な局面を指す言葉は何?\n",
      "解答：天王山\n",
      "\n",
      "問題：日本の元号で、最も長く続いたのは「昭和」、2番目は「明治」ですが、3番目は何?\n",
      "解答：「平成」\n",
      "\n"
     ]
    },
    {
     "output_type": "stream",
     "name": "stderr",
     "text": [
      "\r 89%|████████▉ | 892/1000 [11:12<00:34,  3.16it/s]"
     ]
    },
    {
     "output_type": "stream",
     "name": "stdout",
     "text": [
      "問題：48ヶ所ものカーブがあることから名付けられた、栃木県日光市の馬返と中禅寺湖を結ぶ、紅葉の名所として知られる坂は?\n",
      "解答：いろは坂\n",
      "\n",
      "問題：略して「B.D.」とも呼ばれる、フランス語圏で広く読まれているストーリー漫画を総称して何という?\n",
      "解答：バンド・デシネ\n",
      "\n",
      "問題：リンカーンが「人民の、人民による、人民のための政治」という演説を行ったアメリカ・ペンシルベニア州にある町はどこ?\n",
      "解答：ゲティスバーグ\n",
      "\n",
      "問題：国際間の対立状態が緩和することを「雪どけ」といいますが、この言葉が使われるきっかけとなった小説『雪どけ』を書いた旧ソ連の作家は誰?\n",
      "解答：イリヤ・エレンブルク\n",
      "\n"
     ]
    },
    {
     "output_type": "stream",
     "name": "stderr",
     "text": [
      "\r 90%|████████▉ | 896/1000 [11:14<00:35,  2.93it/s]"
     ]
    },
    {
     "output_type": "stream",
     "name": "stdout",
     "text": [
      "問題：独自の進化を遂げた動植物が多く住むことから、別名を「東洋のガラパゴス」と呼ばれる日本の島々は何諸島?\n",
      "解答：小笠原諸島\n",
      "\n",
      "問題：ラグビーで、各国の代表チーム同士が戦う国際試合のことを何という?\n",
      "解答：テストマッチ\n",
      "\n",
      "問題：1870年にスタンダード石油会社を設立し、「石油王」と呼ばれたアメリカの実業家は誰?\n",
      "解答：ジョン・ロックフェラー\n",
      "\n",
      "問題：野球で、同じ日に同じ対戦カードの試合を2試合行うことを英語で何という?\n",
      "解答：ダブルヘッダー (double header)\n",
      "\n"
     ]
    },
    {
     "output_type": "stream",
     "name": "stderr",
     "text": [
      "\r 90%|█████████ | 900/1000 [11:16<00:37,  2.68it/s]"
     ]
    },
    {
     "output_type": "stream",
     "name": "stdout",
     "text": [
      "問題：ゴリラが両手で胸をドンドンと叩く動作を何という?\n",
      "解答：ゴリラが両手で胸をドンドンと叩く動作は「チェストビート」という。\n",
      "\n",
      "問題：東京六大学で、名前に元号がついているのは明治大学とどこ?\n",
      "解答：大正大学\n",
      "\n",
      "問題：トイレを意味する「WC」。「W」は「ウォーター」ですが、「C」は何の略?\n",
      "解答：クローゼット\n",
      "\n",
      "問題：世界陸上などのスポーツイベントで目にする、記録に関する略記号で、「SB」は「シーズンベスト」のことですが、「PB」は何のこと?\n",
      "解答：「PB」は「パーソナルベスト」のことです。\n",
      "\n"
     ]
    },
    {
     "output_type": "stream",
     "name": "stderr",
     "text": [
      "\r 90%|█████████ | 904/1000 [11:19<00:47,  2.01it/s]"
     ]
    },
    {
     "output_type": "stream",
     "name": "stdout",
     "text": [
      "問題：ソウルオリンピックの「ホドリ」、平昌オリンピックの「スホラン」は、いずれも何の動物をモチーフにしたマスコット?\n",
      "解答：ソウルオリンピックの「ホドリ」はハト、平昌オリンピックの「スホラン」は虎をモチーフにしたマスコットです。\n",
      "\n",
      "問題：1930年の第1回サッカーワールドカップで開催国となり、大会でも優勝し、初代王者になった国はどこ?\n",
      "解答：ウルグアイ\n",
      "\n",
      "問題：19世紀から20世紀にかけて活躍したスペインの音楽家で、バイオリンの名手・サラサーテとチェロの名手・カザルスといえば共通するファーストネームは何?\n",
      "解答：パブロ\n",
      "\n",
      "問題：その街並みから「南米のパリ」とも称される、アルゼンチンの首都はどこ?\n",
      "解答：ブエノスアイレス\n",
      "\n"
     ]
    },
    {
     "output_type": "stream",
     "name": "stderr",
     "text": [
      "\r 91%|█████████ | 908/1000 [11:20<00:40,  2.29it/s]"
     ]
    },
    {
     "output_type": "stream",
     "name": "stdout",
     "text": [
      "問題：「京都三大祭」と呼ばれる祭りの中で1年で最初に開催される、平安朝の優雅な古典行列でおなじみの祭礼は何?\n",
      "解答：葵祭\n",
      "\n",
      "問題：薩摩藩出身の武士のことで、現在では鹿児島県の男性を指す漢字4文字の言葉は何?\n",
      "解答：薩摩男児\n",
      "\n",
      "問題：先住民族の名に由来する、キューバやジャマイカが浮かぶ、中南米と西インド諸島に囲まれた大西洋の海はどこ?\n",
      "解答：カリブ海\n",
      "\n",
      "問題：以前の失敗にこりて必要以上の用心をすることを、「あつものにこりて何を吹く」という?\n",
      "解答：牛の尾を吹く\n",
      "\n"
     ]
    },
    {
     "output_type": "stream",
     "name": "stderr",
     "text": [
      "\r 91%|█████████ | 912/1000 [11:21<00:34,  2.57it/s]"
     ]
    },
    {
     "output_type": "stream",
     "name": "stdout",
     "text": [
      "問題：アルデバランをα星とする星座は牡牛座ですが、アルデラミンをα星とする星座は何座?\n",
      "解答：おおいぬ座\n",
      "\n",
      "問題：天気図で、2つの高気圧に挟まれた、気圧の低い部分のことを「気圧の何」という?\n",
      "解答：気圧の谷\n",
      "\n",
      "問題：競走馬の「サラブレッドの三大始祖」と呼ばれる3頭の馬は、ダーレーアラビアン、ゴドルフィンアラビアンと何?\n",
      "解答：バイアリーターク\n",
      "\n",
      "問題：毎年7月に「北海へそ祭り」が行われる、ラベンダー畑で有名な北海道の都市はどこ?\n",
      "解答：富良野\n",
      "\n"
     ]
    },
    {
     "output_type": "stream",
     "name": "stderr",
     "text": [
      "\r 92%|█████████▏| 916/1000 [11:22<00:29,  2.89it/s]"
     ]
    },
    {
     "output_type": "stream",
     "name": "stdout",
     "text": [
      "問題：消費者の心理のプロセスを表す言葉「AIDMA」。この言葉が指す5つのプロセスとは、Attention、Interest、Desire、Memoryと何?\n",
      "解答：Action\n",
      "\n",
      "問題：「多年にわたり社会につくしてきた老人を敬愛し、長寿を祝う」と定められている、国民の祝日は何?\n",
      "解答：敬老の日\n",
      "\n",
      "問題：若者にしか聞こえないという17キロヘルツ前後の高周波数の音を、ある生き物にたとえて何という?\n",
      "解答：モスキート\n",
      "\n",
      "問題：医学用語では「鶏の眼」と書いて「鶏眼」という、足の裏などに角質が増殖することでできるふくらみは何?\n",
      "解答：胼胝\n",
      "\n"
     ]
    },
    {
     "output_type": "stream",
     "name": "stderr",
     "text": [
      "\r 92%|█████████▏| 920/1000 [11:23<00:26,  3.02it/s]"
     ]
    },
    {
     "output_type": "stream",
     "name": "stdout",
     "text": [
      "問題：『記憶の固執』などの作品で知られる、シュールレアリスムを代表するスペインの画家は誰?\n",
      "解答：サルバドール・ダリ\n",
      "\n",
      "問題：チキンライスの上にオムレツを乗せ、オムレツに切れ目を入れて開いて作るオムライスを、伊丹十三監督の映画に由来して何という?\n",
      "解答：ミンボーの女\n",
      "\n",
      "問題：映画の主人公で、クラーク・ケントが変身するのは『スーパーマン』ですが、ブルース・ウェインが変身するのは何というヒーロー?\n",
      "解答：バットマン\n",
      "\n",
      "問題：大リーグのワシントン・ナショナルズが所属するのは、ナショナルリーグ、アメリカンリーグのどっち?\n",
      "解答：ナショナルリーグ\n",
      "\n"
     ]
    },
    {
     "output_type": "stream",
     "name": "stderr",
     "text": [
      "\r 92%|█████████▏| 924/1000 [11:25<00:24,  3.12it/s]"
     ]
    },
    {
     "output_type": "stream",
     "name": "stdout",
     "text": [
      "問題：日本銀行が年4回行う「全国企業短期経済観測調査」のことを、漢字4文字で通称何という?\n",
      "解答：日銀短観\n",
      "\n",
      "問題：旅行用の手さげかばんや、丸みのある逆三角形のメガネの形の名前になっている、アメリカ東海岸の都市はどこ?\n",
      "解答：ニュージャージー州\n",
      "\n",
      "問題：学名を「ニッポニア・ニッポン」という、日本の特別天然記念物に指定されている鳥は何?\n",
      "解答：コウノトリ\n",
      "\n",
      "問題：昔話『一寸法師』で、一寸法師が刀の代わりにしたものは何?\n",
      "解答：針\n",
      "\n"
     ]
    },
    {
     "output_type": "stream",
     "name": "stderr",
     "text": [
      "\r 93%|█████████▎| 928/1000 [11:26<00:24,  2.90it/s]"
     ]
    },
    {
     "output_type": "stream",
     "name": "stdout",
     "text": [
      "問題：インフレが急激に進み、物価の金額表示が大きくなりすぎた場合などに、通貨単位を切り下げることを、英語で何という?\n",
      "解答：デノミネーション\n",
      "\n",
      "問題：美少年タジオに執着する作家・アシェンバッハの姿を描いた、ドイツの作家トマス・マンの代表作は?\n",
      "解答：「ヴェニスに死す」\n",
      "\n",
      "問題：南米のアマゾン川に生息する魚で、ピラニアはカラシン科の魚ですが、ピラルクは何科の魚?\n",
      "解答：シクリッド科\n",
      "\n",
      "問題：英語で「膝の上」という意味があるパソコンの種類は何?\n",
      "解答：ラップトップパソコン\n",
      "\n"
     ]
    },
    {
     "output_type": "stream",
     "name": "stderr",
     "text": [
      "\r 93%|█████████▎| 932/1000 [11:28<00:23,  2.89it/s]"
     ]
    },
    {
     "output_type": "stream",
     "name": "stdout",
     "text": [
      "問題：中国では「タイコノート」、ロシアでは「コスモノート」、アメリカでは「アストロノート」といえば、どんな職業?\n",
      "解答：宇宙飛行士\n",
      "\n",
      "問題：青年たちが裸で踊りながら神々をたたえた古代ギリシャの祭典に由来する、エリック・サティのピアノ曲は何?\n",
      "解答：ジムノペディ\n",
      "\n",
      "問題：エッフェル塔を嫌い、見なくてすむようにと、あえてエッフェル塔に通った、というエピソードで知られるフランスの作家は誰?\n",
      "解答：ギュスターヴ・フローベール\n",
      "\n",
      "問題：童謡『赤い靴』の2番の歌詞に出てくる港町はどこ?\n",
      "解答：横浜\n",
      "\n"
     ]
    },
    {
     "output_type": "stream",
     "name": "stderr",
     "text": [
      "\r 94%|█████████▎| 936/1000 [11:29<00:20,  3.13it/s]"
     ]
    },
    {
     "output_type": "stream",
     "name": "stdout",
     "text": [
      "問題：金融機関で、大企業などを対象にした大口の業務を「ホールセールバンキング」というのに対し、個人などを対象にした小口の業務を何という?\n",
      "解答：リテールバンキング\n",
      "\n",
      "問題：古代ギリシャの哲学者で、「万物の根源は水である」と説いたことで知られるのは誰?\n",
      "解答：タレス\n",
      "\n",
      "問題：『源氏物語』をベースにした漫画『あさきゆめみし』の作者は誰?\n",
      "解答：大和和紀\n",
      "\n",
      "問題：久保ミツロウと山本沙代が原案を手がけた、フィギュアスケート選手の勝生勇利を主人公とするアニメは何?\n",
      "解答：ユーリ!!! on ICE\n",
      "\n"
     ]
    },
    {
     "output_type": "stream",
     "name": "stderr",
     "text": [
      "\r 94%|█████████▍| 940/1000 [11:30<00:18,  3.29it/s]"
     ]
    },
    {
     "output_type": "stream",
     "name": "stdout",
     "text": [
      "問題：京都で結成された「壬生浪士組」を前身とする、近藤勇や土方歳三らが活躍した幕末の組織は何?\n",
      "解答：新選組\n",
      "\n",
      "問題：古くから災いの兆しとされ、中国の歴史書『史記』にも出現記録が記されている、およそ76年周期で地球に近づく彗星は何?\n",
      "解答：ハレー彗星\n",
      "\n",
      "問題：1936年の第1回はフィンランドのラース・ヴァレリアン・アールフォルスとアメリカのジェス・ダグラスが受賞した、「数学のノーベル賞」と呼ばれる賞は何賞?\n",
      "解答：フィールズ賞\n",
      "\n",
      "問題：パソコンのキーボードにある、「F1」や「F2」などのキーの「F」は、何という英語の頭文字?\n",
      "解答：「Function」\n",
      "\n"
     ]
    },
    {
     "output_type": "stream",
     "name": "stderr",
     "text": [
      "\r 94%|█████████▍| 944/1000 [11:31<00:17,  3.24it/s]"
     ]
    },
    {
     "output_type": "stream",
     "name": "stdout",
     "text": [
      "問題：英語では「パーマンネント・ニュートラル・カントリー」という、他国同士で起きた戦争には関与しないという立場をとる国を指す言葉は何?\n",
      "解答：スイス\n",
      "\n",
      "問題：ヨーロッパ中心の文明観を痛烈に批判した著書『西洋の没落』で知られるドイツの歴史学者は誰?\n",
      "解答：オスヴァルト・シュペングラー\n",
      "\n",
      "問題：毎年7月に祇園祭が開催される京都市の神社はどこ?\n",
      "解答：八坂神社\n",
      "\n",
      "問題：フランスの国会で、上院に相当するのは元老院ですが、下院に相当するのは何?\n",
      "解答：国民議会\n",
      "\n"
     ]
    },
    {
     "output_type": "stream",
     "name": "stderr",
     "text": [
      "\r 95%|█████████▍| 948/1000 [11:33<00:17,  2.94it/s]"
     ]
    },
    {
     "output_type": "stream",
     "name": "stdout",
     "text": [
      "問題：1895年、真空放電の研究中に未知の放射線を発見し「X線」と名づけた、ドイツの物理学者は誰?\n",
      "解答：ヴィルヘルム・レントゲン\n",
      "\n",
      "問題：医者のエリアス・リョンロートによってまとめられた、フィンランドを代表する民族叙事詩は何?\n",
      "解答：カレワラ\n",
      "\n",
      "問題：アメリカ合衆国の「国の花」はバラですが、メキシコ合衆国の「国の花」は何?\n",
      "解答：ダリア\n",
      "\n",
      "問題：つな引きのもっとも後ろの選手と、陸上のリレーの最後を走る選手に共通する呼び名は何?\n",
      "解答：アンカー\n",
      "\n"
     ]
    },
    {
     "output_type": "stream",
     "name": "stderr",
     "text": [
      "\r 95%|█████████▌| 952/1000 [11:34<00:15,  3.07it/s]"
     ]
    },
    {
     "output_type": "stream",
     "name": "stdout",
     "text": [
      "問題：昭和43年12月10日に、いわゆる「3億円事件」が発生したのは東京都何市?\n",
      "解答：府中市\n",
      "\n",
      "問題：ギザの三大ピラミッドとは、カフラー王、メンカウラー王と誰が埋葬されたもの?\n",
      "解答：クフ王\n",
      "\n",
      "問題：古代中国の楚の国の商人が、何でも突き通す矛と、すべてから守れる盾を売っていた故事に由来する、「論理の辻褄が合わないこと」を意味する二字熟語は何?\n",
      "解答：矛盾\n",
      "\n",
      "問題：江戸時代後期の「化政文化」の由来となった2つの元号は「文化」と何?\n",
      "解答：宝暦・天明\n",
      "\n"
     ]
    },
    {
     "output_type": "stream",
     "name": "stderr",
     "text": [
      "\r 96%|█████████▌| 956/1000 [11:35<00:13,  3.16it/s]"
     ]
    },
    {
     "output_type": "stream",
     "name": "stdout",
     "text": [
      "問題：井上靖の小説『氷壁』や、三浦綾子の小説『氷点』がかつて掲載されていた新聞は何新聞?\n",
      "解答：朝日新聞\n",
      "\n",
      "問題：キリスト教の東方正教会で礼拝の対象とされる、キリストやマリアの像などを描いた聖画像を何という?\n",
      "解答：イコン\n",
      "\n",
      "問題：トルコでは「海峡の内」という意味の「ボアジチ」という名で呼ばれる、黒海とマルマラ海を結ぶ海峡は何?\n",
      "解答：ダーダネルス海峡\n",
      "\n",
      "問題：飛松良輔の『ブルタックル』、雨瀬シオリの『ALL OUT!!』、池田文春の『ノーサイド』といえば、どんなスポーツを描いた漫画?\n",
      "解答：ラグビー\n",
      "\n"
     ]
    },
    {
     "output_type": "stream",
     "name": "stderr",
     "text": [
      "\r 96%|█████████▌| 960/1000 [11:36<00:11,  3.35it/s]"
     ]
    },
    {
     "output_type": "stream",
     "name": "stdout",
     "text": [
      "問題：水泳の公式大会などで、予選の通過ライン上に複数の選手が同タイムで並んだときに行う上位進出者決定戦を何という?\n",
      "解答：スイムオフ\n",
      "\n",
      "問題：天下一大五郎シリーズ、加賀恭一郎シリーズ、ガリレオシリーズなどの推理小説を書いている作家は誰?\n",
      "解答：東野圭吾\n",
      "\n",
      "問題：ゾロアスター教で、善の神はアフラマズダですが、悪の神は何?\n",
      "解答：アンラ・マンユ\n",
      "\n",
      "問題：学問や芸術を司るとされることから教育のシンボルとしても用いられる、ギリシャ神話のアテナと同一視されるローマ神話の女神は誰?\n",
      "解答：ミネルウァ\n",
      "\n"
     ]
    },
    {
     "output_type": "stream",
     "name": "stderr",
     "text": [
      "\r 96%|█████████▋| 964/1000 [11:37<00:10,  3.59it/s]"
     ]
    },
    {
     "output_type": "stream",
     "name": "stdout",
     "text": [
      "問題：観光客に人気の通りで、「小町通り」があるのは鎌倉市ですが、「国際通り」があるのはどこの都市?\n",
      "解答：沖縄市\n",
      "\n",
      "問題：「同じ川の水をめぐって争う者」という意味のラテン語に由来する、「競争相手」を意味する言葉は何?\n",
      "解答：ライバル\n",
      "\n",
      "問題：ベトナム最後の王朝・グエン朝が王都を置いた、世界遺産にも登録されているベトナムの古都といえばどこ?\n",
      "解答：フエ\n",
      "\n",
      "問題：ことわざで、「三文の徳」といわれるものは何?\n",
      "解答：早起き\n",
      "\n"
     ]
    },
    {
     "output_type": "stream",
     "name": "stderr",
     "text": [
      "\r 97%|█████████▋| 968/1000 [11:38<00:09,  3.45it/s]"
     ]
    },
    {
     "output_type": "stream",
     "name": "stdout",
     "text": [
      "問題：熱帯夜とは、最低気温が何度以上の夜のことをいう?\n",
      "解答：最低気温が25度以上\n",
      "\n",
      "問題：アメリカの海軍士官学校がある、メリーランド州の州都はどこ?\n",
      "解答：アナポリス\n",
      "\n",
      "問題：180km離れた目的地に、時速40kmで車を走らせて向かった場合、目的地に到着するのは何時間何分後?\n",
      "解答：4時間30分後\n",
      "\n",
      "問題：完全に秩序が保たれた状態はやがて崩壊するという、南部陽一郎が素粒子物理学で提唱し、ノーベル物理学賞を受賞するきっかけとなった理論を何という?\n",
      "解答：自発的対称性の破れ\n",
      "\n"
     ]
    },
    {
     "output_type": "stream",
     "name": "stderr",
     "text": [
      "\r 97%|█████████▋| 972/1000 [11:40<00:08,  3.13it/s]"
     ]
    },
    {
     "output_type": "stream",
     "name": "stdout",
     "text": [
      "問題：第1部「筑豊篇」から第8部「風雲篇」までの全8部からなる、主人公・伊吹信介の成長を描いた五木寛之の小説は何?\n",
      "解答：青春の門\n",
      "\n",
      "問題：1428年に石清水八幡宮で行われたくじ引きにより室町幕府の第6代将軍に任命された人物は誰?\n",
      "解答：足利義教\n",
      "\n",
      "問題：かつて「青空てるお・はるお」や「ライト兄弟」という名前で活動していたお笑いコンビは何?\n",
      "解答：青空千夜・一夜\n",
      "\n",
      "問題：小林一茶の有名な俳句。「我ときて遊べや親のない」の結びは何?\n",
      "解答：「子規の子」という結びです。\n",
      "\n"
     ]
    },
    {
     "output_type": "stream",
     "name": "stderr",
     "text": [
      "\r 98%|█████████▊| 976/1000 [11:41<00:07,  3.10it/s]"
     ]
    },
    {
     "output_type": "stream",
     "name": "stdout",
     "text": [
      "問題：原産地であるアメリカのメーン州からその名がついた、長い毛並みが特徴的なネコの品種は何?\n",
      "解答：メインクーン\n",
      "\n",
      "問題：経済学者ヘンリー・マクロードが著書『政治経済学の諸要素』の中で命名した、「悪貨は良貨を駆逐する」という法則を誰の法則という?\n",
      "解答：グレシャムの法則\n",
      "\n",
      "問題：サーフィンやスノーボードで、ボードが自分の体から離れないように結ぶひもを何という?\n",
      "解答：リーシュ\n",
      "\n",
      "問題：困難な状況のときに出るため息のことを、ある色を使って「何息吐息」という?\n",
      "解答：青息吐息\n",
      "\n"
     ]
    },
    {
     "output_type": "stream",
     "name": "stderr",
     "text": [
      "\r 98%|█████████▊| 980/1000 [11:42<00:05,  3.33it/s]"
     ]
    },
    {
     "output_type": "stream",
     "name": "stdout",
     "text": [
      "問題：花札で、1月の札に描かれている植物は松ですが、2月の札に描かれている植物は何?\n",
      "解答：柳\n",
      "\n",
      "問題：大相撲本場所の幕内力士が、1年間フル出場して勝率がちょうど6割だった場合、勝ち星はいくつ?\n",
      "解答：36勝\n",
      "\n",
      "問題：その花の形が十字架や茨の冠などイエス・キリストの受難を連想させることから、「受難」を意味する名前がつけられた果物は何?\n",
      "解答：キリン\n",
      "\n",
      "問題：「初心忘るべからず」という言葉を残した、室町時代の能の役者は誰?\n",
      "解答：世阿弥\n",
      "\n"
     ]
    },
    {
     "output_type": "stream",
     "name": "stderr",
     "text": [
      "\r 98%|█████████▊| 984/1000 [11:43<00:04,  3.40it/s]"
     ]
    },
    {
     "output_type": "stream",
     "name": "stdout",
     "text": [
      "問題：アメリカの金融政策を決定する「連邦準備制度理事会」をアルファベット3文字で何という?\n",
      "解答：FRB\n",
      "\n",
      "問題：熊本民謡で「越すに越されぬ」と歌われている、西南戦争の激戦地として知られる熊本市にある坂は何?\n",
      "解答：田原坂\n",
      "\n",
      "問題：「休憩機能」「情報発信機能」「地域の連携機能」の3つの機能が基本コンセプトである、1993年に103ヶ所の登録でスタートした施設は何?\n",
      "解答：道の駅\n",
      "\n",
      "問題：戦国時代、瀬戸内海を席巻した海賊王の娘・景の活躍を描いた、第11回本屋大賞を受賞した和田竜の歴史小説は何?\n",
      "解答：村上海賊の娘\n",
      "\n"
     ]
    },
    {
     "output_type": "stream",
     "name": "stderr",
     "text": [
      "\r 99%|█████████▉| 988/1000 [11:45<00:03,  3.23it/s]"
     ]
    },
    {
     "output_type": "stream",
     "name": "stdout",
     "text": [
      "問題：ルソーの『社会契約論』を翻訳し『民約訳解』として日本に紹介した、「東洋のルソー」と呼ばれた思想家は誰?\n",
      "解答：中江兆民\n",
      "\n",
      "問題：「エーゲ海の真珠」という別名があるのはギリシャのミコノス島ですが、「アンダマン海の真珠」という別名で呼ばれるタイの島は?\n",
      "解答：プーケット島\n",
      "\n",
      "問題：1月15日の朝に食べると邪気を除くとされる、小豆を入れて煮たお粥のことを、その色からある花の名前を使って何粥という?\n",
      "解答：牡丹粥\n",
      "\n",
      "問題：「アルファ・ベータ・ガンマ理論」や「ビッグバン宇宙論」を提唱した、『不思議な国のトムキンス』などの著書でも知られる物理学者は誰?\n",
      "解答：ジョージ・ガモフ\n",
      "\n"
     ]
    },
    {
     "output_type": "stream",
     "name": "stderr",
     "text": [
      "\r 99%|█████████▉| 992/1000 [11:46<00:02,  3.39it/s]"
     ]
    },
    {
     "output_type": "stream",
     "name": "stdout",
     "text": [
      "問題：「冬の大三角」を形成する3つの星は、おおいぬ座のシリウス、こいぬ座のプロキオンとオリオン座の何?\n",
      "解答：ベテルギウス\n",
      "\n",
      "問題：江戸時代末期・大坂に洗心堂という私塾を開いた儒学者で、1837年に江戸幕府に対して反乱を起こすも鎮圧され自害した人物は誰?\n",
      "解答：吉田松陰\n",
      "\n",
      "問題：『ブエノスアイレス午前零時』で芥川賞を受賞したのは藤沢周ですが、『暗殺の年輪』で直木賞を受賞したのは誰?\n",
      "解答：藤沢周平\n",
      "\n",
      "問題：手紙やハガキを送った際に、料金を支払った証拠として郵便局で押される、日付入りのスタンプのことを何という?\n",
      "解答：消印\n",
      "\n",
      "エラーを受け取りました：The server is overloaded or not ready yet.\n",
      "10秒待機します\n"
     ]
    },
    {
     "output_type": "stream",
     "name": "stderr",
     "text": [
      "\r100%|█████████▉| 996/1000 [12:27<00:13,  3.30s/it]"
     ]
    },
    {
     "output_type": "stream",
     "name": "stdout",
     "text": [
      "問題：NBAや格闘技などでみられる、選手が対戦相手に対して挑発的な言葉を発して心理的な揺さぶりをかける戦術を何という?\n",
      "解答：トラッシュ・トーク\n",
      "\n",
      "問題：いい加減で役立たずな人のことを、落語によく登場する間抜けな人物にたとえて何という?\n",
      "解答：愚か者\n",
      "\n",
      "問題：パーソン、パンサー、ジャクソンなどの種類がいる、周囲の環境に合わせて体の色を変えることでおなじみの動物といえば何?\n",
      "解答：カメレオン\n",
      "\n",
      "問題：小説『古都』や『伊豆の踊子』などの作品を書き、1968年にノーベル文学賞を受賞した作家は誰?\n",
      "解答：川端康成\n",
      "\n"
     ]
    },
    {
     "output_type": "stream",
     "name": "stderr",
     "text": [
      "100%|██████████| 1000/1000 [12:28<00:00,  1.34it/s]"
     ]
    },
    {
     "output_type": "stream",
     "name": "stdout",
     "text": [
      "問題：いわゆる「古典の三大随筆」と呼ばれる3つの作品といえば、『枕草子』、『方丈記』と何?\n",
      "解答：『徒然草』\n",
      "\n",
      "問題：正式名称を「新幹線電気軌道総合試験車」という、新幹線の線路や架線の状態を調査するための車両を車体の色から何という?\n",
      "解答：ドクターイエロー\n",
      "\n",
      "問題：明治11年、東京・紀尾井坂で石川県士族の島田一郎らに暗殺された政治家は誰?\n",
      "解答：大久保利通\n",
      "\n",
      "問題：中国を代表するIT企業の総称「BATH」で表される4つの会社といえば、Baidu、Alibaba、Tencentと何?\n",
      "解答：Huawei\n",
      "\n",
      "正解率: 70.7\n"
     ]
    },
    {
     "output_type": "stream",
     "name": "stderr",
     "text": [
      "\n"
     ]
    }
   ],
   "source": [
    "retrieval_output_answers = get_chatgpt_outputs_for_quiz(\n",
    "    retrieval_prompt_maker, quiz_dataset, batch_size=4\n",
    ")\n",
    "retrieval_accuracy = calculate_quiz_accuracy(\n",
    "    retrieval_output_answers,\n",
    "    [item[\"answers\"] for item in quiz_dataset],\n",
    ")\n",
    "print(f\"正解率: {retrieval_accuracy * 100}\")"
   ]
  },
  {
   "cell_type": "code",
   "execution_count": 32,
   "id": "42a02aa3",
   "metadata": {
    "id": "42a02aa3",
    "colab": {
     "base_uri": "https://localhost:8080/"
    },
    "executionInfo": {
     "status": "ok",
     "timestamp": 1689832282604,
     "user_tz": -540,
     "elapsed": 412,
     "user": {
      "displayName": "Ryokan Ri",
      "userId": "09390037946487494940"
     }
    },
    "outputId": "ef1795bb-a0c7-4d9a-e0c9-fc2b1da04c87"
   },
   "outputs": [
    {
     "output_type": "stream",
     "name": "stdout",
     "text": [
      "問題姥山貝塚、西之城貝塚、加曽利貝塚などをはじめ、全国にある貝塚の4分の1が位置する都道府県はどこ?\n",
      "解答：千葉県\n",
      "\n"
     ]
    }
   ],
   "source": [
    "quiz_example = quiz_dataset[87]\n",
    "print(\"問題\" + quiz_example[\"question\"])\n",
    "print(\"解答：\" + str(quiz_example[\"answers\"][0]) + \"\\n\")"
   ]
  },
  {
   "cell_type": "code",
   "execution_count": 33,
   "id": "8bf47131",
   "metadata": {
    "id": "8bf47131",
    "colab": {
     "base_uri": "https://localhost:8080/"
    },
    "executionInfo": {
     "status": "ok",
     "timestamp": 1689832284236,
     "user_tz": -540,
     "elapsed": 1636,
     "user": {
      "displayName": "Ryokan Ri",
      "userId": "09390037946487494940"
     }
    },
    "outputId": "1cb70eae-cdb6-43dd-f9ac-8dd1ac476a40"
   },
   "outputs": [
    {
     "output_type": "stream",
     "name": "stdout",
     "text": [
      "RetrievalPromptMakerを用いたモデルの解答：千葉県\n"
     ]
    }
   ],
   "source": [
    "prompt = retrieval_prompt_maker.run([quiz_example[\"question\"]])[0]\n",
    "answer = batch_run_chatgpt([[{\"role\": \"user\", \"content\": prompt}]])[0]\n",
    "print(f\"RetrievalPromptMakerを用いたモデルの解答：{answer}\")"
   ]
  },
  {
   "cell_type": "code",
   "execution_count": 34,
   "id": "9d020546",
   "metadata": {
    "id": "9d020546",
    "colab": {
     "base_uri": "https://localhost:8080/"
    },
    "executionInfo": {
     "status": "ok",
     "timestamp": 1689832287370,
     "user_tz": -540,
     "elapsed": 586,
     "user": {
      "displayName": "Ryokan Ri",
      "userId": "09390037946487494940"
     }
    },
    "outputId": "06dc3943-3b7d-4ece-e9a7-e92522fe40be"
   },
   "outputs": [
    {
     "output_type": "stream",
     "name": "stdout",
     "text": [
      "あなたには今からクイズに答えてもらいます。問題を与えますので、その解答のみを簡潔に出力してください。\n",
      "また解答の参考になりうるテキストを与えます。解答を含まない場合もあるのでその場合は無視してください。\n",
      "\n",
      "タイトル：水産試験場\n",
      "本文：水産試験場(すいさんしけんじょう)は、水産に関する研究を行う機関。日本では、奈良県を除く46都道府県や市町村(市が運営する水産試験場は広島市と長崎市にある)、大学、研究機関・大規模な水産会社などが設置する。\n",
      "タイトル：日本の貝塚一覧\n",
      "本文：現代では海に面していない栃木県・群馬県・埼玉県にも縄文時代早期末から前期には海が入り込んでいた。(縄文海進)そのため、貝塚が存在する。。渡良瀬遊水地周辺には貝塚がある埼玉県には100ヶ所以上の貝塚がある。縄文海進でもっとも海面が高く奥東京湾が広がった縄文前期の物が多く、縄文中 - 後期の貝塚は前期よりは少なくなる。国指定史跡となっている貝塚も4つある。千葉県にはおよそ700ヶ所もの貝塚があり(近接している貝塚群を1つと数えるか複数で数えるかでも変わってくる)、日本の貝塚のおよそ1/4が千葉県にある。千葉県では12の貝塚が国指定史跡になっている。東京にはおよそ100ヶ所ほどの貝塚があるが、開発で湮滅し詳細不明な貝塚も少なくない神奈川県立歴史博物館編集『神奈川県貝塚地名表』2008年によると、神奈川県内には小規模な痕跡や歴史時代の物まで含めて292ヶ所の貝塚があるとされている。\n",
      "タイトル：私立学校\n",
      "本文：2013年(平成25年)5月1日現在私立小学校は日本全国に221校あるが、東京都53校、神奈川県31校、大阪府17校、兵庫県11校、京都府10校、千葉県9校、広島県8校、福岡県8校、奈良県6校と、南関東と近畿に集中している。その一方、私立小学校がない県も存在する。2013年(平成25年)5月1日時点、私立中学校は日本全国に771校あるが、東京都188校、大阪府65校、神奈川県64校、兵庫県41校、埼玉県29校、広島県28校、福岡県27校、静岡県27校、京都府26校、千葉県24校、愛知県22校、北海道16校と、南関東と近畿に集中している。しかし2012年(平成24年)5月1日現在において、東京都でも中学校第1学年の生徒数比率は25.7%と相対的に少数派である。私立高等学校は日本全国に1320校(この数値には通信制の課程のみを置く高等学校を除く。\n",
      "\n",
      "問題：姥山貝塚、西之城貝塚、加曽利貝塚などをはじめ、全国にある貝塚の4分の1が位置する都道府県はどこ?\n",
      "解答：\n"
     ]
    }
   ],
   "source": [
    "print(prompt)"
   ]
  }
 ],
 "metadata": {
  "colab": {
   "provenance": [],
   "gpuType": "T4"
  },
  "language_info": {
   "name": "python"
  },
  "accelerator": "GPU",
  "kernelspec": {
   "name": "python3",
   "display_name": "Python 3"
  },
  "widgets": {
   "application/vnd.jupyter.widget-state+json": {
    "9df0d3dd5ec74ad88097ca607f5f5be3": {
     "model_module": "@jupyter-widgets/controls",
     "model_name": "HBoxModel",
     "model_module_version": "1.5.0",
     "state": {
      "_dom_classes": [],
      "_model_module": "@jupyter-widgets/controls",
      "_model_module_version": "1.5.0",
      "_model_name": "HBoxModel",
      "_view_count": null,
      "_view_module": "@jupyter-widgets/controls",
      "_view_module_version": "1.5.0",
      "_view_name": "HBoxView",
      "box_style": "",
      "children": [
       "IPY_MODEL_ff49f89599e3458699dcfc2464ad76e0",
       "IPY_MODEL_85c8a4d8c150421b8a169e5a65764d5f",
       "IPY_MODEL_1f147ee4e8fe4f399511bb5c3d4cf1c2"
      ],
      "layout": "IPY_MODEL_1795cf94539446a2914376246d7069a2"
     }
    },
    "ff49f89599e3458699dcfc2464ad76e0": {
     "model_module": "@jupyter-widgets/controls",
     "model_name": "HTMLModel",
     "model_module_version": "1.5.0",
     "state": {
      "_dom_classes": [],
      "_model_module": "@jupyter-widgets/controls",
      "_model_module_version": "1.5.0",
      "_model_name": "HTMLModel",
      "_view_count": null,
      "_view_module": "@jupyter-widgets/controls",
      "_view_module_version": "1.5.0",
      "_view_name": "HTMLView",
      "description": "",
      "description_tooltip": null,
      "layout": "IPY_MODEL_d399228ff81e4b1d992a67e1665c551a",
      "placeholder": "​",
      "style": "IPY_MODEL_0a72589ae01d4b36acb56905eec58a14",
      "value": "Downloading readme: 100%"
     }
    },
    "85c8a4d8c150421b8a169e5a65764d5f": {
     "model_module": "@jupyter-widgets/controls",
     "model_name": "FloatProgressModel",
     "model_module_version": "1.5.0",
     "state": {
      "_dom_classes": [],
      "_model_module": "@jupyter-widgets/controls",
      "_model_module_version": "1.5.0",
      "_model_name": "FloatProgressModel",
      "_view_count": null,
      "_view_module": "@jupyter-widgets/controls",
      "_view_module_version": "1.5.0",
      "_view_name": "ProgressView",
      "bar_style": "success",
      "description": "",
      "description_tooltip": null,
      "layout": "IPY_MODEL_536159c3e0844e54af10701955ac517a",
      "max": 1498,
      "min": 0,
      "orientation": "horizontal",
      "style": "IPY_MODEL_62d76e48b8224ef193616fdb2693c6c2",
      "value": 1498
     }
    },
    "1f147ee4e8fe4f399511bb5c3d4cf1c2": {
     "model_module": "@jupyter-widgets/controls",
     "model_name": "HTMLModel",
     "model_module_version": "1.5.0",
     "state": {
      "_dom_classes": [],
      "_model_module": "@jupyter-widgets/controls",
      "_model_module_version": "1.5.0",
      "_model_name": "HTMLModel",
      "_view_count": null,
      "_view_module": "@jupyter-widgets/controls",
      "_view_module_version": "1.5.0",
      "_view_name": "HTMLView",
      "description": "",
      "description_tooltip": null,
      "layout": "IPY_MODEL_90d7cbecbe1d4c79a52c392a5f03df9a",
      "placeholder": "​",
      "style": "IPY_MODEL_a811e3cae1d84e5387b901d4655b2465",
      "value": " 1.50k/1.50k [00:00&lt;00:00, 42.0kB/s]"
     }
    },
    "1795cf94539446a2914376246d7069a2": {
     "model_module": "@jupyter-widgets/base",
     "model_name": "LayoutModel",
     "model_module_version": "1.2.0",
     "state": {
      "_model_module": "@jupyter-widgets/base",
      "_model_module_version": "1.2.0",
      "_model_name": "LayoutModel",
      "_view_count": null,
      "_view_module": "@jupyter-widgets/base",
      "_view_module_version": "1.2.0",
      "_view_name": "LayoutView",
      "align_content": null,
      "align_items": null,
      "align_self": null,
      "border": null,
      "bottom": null,
      "display": null,
      "flex": null,
      "flex_flow": null,
      "grid_area": null,
      "grid_auto_columns": null,
      "grid_auto_flow": null,
      "grid_auto_rows": null,
      "grid_column": null,
      "grid_gap": null,
      "grid_row": null,
      "grid_template_areas": null,
      "grid_template_columns": null,
      "grid_template_rows": null,
      "height": null,
      "justify_content": null,
      "justify_items": null,
      "left": null,
      "margin": null,
      "max_height": null,
      "max_width": null,
      "min_height": null,
      "min_width": null,
      "object_fit": null,
      "object_position": null,
      "order": null,
      "overflow": null,
      "overflow_x": null,
      "overflow_y": null,
      "padding": null,
      "right": null,
      "top": null,
      "visibility": null,
      "width": null
     }
    },
    "d399228ff81e4b1d992a67e1665c551a": {
     "model_module": "@jupyter-widgets/base",
     "model_name": "LayoutModel",
     "model_module_version": "1.2.0",
     "state": {
      "_model_module": "@jupyter-widgets/base",
      "_model_module_version": "1.2.0",
      "_model_name": "LayoutModel",
      "_view_count": null,
      "_view_module": "@jupyter-widgets/base",
      "_view_module_version": "1.2.0",
      "_view_name": "LayoutView",
      "align_content": null,
      "align_items": null,
      "align_self": null,
      "border": null,
      "bottom": null,
      "display": null,
      "flex": null,
      "flex_flow": null,
      "grid_area": null,
      "grid_auto_columns": null,
      "grid_auto_flow": null,
      "grid_auto_rows": null,
      "grid_column": null,
      "grid_gap": null,
      "grid_row": null,
      "grid_template_areas": null,
      "grid_template_columns": null,
      "grid_template_rows": null,
      "height": null,
      "justify_content": null,
      "justify_items": null,
      "left": null,
      "margin": null,
      "max_height": null,
      "max_width": null,
      "min_height": null,
      "min_width": null,
      "object_fit": null,
      "object_position": null,
      "order": null,
      "overflow": null,
      "overflow_x": null,
      "overflow_y": null,
      "padding": null,
      "right": null,
      "top": null,
      "visibility": null,
      "width": null
     }
    },
    "0a72589ae01d4b36acb56905eec58a14": {
     "model_module": "@jupyter-widgets/controls",
     "model_name": "DescriptionStyleModel",
     "model_module_version": "1.5.0",
     "state": {
      "_model_module": "@jupyter-widgets/controls",
      "_model_module_version": "1.5.0",
      "_model_name": "DescriptionStyleModel",
      "_view_count": null,
      "_view_module": "@jupyter-widgets/base",
      "_view_module_version": "1.2.0",
      "_view_name": "StyleView",
      "description_width": ""
     }
    },
    "536159c3e0844e54af10701955ac517a": {
     "model_module": "@jupyter-widgets/base",
     "model_name": "LayoutModel",
     "model_module_version": "1.2.0",
     "state": {
      "_model_module": "@jupyter-widgets/base",
      "_model_module_version": "1.2.0",
      "_model_name": "LayoutModel",
      "_view_count": null,
      "_view_module": "@jupyter-widgets/base",
      "_view_module_version": "1.2.0",
      "_view_name": "LayoutView",
      "align_content": null,
      "align_items": null,
      "align_self": null,
      "border": null,
      "bottom": null,
      "display": null,
      "flex": null,
      "flex_flow": null,
      "grid_area": null,
      "grid_auto_columns": null,
      "grid_auto_flow": null,
      "grid_auto_rows": null,
      "grid_column": null,
      "grid_gap": null,
      "grid_row": null,
      "grid_template_areas": null,
      "grid_template_columns": null,
      "grid_template_rows": null,
      "height": null,
      "justify_content": null,
      "justify_items": null,
      "left": null,
      "margin": null,
      "max_height": null,
      "max_width": null,
      "min_height": null,
      "min_width": null,
      "object_fit": null,
      "object_position": null,
      "order": null,
      "overflow": null,
      "overflow_x": null,
      "overflow_y": null,
      "padding": null,
      "right": null,
      "top": null,
      "visibility": null,
      "width": null
     }
    },
    "62d76e48b8224ef193616fdb2693c6c2": {
     "model_module": "@jupyter-widgets/controls",
     "model_name": "ProgressStyleModel",
     "model_module_version": "1.5.0",
     "state": {
      "_model_module": "@jupyter-widgets/controls",
      "_model_module_version": "1.5.0",
      "_model_name": "ProgressStyleModel",
      "_view_count": null,
      "_view_module": "@jupyter-widgets/base",
      "_view_module_version": "1.2.0",
      "_view_name": "StyleView",
      "bar_color": null,
      "description_width": ""
     }
    },
    "90d7cbecbe1d4c79a52c392a5f03df9a": {
     "model_module": "@jupyter-widgets/base",
     "model_name": "LayoutModel",
     "model_module_version": "1.2.0",
     "state": {
      "_model_module": "@jupyter-widgets/base",
      "_model_module_version": "1.2.0",
      "_model_name": "LayoutModel",
      "_view_count": null,
      "_view_module": "@jupyter-widgets/base",
      "_view_module_version": "1.2.0",
      "_view_name": "LayoutView",
      "align_content": null,
      "align_items": null,
      "align_self": null,
      "border": null,
      "bottom": null,
      "display": null,
      "flex": null,
      "flex_flow": null,
      "grid_area": null,
      "grid_auto_columns": null,
      "grid_auto_flow": null,
      "grid_auto_rows": null,
      "grid_column": null,
      "grid_gap": null,
      "grid_row": null,
      "grid_template_areas": null,
      "grid_template_columns": null,
      "grid_template_rows": null,
      "height": null,
      "justify_content": null,
      "justify_items": null,
      "left": null,
      "margin": null,
      "max_height": null,
      "max_width": null,
      "min_height": null,
      "min_width": null,
      "object_fit": null,
      "object_position": null,
      "order": null,
      "overflow": null,
      "overflow_x": null,
      "overflow_y": null,
      "padding": null,
      "right": null,
      "top": null,
      "visibility": null,
      "width": null
     }
    },
    "a811e3cae1d84e5387b901d4655b2465": {
     "model_module": "@jupyter-widgets/controls",
     "model_name": "DescriptionStyleModel",
     "model_module_version": "1.5.0",
     "state": {
      "_model_module": "@jupyter-widgets/controls",
      "_model_module_version": "1.5.0",
      "_model_name": "DescriptionStyleModel",
      "_view_count": null,
      "_view_module": "@jupyter-widgets/base",
      "_view_module_version": "1.2.0",
      "_view_name": "StyleView",
      "description_width": ""
     }
    },
    "3f11e7355d124c4085b7e00389c5d92c": {
     "model_module": "@jupyter-widgets/controls",
     "model_name": "HBoxModel",
     "model_module_version": "1.5.0",
     "state": {
      "_dom_classes": [],
      "_model_module": "@jupyter-widgets/controls",
      "_model_module_version": "1.5.0",
      "_model_name": "HBoxModel",
      "_view_count": null,
      "_view_module": "@jupyter-widgets/controls",
      "_view_module_version": "1.5.0",
      "_view_name": "HBoxView",
      "box_style": "",
      "children": [
       "IPY_MODEL_67fc2740db144c7ebeb295199fa6d54b",
       "IPY_MODEL_ed320cbe6c894a3dabc54e1c6d85a87f",
       "IPY_MODEL_1b3bc2402a794ab3b2a8239271143fd7"
      ],
      "layout": "IPY_MODEL_240d2ddad777486393125bd2f4b4b968"
     }
    },
    "67fc2740db144c7ebeb295199fa6d54b": {
     "model_module": "@jupyter-widgets/controls",
     "model_name": "HTMLModel",
     "model_module_version": "1.5.0",
     "state": {
      "_dom_classes": [],
      "_model_module": "@jupyter-widgets/controls",
      "_model_module_version": "1.5.0",
      "_model_name": "HTMLModel",
      "_view_count": null,
      "_view_module": "@jupyter-widgets/controls",
      "_view_module_version": "1.5.0",
      "_view_name": "HTMLView",
      "description": "",
      "description_tooltip": null,
      "layout": "IPY_MODEL_b2f305b54f774ffbaa235a8d792c6b67",
      "placeholder": "​",
      "style": "IPY_MODEL_8e24de5b38004d988aa9a4f5ec623795",
      "value": "Downloading data files: 100%"
     }
    },
    "ed320cbe6c894a3dabc54e1c6d85a87f": {
     "model_module": "@jupyter-widgets/controls",
     "model_name": "FloatProgressModel",
     "model_module_version": "1.5.0",
     "state": {
      "_dom_classes": [],
      "_model_module": "@jupyter-widgets/controls",
      "_model_module_version": "1.5.0",
      "_model_name": "FloatProgressModel",
      "_view_count": null,
      "_view_module": "@jupyter-widgets/controls",
      "_view_module_version": "1.5.0",
      "_view_name": "ProgressView",
      "bar_style": "success",
      "description": "",
      "description_tooltip": null,
      "layout": "IPY_MODEL_d874770ca0db417182a526d86e7e552d",
      "max": 1,
      "min": 0,
      "orientation": "horizontal",
      "style": "IPY_MODEL_a404ee0ed1f84535a35236cb9d2e86ba",
      "value": 1
     }
    },
    "1b3bc2402a794ab3b2a8239271143fd7": {
     "model_module": "@jupyter-widgets/controls",
     "model_name": "HTMLModel",
     "model_module_version": "1.5.0",
     "state": {
      "_dom_classes": [],
      "_model_module": "@jupyter-widgets/controls",
      "_model_module_version": "1.5.0",
      "_model_name": "HTMLModel",
      "_view_count": null,
      "_view_module": "@jupyter-widgets/controls",
      "_view_module_version": "1.5.0",
      "_view_name": "HTMLView",
      "description": "",
      "description_tooltip": null,
      "layout": "IPY_MODEL_3e58724d95174ab4b5990e3d79cac55f",
      "placeholder": "​",
      "style": "IPY_MODEL_9ea7b1af7282485da451d38e474fc652",
      "value": " 1/1 [01:10&lt;00:00, 70.31s/it]"
     }
    },
    "240d2ddad777486393125bd2f4b4b968": {
     "model_module": "@jupyter-widgets/base",
     "model_name": "LayoutModel",
     "model_module_version": "1.2.0",
     "state": {
      "_model_module": "@jupyter-widgets/base",
      "_model_module_version": "1.2.0",
      "_model_name": "LayoutModel",
      "_view_count": null,
      "_view_module": "@jupyter-widgets/base",
      "_view_module_version": "1.2.0",
      "_view_name": "LayoutView",
      "align_content": null,
      "align_items": null,
      "align_self": null,
      "border": null,
      "bottom": null,
      "display": null,
      "flex": null,
      "flex_flow": null,
      "grid_area": null,
      "grid_auto_columns": null,
      "grid_auto_flow": null,
      "grid_auto_rows": null,
      "grid_column": null,
      "grid_gap": null,
      "grid_row": null,
      "grid_template_areas": null,
      "grid_template_columns": null,
      "grid_template_rows": null,
      "height": null,
      "justify_content": null,
      "justify_items": null,
      "left": null,
      "margin": null,
      "max_height": null,
      "max_width": null,
      "min_height": null,
      "min_width": null,
      "object_fit": null,
      "object_position": null,
      "order": null,
      "overflow": null,
      "overflow_x": null,
      "overflow_y": null,
      "padding": null,
      "right": null,
      "top": null,
      "visibility": null,
      "width": null
     }
    },
    "b2f305b54f774ffbaa235a8d792c6b67": {
     "model_module": "@jupyter-widgets/base",
     "model_name": "LayoutModel",
     "model_module_version": "1.2.0",
     "state": {
      "_model_module": "@jupyter-widgets/base",
      "_model_module_version": "1.2.0",
      "_model_name": "LayoutModel",
      "_view_count": null,
      "_view_module": "@jupyter-widgets/base",
      "_view_module_version": "1.2.0",
      "_view_name": "LayoutView",
      "align_content": null,
      "align_items": null,
      "align_self": null,
      "border": null,
      "bottom": null,
      "display": null,
      "flex": null,
      "flex_flow": null,
      "grid_area": null,
      "grid_auto_columns": null,
      "grid_auto_flow": null,
      "grid_auto_rows": null,
      "grid_column": null,
      "grid_gap": null,
      "grid_row": null,
      "grid_template_areas": null,
      "grid_template_columns": null,
      "grid_template_rows": null,
      "height": null,
      "justify_content": null,
      "justify_items": null,
      "left": null,
      "margin": null,
      "max_height": null,
      "max_width": null,
      "min_height": null,
      "min_width": null,
      "object_fit": null,
      "object_position": null,
      "order": null,
      "overflow": null,
      "overflow_x": null,
      "overflow_y": null,
      "padding": null,
      "right": null,
      "top": null,
      "visibility": null,
      "width": null
     }
    },
    "8e24de5b38004d988aa9a4f5ec623795": {
     "model_module": "@jupyter-widgets/controls",
     "model_name": "DescriptionStyleModel",
     "model_module_version": "1.5.0",
     "state": {
      "_model_module": "@jupyter-widgets/controls",
      "_model_module_version": "1.5.0",
      "_model_name": "DescriptionStyleModel",
      "_view_count": null,
      "_view_module": "@jupyter-widgets/base",
      "_view_module_version": "1.2.0",
      "_view_name": "StyleView",
      "description_width": ""
     }
    },
    "d874770ca0db417182a526d86e7e552d": {
     "model_module": "@jupyter-widgets/base",
     "model_name": "LayoutModel",
     "model_module_version": "1.2.0",
     "state": {
      "_model_module": "@jupyter-widgets/base",
      "_model_module_version": "1.2.0",
      "_model_name": "LayoutModel",
      "_view_count": null,
      "_view_module": "@jupyter-widgets/base",
      "_view_module_version": "1.2.0",
      "_view_name": "LayoutView",
      "align_content": null,
      "align_items": null,
      "align_self": null,
      "border": null,
      "bottom": null,
      "display": null,
      "flex": null,
      "flex_flow": null,
      "grid_area": null,
      "grid_auto_columns": null,
      "grid_auto_flow": null,
      "grid_auto_rows": null,
      "grid_column": null,
      "grid_gap": null,
      "grid_row": null,
      "grid_template_areas": null,
      "grid_template_columns": null,
      "grid_template_rows": null,
      "height": null,
      "justify_content": null,
      "justify_items": null,
      "left": null,
      "margin": null,
      "max_height": null,
      "max_width": null,
      "min_height": null,
      "min_width": null,
      "object_fit": null,
      "object_position": null,
      "order": null,
      "overflow": null,
      "overflow_x": null,
      "overflow_y": null,
      "padding": null,
      "right": null,
      "top": null,
      "visibility": null,
      "width": null
     }
    },
    "a404ee0ed1f84535a35236cb9d2e86ba": {
     "model_module": "@jupyter-widgets/controls",
     "model_name": "ProgressStyleModel",
     "model_module_version": "1.5.0",
     "state": {
      "_model_module": "@jupyter-widgets/controls",
      "_model_module_version": "1.5.0",
      "_model_name": "ProgressStyleModel",
      "_view_count": null,
      "_view_module": "@jupyter-widgets/base",
      "_view_module_version": "1.2.0",
      "_view_name": "StyleView",
      "bar_color": null,
      "description_width": ""
     }
    },
    "3e58724d95174ab4b5990e3d79cac55f": {
     "model_module": "@jupyter-widgets/base",
     "model_name": "LayoutModel",
     "model_module_version": "1.2.0",
     "state": {
      "_model_module": "@jupyter-widgets/base",
      "_model_module_version": "1.2.0",
      "_model_name": "LayoutModel",
      "_view_count": null,
      "_view_module": "@jupyter-widgets/base",
      "_view_module_version": "1.2.0",
      "_view_name": "LayoutView",
      "align_content": null,
      "align_items": null,
      "align_self": null,
      "border": null,
      "bottom": null,
      "display": null,
      "flex": null,
      "flex_flow": null,
      "grid_area": null,
      "grid_auto_columns": null,
      "grid_auto_flow": null,
      "grid_auto_rows": null,
      "grid_column": null,
      "grid_gap": null,
      "grid_row": null,
      "grid_template_areas": null,
      "grid_template_columns": null,
      "grid_template_rows": null,
      "height": null,
      "justify_content": null,
      "justify_items": null,
      "left": null,
      "margin": null,
      "max_height": null,
      "max_width": null,
      "min_height": null,
      "min_width": null,
      "object_fit": null,
      "object_position": null,
      "order": null,
      "overflow": null,
      "overflow_x": null,
      "overflow_y": null,
      "padding": null,
      "right": null,
      "top": null,
      "visibility": null,
      "width": null
     }
    },
    "9ea7b1af7282485da451d38e474fc652": {
     "model_module": "@jupyter-widgets/controls",
     "model_name": "DescriptionStyleModel",
     "model_module_version": "1.5.0",
     "state": {
      "_model_module": "@jupyter-widgets/controls",
      "_model_module_version": "1.5.0",
      "_model_name": "DescriptionStyleModel",
      "_view_count": null,
      "_view_module": "@jupyter-widgets/base",
      "_view_module_version": "1.2.0",
      "_view_name": "StyleView",
      "description_width": ""
     }
    },
    "3a0b49f149fd4e6f9a016abe28f3f7b7": {
     "model_module": "@jupyter-widgets/controls",
     "model_name": "HBoxModel",
     "model_module_version": "1.5.0",
     "state": {
      "_dom_classes": [],
      "_model_module": "@jupyter-widgets/controls",
      "_model_module_version": "1.5.0",
      "_model_name": "HBoxModel",
      "_view_count": null,
      "_view_module": "@jupyter-widgets/controls",
      "_view_module_version": "1.5.0",
      "_view_name": "HBoxView",
      "box_style": "",
      "children": [
       "IPY_MODEL_bbe60c5feff643ab9b9a1606c078f6b7",
       "IPY_MODEL_eed696ce72304843855d1e69bba16925",
       "IPY_MODEL_8c67c20a00b447a0804f7062a3b5f775"
      ],
      "layout": "IPY_MODEL_c228ee1f27414954b020ee51229b8a90"
     }
    },
    "bbe60c5feff643ab9b9a1606c078f6b7": {
     "model_module": "@jupyter-widgets/controls",
     "model_name": "HTMLModel",
     "model_module_version": "1.5.0",
     "state": {
      "_dom_classes": [],
      "_model_module": "@jupyter-widgets/controls",
      "_model_module_version": "1.5.0",
      "_model_name": "HTMLModel",
      "_view_count": null,
      "_view_module": "@jupyter-widgets/controls",
      "_view_module_version": "1.5.0",
      "_view_name": "HTMLView",
      "description": "",
      "description_tooltip": null,
      "layout": "IPY_MODEL_fe932e96ea504a39bf704ed7ed5f3125",
      "placeholder": "​",
      "style": "IPY_MODEL_37aa5d0893074b08b3e6ecd49deb35f4",
      "value": "Downloading data: 100%"
     }
    },
    "eed696ce72304843855d1e69bba16925": {
     "model_module": "@jupyter-widgets/controls",
     "model_name": "FloatProgressModel",
     "model_module_version": "1.5.0",
     "state": {
      "_dom_classes": [],
      "_model_module": "@jupyter-widgets/controls",
      "_model_module_version": "1.5.0",
      "_model_name": "FloatProgressModel",
      "_view_count": null,
      "_view_module": "@jupyter-widgets/controls",
      "_view_module_version": "1.5.0",
      "_view_name": "ProgressView",
      "bar_style": "success",
      "description": "",
      "description_tooltip": null,
      "layout": "IPY_MODEL_1086cb516340402eaec5c54ab929720e",
      "max": 343109523,
      "min": 0,
      "orientation": "horizontal",
      "style": "IPY_MODEL_fcbd38105dba4754a442e9c5de7a9a33",
      "value": 343109523
     }
    },
    "8c67c20a00b447a0804f7062a3b5f775": {
     "model_module": "@jupyter-widgets/controls",
     "model_name": "HTMLModel",
     "model_module_version": "1.5.0",
     "state": {
      "_dom_classes": [],
      "_model_module": "@jupyter-widgets/controls",
      "_model_module_version": "1.5.0",
      "_model_name": "HTMLModel",
      "_view_count": null,
      "_view_module": "@jupyter-widgets/controls",
      "_view_module_version": "1.5.0",
      "_view_name": "HTMLView",
      "description": "",
      "description_tooltip": null,
      "layout": "IPY_MODEL_d315278ccddd42378cc447e149a85c1c",
      "placeholder": "​",
      "style": "IPY_MODEL_996ab84c123f43cbb4596b898915371e",
      "value": " 343M/343M [00:11&lt;00:00, 38.9MB/s]"
     }
    },
    "c228ee1f27414954b020ee51229b8a90": {
     "model_module": "@jupyter-widgets/base",
     "model_name": "LayoutModel",
     "model_module_version": "1.2.0",
     "state": {
      "_model_module": "@jupyter-widgets/base",
      "_model_module_version": "1.2.0",
      "_model_name": "LayoutModel",
      "_view_count": null,
      "_view_module": "@jupyter-widgets/base",
      "_view_module_version": "1.2.0",
      "_view_name": "LayoutView",
      "align_content": null,
      "align_items": null,
      "align_self": null,
      "border": null,
      "bottom": null,
      "display": null,
      "flex": null,
      "flex_flow": null,
      "grid_area": null,
      "grid_auto_columns": null,
      "grid_auto_flow": null,
      "grid_auto_rows": null,
      "grid_column": null,
      "grid_gap": null,
      "grid_row": null,
      "grid_template_areas": null,
      "grid_template_columns": null,
      "grid_template_rows": null,
      "height": null,
      "justify_content": null,
      "justify_items": null,
      "left": null,
      "margin": null,
      "max_height": null,
      "max_width": null,
      "min_height": null,
      "min_width": null,
      "object_fit": null,
      "object_position": null,
      "order": null,
      "overflow": null,
      "overflow_x": null,
      "overflow_y": null,
      "padding": null,
      "right": null,
      "top": null,
      "visibility": null,
      "width": null
     }
    },
    "fe932e96ea504a39bf704ed7ed5f3125": {
     "model_module": "@jupyter-widgets/base",
     "model_name": "LayoutModel",
     "model_module_version": "1.2.0",
     "state": {
      "_model_module": "@jupyter-widgets/base",
      "_model_module_version": "1.2.0",
      "_model_name": "LayoutModel",
      "_view_count": null,
      "_view_module": "@jupyter-widgets/base",
      "_view_module_version": "1.2.0",
      "_view_name": "LayoutView",
      "align_content": null,
      "align_items": null,
      "align_self": null,
      "border": null,
      "bottom": null,
      "display": null,
      "flex": null,
      "flex_flow": null,
      "grid_area": null,
      "grid_auto_columns": null,
      "grid_auto_flow": null,
      "grid_auto_rows": null,
      "grid_column": null,
      "grid_gap": null,
      "grid_row": null,
      "grid_template_areas": null,
      "grid_template_columns": null,
      "grid_template_rows": null,
      "height": null,
      "justify_content": null,
      "justify_items": null,
      "left": null,
      "margin": null,
      "max_height": null,
      "max_width": null,
      "min_height": null,
      "min_width": null,
      "object_fit": null,
      "object_position": null,
      "order": null,
      "overflow": null,
      "overflow_x": null,
      "overflow_y": null,
      "padding": null,
      "right": null,
      "top": null,
      "visibility": null,
      "width": null
     }
    },
    "37aa5d0893074b08b3e6ecd49deb35f4": {
     "model_module": "@jupyter-widgets/controls",
     "model_name": "DescriptionStyleModel",
     "model_module_version": "1.5.0",
     "state": {
      "_model_module": "@jupyter-widgets/controls",
      "_model_module_version": "1.5.0",
      "_model_name": "DescriptionStyleModel",
      "_view_count": null,
      "_view_module": "@jupyter-widgets/base",
      "_view_module_version": "1.2.0",
      "_view_name": "StyleView",
      "description_width": ""
     }
    },
    "1086cb516340402eaec5c54ab929720e": {
     "model_module": "@jupyter-widgets/base",
     "model_name": "LayoutModel",
     "model_module_version": "1.2.0",
     "state": {
      "_model_module": "@jupyter-widgets/base",
      "_model_module_version": "1.2.0",
      "_model_name": "LayoutModel",
      "_view_count": null,
      "_view_module": "@jupyter-widgets/base",
      "_view_module_version": "1.2.0",
      "_view_name": "LayoutView",
      "align_content": null,
      "align_items": null,
      "align_self": null,
      "border": null,
      "bottom": null,
      "display": null,
      "flex": null,
      "flex_flow": null,
      "grid_area": null,
      "grid_auto_columns": null,
      "grid_auto_flow": null,
      "grid_auto_rows": null,
      "grid_column": null,
      "grid_gap": null,
      "grid_row": null,
      "grid_template_areas": null,
      "grid_template_columns": null,
      "grid_template_rows": null,
      "height": null,
      "justify_content": null,
      "justify_items": null,
      "left": null,
      "margin": null,
      "max_height": null,
      "max_width": null,
      "min_height": null,
      "min_width": null,
      "object_fit": null,
      "object_position": null,
      "order": null,
      "overflow": null,
      "overflow_x": null,
      "overflow_y": null,
      "padding": null,
      "right": null,
      "top": null,
      "visibility": null,
      "width": null
     }
    },
    "fcbd38105dba4754a442e9c5de7a9a33": {
     "model_module": "@jupyter-widgets/controls",
     "model_name": "ProgressStyleModel",
     "model_module_version": "1.5.0",
     "state": {
      "_model_module": "@jupyter-widgets/controls",
      "_model_module_version": "1.5.0",
      "_model_name": "ProgressStyleModel",
      "_view_count": null,
      "_view_module": "@jupyter-widgets/base",
      "_view_module_version": "1.2.0",
      "_view_name": "StyleView",
      "bar_color": null,
      "description_width": ""
     }
    },
    "d315278ccddd42378cc447e149a85c1c": {
     "model_module": "@jupyter-widgets/base",
     "model_name": "LayoutModel",
     "model_module_version": "1.2.0",
     "state": {
      "_model_module": "@jupyter-widgets/base",
      "_model_module_version": "1.2.0",
      "_model_name": "LayoutModel",
      "_view_count": null,
      "_view_module": "@jupyter-widgets/base",
      "_view_module_version": "1.2.0",
      "_view_name": "LayoutView",
      "align_content": null,
      "align_items": null,
      "align_self": null,
      "border": null,
      "bottom": null,
      "display": null,
      "flex": null,
      "flex_flow": null,
      "grid_area": null,
      "grid_auto_columns": null,
      "grid_auto_flow": null,
      "grid_auto_rows": null,
      "grid_column": null,
      "grid_gap": null,
      "grid_row": null,
      "grid_template_areas": null,
      "grid_template_columns": null,
      "grid_template_rows": null,
      "height": null,
      "justify_content": null,
      "justify_items": null,
      "left": null,
      "margin": null,
      "max_height": null,
      "max_width": null,
      "min_height": null,
      "min_width": null,
      "object_fit": null,
      "object_position": null,
      "order": null,
      "overflow": null,
      "overflow_x": null,
      "overflow_y": null,
      "padding": null,
      "right": null,
      "top": null,
      "visibility": null,
      "width": null
     }
    },
    "996ab84c123f43cbb4596b898915371e": {
     "model_module": "@jupyter-widgets/controls",
     "model_name": "DescriptionStyleModel",
     "model_module_version": "1.5.0",
     "state": {
      "_model_module": "@jupyter-widgets/controls",
      "_model_module_version": "1.5.0",
      "_model_name": "DescriptionStyleModel",
      "_view_count": null,
      "_view_module": "@jupyter-widgets/base",
      "_view_module_version": "1.2.0",
      "_view_name": "StyleView",
      "description_width": ""
     }
    },
    "387bde5054a044e5bd60c939fea9e269": {
     "model_module": "@jupyter-widgets/controls",
     "model_name": "HBoxModel",
     "model_module_version": "1.5.0",
     "state": {
      "_dom_classes": [],
      "_model_module": "@jupyter-widgets/controls",
      "_model_module_version": "1.5.0",
      "_model_name": "HBoxModel",
      "_view_count": null,
      "_view_module": "@jupyter-widgets/controls",
      "_view_module_version": "1.5.0",
      "_view_name": "HBoxView",
      "box_style": "",
      "children": [
       "IPY_MODEL_429d1cb13fa044a885482f6f1e053013",
       "IPY_MODEL_32a6cb78c2bc40518a144e39c62b9b36",
       "IPY_MODEL_409f019f94a54660af140a95e47a5a82"
      ],
      "layout": "IPY_MODEL_b8f46645fe384aa48e2b48e30b6bd249"
     }
    },
    "429d1cb13fa044a885482f6f1e053013": {
     "model_module": "@jupyter-widgets/controls",
     "model_name": "HTMLModel",
     "model_module_version": "1.5.0",
     "state": {
      "_dom_classes": [],
      "_model_module": "@jupyter-widgets/controls",
      "_model_module_version": "1.5.0",
      "_model_name": "HTMLModel",
      "_view_count": null,
      "_view_module": "@jupyter-widgets/controls",
      "_view_module_version": "1.5.0",
      "_view_name": "HTMLView",
      "description": "",
      "description_tooltip": null,
      "layout": "IPY_MODEL_72d2302307134c8ca3c5ccfcbb610e6f",
      "placeholder": "​",
      "style": "IPY_MODEL_9157d5f7de044b05b806348d6ff847e4",
      "value": "Downloading data: 100%"
     }
    },
    "32a6cb78c2bc40518a144e39c62b9b36": {
     "model_module": "@jupyter-widgets/controls",
     "model_name": "FloatProgressModel",
     "model_module_version": "1.5.0",
     "state": {
      "_dom_classes": [],
      "_model_module": "@jupyter-widgets/controls",
      "_model_module_version": "1.5.0",
      "_model_name": "FloatProgressModel",
      "_view_count": null,
      "_view_module": "@jupyter-widgets/controls",
      "_view_module_version": "1.5.0",
      "_view_name": "ProgressView",
      "bar_style": "success",
      "description": "",
      "description_tooltip": null,
      "layout": "IPY_MODEL_927ed7bdef044dc499b7a252463c2364",
      "max": 327505038,
      "min": 0,
      "orientation": "horizontal",
      "style": "IPY_MODEL_e9d2f4d79732417589eb1fc9e78284b2",
      "value": 327505038
     }
    },
    "409f019f94a54660af140a95e47a5a82": {
     "model_module": "@jupyter-widgets/controls",
     "model_name": "HTMLModel",
     "model_module_version": "1.5.0",
     "state": {
      "_dom_classes": [],
      "_model_module": "@jupyter-widgets/controls",
      "_model_module_version": "1.5.0",
      "_model_name": "HTMLModel",
      "_view_count": null,
      "_view_module": "@jupyter-widgets/controls",
      "_view_module_version": "1.5.0",
      "_view_name": "HTMLView",
      "description": "",
      "description_tooltip": null,
      "layout": "IPY_MODEL_95cd115620e84ae1afcb4210d18cacd3",
      "placeholder": "​",
      "style": "IPY_MODEL_4dd44ad377a141b69969e5fbd80dc99a",
      "value": " 328M/328M [00:08&lt;00:00, 44.4MB/s]"
     }
    },
    "b8f46645fe384aa48e2b48e30b6bd249": {
     "model_module": "@jupyter-widgets/base",
     "model_name": "LayoutModel",
     "model_module_version": "1.2.0",
     "state": {
      "_model_module": "@jupyter-widgets/base",
      "_model_module_version": "1.2.0",
      "_model_name": "LayoutModel",
      "_view_count": null,
      "_view_module": "@jupyter-widgets/base",
      "_view_module_version": "1.2.0",
      "_view_name": "LayoutView",
      "align_content": null,
      "align_items": null,
      "align_self": null,
      "border": null,
      "bottom": null,
      "display": null,
      "flex": null,
      "flex_flow": null,
      "grid_area": null,
      "grid_auto_columns": null,
      "grid_auto_flow": null,
      "grid_auto_rows": null,
      "grid_column": null,
      "grid_gap": null,
      "grid_row": null,
      "grid_template_areas": null,
      "grid_template_columns": null,
      "grid_template_rows": null,
      "height": null,
      "justify_content": null,
      "justify_items": null,
      "left": null,
      "margin": null,
      "max_height": null,
      "max_width": null,
      "min_height": null,
      "min_width": null,
      "object_fit": null,
      "object_position": null,
      "order": null,
      "overflow": null,
      "overflow_x": null,
      "overflow_y": null,
      "padding": null,
      "right": null,
      "top": null,
      "visibility": null,
      "width": null
     }
    },
    "72d2302307134c8ca3c5ccfcbb610e6f": {
     "model_module": "@jupyter-widgets/base",
     "model_name": "LayoutModel",
     "model_module_version": "1.2.0",
     "state": {
      "_model_module": "@jupyter-widgets/base",
      "_model_module_version": "1.2.0",
      "_model_name": "LayoutModel",
      "_view_count": null,
      "_view_module": "@jupyter-widgets/base",
      "_view_module_version": "1.2.0",
      "_view_name": "LayoutView",
      "align_content": null,
      "align_items": null,
      "align_self": null,
      "border": null,
      "bottom": null,
      "display": null,
      "flex": null,
      "flex_flow": null,
      "grid_area": null,
      "grid_auto_columns": null,
      "grid_auto_flow": null,
      "grid_auto_rows": null,
      "grid_column": null,
      "grid_gap": null,
      "grid_row": null,
      "grid_template_areas": null,
      "grid_template_columns": null,
      "grid_template_rows": null,
      "height": null,
      "justify_content": null,
      "justify_items": null,
      "left": null,
      "margin": null,
      "max_height": null,
      "max_width": null,
      "min_height": null,
      "min_width": null,
      "object_fit": null,
      "object_position": null,
      "order": null,
      "overflow": null,
      "overflow_x": null,
      "overflow_y": null,
      "padding": null,
      "right": null,
      "top": null,
      "visibility": null,
      "width": null
     }
    },
    "9157d5f7de044b05b806348d6ff847e4": {
     "model_module": "@jupyter-widgets/controls",
     "model_name": "DescriptionStyleModel",
     "model_module_version": "1.5.0",
     "state": {
      "_model_module": "@jupyter-widgets/controls",
      "_model_module_version": "1.5.0",
      "_model_name": "DescriptionStyleModel",
      "_view_count": null,
      "_view_module": "@jupyter-widgets/base",
      "_view_module_version": "1.2.0",
      "_view_name": "StyleView",
      "description_width": ""
     }
    },
    "927ed7bdef044dc499b7a252463c2364": {
     "model_module": "@jupyter-widgets/base",
     "model_name": "LayoutModel",
     "model_module_version": "1.2.0",
     "state": {
      "_model_module": "@jupyter-widgets/base",
      "_model_module_version": "1.2.0",
      "_model_name": "LayoutModel",
      "_view_count": null,
      "_view_module": "@jupyter-widgets/base",
      "_view_module_version": "1.2.0",
      "_view_name": "LayoutView",
      "align_content": null,
      "align_items": null,
      "align_self": null,
      "border": null,
      "bottom": null,
      "display": null,
      "flex": null,
      "flex_flow": null,
      "grid_area": null,
      "grid_auto_columns": null,
      "grid_auto_flow": null,
      "grid_auto_rows": null,
      "grid_column": null,
      "grid_gap": null,
      "grid_row": null,
      "grid_template_areas": null,
      "grid_template_columns": null,
      "grid_template_rows": null,
      "height": null,
      "justify_content": null,
      "justify_items": null,
      "left": null,
      "margin": null,
      "max_height": null,
      "max_width": null,
      "min_height": null,
      "min_width": null,
      "object_fit": null,
      "object_position": null,
      "order": null,
      "overflow": null,
      "overflow_x": null,
      "overflow_y": null,
      "padding": null,
      "right": null,
      "top": null,
      "visibility": null,
      "width": null
     }
    },
    "e9d2f4d79732417589eb1fc9e78284b2": {
     "model_module": "@jupyter-widgets/controls",
     "model_name": "ProgressStyleModel",
     "model_module_version": "1.5.0",
     "state": {
      "_model_module": "@jupyter-widgets/controls",
      "_model_module_version": "1.5.0",
      "_model_name": "ProgressStyleModel",
      "_view_count": null,
      "_view_module": "@jupyter-widgets/base",
      "_view_module_version": "1.2.0",
      "_view_name": "StyleView",
      "bar_color": null,
      "description_width": ""
     }
    },
    "95cd115620e84ae1afcb4210d18cacd3": {
     "model_module": "@jupyter-widgets/base",
     "model_name": "LayoutModel",
     "model_module_version": "1.2.0",
     "state": {
      "_model_module": "@jupyter-widgets/base",
      "_model_module_version": "1.2.0",
      "_model_name": "LayoutModel",
      "_view_count": null,
      "_view_module": "@jupyter-widgets/base",
      "_view_module_version": "1.2.0",
      "_view_name": "LayoutView",
      "align_content": null,
      "align_items": null,
      "align_self": null,
      "border": null,
      "bottom": null,
      "display": null,
      "flex": null,
      "flex_flow": null,
      "grid_area": null,
      "grid_auto_columns": null,
      "grid_auto_flow": null,
      "grid_auto_rows": null,
      "grid_column": null,
      "grid_gap": null,
      "grid_row": null,
      "grid_template_areas": null,
      "grid_template_columns": null,
      "grid_template_rows": null,
      "height": null,
      "justify_content": null,
      "justify_items": null,
      "left": null,
      "margin": null,
      "max_height": null,
      "max_width": null,
      "min_height": null,
      "min_width": null,
      "object_fit": null,
      "object_position": null,
      "order": null,
      "overflow": null,
      "overflow_x": null,
      "overflow_y": null,
      "padding": null,
      "right": null,
      "top": null,
      "visibility": null,
      "width": null
     }
    },
    "4dd44ad377a141b69969e5fbd80dc99a": {
     "model_module": "@jupyter-widgets/controls",
     "model_name": "DescriptionStyleModel",
     "model_module_version": "1.5.0",
     "state": {
      "_model_module": "@jupyter-widgets/controls",
      "_model_module_version": "1.5.0",
      "_model_name": "DescriptionStyleModel",
      "_view_count": null,
      "_view_module": "@jupyter-widgets/base",
      "_view_module_version": "1.2.0",
      "_view_name": "StyleView",
      "description_width": ""
     }
    },
    "9e93a7c39a634e6094c890f5283f6d06": {
     "model_module": "@jupyter-widgets/controls",
     "model_name": "HBoxModel",
     "model_module_version": "1.5.0",
     "state": {
      "_dom_classes": [],
      "_model_module": "@jupyter-widgets/controls",
      "_model_module_version": "1.5.0",
      "_model_name": "HBoxModel",
      "_view_count": null,
      "_view_module": "@jupyter-widgets/controls",
      "_view_module_version": "1.5.0",
      "_view_name": "HBoxView",
      "box_style": "",
      "children": [
       "IPY_MODEL_b666cccf851349b79367de96fdb6edf3",
       "IPY_MODEL_1daa1830746c43f9b3a93c18c17d43b3",
       "IPY_MODEL_15ed0ad1bf014590bc78381c1ddb6c17"
      ],
      "layout": "IPY_MODEL_9b628411454f427b82de8cd87033470e"
     }
    },
    "b666cccf851349b79367de96fdb6edf3": {
     "model_module": "@jupyter-widgets/controls",
     "model_name": "HTMLModel",
     "model_module_version": "1.5.0",
     "state": {
      "_dom_classes": [],
      "_model_module": "@jupyter-widgets/controls",
      "_model_module_version": "1.5.0",
      "_model_name": "HTMLModel",
      "_view_count": null,
      "_view_module": "@jupyter-widgets/controls",
      "_view_module_version": "1.5.0",
      "_view_name": "HTMLView",
      "description": "",
      "description_tooltip": null,
      "layout": "IPY_MODEL_1d151e442d9b4d9ab9c91034e458bea3",
      "placeholder": "​",
      "style": "IPY_MODEL_572979200e4a4cfc9fd2ceee1af09592",
      "value": "Downloading data: 100%"
     }
    },
    "1daa1830746c43f9b3a93c18c17d43b3": {
     "model_module": "@jupyter-widgets/controls",
     "model_name": "FloatProgressModel",
     "model_module_version": "1.5.0",
     "state": {
      "_dom_classes": [],
      "_model_module": "@jupyter-widgets/controls",
      "_model_module_version": "1.5.0",
      "_model_name": "FloatProgressModel",
      "_view_count": null,
      "_view_module": "@jupyter-widgets/controls",
      "_view_module_version": "1.5.0",
      "_view_name": "ProgressView",
      "bar_style": "success",
      "description": "",
      "description_tooltip": null,
      "layout": "IPY_MODEL_d38391f46d1e45b6a05dd3b9245817c7",
      "max": 306537470,
      "min": 0,
      "orientation": "horizontal",
      "style": "IPY_MODEL_f3cd14baf8f34078aa90106636cab5d6",
      "value": 306537470
     }
    },
    "15ed0ad1bf014590bc78381c1ddb6c17": {
     "model_module": "@jupyter-widgets/controls",
     "model_name": "HTMLModel",
     "model_module_version": "1.5.0",
     "state": {
      "_dom_classes": [],
      "_model_module": "@jupyter-widgets/controls",
      "_model_module_version": "1.5.0",
      "_model_name": "HTMLModel",
      "_view_count": null,
      "_view_module": "@jupyter-widgets/controls",
      "_view_module_version": "1.5.0",
      "_view_name": "HTMLView",
      "description": "",
      "description_tooltip": null,
      "layout": "IPY_MODEL_347af6ff229048d8a2ab8c2bfd286766",
      "placeholder": "​",
      "style": "IPY_MODEL_4ca33487ba0146b3926885d8f1d4731b",
      "value": " 307M/307M [00:08&lt;00:00, 41.8MB/s]"
     }
    },
    "9b628411454f427b82de8cd87033470e": {
     "model_module": "@jupyter-widgets/base",
     "model_name": "LayoutModel",
     "model_module_version": "1.2.0",
     "state": {
      "_model_module": "@jupyter-widgets/base",
      "_model_module_version": "1.2.0",
      "_model_name": "LayoutModel",
      "_view_count": null,
      "_view_module": "@jupyter-widgets/base",
      "_view_module_version": "1.2.0",
      "_view_name": "LayoutView",
      "align_content": null,
      "align_items": null,
      "align_self": null,
      "border": null,
      "bottom": null,
      "display": null,
      "flex": null,
      "flex_flow": null,
      "grid_area": null,
      "grid_auto_columns": null,
      "grid_auto_flow": null,
      "grid_auto_rows": null,
      "grid_column": null,
      "grid_gap": null,
      "grid_row": null,
      "grid_template_areas": null,
      "grid_template_columns": null,
      "grid_template_rows": null,
      "height": null,
      "justify_content": null,
      "justify_items": null,
      "left": null,
      "margin": null,
      "max_height": null,
      "max_width": null,
      "min_height": null,
      "min_width": null,
      "object_fit": null,
      "object_position": null,
      "order": null,
      "overflow": null,
      "overflow_x": null,
      "overflow_y": null,
      "padding": null,
      "right": null,
      "top": null,
      "visibility": null,
      "width": null
     }
    },
    "1d151e442d9b4d9ab9c91034e458bea3": {
     "model_module": "@jupyter-widgets/base",
     "model_name": "LayoutModel",
     "model_module_version": "1.2.0",
     "state": {
      "_model_module": "@jupyter-widgets/base",
      "_model_module_version": "1.2.0",
      "_model_name": "LayoutModel",
      "_view_count": null,
      "_view_module": "@jupyter-widgets/base",
      "_view_module_version": "1.2.0",
      "_view_name": "LayoutView",
      "align_content": null,
      "align_items": null,
      "align_self": null,
      "border": null,
      "bottom": null,
      "display": null,
      "flex": null,
      "flex_flow": null,
      "grid_area": null,
      "grid_auto_columns": null,
      "grid_auto_flow": null,
      "grid_auto_rows": null,
      "grid_column": null,
      "grid_gap": null,
      "grid_row": null,
      "grid_template_areas": null,
      "grid_template_columns": null,
      "grid_template_rows": null,
      "height": null,
      "justify_content": null,
      "justify_items": null,
      "left": null,
      "margin": null,
      "max_height": null,
      "max_width": null,
      "min_height": null,
      "min_width": null,
      "object_fit": null,
      "object_position": null,
      "order": null,
      "overflow": null,
      "overflow_x": null,
      "overflow_y": null,
      "padding": null,
      "right": null,
      "top": null,
      "visibility": null,
      "width": null
     }
    },
    "572979200e4a4cfc9fd2ceee1af09592": {
     "model_module": "@jupyter-widgets/controls",
     "model_name": "DescriptionStyleModel",
     "model_module_version": "1.5.0",
     "state": {
      "_model_module": "@jupyter-widgets/controls",
      "_model_module_version": "1.5.0",
      "_model_name": "DescriptionStyleModel",
      "_view_count": null,
      "_view_module": "@jupyter-widgets/base",
      "_view_module_version": "1.2.0",
      "_view_name": "StyleView",
      "description_width": ""
     }
    },
    "d38391f46d1e45b6a05dd3b9245817c7": {
     "model_module": "@jupyter-widgets/base",
     "model_name": "LayoutModel",
     "model_module_version": "1.2.0",
     "state": {
      "_model_module": "@jupyter-widgets/base",
      "_model_module_version": "1.2.0",
      "_model_name": "LayoutModel",
      "_view_count": null,
      "_view_module": "@jupyter-widgets/base",
      "_view_module_version": "1.2.0",
      "_view_name": "LayoutView",
      "align_content": null,
      "align_items": null,
      "align_self": null,
      "border": null,
      "bottom": null,
      "display": null,
      "flex": null,
      "flex_flow": null,
      "grid_area": null,
      "grid_auto_columns": null,
      "grid_auto_flow": null,
      "grid_auto_rows": null,
      "grid_column": null,
      "grid_gap": null,
      "grid_row": null,
      "grid_template_areas": null,
      "grid_template_columns": null,
      "grid_template_rows": null,
      "height": null,
      "justify_content": null,
      "justify_items": null,
      "left": null,
      "margin": null,
      "max_height": null,
      "max_width": null,
      "min_height": null,
      "min_width": null,
      "object_fit": null,
      "object_position": null,
      "order": null,
      "overflow": null,
      "overflow_x": null,
      "overflow_y": null,
      "padding": null,
      "right": null,
      "top": null,
      "visibility": null,
      "width": null
     }
    },
    "f3cd14baf8f34078aa90106636cab5d6": {
     "model_module": "@jupyter-widgets/controls",
     "model_name": "ProgressStyleModel",
     "model_module_version": "1.5.0",
     "state": {
      "_model_module": "@jupyter-widgets/controls",
      "_model_module_version": "1.5.0",
      "_model_name": "ProgressStyleModel",
      "_view_count": null,
      "_view_module": "@jupyter-widgets/base",
      "_view_module_version": "1.2.0",
      "_view_name": "StyleView",
      "bar_color": null,
      "description_width": ""
     }
    },
    "347af6ff229048d8a2ab8c2bfd286766": {
     "model_module": "@jupyter-widgets/base",
     "model_name": "LayoutModel",
     "model_module_version": "1.2.0",
     "state": {
      "_model_module": "@jupyter-widgets/base",
      "_model_module_version": "1.2.0",
      "_model_name": "LayoutModel",
      "_view_count": null,
      "_view_module": "@jupyter-widgets/base",
      "_view_module_version": "1.2.0",
      "_view_name": "LayoutView",
      "align_content": null,
      "align_items": null,
      "align_self": null,
      "border": null,
      "bottom": null,
      "display": null,
      "flex": null,
      "flex_flow": null,
      "grid_area": null,
      "grid_auto_columns": null,
      "grid_auto_flow": null,
      "grid_auto_rows": null,
      "grid_column": null,
      "grid_gap": null,
      "grid_row": null,
      "grid_template_areas": null,
      "grid_template_columns": null,
      "grid_template_rows": null,
      "height": null,
      "justify_content": null,
      "justify_items": null,
      "left": null,
      "margin": null,
      "max_height": null,
      "max_width": null,
      "min_height": null,
      "min_width": null,
      "object_fit": null,
      "object_position": null,
      "order": null,
      "overflow": null,
      "overflow_x": null,
      "overflow_y": null,
      "padding": null,
      "right": null,
      "top": null,
      "visibility": null,
      "width": null
     }
    },
    "4ca33487ba0146b3926885d8f1d4731b": {
     "model_module": "@jupyter-widgets/controls",
     "model_name": "DescriptionStyleModel",
     "model_module_version": "1.5.0",
     "state": {
      "_model_module": "@jupyter-widgets/controls",
      "_model_module_version": "1.5.0",
      "_model_name": "DescriptionStyleModel",
      "_view_count": null,
      "_view_module": "@jupyter-widgets/base",
      "_view_module_version": "1.2.0",
      "_view_name": "StyleView",
      "description_width": ""
     }
    },
    "8d74eba78d084caba1acf80c8caf9958": {
     "model_module": "@jupyter-widgets/controls",
     "model_name": "HBoxModel",
     "model_module_version": "1.5.0",
     "state": {
      "_dom_classes": [],
      "_model_module": "@jupyter-widgets/controls",
      "_model_module_version": "1.5.0",
      "_model_name": "HBoxModel",
      "_view_count": null,
      "_view_module": "@jupyter-widgets/controls",
      "_view_module_version": "1.5.0",
      "_view_name": "HBoxView",
      "box_style": "",
      "children": [
       "IPY_MODEL_271189a369b54c17842006daa2d332e8",
       "IPY_MODEL_3d2d1102d4694727a2cf711942e19037",
       "IPY_MODEL_a8ffd609a82e4aa2b57b74f7603ac69c"
      ],
      "layout": "IPY_MODEL_64309f15ae18495bb8c66c846148bf8a"
     }
    },
    "271189a369b54c17842006daa2d332e8": {
     "model_module": "@jupyter-widgets/controls",
     "model_name": "HTMLModel",
     "model_module_version": "1.5.0",
     "state": {
      "_dom_classes": [],
      "_model_module": "@jupyter-widgets/controls",
      "_model_module_version": "1.5.0",
      "_model_name": "HTMLModel",
      "_view_count": null,
      "_view_module": "@jupyter-widgets/controls",
      "_view_module_version": "1.5.0",
      "_view_name": "HTMLView",
      "description": "",
      "description_tooltip": null,
      "layout": "IPY_MODEL_16357148b1d842cb9a9afe1fca2b940b",
      "placeholder": "​",
      "style": "IPY_MODEL_b4c190026bb84483950fb8d271950b25",
      "value": "Downloading data: 100%"
     }
    },
    "3d2d1102d4694727a2cf711942e19037": {
     "model_module": "@jupyter-widgets/controls",
     "model_name": "FloatProgressModel",
     "model_module_version": "1.5.0",
     "state": {
      "_dom_classes": [],
      "_model_module": "@jupyter-widgets/controls",
      "_model_module_version": "1.5.0",
      "_model_name": "FloatProgressModel",
      "_view_count": null,
      "_view_module": "@jupyter-widgets/controls",
      "_view_module_version": "1.5.0",
      "_view_name": "ProgressView",
      "bar_style": "success",
      "description": "",
      "description_tooltip": null,
      "layout": "IPY_MODEL_38ea5949f53a4cd4a9192ad59f2401f0",
      "max": 304109524,
      "min": 0,
      "orientation": "horizontal",
      "style": "IPY_MODEL_badad80968664d6aae2c847f62a6ff2f",
      "value": 304109524
     }
    },
    "a8ffd609a82e4aa2b57b74f7603ac69c": {
     "model_module": "@jupyter-widgets/controls",
     "model_name": "HTMLModel",
     "model_module_version": "1.5.0",
     "state": {
      "_dom_classes": [],
      "_model_module": "@jupyter-widgets/controls",
      "_model_module_version": "1.5.0",
      "_model_name": "HTMLModel",
      "_view_count": null,
      "_view_module": "@jupyter-widgets/controls",
      "_view_module_version": "1.5.0",
      "_view_name": "HTMLView",
      "description": "",
      "description_tooltip": null,
      "layout": "IPY_MODEL_b87dd1a6afb349bd9258fb672d9ef476",
      "placeholder": "​",
      "style": "IPY_MODEL_76cf8aaca5cd4400a25bbf8760dfda23",
      "value": " 304M/304M [00:07&lt;00:00, 38.4MB/s]"
     }
    },
    "64309f15ae18495bb8c66c846148bf8a": {
     "model_module": "@jupyter-widgets/base",
     "model_name": "LayoutModel",
     "model_module_version": "1.2.0",
     "state": {
      "_model_module": "@jupyter-widgets/base",
      "_model_module_version": "1.2.0",
      "_model_name": "LayoutModel",
      "_view_count": null,
      "_view_module": "@jupyter-widgets/base",
      "_view_module_version": "1.2.0",
      "_view_name": "LayoutView",
      "align_content": null,
      "align_items": null,
      "align_self": null,
      "border": null,
      "bottom": null,
      "display": null,
      "flex": null,
      "flex_flow": null,
      "grid_area": null,
      "grid_auto_columns": null,
      "grid_auto_flow": null,
      "grid_auto_rows": null,
      "grid_column": null,
      "grid_gap": null,
      "grid_row": null,
      "grid_template_areas": null,
      "grid_template_columns": null,
      "grid_template_rows": null,
      "height": null,
      "justify_content": null,
      "justify_items": null,
      "left": null,
      "margin": null,
      "max_height": null,
      "max_width": null,
      "min_height": null,
      "min_width": null,
      "object_fit": null,
      "object_position": null,
      "order": null,
      "overflow": null,
      "overflow_x": null,
      "overflow_y": null,
      "padding": null,
      "right": null,
      "top": null,
      "visibility": null,
      "width": null
     }
    },
    "16357148b1d842cb9a9afe1fca2b940b": {
     "model_module": "@jupyter-widgets/base",
     "model_name": "LayoutModel",
     "model_module_version": "1.2.0",
     "state": {
      "_model_module": "@jupyter-widgets/base",
      "_model_module_version": "1.2.0",
      "_model_name": "LayoutModel",
      "_view_count": null,
      "_view_module": "@jupyter-widgets/base",
      "_view_module_version": "1.2.0",
      "_view_name": "LayoutView",
      "align_content": null,
      "align_items": null,
      "align_self": null,
      "border": null,
      "bottom": null,
      "display": null,
      "flex": null,
      "flex_flow": null,
      "grid_area": null,
      "grid_auto_columns": null,
      "grid_auto_flow": null,
      "grid_auto_rows": null,
      "grid_column": null,
      "grid_gap": null,
      "grid_row": null,
      "grid_template_areas": null,
      "grid_template_columns": null,
      "grid_template_rows": null,
      "height": null,
      "justify_content": null,
      "justify_items": null,
      "left": null,
      "margin": null,
      "max_height": null,
      "max_width": null,
      "min_height": null,
      "min_width": null,
      "object_fit": null,
      "object_position": null,
      "order": null,
      "overflow": null,
      "overflow_x": null,
      "overflow_y": null,
      "padding": null,
      "right": null,
      "top": null,
      "visibility": null,
      "width": null
     }
    },
    "b4c190026bb84483950fb8d271950b25": {
     "model_module": "@jupyter-widgets/controls",
     "model_name": "DescriptionStyleModel",
     "model_module_version": "1.5.0",
     "state": {
      "_model_module": "@jupyter-widgets/controls",
      "_model_module_version": "1.5.0",
      "_model_name": "DescriptionStyleModel",
      "_view_count": null,
      "_view_module": "@jupyter-widgets/base",
      "_view_module_version": "1.2.0",
      "_view_name": "StyleView",
      "description_width": ""
     }
    },
    "38ea5949f53a4cd4a9192ad59f2401f0": {
     "model_module": "@jupyter-widgets/base",
     "model_name": "LayoutModel",
     "model_module_version": "1.2.0",
     "state": {
      "_model_module": "@jupyter-widgets/base",
      "_model_module_version": "1.2.0",
      "_model_name": "LayoutModel",
      "_view_count": null,
      "_view_module": "@jupyter-widgets/base",
      "_view_module_version": "1.2.0",
      "_view_name": "LayoutView",
      "align_content": null,
      "align_items": null,
      "align_self": null,
      "border": null,
      "bottom": null,
      "display": null,
      "flex": null,
      "flex_flow": null,
      "grid_area": null,
      "grid_auto_columns": null,
      "grid_auto_flow": null,
      "grid_auto_rows": null,
      "grid_column": null,
      "grid_gap": null,
      "grid_row": null,
      "grid_template_areas": null,
      "grid_template_columns": null,
      "grid_template_rows": null,
      "height": null,
      "justify_content": null,
      "justify_items": null,
      "left": null,
      "margin": null,
      "max_height": null,
      "max_width": null,
      "min_height": null,
      "min_width": null,
      "object_fit": null,
      "object_position": null,
      "order": null,
      "overflow": null,
      "overflow_x": null,
      "overflow_y": null,
      "padding": null,
      "right": null,
      "top": null,
      "visibility": null,
      "width": null
     }
    },
    "badad80968664d6aae2c847f62a6ff2f": {
     "model_module": "@jupyter-widgets/controls",
     "model_name": "ProgressStyleModel",
     "model_module_version": "1.5.0",
     "state": {
      "_model_module": "@jupyter-widgets/controls",
      "_model_module_version": "1.5.0",
      "_model_name": "ProgressStyleModel",
      "_view_count": null,
      "_view_module": "@jupyter-widgets/base",
      "_view_module_version": "1.2.0",
      "_view_name": "StyleView",
      "bar_color": null,
      "description_width": ""
     }
    },
    "b87dd1a6afb349bd9258fb672d9ef476": {
     "model_module": "@jupyter-widgets/base",
     "model_name": "LayoutModel",
     "model_module_version": "1.2.0",
     "state": {
      "_model_module": "@jupyter-widgets/base",
      "_model_module_version": "1.2.0",
      "_model_name": "LayoutModel",
      "_view_count": null,
      "_view_module": "@jupyter-widgets/base",
      "_view_module_version": "1.2.0",
      "_view_name": "LayoutView",
      "align_content": null,
      "align_items": null,
      "align_self": null,
      "border": null,
      "bottom": null,
      "display": null,
      "flex": null,
      "flex_flow": null,
      "grid_area": null,
      "grid_auto_columns": null,
      "grid_auto_flow": null,
      "grid_auto_rows": null,
      "grid_column": null,
      "grid_gap": null,
      "grid_row": null,
      "grid_template_areas": null,
      "grid_template_columns": null,
      "grid_template_rows": null,
      "height": null,
      "justify_content": null,
      "justify_items": null,
      "left": null,
      "margin": null,
      "max_height": null,
      "max_width": null,
      "min_height": null,
      "min_width": null,
      "object_fit": null,
      "object_position": null,
      "order": null,
      "overflow": null,
      "overflow_x": null,
      "overflow_y": null,
      "padding": null,
      "right": null,
      "top": null,
      "visibility": null,
      "width": null
     }
    },
    "76cf8aaca5cd4400a25bbf8760dfda23": {
     "model_module": "@jupyter-widgets/controls",
     "model_name": "DescriptionStyleModel",
     "model_module_version": "1.5.0",
     "state": {
      "_model_module": "@jupyter-widgets/controls",
      "_model_module_version": "1.5.0",
      "_model_name": "DescriptionStyleModel",
      "_view_count": null,
      "_view_module": "@jupyter-widgets/base",
      "_view_module_version": "1.2.0",
      "_view_name": "StyleView",
      "description_width": ""
     }
    },
    "2d9de6e4de40404187f44ef00e4dcf49": {
     "model_module": "@jupyter-widgets/controls",
     "model_name": "HBoxModel",
     "model_module_version": "1.5.0",
     "state": {
      "_dom_classes": [],
      "_model_module": "@jupyter-widgets/controls",
      "_model_module_version": "1.5.0",
      "_model_name": "HBoxModel",
      "_view_count": null,
      "_view_module": "@jupyter-widgets/controls",
      "_view_module_version": "1.5.0",
      "_view_name": "HBoxView",
      "box_style": "",
      "children": [
       "IPY_MODEL_7ee31d1743094d7f9d6d458d905c75a0",
       "IPY_MODEL_268125fd433e49b3abd3a10e425f5e21",
       "IPY_MODEL_5cd0671df3e14530b48ae25633955b61"
      ],
      "layout": "IPY_MODEL_ec71fa73554f4a16b8525e68c52c99dd"
     }
    },
    "7ee31d1743094d7f9d6d458d905c75a0": {
     "model_module": "@jupyter-widgets/controls",
     "model_name": "HTMLModel",
     "model_module_version": "1.5.0",
     "state": {
      "_dom_classes": [],
      "_model_module": "@jupyter-widgets/controls",
      "_model_module_version": "1.5.0",
      "_model_name": "HTMLModel",
      "_view_count": null,
      "_view_module": "@jupyter-widgets/controls",
      "_view_module_version": "1.5.0",
      "_view_name": "HTMLView",
      "description": "",
      "description_tooltip": null,
      "layout": "IPY_MODEL_8084dee605fa4e2eaeda85ca1fc57a98",
      "placeholder": "​",
      "style": "IPY_MODEL_c15613899c8047768604fbb61b1341f6",
      "value": "Downloading data: 100%"
     }
    },
    "268125fd433e49b3abd3a10e425f5e21": {
     "model_module": "@jupyter-widgets/controls",
     "model_name": "FloatProgressModel",
     "model_module_version": "1.5.0",
     "state": {
      "_dom_classes": [],
      "_model_module": "@jupyter-widgets/controls",
      "_model_module_version": "1.5.0",
      "_model_name": "FloatProgressModel",
      "_view_count": null,
      "_view_module": "@jupyter-widgets/controls",
      "_view_module_version": "1.5.0",
      "_view_name": "ProgressView",
      "bar_style": "success",
      "description": "",
      "description_tooltip": null,
      "layout": "IPY_MODEL_76dfc4077b304348849322142a9cc04a",
      "max": 296343991,
      "min": 0,
      "orientation": "horizontal",
      "style": "IPY_MODEL_631ad43f527849d19019bd5b969c5d48",
      "value": 296343991
     }
    },
    "5cd0671df3e14530b48ae25633955b61": {
     "model_module": "@jupyter-widgets/controls",
     "model_name": "HTMLModel",
     "model_module_version": "1.5.0",
     "state": {
      "_dom_classes": [],
      "_model_module": "@jupyter-widgets/controls",
      "_model_module_version": "1.5.0",
      "_model_name": "HTMLModel",
      "_view_count": null,
      "_view_module": "@jupyter-widgets/controls",
      "_view_module_version": "1.5.0",
      "_view_name": "HTMLView",
      "description": "",
      "description_tooltip": null,
      "layout": "IPY_MODEL_eacaf53b0e18481a9152cd4025e3ad45",
      "placeholder": "​",
      "style": "IPY_MODEL_9e1548d84be1492e938f9617f5b62ba2",
      "value": " 296M/296M [00:07&lt;00:00, 45.5MB/s]"
     }
    },
    "ec71fa73554f4a16b8525e68c52c99dd": {
     "model_module": "@jupyter-widgets/base",
     "model_name": "LayoutModel",
     "model_module_version": "1.2.0",
     "state": {
      "_model_module": "@jupyter-widgets/base",
      "_model_module_version": "1.2.0",
      "_model_name": "LayoutModel",
      "_view_count": null,
      "_view_module": "@jupyter-widgets/base",
      "_view_module_version": "1.2.0",
      "_view_name": "LayoutView",
      "align_content": null,
      "align_items": null,
      "align_self": null,
      "border": null,
      "bottom": null,
      "display": null,
      "flex": null,
      "flex_flow": null,
      "grid_area": null,
      "grid_auto_columns": null,
      "grid_auto_flow": null,
      "grid_auto_rows": null,
      "grid_column": null,
      "grid_gap": null,
      "grid_row": null,
      "grid_template_areas": null,
      "grid_template_columns": null,
      "grid_template_rows": null,
      "height": null,
      "justify_content": null,
      "justify_items": null,
      "left": null,
      "margin": null,
      "max_height": null,
      "max_width": null,
      "min_height": null,
      "min_width": null,
      "object_fit": null,
      "object_position": null,
      "order": null,
      "overflow": null,
      "overflow_x": null,
      "overflow_y": null,
      "padding": null,
      "right": null,
      "top": null,
      "visibility": null,
      "width": null
     }
    },
    "8084dee605fa4e2eaeda85ca1fc57a98": {
     "model_module": "@jupyter-widgets/base",
     "model_name": "LayoutModel",
     "model_module_version": "1.2.0",
     "state": {
      "_model_module": "@jupyter-widgets/base",
      "_model_module_version": "1.2.0",
      "_model_name": "LayoutModel",
      "_view_count": null,
      "_view_module": "@jupyter-widgets/base",
      "_view_module_version": "1.2.0",
      "_view_name": "LayoutView",
      "align_content": null,
      "align_items": null,
      "align_self": null,
      "border": null,
      "bottom": null,
      "display": null,
      "flex": null,
      "flex_flow": null,
      "grid_area": null,
      "grid_auto_columns": null,
      "grid_auto_flow": null,
      "grid_auto_rows": null,
      "grid_column": null,
      "grid_gap": null,
      "grid_row": null,
      "grid_template_areas": null,
      "grid_template_columns": null,
      "grid_template_rows": null,
      "height": null,
      "justify_content": null,
      "justify_items": null,
      "left": null,
      "margin": null,
      "max_height": null,
      "max_width": null,
      "min_height": null,
      "min_width": null,
      "object_fit": null,
      "object_position": null,
      "order": null,
      "overflow": null,
      "overflow_x": null,
      "overflow_y": null,
      "padding": null,
      "right": null,
      "top": null,
      "visibility": null,
      "width": null
     }
    },
    "c15613899c8047768604fbb61b1341f6": {
     "model_module": "@jupyter-widgets/controls",
     "model_name": "DescriptionStyleModel",
     "model_module_version": "1.5.0",
     "state": {
      "_model_module": "@jupyter-widgets/controls",
      "_model_module_version": "1.5.0",
      "_model_name": "DescriptionStyleModel",
      "_view_count": null,
      "_view_module": "@jupyter-widgets/base",
      "_view_module_version": "1.2.0",
      "_view_name": "StyleView",
      "description_width": ""
     }
    },
    "76dfc4077b304348849322142a9cc04a": {
     "model_module": "@jupyter-widgets/base",
     "model_name": "LayoutModel",
     "model_module_version": "1.2.0",
     "state": {
      "_model_module": "@jupyter-widgets/base",
      "_model_module_version": "1.2.0",
      "_model_name": "LayoutModel",
      "_view_count": null,
      "_view_module": "@jupyter-widgets/base",
      "_view_module_version": "1.2.0",
      "_view_name": "LayoutView",
      "align_content": null,
      "align_items": null,
      "align_self": null,
      "border": null,
      "bottom": null,
      "display": null,
      "flex": null,
      "flex_flow": null,
      "grid_area": null,
      "grid_auto_columns": null,
      "grid_auto_flow": null,
      "grid_auto_rows": null,
      "grid_column": null,
      "grid_gap": null,
      "grid_row": null,
      "grid_template_areas": null,
      "grid_template_columns": null,
      "grid_template_rows": null,
      "height": null,
      "justify_content": null,
      "justify_items": null,
      "left": null,
      "margin": null,
      "max_height": null,
      "max_width": null,
      "min_height": null,
      "min_width": null,
      "object_fit": null,
      "object_position": null,
      "order": null,
      "overflow": null,
      "overflow_x": null,
      "overflow_y": null,
      "padding": null,
      "right": null,
      "top": null,
      "visibility": null,
      "width": null
     }
    },
    "631ad43f527849d19019bd5b969c5d48": {
     "model_module": "@jupyter-widgets/controls",
     "model_name": "ProgressStyleModel",
     "model_module_version": "1.5.0",
     "state": {
      "_model_module": "@jupyter-widgets/controls",
      "_model_module_version": "1.5.0",
      "_model_name": "ProgressStyleModel",
      "_view_count": null,
      "_view_module": "@jupyter-widgets/base",
      "_view_module_version": "1.2.0",
      "_view_name": "StyleView",
      "bar_color": null,
      "description_width": ""
     }
    },
    "eacaf53b0e18481a9152cd4025e3ad45": {
     "model_module": "@jupyter-widgets/base",
     "model_name": "LayoutModel",
     "model_module_version": "1.2.0",
     "state": {
      "_model_module": "@jupyter-widgets/base",
      "_model_module_version": "1.2.0",
      "_model_name": "LayoutModel",
      "_view_count": null,
      "_view_module": "@jupyter-widgets/base",
      "_view_module_version": "1.2.0",
      "_view_name": "LayoutView",
      "align_content": null,
      "align_items": null,
      "align_self": null,
      "border": null,
      "bottom": null,
      "display": null,
      "flex": null,
      "flex_flow": null,
      "grid_area": null,
      "grid_auto_columns": null,
      "grid_auto_flow": null,
      "grid_auto_rows": null,
      "grid_column": null,
      "grid_gap": null,
      "grid_row": null,
      "grid_template_areas": null,
      "grid_template_columns": null,
      "grid_template_rows": null,
      "height": null,
      "justify_content": null,
      "justify_items": null,
      "left": null,
      "margin": null,
      "max_height": null,
      "max_width": null,
      "min_height": null,
      "min_width": null,
      "object_fit": null,
      "object_position": null,
      "order": null,
      "overflow": null,
      "overflow_x": null,
      "overflow_y": null,
      "padding": null,
      "right": null,
      "top": null,
      "visibility": null,
      "width": null
     }
    },
    "9e1548d84be1492e938f9617f5b62ba2": {
     "model_module": "@jupyter-widgets/controls",
     "model_name": "DescriptionStyleModel",
     "model_module_version": "1.5.0",
     "state": {
      "_model_module": "@jupyter-widgets/controls",
      "_model_module_version": "1.5.0",
      "_model_name": "DescriptionStyleModel",
      "_view_count": null,
      "_view_module": "@jupyter-widgets/base",
      "_view_module_version": "1.2.0",
      "_view_name": "StyleView",
      "description_width": ""
     }
    },
    "b6dfd5e429ee4bd8be959d65c667fe4a": {
     "model_module": "@jupyter-widgets/controls",
     "model_name": "HBoxModel",
     "model_module_version": "1.5.0",
     "state": {
      "_dom_classes": [],
      "_model_module": "@jupyter-widgets/controls",
      "_model_module_version": "1.5.0",
      "_model_name": "HBoxModel",
      "_view_count": null,
      "_view_module": "@jupyter-widgets/controls",
      "_view_module_version": "1.5.0",
      "_view_name": "HBoxView",
      "box_style": "",
      "children": [
       "IPY_MODEL_29e8fc03d5374697a7fbbd42c6972713",
       "IPY_MODEL_1e88802ee1c248d38d8352c8778bd00b",
       "IPY_MODEL_6870da0a465c405ea60e30c0f50b5820"
      ],
      "layout": "IPY_MODEL_8b12359b19d242cebda38cfb1888c9b5"
     }
    },
    "29e8fc03d5374697a7fbbd42c6972713": {
     "model_module": "@jupyter-widgets/controls",
     "model_name": "HTMLModel",
     "model_module_version": "1.5.0",
     "state": {
      "_dom_classes": [],
      "_model_module": "@jupyter-widgets/controls",
      "_model_module_version": "1.5.0",
      "_model_name": "HTMLModel",
      "_view_count": null,
      "_view_module": "@jupyter-widgets/controls",
      "_view_module_version": "1.5.0",
      "_view_name": "HTMLView",
      "description": "",
      "description_tooltip": null,
      "layout": "IPY_MODEL_f9bca9e2b03d469db0c818fb65dd37d9",
      "placeholder": "​",
      "style": "IPY_MODEL_7604a72f097b49478f5ea3fdd2eecb7f",
      "value": "Downloading data: 100%"
     }
    },
    "1e88802ee1c248d38d8352c8778bd00b": {
     "model_module": "@jupyter-widgets/controls",
     "model_name": "FloatProgressModel",
     "model_module_version": "1.5.0",
     "state": {
      "_dom_classes": [],
      "_model_module": "@jupyter-widgets/controls",
      "_model_module_version": "1.5.0",
      "_model_name": "FloatProgressModel",
      "_view_count": null,
      "_view_module": "@jupyter-widgets/controls",
      "_view_module_version": "1.5.0",
      "_view_name": "ProgressView",
      "bar_style": "success",
      "description": "",
      "description_tooltip": null,
      "layout": "IPY_MODEL_fbfac3a24179472c8f83645e9e80784f",
      "max": 294351294,
      "min": 0,
      "orientation": "horizontal",
      "style": "IPY_MODEL_cf1e22863f2541a682b3978fd0758c8b",
      "value": 294351294
     }
    },
    "6870da0a465c405ea60e30c0f50b5820": {
     "model_module": "@jupyter-widgets/controls",
     "model_name": "HTMLModel",
     "model_module_version": "1.5.0",
     "state": {
      "_dom_classes": [],
      "_model_module": "@jupyter-widgets/controls",
      "_model_module_version": "1.5.0",
      "_model_name": "HTMLModel",
      "_view_count": null,
      "_view_module": "@jupyter-widgets/controls",
      "_view_module_version": "1.5.0",
      "_view_name": "HTMLView",
      "description": "",
      "description_tooltip": null,
      "layout": "IPY_MODEL_dc1c3b9cc98e44a9b9a027145622ace0",
      "placeholder": "​",
      "style": "IPY_MODEL_a5a689791ddc4df8aef85895148d3e10",
      "value": " 294M/294M [00:07&lt;00:00, 45.7MB/s]"
     }
    },
    "8b12359b19d242cebda38cfb1888c9b5": {
     "model_module": "@jupyter-widgets/base",
     "model_name": "LayoutModel",
     "model_module_version": "1.2.0",
     "state": {
      "_model_module": "@jupyter-widgets/base",
      "_model_module_version": "1.2.0",
      "_model_name": "LayoutModel",
      "_view_count": null,
      "_view_module": "@jupyter-widgets/base",
      "_view_module_version": "1.2.0",
      "_view_name": "LayoutView",
      "align_content": null,
      "align_items": null,
      "align_self": null,
      "border": null,
      "bottom": null,
      "display": null,
      "flex": null,
      "flex_flow": null,
      "grid_area": null,
      "grid_auto_columns": null,
      "grid_auto_flow": null,
      "grid_auto_rows": null,
      "grid_column": null,
      "grid_gap": null,
      "grid_row": null,
      "grid_template_areas": null,
      "grid_template_columns": null,
      "grid_template_rows": null,
      "height": null,
      "justify_content": null,
      "justify_items": null,
      "left": null,
      "margin": null,
      "max_height": null,
      "max_width": null,
      "min_height": null,
      "min_width": null,
      "object_fit": null,
      "object_position": null,
      "order": null,
      "overflow": null,
      "overflow_x": null,
      "overflow_y": null,
      "padding": null,
      "right": null,
      "top": null,
      "visibility": null,
      "width": null
     }
    },
    "f9bca9e2b03d469db0c818fb65dd37d9": {
     "model_module": "@jupyter-widgets/base",
     "model_name": "LayoutModel",
     "model_module_version": "1.2.0",
     "state": {
      "_model_module": "@jupyter-widgets/base",
      "_model_module_version": "1.2.0",
      "_model_name": "LayoutModel",
      "_view_count": null,
      "_view_module": "@jupyter-widgets/base",
      "_view_module_version": "1.2.0",
      "_view_name": "LayoutView",
      "align_content": null,
      "align_items": null,
      "align_self": null,
      "border": null,
      "bottom": null,
      "display": null,
      "flex": null,
      "flex_flow": null,
      "grid_area": null,
      "grid_auto_columns": null,
      "grid_auto_flow": null,
      "grid_auto_rows": null,
      "grid_column": null,
      "grid_gap": null,
      "grid_row": null,
      "grid_template_areas": null,
      "grid_template_columns": null,
      "grid_template_rows": null,
      "height": null,
      "justify_content": null,
      "justify_items": null,
      "left": null,
      "margin": null,
      "max_height": null,
      "max_width": null,
      "min_height": null,
      "min_width": null,
      "object_fit": null,
      "object_position": null,
      "order": null,
      "overflow": null,
      "overflow_x": null,
      "overflow_y": null,
      "padding": null,
      "right": null,
      "top": null,
      "visibility": null,
      "width": null
     }
    },
    "7604a72f097b49478f5ea3fdd2eecb7f": {
     "model_module": "@jupyter-widgets/controls",
     "model_name": "DescriptionStyleModel",
     "model_module_version": "1.5.0",
     "state": {
      "_model_module": "@jupyter-widgets/controls",
      "_model_module_version": "1.5.0",
      "_model_name": "DescriptionStyleModel",
      "_view_count": null,
      "_view_module": "@jupyter-widgets/base",
      "_view_module_version": "1.2.0",
      "_view_name": "StyleView",
      "description_width": ""
     }
    },
    "fbfac3a24179472c8f83645e9e80784f": {
     "model_module": "@jupyter-widgets/base",
     "model_name": "LayoutModel",
     "model_module_version": "1.2.0",
     "state": {
      "_model_module": "@jupyter-widgets/base",
      "_model_module_version": "1.2.0",
      "_model_name": "LayoutModel",
      "_view_count": null,
      "_view_module": "@jupyter-widgets/base",
      "_view_module_version": "1.2.0",
      "_view_name": "LayoutView",
      "align_content": null,
      "align_items": null,
      "align_self": null,
      "border": null,
      "bottom": null,
      "display": null,
      "flex": null,
      "flex_flow": null,
      "grid_area": null,
      "grid_auto_columns": null,
      "grid_auto_flow": null,
      "grid_auto_rows": null,
      "grid_column": null,
      "grid_gap": null,
      "grid_row": null,
      "grid_template_areas": null,
      "grid_template_columns": null,
      "grid_template_rows": null,
      "height": null,
      "justify_content": null,
      "justify_items": null,
      "left": null,
      "margin": null,
      "max_height": null,
      "max_width": null,
      "min_height": null,
      "min_width": null,
      "object_fit": null,
      "object_position": null,
      "order": null,
      "overflow": null,
      "overflow_x": null,
      "overflow_y": null,
      "padding": null,
      "right": null,
      "top": null,
      "visibility": null,
      "width": null
     }
    },
    "cf1e22863f2541a682b3978fd0758c8b": {
     "model_module": "@jupyter-widgets/controls",
     "model_name": "ProgressStyleModel",
     "model_module_version": "1.5.0",
     "state": {
      "_model_module": "@jupyter-widgets/controls",
      "_model_module_version": "1.5.0",
      "_model_name": "ProgressStyleModel",
      "_view_count": null,
      "_view_module": "@jupyter-widgets/base",
      "_view_module_version": "1.2.0",
      "_view_name": "StyleView",
      "bar_color": null,
      "description_width": ""
     }
    },
    "dc1c3b9cc98e44a9b9a027145622ace0": {
     "model_module": "@jupyter-widgets/base",
     "model_name": "LayoutModel",
     "model_module_version": "1.2.0",
     "state": {
      "_model_module": "@jupyter-widgets/base",
      "_model_module_version": "1.2.0",
      "_model_name": "LayoutModel",
      "_view_count": null,
      "_view_module": "@jupyter-widgets/base",
      "_view_module_version": "1.2.0",
      "_view_name": "LayoutView",
      "align_content": null,
      "align_items": null,
      "align_self": null,
      "border": null,
      "bottom": null,
      "display": null,
      "flex": null,
      "flex_flow": null,
      "grid_area": null,
      "grid_auto_columns": null,
      "grid_auto_flow": null,
      "grid_auto_rows": null,
      "grid_column": null,
      "grid_gap": null,
      "grid_row": null,
      "grid_template_areas": null,
      "grid_template_columns": null,
      "grid_template_rows": null,
      "height": null,
      "justify_content": null,
      "justify_items": null,
      "left": null,
      "margin": null,
      "max_height": null,
      "max_width": null,
      "min_height": null,
      "min_width": null,
      "object_fit": null,
      "object_position": null,
      "order": null,
      "overflow": null,
      "overflow_x": null,
      "overflow_y": null,
      "padding": null,
      "right": null,
      "top": null,
      "visibility": null,
      "width": null
     }
    },
    "a5a689791ddc4df8aef85895148d3e10": {
     "model_module": "@jupyter-widgets/controls",
     "model_name": "DescriptionStyleModel",
     "model_module_version": "1.5.0",
     "state": {
      "_model_module": "@jupyter-widgets/controls",
      "_model_module_version": "1.5.0",
      "_model_name": "DescriptionStyleModel",
      "_view_count": null,
      "_view_module": "@jupyter-widgets/base",
      "_view_module_version": "1.2.0",
      "_view_name": "StyleView",
      "description_width": ""
     }
    },
    "ebcb8cf34359485cacc26d8b7e47edf9": {
     "model_module": "@jupyter-widgets/controls",
     "model_name": "HBoxModel",
     "model_module_version": "1.5.0",
     "state": {
      "_dom_classes": [],
      "_model_module": "@jupyter-widgets/controls",
      "_model_module_version": "1.5.0",
      "_model_name": "HBoxModel",
      "_view_count": null,
      "_view_module": "@jupyter-widgets/controls",
      "_view_module_version": "1.5.0",
      "_view_name": "HBoxView",
      "box_style": "",
      "children": [
       "IPY_MODEL_54e87aff527048c485fbb9fee0d0341b",
       "IPY_MODEL_5755d17455034798990feb462680013e",
       "IPY_MODEL_d424d20b70ee4c92897c42fefd03baae"
      ],
      "layout": "IPY_MODEL_45ed0822a3f04d12913086b96c3e1708"
     }
    },
    "54e87aff527048c485fbb9fee0d0341b": {
     "model_module": "@jupyter-widgets/controls",
     "model_name": "HTMLModel",
     "model_module_version": "1.5.0",
     "state": {
      "_dom_classes": [],
      "_model_module": "@jupyter-widgets/controls",
      "_model_module_version": "1.5.0",
      "_model_name": "HTMLModel",
      "_view_count": null,
      "_view_module": "@jupyter-widgets/controls",
      "_view_module_version": "1.5.0",
      "_view_name": "HTMLView",
      "description": "",
      "description_tooltip": null,
      "layout": "IPY_MODEL_55b3798609cc499a8b4f5f6de76887cd",
      "placeholder": "​",
      "style": "IPY_MODEL_451df71121644acbb2fa476eca28ae7f",
      "value": "Downloading data: 100%"
     }
    },
    "5755d17455034798990feb462680013e": {
     "model_module": "@jupyter-widgets/controls",
     "model_name": "FloatProgressModel",
     "model_module_version": "1.5.0",
     "state": {
      "_dom_classes": [],
      "_model_module": "@jupyter-widgets/controls",
      "_model_module_version": "1.5.0",
      "_model_name": "FloatProgressModel",
      "_view_count": null,
      "_view_module": "@jupyter-widgets/controls",
      "_view_module_version": "1.5.0",
      "_view_name": "ProgressView",
      "bar_style": "success",
      "description": "",
      "description_tooltip": null,
      "layout": "IPY_MODEL_4d37ec288ee04344a8ad43478d00e3bf",
      "max": 288565967,
      "min": 0,
      "orientation": "horizontal",
      "style": "IPY_MODEL_a9a5702437dd4d34a695909794621ec0",
      "value": 288565967
     }
    },
    "d424d20b70ee4c92897c42fefd03baae": {
     "model_module": "@jupyter-widgets/controls",
     "model_name": "HTMLModel",
     "model_module_version": "1.5.0",
     "state": {
      "_dom_classes": [],
      "_model_module": "@jupyter-widgets/controls",
      "_model_module_version": "1.5.0",
      "_model_name": "HTMLModel",
      "_view_count": null,
      "_view_module": "@jupyter-widgets/controls",
      "_view_module_version": "1.5.0",
      "_view_name": "HTMLView",
      "description": "",
      "description_tooltip": null,
      "layout": "IPY_MODEL_c8789c1eb5d041e4a8cffe2cd849db21",
      "placeholder": "​",
      "style": "IPY_MODEL_0bace994363c4fbbb25e8844de693ebc",
      "value": " 289M/289M [00:07&lt;00:00, 41.8MB/s]"
     }
    },
    "45ed0822a3f04d12913086b96c3e1708": {
     "model_module": "@jupyter-widgets/base",
     "model_name": "LayoutModel",
     "model_module_version": "1.2.0",
     "state": {
      "_model_module": "@jupyter-widgets/base",
      "_model_module_version": "1.2.0",
      "_model_name": "LayoutModel",
      "_view_count": null,
      "_view_module": "@jupyter-widgets/base",
      "_view_module_version": "1.2.0",
      "_view_name": "LayoutView",
      "align_content": null,
      "align_items": null,
      "align_self": null,
      "border": null,
      "bottom": null,
      "display": null,
      "flex": null,
      "flex_flow": null,
      "grid_area": null,
      "grid_auto_columns": null,
      "grid_auto_flow": null,
      "grid_auto_rows": null,
      "grid_column": null,
      "grid_gap": null,
      "grid_row": null,
      "grid_template_areas": null,
      "grid_template_columns": null,
      "grid_template_rows": null,
      "height": null,
      "justify_content": null,
      "justify_items": null,
      "left": null,
      "margin": null,
      "max_height": null,
      "max_width": null,
      "min_height": null,
      "min_width": null,
      "object_fit": null,
      "object_position": null,
      "order": null,
      "overflow": null,
      "overflow_x": null,
      "overflow_y": null,
      "padding": null,
      "right": null,
      "top": null,
      "visibility": null,
      "width": null
     }
    },
    "55b3798609cc499a8b4f5f6de76887cd": {
     "model_module": "@jupyter-widgets/base",
     "model_name": "LayoutModel",
     "model_module_version": "1.2.0",
     "state": {
      "_model_module": "@jupyter-widgets/base",
      "_model_module_version": "1.2.0",
      "_model_name": "LayoutModel",
      "_view_count": null,
      "_view_module": "@jupyter-widgets/base",
      "_view_module_version": "1.2.0",
      "_view_name": "LayoutView",
      "align_content": null,
      "align_items": null,
      "align_self": null,
      "border": null,
      "bottom": null,
      "display": null,
      "flex": null,
      "flex_flow": null,
      "grid_area": null,
      "grid_auto_columns": null,
      "grid_auto_flow": null,
      "grid_auto_rows": null,
      "grid_column": null,
      "grid_gap": null,
      "grid_row": null,
      "grid_template_areas": null,
      "grid_template_columns": null,
      "grid_template_rows": null,
      "height": null,
      "justify_content": null,
      "justify_items": null,
      "left": null,
      "margin": null,
      "max_height": null,
      "max_width": null,
      "min_height": null,
      "min_width": null,
      "object_fit": null,
      "object_position": null,
      "order": null,
      "overflow": null,
      "overflow_x": null,
      "overflow_y": null,
      "padding": null,
      "right": null,
      "top": null,
      "visibility": null,
      "width": null
     }
    },
    "451df71121644acbb2fa476eca28ae7f": {
     "model_module": "@jupyter-widgets/controls",
     "model_name": "DescriptionStyleModel",
     "model_module_version": "1.5.0",
     "state": {
      "_model_module": "@jupyter-widgets/controls",
      "_model_module_version": "1.5.0",
      "_model_name": "DescriptionStyleModel",
      "_view_count": null,
      "_view_module": "@jupyter-widgets/base",
      "_view_module_version": "1.2.0",
      "_view_name": "StyleView",
      "description_width": ""
     }
    },
    "4d37ec288ee04344a8ad43478d00e3bf": {
     "model_module": "@jupyter-widgets/base",
     "model_name": "LayoutModel",
     "model_module_version": "1.2.0",
     "state": {
      "_model_module": "@jupyter-widgets/base",
      "_model_module_version": "1.2.0",
      "_model_name": "LayoutModel",
      "_view_count": null,
      "_view_module": "@jupyter-widgets/base",
      "_view_module_version": "1.2.0",
      "_view_name": "LayoutView",
      "align_content": null,
      "align_items": null,
      "align_self": null,
      "border": null,
      "bottom": null,
      "display": null,
      "flex": null,
      "flex_flow": null,
      "grid_area": null,
      "grid_auto_columns": null,
      "grid_auto_flow": null,
      "grid_auto_rows": null,
      "grid_column": null,
      "grid_gap": null,
      "grid_row": null,
      "grid_template_areas": null,
      "grid_template_columns": null,
      "grid_template_rows": null,
      "height": null,
      "justify_content": null,
      "justify_items": null,
      "left": null,
      "margin": null,
      "max_height": null,
      "max_width": null,
      "min_height": null,
      "min_width": null,
      "object_fit": null,
      "object_position": null,
      "order": null,
      "overflow": null,
      "overflow_x": null,
      "overflow_y": null,
      "padding": null,
      "right": null,
      "top": null,
      "visibility": null,
      "width": null
     }
    },
    "a9a5702437dd4d34a695909794621ec0": {
     "model_module": "@jupyter-widgets/controls",
     "model_name": "ProgressStyleModel",
     "model_module_version": "1.5.0",
     "state": {
      "_model_module": "@jupyter-widgets/controls",
      "_model_module_version": "1.5.0",
      "_model_name": "ProgressStyleModel",
      "_view_count": null,
      "_view_module": "@jupyter-widgets/base",
      "_view_module_version": "1.2.0",
      "_view_name": "StyleView",
      "bar_color": null,
      "description_width": ""
     }
    },
    "c8789c1eb5d041e4a8cffe2cd849db21": {
     "model_module": "@jupyter-widgets/base",
     "model_name": "LayoutModel",
     "model_module_version": "1.2.0",
     "state": {
      "_model_module": "@jupyter-widgets/base",
      "_model_module_version": "1.2.0",
      "_model_name": "LayoutModel",
      "_view_count": null,
      "_view_module": "@jupyter-widgets/base",
      "_view_module_version": "1.2.0",
      "_view_name": "LayoutView",
      "align_content": null,
      "align_items": null,
      "align_self": null,
      "border": null,
      "bottom": null,
      "display": null,
      "flex": null,
      "flex_flow": null,
      "grid_area": null,
      "grid_auto_columns": null,
      "grid_auto_flow": null,
      "grid_auto_rows": null,
      "grid_column": null,
      "grid_gap": null,
      "grid_row": null,
      "grid_template_areas": null,
      "grid_template_columns": null,
      "grid_template_rows": null,
      "height": null,
      "justify_content": null,
      "justify_items": null,
      "left": null,
      "margin": null,
      "max_height": null,
      "max_width": null,
      "min_height": null,
      "min_width": null,
      "object_fit": null,
      "object_position": null,
      "order": null,
      "overflow": null,
      "overflow_x": null,
      "overflow_y": null,
      "padding": null,
      "right": null,
      "top": null,
      "visibility": null,
      "width": null
     }
    },
    "0bace994363c4fbbb25e8844de693ebc": {
     "model_module": "@jupyter-widgets/controls",
     "model_name": "DescriptionStyleModel",
     "model_module_version": "1.5.0",
     "state": {
      "_model_module": "@jupyter-widgets/controls",
      "_model_module_version": "1.5.0",
      "_model_name": "DescriptionStyleModel",
      "_view_count": null,
      "_view_module": "@jupyter-widgets/base",
      "_view_module_version": "1.2.0",
      "_view_name": "StyleView",
      "description_width": ""
     }
    },
    "a965fc75f5c54640ad84bf967c2b5010": {
     "model_module": "@jupyter-widgets/controls",
     "model_name": "HBoxModel",
     "model_module_version": "1.5.0",
     "state": {
      "_dom_classes": [],
      "_model_module": "@jupyter-widgets/controls",
      "_model_module_version": "1.5.0",
      "_model_name": "HBoxModel",
      "_view_count": null,
      "_view_module": "@jupyter-widgets/controls",
      "_view_module_version": "1.5.0",
      "_view_name": "HBoxView",
      "box_style": "",
      "children": [
       "IPY_MODEL_d4fd48f315d449d186727e5199955ee6",
       "IPY_MODEL_dbc3000a433849dbb0066629de532ad5",
       "IPY_MODEL_99e9ac342e254645af4416df7312143d"
      ],
      "layout": "IPY_MODEL_ad14d09832d94ca08f3592bbad8020f6"
     }
    },
    "d4fd48f315d449d186727e5199955ee6": {
     "model_module": "@jupyter-widgets/controls",
     "model_name": "HTMLModel",
     "model_module_version": "1.5.0",
     "state": {
      "_dom_classes": [],
      "_model_module": "@jupyter-widgets/controls",
      "_model_module_version": "1.5.0",
      "_model_name": "HTMLModel",
      "_view_count": null,
      "_view_module": "@jupyter-widgets/controls",
      "_view_module_version": "1.5.0",
      "_view_name": "HTMLView",
      "description": "",
      "description_tooltip": null,
      "layout": "IPY_MODEL_bcc933de68554c82a5433c5428e9d3b1",
      "placeholder": "​",
      "style": "IPY_MODEL_5deb09d28f734f4cb76dee7e49561a47",
      "value": "Extracting data files: 100%"
     }
    },
    "dbc3000a433849dbb0066629de532ad5": {
     "model_module": "@jupyter-widgets/controls",
     "model_name": "FloatProgressModel",
     "model_module_version": "1.5.0",
     "state": {
      "_dom_classes": [],
      "_model_module": "@jupyter-widgets/controls",
      "_model_module_version": "1.5.0",
      "_model_name": "FloatProgressModel",
      "_view_count": null,
      "_view_module": "@jupyter-widgets/controls",
      "_view_module_version": "1.5.0",
      "_view_name": "ProgressView",
      "bar_style": "success",
      "description": "",
      "description_tooltip": null,
      "layout": "IPY_MODEL_1bcf42538f8b48e49db1d2779dfe1bf6",
      "max": 1,
      "min": 0,
      "orientation": "horizontal",
      "style": "IPY_MODEL_8f0e48b1816144b2b835a01d6c175ed6",
      "value": 1
     }
    },
    "99e9ac342e254645af4416df7312143d": {
     "model_module": "@jupyter-widgets/controls",
     "model_name": "HTMLModel",
     "model_module_version": "1.5.0",
     "state": {
      "_dom_classes": [],
      "_model_module": "@jupyter-widgets/controls",
      "_model_module_version": "1.5.0",
      "_model_name": "HTMLModel",
      "_view_count": null,
      "_view_module": "@jupyter-widgets/controls",
      "_view_module_version": "1.5.0",
      "_view_name": "HTMLView",
      "description": "",
      "description_tooltip": null,
      "layout": "IPY_MODEL_a97564b590c247e78c2f50847cb47ac6",
      "placeholder": "​",
      "style": "IPY_MODEL_bb90679e56264932a9d8d6c884cc686d",
      "value": " 1/1 [00:00&lt;00:00, 31.04it/s]"
     }
    },
    "ad14d09832d94ca08f3592bbad8020f6": {
     "model_module": "@jupyter-widgets/base",
     "model_name": "LayoutModel",
     "model_module_version": "1.2.0",
     "state": {
      "_model_module": "@jupyter-widgets/base",
      "_model_module_version": "1.2.0",
      "_model_name": "LayoutModel",
      "_view_count": null,
      "_view_module": "@jupyter-widgets/base",
      "_view_module_version": "1.2.0",
      "_view_name": "LayoutView",
      "align_content": null,
      "align_items": null,
      "align_self": null,
      "border": null,
      "bottom": null,
      "display": null,
      "flex": null,
      "flex_flow": null,
      "grid_area": null,
      "grid_auto_columns": null,
      "grid_auto_flow": null,
      "grid_auto_rows": null,
      "grid_column": null,
      "grid_gap": null,
      "grid_row": null,
      "grid_template_areas": null,
      "grid_template_columns": null,
      "grid_template_rows": null,
      "height": null,
      "justify_content": null,
      "justify_items": null,
      "left": null,
      "margin": null,
      "max_height": null,
      "max_width": null,
      "min_height": null,
      "min_width": null,
      "object_fit": null,
      "object_position": null,
      "order": null,
      "overflow": null,
      "overflow_x": null,
      "overflow_y": null,
      "padding": null,
      "right": null,
      "top": null,
      "visibility": null,
      "width": null
     }
    },
    "bcc933de68554c82a5433c5428e9d3b1": {
     "model_module": "@jupyter-widgets/base",
     "model_name": "LayoutModel",
     "model_module_version": "1.2.0",
     "state": {
      "_model_module": "@jupyter-widgets/base",
      "_model_module_version": "1.2.0",
      "_model_name": "LayoutModel",
      "_view_count": null,
      "_view_module": "@jupyter-widgets/base",
      "_view_module_version": "1.2.0",
      "_view_name": "LayoutView",
      "align_content": null,
      "align_items": null,
      "align_self": null,
      "border": null,
      "bottom": null,
      "display": null,
      "flex": null,
      "flex_flow": null,
      "grid_area": null,
      "grid_auto_columns": null,
      "grid_auto_flow": null,
      "grid_auto_rows": null,
      "grid_column": null,
      "grid_gap": null,
      "grid_row": null,
      "grid_template_areas": null,
      "grid_template_columns": null,
      "grid_template_rows": null,
      "height": null,
      "justify_content": null,
      "justify_items": null,
      "left": null,
      "margin": null,
      "max_height": null,
      "max_width": null,
      "min_height": null,
      "min_width": null,
      "object_fit": null,
      "object_position": null,
      "order": null,
      "overflow": null,
      "overflow_x": null,
      "overflow_y": null,
      "padding": null,
      "right": null,
      "top": null,
      "visibility": null,
      "width": null
     }
    },
    "5deb09d28f734f4cb76dee7e49561a47": {
     "model_module": "@jupyter-widgets/controls",
     "model_name": "DescriptionStyleModel",
     "model_module_version": "1.5.0",
     "state": {
      "_model_module": "@jupyter-widgets/controls",
      "_model_module_version": "1.5.0",
      "_model_name": "DescriptionStyleModel",
      "_view_count": null,
      "_view_module": "@jupyter-widgets/base",
      "_view_module_version": "1.2.0",
      "_view_name": "StyleView",
      "description_width": ""
     }
    },
    "1bcf42538f8b48e49db1d2779dfe1bf6": {
     "model_module": "@jupyter-widgets/base",
     "model_name": "LayoutModel",
     "model_module_version": "1.2.0",
     "state": {
      "_model_module": "@jupyter-widgets/base",
      "_model_module_version": "1.2.0",
      "_model_name": "LayoutModel",
      "_view_count": null,
      "_view_module": "@jupyter-widgets/base",
      "_view_module_version": "1.2.0",
      "_view_name": "LayoutView",
      "align_content": null,
      "align_items": null,
      "align_self": null,
      "border": null,
      "bottom": null,
      "display": null,
      "flex": null,
      "flex_flow": null,
      "grid_area": null,
      "grid_auto_columns": null,
      "grid_auto_flow": null,
      "grid_auto_rows": null,
      "grid_column": null,
      "grid_gap": null,
      "grid_row": null,
      "grid_template_areas": null,
      "grid_template_columns": null,
      "grid_template_rows": null,
      "height": null,
      "justify_content": null,
      "justify_items": null,
      "left": null,
      "margin": null,
      "max_height": null,
      "max_width": null,
      "min_height": null,
      "min_width": null,
      "object_fit": null,
      "object_position": null,
      "order": null,
      "overflow": null,
      "overflow_x": null,
      "overflow_y": null,
      "padding": null,
      "right": null,
      "top": null,
      "visibility": null,
      "width": null
     }
    },
    "8f0e48b1816144b2b835a01d6c175ed6": {
     "model_module": "@jupyter-widgets/controls",
     "model_name": "ProgressStyleModel",
     "model_module_version": "1.5.0",
     "state": {
      "_model_module": "@jupyter-widgets/controls",
      "_model_module_version": "1.5.0",
      "_model_name": "ProgressStyleModel",
      "_view_count": null,
      "_view_module": "@jupyter-widgets/base",
      "_view_module_version": "1.2.0",
      "_view_name": "StyleView",
      "bar_color": null,
      "description_width": ""
     }
    },
    "a97564b590c247e78c2f50847cb47ac6": {
     "model_module": "@jupyter-widgets/base",
     "model_name": "LayoutModel",
     "model_module_version": "1.2.0",
     "state": {
      "_model_module": "@jupyter-widgets/base",
      "_model_module_version": "1.2.0",
      "_model_name": "LayoutModel",
      "_view_count": null,
      "_view_module": "@jupyter-widgets/base",
      "_view_module_version": "1.2.0",
      "_view_name": "LayoutView",
      "align_content": null,
      "align_items": null,
      "align_self": null,
      "border": null,
      "bottom": null,
      "display": null,
      "flex": null,
      "flex_flow": null,
      "grid_area": null,
      "grid_auto_columns": null,
      "grid_auto_flow": null,
      "grid_auto_rows": null,
      "grid_column": null,
      "grid_gap": null,
      "grid_row": null,
      "grid_template_areas": null,
      "grid_template_columns": null,
      "grid_template_rows": null,
      "height": null,
      "justify_content": null,
      "justify_items": null,
      "left": null,
      "margin": null,
      "max_height": null,
      "max_width": null,
      "min_height": null,
      "min_width": null,
      "object_fit": null,
      "object_position": null,
      "order": null,
      "overflow": null,
      "overflow_x": null,
      "overflow_y": null,
      "padding": null,
      "right": null,
      "top": null,
      "visibility": null,
      "width": null
     }
    },
    "bb90679e56264932a9d8d6c884cc686d": {
     "model_module": "@jupyter-widgets/controls",
     "model_name": "DescriptionStyleModel",
     "model_module_version": "1.5.0",
     "state": {
      "_model_module": "@jupyter-widgets/controls",
      "_model_module_version": "1.5.0",
      "_model_name": "DescriptionStyleModel",
      "_view_count": null,
      "_view_module": "@jupyter-widgets/base",
      "_view_module_version": "1.2.0",
      "_view_name": "StyleView",
      "description_width": ""
     }
    },
    "f6cd1cfc852843b494813e9d6d532eed": {
     "model_module": "@jupyter-widgets/controls",
     "model_name": "HBoxModel",
     "model_module_version": "1.5.0",
     "state": {
      "_dom_classes": [],
      "_model_module": "@jupyter-widgets/controls",
      "_model_module_version": "1.5.0",
      "_model_name": "HBoxModel",
      "_view_count": null,
      "_view_module": "@jupyter-widgets/controls",
      "_view_module_version": "1.5.0",
      "_view_name": "HBoxView",
      "box_style": "",
      "children": [
       "IPY_MODEL_ddda4f1e20a24a1c89b883d22826847f",
       "IPY_MODEL_9ceb98fbebc4463583f37cdafa660a54",
       "IPY_MODEL_c828407e5c594a0e982393bc2d8a1dc8"
      ],
      "layout": "IPY_MODEL_13e6cfec19e1465a8e71ced5832899b6"
     }
    },
    "ddda4f1e20a24a1c89b883d22826847f": {
     "model_module": "@jupyter-widgets/controls",
     "model_name": "HTMLModel",
     "model_module_version": "1.5.0",
     "state": {
      "_dom_classes": [],
      "_model_module": "@jupyter-widgets/controls",
      "_model_module_version": "1.5.0",
      "_model_name": "HTMLModel",
      "_view_count": null,
      "_view_module": "@jupyter-widgets/controls",
      "_view_module_version": "1.5.0",
      "_view_name": "HTMLView",
      "description": "",
      "description_tooltip": null,
      "layout": "IPY_MODEL_bb60c9884088458f8594ec72f5c26a7a",
      "placeholder": "​",
      "style": "IPY_MODEL_590449890643475286625a51bb4f6457",
      "value": "Generating train split: 100%"
     }
    },
    "9ceb98fbebc4463583f37cdafa660a54": {
     "model_module": "@jupyter-widgets/controls",
     "model_name": "FloatProgressModel",
     "model_module_version": "1.5.0",
     "state": {
      "_dom_classes": [],
      "_model_module": "@jupyter-widgets/controls",
      "_model_module_version": "1.5.0",
      "_model_name": "FloatProgressModel",
      "_view_count": null,
      "_view_module": "@jupyter-widgets/controls",
      "_view_module_version": "1.5.0",
      "_view_name": "ProgressView",
      "bar_style": "",
      "description": "",
      "description_tooltip": null,
      "layout": "IPY_MODEL_a5267e27027747188fa488d873c734a1",
      "max": 4288198,
      "min": 0,
      "orientation": "horizontal",
      "style": "IPY_MODEL_1ff12321f2c34a5f82625f40383a7b2d",
      "value": 4288198
     }
    },
    "c828407e5c594a0e982393bc2d8a1dc8": {
     "model_module": "@jupyter-widgets/controls",
     "model_name": "HTMLModel",
     "model_module_version": "1.5.0",
     "state": {
      "_dom_classes": [],
      "_model_module": "@jupyter-widgets/controls",
      "_model_module_version": "1.5.0",
      "_model_name": "HTMLModel",
      "_view_count": null,
      "_view_module": "@jupyter-widgets/controls",
      "_view_module_version": "1.5.0",
      "_view_name": "HTMLView",
      "description": "",
      "description_tooltip": null,
      "layout": "IPY_MODEL_0545b7be797449598dacdfa1083b7dff",
      "placeholder": "​",
      "style": "IPY_MODEL_3c7047565b2a499998835d57a0dd5189",
      "value": " 4285599/4288198 [00:26&lt;00:00, 171926.22 examples/s]"
     }
    },
    "13e6cfec19e1465a8e71ced5832899b6": {
     "model_module": "@jupyter-widgets/base",
     "model_name": "LayoutModel",
     "model_module_version": "1.2.0",
     "state": {
      "_model_module": "@jupyter-widgets/base",
      "_model_module_version": "1.2.0",
      "_model_name": "LayoutModel",
      "_view_count": null,
      "_view_module": "@jupyter-widgets/base",
      "_view_module_version": "1.2.0",
      "_view_name": "LayoutView",
      "align_content": null,
      "align_items": null,
      "align_self": null,
      "border": null,
      "bottom": null,
      "display": null,
      "flex": null,
      "flex_flow": null,
      "grid_area": null,
      "grid_auto_columns": null,
      "grid_auto_flow": null,
      "grid_auto_rows": null,
      "grid_column": null,
      "grid_gap": null,
      "grid_row": null,
      "grid_template_areas": null,
      "grid_template_columns": null,
      "grid_template_rows": null,
      "height": null,
      "justify_content": null,
      "justify_items": null,
      "left": null,
      "margin": null,
      "max_height": null,
      "max_width": null,
      "min_height": null,
      "min_width": null,
      "object_fit": null,
      "object_position": null,
      "order": null,
      "overflow": null,
      "overflow_x": null,
      "overflow_y": null,
      "padding": null,
      "right": null,
      "top": null,
      "visibility": "hidden",
      "width": null
     }
    },
    "bb60c9884088458f8594ec72f5c26a7a": {
     "model_module": "@jupyter-widgets/base",
     "model_name": "LayoutModel",
     "model_module_version": "1.2.0",
     "state": {
      "_model_module": "@jupyter-widgets/base",
      "_model_module_version": "1.2.0",
      "_model_name": "LayoutModel",
      "_view_count": null,
      "_view_module": "@jupyter-widgets/base",
      "_view_module_version": "1.2.0",
      "_view_name": "LayoutView",
      "align_content": null,
      "align_items": null,
      "align_self": null,
      "border": null,
      "bottom": null,
      "display": null,
      "flex": null,
      "flex_flow": null,
      "grid_area": null,
      "grid_auto_columns": null,
      "grid_auto_flow": null,
      "grid_auto_rows": null,
      "grid_column": null,
      "grid_gap": null,
      "grid_row": null,
      "grid_template_areas": null,
      "grid_template_columns": null,
      "grid_template_rows": null,
      "height": null,
      "justify_content": null,
      "justify_items": null,
      "left": null,
      "margin": null,
      "max_height": null,
      "max_width": null,
      "min_height": null,
      "min_width": null,
      "object_fit": null,
      "object_position": null,
      "order": null,
      "overflow": null,
      "overflow_x": null,
      "overflow_y": null,
      "padding": null,
      "right": null,
      "top": null,
      "visibility": null,
      "width": null
     }
    },
    "590449890643475286625a51bb4f6457": {
     "model_module": "@jupyter-widgets/controls",
     "model_name": "DescriptionStyleModel",
     "model_module_version": "1.5.0",
     "state": {
      "_model_module": "@jupyter-widgets/controls",
      "_model_module_version": "1.5.0",
      "_model_name": "DescriptionStyleModel",
      "_view_count": null,
      "_view_module": "@jupyter-widgets/base",
      "_view_module_version": "1.2.0",
      "_view_name": "StyleView",
      "description_width": ""
     }
    },
    "a5267e27027747188fa488d873c734a1": {
     "model_module": "@jupyter-widgets/base",
     "model_name": "LayoutModel",
     "model_module_version": "1.2.0",
     "state": {
      "_model_module": "@jupyter-widgets/base",
      "_model_module_version": "1.2.0",
      "_model_name": "LayoutModel",
      "_view_count": null,
      "_view_module": "@jupyter-widgets/base",
      "_view_module_version": "1.2.0",
      "_view_name": "LayoutView",
      "align_content": null,
      "align_items": null,
      "align_self": null,
      "border": null,
      "bottom": null,
      "display": null,
      "flex": null,
      "flex_flow": null,
      "grid_area": null,
      "grid_auto_columns": null,
      "grid_auto_flow": null,
      "grid_auto_rows": null,
      "grid_column": null,
      "grid_gap": null,
      "grid_row": null,
      "grid_template_areas": null,
      "grid_template_columns": null,
      "grid_template_rows": null,
      "height": null,
      "justify_content": null,
      "justify_items": null,
      "left": null,
      "margin": null,
      "max_height": null,
      "max_width": null,
      "min_height": null,
      "min_width": null,
      "object_fit": null,
      "object_position": null,
      "order": null,
      "overflow": null,
      "overflow_x": null,
      "overflow_y": null,
      "padding": null,
      "right": null,
      "top": null,
      "visibility": null,
      "width": null
     }
    },
    "1ff12321f2c34a5f82625f40383a7b2d": {
     "model_module": "@jupyter-widgets/controls",
     "model_name": "ProgressStyleModel",
     "model_module_version": "1.5.0",
     "state": {
      "_model_module": "@jupyter-widgets/controls",
      "_model_module_version": "1.5.0",
      "_model_name": "ProgressStyleModel",
      "_view_count": null,
      "_view_module": "@jupyter-widgets/base",
      "_view_module_version": "1.2.0",
      "_view_name": "StyleView",
      "bar_color": null,
      "description_width": ""
     }
    },
    "0545b7be797449598dacdfa1083b7dff": {
     "model_module": "@jupyter-widgets/base",
     "model_name": "LayoutModel",
     "model_module_version": "1.2.0",
     "state": {
      "_model_module": "@jupyter-widgets/base",
      "_model_module_version": "1.2.0",
      "_model_name": "LayoutModel",
      "_view_count": null,
      "_view_module": "@jupyter-widgets/base",
      "_view_module_version": "1.2.0",
      "_view_name": "LayoutView",
      "align_content": null,
      "align_items": null,
      "align_self": null,
      "border": null,
      "bottom": null,
      "display": null,
      "flex": null,
      "flex_flow": null,
      "grid_area": null,
      "grid_auto_columns": null,
      "grid_auto_flow": null,
      "grid_auto_rows": null,
      "grid_column": null,
      "grid_gap": null,
      "grid_row": null,
      "grid_template_areas": null,
      "grid_template_columns": null,
      "grid_template_rows": null,
      "height": null,
      "justify_content": null,
      "justify_items": null,
      "left": null,
      "margin": null,
      "max_height": null,
      "max_width": null,
      "min_height": null,
      "min_width": null,
      "object_fit": null,
      "object_position": null,
      "order": null,
      "overflow": null,
      "overflow_x": null,
      "overflow_y": null,
      "padding": null,
      "right": null,
      "top": null,
      "visibility": null,
      "width": null
     }
    },
    "3c7047565b2a499998835d57a0dd5189": {
     "model_module": "@jupyter-widgets/controls",
     "model_name": "DescriptionStyleModel",
     "model_module_version": "1.5.0",
     "state": {
      "_model_module": "@jupyter-widgets/controls",
      "_model_module_version": "1.5.0",
      "_model_name": "DescriptionStyleModel",
      "_view_count": null,
      "_view_module": "@jupyter-widgets/base",
      "_view_module_version": "1.2.0",
      "_view_name": "StyleView",
      "description_width": ""
     }
    },
    "ef8696e2f5cc4a5e910bc7fd74eb3015": {
     "model_module": "@jupyter-widgets/controls",
     "model_name": "HBoxModel",
     "model_module_version": "1.5.0",
     "state": {
      "_dom_classes": [],
      "_model_module": "@jupyter-widgets/controls",
      "_model_module_version": "1.5.0",
      "_model_name": "HBoxModel",
      "_view_count": null,
      "_view_module": "@jupyter-widgets/controls",
      "_view_module_version": "1.5.0",
      "_view_name": "HBoxView",
      "box_style": "",
      "children": [
       "IPY_MODEL_6c5de28b6d364cf9a70a95e4ef2a70fb",
       "IPY_MODEL_996124f2ef684225befba3a7f30d866b",
       "IPY_MODEL_ddbc8ced63ac4afe9462ee7e4d752881"
      ],
      "layout": "IPY_MODEL_54124de36cdb41fcb1ca21a94d410b52"
     }
    },
    "6c5de28b6d364cf9a70a95e4ef2a70fb": {
     "model_module": "@jupyter-widgets/controls",
     "model_name": "HTMLModel",
     "model_module_version": "1.5.0",
     "state": {
      "_dom_classes": [],
      "_model_module": "@jupyter-widgets/controls",
      "_model_module_version": "1.5.0",
      "_model_name": "HTMLModel",
      "_view_count": null,
      "_view_module": "@jupyter-widgets/controls",
      "_view_module_version": "1.5.0",
      "_view_name": "HTMLView",
      "description": "",
      "description_tooltip": null,
      "layout": "IPY_MODEL_ace0825726774c65a86626884d44008a",
      "placeholder": "​",
      "style": "IPY_MODEL_953b72092fb449b58d47fb51fafe3229",
      "value": "Downloading (…)lve/main/config.json: 100%"
     }
    },
    "996124f2ef684225befba3a7f30d866b": {
     "model_module": "@jupyter-widgets/controls",
     "model_name": "FloatProgressModel",
     "model_module_version": "1.5.0",
     "state": {
      "_dom_classes": [],
      "_model_module": "@jupyter-widgets/controls",
      "_model_module_version": "1.5.0",
      "_model_name": "FloatProgressModel",
      "_view_count": null,
      "_view_module": "@jupyter-widgets/controls",
      "_view_module_version": "1.5.0",
      "_view_name": "ProgressView",
      "bar_style": "success",
      "description": "",
      "description_tooltip": null,
      "layout": "IPY_MODEL_4392a69039244efd80d4e8cf28b2ec29",
      "max": 634,
      "min": 0,
      "orientation": "horizontal",
      "style": "IPY_MODEL_a4b2cc7dbab744d880adeb5fa9cbf06d",
      "value": 634
     }
    },
    "ddbc8ced63ac4afe9462ee7e4d752881": {
     "model_module": "@jupyter-widgets/controls",
     "model_name": "HTMLModel",
     "model_module_version": "1.5.0",
     "state": {
      "_dom_classes": [],
      "_model_module": "@jupyter-widgets/controls",
      "_model_module_version": "1.5.0",
      "_model_name": "HTMLModel",
      "_view_count": null,
      "_view_module": "@jupyter-widgets/controls",
      "_view_module_version": "1.5.0",
      "_view_name": "HTMLView",
      "description": "",
      "description_tooltip": null,
      "layout": "IPY_MODEL_f4ee837297264885ade6760eb7052a68",
      "placeholder": "​",
      "style": "IPY_MODEL_c2c6b126ceae4560aea9ba29481ec43f",
      "value": " 634/634 [00:00&lt;00:00, 24.1kB/s]"
     }
    },
    "54124de36cdb41fcb1ca21a94d410b52": {
     "model_module": "@jupyter-widgets/base",
     "model_name": "LayoutModel",
     "model_module_version": "1.2.0",
     "state": {
      "_model_module": "@jupyter-widgets/base",
      "_model_module_version": "1.2.0",
      "_model_name": "LayoutModel",
      "_view_count": null,
      "_view_module": "@jupyter-widgets/base",
      "_view_module_version": "1.2.0",
      "_view_name": "LayoutView",
      "align_content": null,
      "align_items": null,
      "align_self": null,
      "border": null,
      "bottom": null,
      "display": null,
      "flex": null,
      "flex_flow": null,
      "grid_area": null,
      "grid_auto_columns": null,
      "grid_auto_flow": null,
      "grid_auto_rows": null,
      "grid_column": null,
      "grid_gap": null,
      "grid_row": null,
      "grid_template_areas": null,
      "grid_template_columns": null,
      "grid_template_rows": null,
      "height": null,
      "justify_content": null,
      "justify_items": null,
      "left": null,
      "margin": null,
      "max_height": null,
      "max_width": null,
      "min_height": null,
      "min_width": null,
      "object_fit": null,
      "object_position": null,
      "order": null,
      "overflow": null,
      "overflow_x": null,
      "overflow_y": null,
      "padding": null,
      "right": null,
      "top": null,
      "visibility": null,
      "width": null
     }
    },
    "ace0825726774c65a86626884d44008a": {
     "model_module": "@jupyter-widgets/base",
     "model_name": "LayoutModel",
     "model_module_version": "1.2.0",
     "state": {
      "_model_module": "@jupyter-widgets/base",
      "_model_module_version": "1.2.0",
      "_model_name": "LayoutModel",
      "_view_count": null,
      "_view_module": "@jupyter-widgets/base",
      "_view_module_version": "1.2.0",
      "_view_name": "LayoutView",
      "align_content": null,
      "align_items": null,
      "align_self": null,
      "border": null,
      "bottom": null,
      "display": null,
      "flex": null,
      "flex_flow": null,
      "grid_area": null,
      "grid_auto_columns": null,
      "grid_auto_flow": null,
      "grid_auto_rows": null,
      "grid_column": null,
      "grid_gap": null,
      "grid_row": null,
      "grid_template_areas": null,
      "grid_template_columns": null,
      "grid_template_rows": null,
      "height": null,
      "justify_content": null,
      "justify_items": null,
      "left": null,
      "margin": null,
      "max_height": null,
      "max_width": null,
      "min_height": null,
      "min_width": null,
      "object_fit": null,
      "object_position": null,
      "order": null,
      "overflow": null,
      "overflow_x": null,
      "overflow_y": null,
      "padding": null,
      "right": null,
      "top": null,
      "visibility": null,
      "width": null
     }
    },
    "953b72092fb449b58d47fb51fafe3229": {
     "model_module": "@jupyter-widgets/controls",
     "model_name": "DescriptionStyleModel",
     "model_module_version": "1.5.0",
     "state": {
      "_model_module": "@jupyter-widgets/controls",
      "_model_module_version": "1.5.0",
      "_model_name": "DescriptionStyleModel",
      "_view_count": null,
      "_view_module": "@jupyter-widgets/base",
      "_view_module_version": "1.2.0",
      "_view_name": "StyleView",
      "description_width": ""
     }
    },
    "4392a69039244efd80d4e8cf28b2ec29": {
     "model_module": "@jupyter-widgets/base",
     "model_name": "LayoutModel",
     "model_module_version": "1.2.0",
     "state": {
      "_model_module": "@jupyter-widgets/base",
      "_model_module_version": "1.2.0",
      "_model_name": "LayoutModel",
      "_view_count": null,
      "_view_module": "@jupyter-widgets/base",
      "_view_module_version": "1.2.0",
      "_view_name": "LayoutView",
      "align_content": null,
      "align_items": null,
      "align_self": null,
      "border": null,
      "bottom": null,
      "display": null,
      "flex": null,
      "flex_flow": null,
      "grid_area": null,
      "grid_auto_columns": null,
      "grid_auto_flow": null,
      "grid_auto_rows": null,
      "grid_column": null,
      "grid_gap": null,
      "grid_row": null,
      "grid_template_areas": null,
      "grid_template_columns": null,
      "grid_template_rows": null,
      "height": null,
      "justify_content": null,
      "justify_items": null,
      "left": null,
      "margin": null,
      "max_height": null,
      "max_width": null,
      "min_height": null,
      "min_width": null,
      "object_fit": null,
      "object_position": null,
      "order": null,
      "overflow": null,
      "overflow_x": null,
      "overflow_y": null,
      "padding": null,
      "right": null,
      "top": null,
      "visibility": null,
      "width": null
     }
    },
    "a4b2cc7dbab744d880adeb5fa9cbf06d": {
     "model_module": "@jupyter-widgets/controls",
     "model_name": "ProgressStyleModel",
     "model_module_version": "1.5.0",
     "state": {
      "_model_module": "@jupyter-widgets/controls",
      "_model_module_version": "1.5.0",
      "_model_name": "ProgressStyleModel",
      "_view_count": null,
      "_view_module": "@jupyter-widgets/base",
      "_view_module_version": "1.2.0",
      "_view_name": "StyleView",
      "bar_color": null,
      "description_width": ""
     }
    },
    "f4ee837297264885ade6760eb7052a68": {
     "model_module": "@jupyter-widgets/base",
     "model_name": "LayoutModel",
     "model_module_version": "1.2.0",
     "state": {
      "_model_module": "@jupyter-widgets/base",
      "_model_module_version": "1.2.0",
      "_model_name": "LayoutModel",
      "_view_count": null,
      "_view_module": "@jupyter-widgets/base",
      "_view_module_version": "1.2.0",
      "_view_name": "LayoutView",
      "align_content": null,
      "align_items": null,
      "align_self": null,
      "border": null,
      "bottom": null,
      "display": null,
      "flex": null,
      "flex_flow": null,
      "grid_area": null,
      "grid_auto_columns": null,
      "grid_auto_flow": null,
      "grid_auto_rows": null,
      "grid_column": null,
      "grid_gap": null,
      "grid_row": null,
      "grid_template_areas": null,
      "grid_template_columns": null,
      "grid_template_rows": null,
      "height": null,
      "justify_content": null,
      "justify_items": null,
      "left": null,
      "margin": null,
      "max_height": null,
      "max_width": null,
      "min_height": null,
      "min_width": null,
      "object_fit": null,
      "object_position": null,
      "order": null,
      "overflow": null,
      "overflow_x": null,
      "overflow_y": null,
      "padding": null,
      "right": null,
      "top": null,
      "visibility": null,
      "width": null
     }
    },
    "c2c6b126ceae4560aea9ba29481ec43f": {
     "model_module": "@jupyter-widgets/controls",
     "model_name": "DescriptionStyleModel",
     "model_module_version": "1.5.0",
     "state": {
      "_model_module": "@jupyter-widgets/controls",
      "_model_module_version": "1.5.0",
      "_model_name": "DescriptionStyleModel",
      "_view_count": null,
      "_view_module": "@jupyter-widgets/base",
      "_view_module_version": "1.2.0",
      "_view_name": "StyleView",
      "description_width": ""
     }
    },
    "70d054512dea4f26a2ddd3bd5d31d45c": {
     "model_module": "@jupyter-widgets/controls",
     "model_name": "HBoxModel",
     "model_module_version": "1.5.0",
     "state": {
      "_dom_classes": [],
      "_model_module": "@jupyter-widgets/controls",
      "_model_module_version": "1.5.0",
      "_model_name": "HBoxModel",
      "_view_count": null,
      "_view_module": "@jupyter-widgets/controls",
      "_view_module_version": "1.5.0",
      "_view_name": "HBoxView",
      "box_style": "",
      "children": [
       "IPY_MODEL_26479c3c016a4971891318db53a4ef62",
       "IPY_MODEL_ab128280b12c41fd81c3b3f9abdd1eb8",
       "IPY_MODEL_1b77e63078dc44ef9a6d0185152caab7"
      ],
      "layout": "IPY_MODEL_fc9617c10315431ca74b5a1ea1bb3c1a"
     }
    },
    "26479c3c016a4971891318db53a4ef62": {
     "model_module": "@jupyter-widgets/controls",
     "model_name": "HTMLModel",
     "model_module_version": "1.5.0",
     "state": {
      "_dom_classes": [],
      "_model_module": "@jupyter-widgets/controls",
      "_model_module_version": "1.5.0",
      "_model_name": "HTMLModel",
      "_view_count": null,
      "_view_module": "@jupyter-widgets/controls",
      "_view_module_version": "1.5.0",
      "_view_name": "HTMLView",
      "description": "",
      "description_tooltip": null,
      "layout": "IPY_MODEL_2704c2f1240847e9ae9d63e4b2eff532",
      "placeholder": "​",
      "style": "IPY_MODEL_2614cacc857e4f39a3985f2c334c26b4",
      "value": "Downloading pytorch_model.bin: 100%"
     }
    },
    "ab128280b12c41fd81c3b3f9abdd1eb8": {
     "model_module": "@jupyter-widgets/controls",
     "model_name": "FloatProgressModel",
     "model_module_version": "1.5.0",
     "state": {
      "_dom_classes": [],
      "_model_module": "@jupyter-widgets/controls",
      "_model_module_version": "1.5.0",
      "_model_name": "FloatProgressModel",
      "_view_count": null,
      "_view_module": "@jupyter-widgets/controls",
      "_view_module_version": "1.5.0",
      "_view_name": "ProgressView",
      "bar_style": "success",
      "description": "",
      "description_tooltip": null,
      "layout": "IPY_MODEL_a3be203ad76249b1a7655479c715c114",
      "max": 444897069,
      "min": 0,
      "orientation": "horizontal",
      "style": "IPY_MODEL_da9da21491404b069df10555624bbb79",
      "value": 444897069
     }
    },
    "1b77e63078dc44ef9a6d0185152caab7": {
     "model_module": "@jupyter-widgets/controls",
     "model_name": "HTMLModel",
     "model_module_version": "1.5.0",
     "state": {
      "_dom_classes": [],
      "_model_module": "@jupyter-widgets/controls",
      "_model_module_version": "1.5.0",
      "_model_name": "HTMLModel",
      "_view_count": null,
      "_view_module": "@jupyter-widgets/controls",
      "_view_module_version": "1.5.0",
      "_view_name": "HTMLView",
      "description": "",
      "description_tooltip": null,
      "layout": "IPY_MODEL_ea9fbc66ea2b4c099bc6c05c83686a16",
      "placeholder": "​",
      "style": "IPY_MODEL_4cf01e3892a341769fea4bf7bf773c3e",
      "value": " 445M/445M [00:11&lt;00:00, 35.9MB/s]"
     }
    },
    "fc9617c10315431ca74b5a1ea1bb3c1a": {
     "model_module": "@jupyter-widgets/base",
     "model_name": "LayoutModel",
     "model_module_version": "1.2.0",
     "state": {
      "_model_module": "@jupyter-widgets/base",
      "_model_module_version": "1.2.0",
      "_model_name": "LayoutModel",
      "_view_count": null,
      "_view_module": "@jupyter-widgets/base",
      "_view_module_version": "1.2.0",
      "_view_name": "LayoutView",
      "align_content": null,
      "align_items": null,
      "align_self": null,
      "border": null,
      "bottom": null,
      "display": null,
      "flex": null,
      "flex_flow": null,
      "grid_area": null,
      "grid_auto_columns": null,
      "grid_auto_flow": null,
      "grid_auto_rows": null,
      "grid_column": null,
      "grid_gap": null,
      "grid_row": null,
      "grid_template_areas": null,
      "grid_template_columns": null,
      "grid_template_rows": null,
      "height": null,
      "justify_content": null,
      "justify_items": null,
      "left": null,
      "margin": null,
      "max_height": null,
      "max_width": null,
      "min_height": null,
      "min_width": null,
      "object_fit": null,
      "object_position": null,
      "order": null,
      "overflow": null,
      "overflow_x": null,
      "overflow_y": null,
      "padding": null,
      "right": null,
      "top": null,
      "visibility": null,
      "width": null
     }
    },
    "2704c2f1240847e9ae9d63e4b2eff532": {
     "model_module": "@jupyter-widgets/base",
     "model_name": "LayoutModel",
     "model_module_version": "1.2.0",
     "state": {
      "_model_module": "@jupyter-widgets/base",
      "_model_module_version": "1.2.0",
      "_model_name": "LayoutModel",
      "_view_count": null,
      "_view_module": "@jupyter-widgets/base",
      "_view_module_version": "1.2.0",
      "_view_name": "LayoutView",
      "align_content": null,
      "align_items": null,
      "align_self": null,
      "border": null,
      "bottom": null,
      "display": null,
      "flex": null,
      "flex_flow": null,
      "grid_area": null,
      "grid_auto_columns": null,
      "grid_auto_flow": null,
      "grid_auto_rows": null,
      "grid_column": null,
      "grid_gap": null,
      "grid_row": null,
      "grid_template_areas": null,
      "grid_template_columns": null,
      "grid_template_rows": null,
      "height": null,
      "justify_content": null,
      "justify_items": null,
      "left": null,
      "margin": null,
      "max_height": null,
      "max_width": null,
      "min_height": null,
      "min_width": null,
      "object_fit": null,
      "object_position": null,
      "order": null,
      "overflow": null,
      "overflow_x": null,
      "overflow_y": null,
      "padding": null,
      "right": null,
      "top": null,
      "visibility": null,
      "width": null
     }
    },
    "2614cacc857e4f39a3985f2c334c26b4": {
     "model_module": "@jupyter-widgets/controls",
     "model_name": "DescriptionStyleModel",
     "model_module_version": "1.5.0",
     "state": {
      "_model_module": "@jupyter-widgets/controls",
      "_model_module_version": "1.5.0",
      "_model_name": "DescriptionStyleModel",
      "_view_count": null,
      "_view_module": "@jupyter-widgets/base",
      "_view_module_version": "1.2.0",
      "_view_name": "StyleView",
      "description_width": ""
     }
    },
    "a3be203ad76249b1a7655479c715c114": {
     "model_module": "@jupyter-widgets/base",
     "model_name": "LayoutModel",
     "model_module_version": "1.2.0",
     "state": {
      "_model_module": "@jupyter-widgets/base",
      "_model_module_version": "1.2.0",
      "_model_name": "LayoutModel",
      "_view_count": null,
      "_view_module": "@jupyter-widgets/base",
      "_view_module_version": "1.2.0",
      "_view_name": "LayoutView",
      "align_content": null,
      "align_items": null,
      "align_self": null,
      "border": null,
      "bottom": null,
      "display": null,
      "flex": null,
      "flex_flow": null,
      "grid_area": null,
      "grid_auto_columns": null,
      "grid_auto_flow": null,
      "grid_auto_rows": null,
      "grid_column": null,
      "grid_gap": null,
      "grid_row": null,
      "grid_template_areas": null,
      "grid_template_columns": null,
      "grid_template_rows": null,
      "height": null,
      "justify_content": null,
      "justify_items": null,
      "left": null,
      "margin": null,
      "max_height": null,
      "max_width": null,
      "min_height": null,
      "min_width": null,
      "object_fit": null,
      "object_position": null,
      "order": null,
      "overflow": null,
      "overflow_x": null,
      "overflow_y": null,
      "padding": null,
      "right": null,
      "top": null,
      "visibility": null,
      "width": null
     }
    },
    "da9da21491404b069df10555624bbb79": {
     "model_module": "@jupyter-widgets/controls",
     "model_name": "ProgressStyleModel",
     "model_module_version": "1.5.0",
     "state": {
      "_model_module": "@jupyter-widgets/controls",
      "_model_module_version": "1.5.0",
      "_model_name": "ProgressStyleModel",
      "_view_count": null,
      "_view_module": "@jupyter-widgets/base",
      "_view_module_version": "1.2.0",
      "_view_name": "StyleView",
      "bar_color": null,
      "description_width": ""
     }
    },
    "ea9fbc66ea2b4c099bc6c05c83686a16": {
     "model_module": "@jupyter-widgets/base",
     "model_name": "LayoutModel",
     "model_module_version": "1.2.0",
     "state": {
      "_model_module": "@jupyter-widgets/base",
      "_model_module_version": "1.2.0",
      "_model_name": "LayoutModel",
      "_view_count": null,
      "_view_module": "@jupyter-widgets/base",
      "_view_module_version": "1.2.0",
      "_view_name": "LayoutView",
      "align_content": null,
      "align_items": null,
      "align_self": null,
      "border": null,
      "bottom": null,
      "display": null,
      "flex": null,
      "flex_flow": null,
      "grid_area": null,
      "grid_auto_columns": null,
      "grid_auto_flow": null,
      "grid_auto_rows": null,
      "grid_column": null,
      "grid_gap": null,
      "grid_row": null,
      "grid_template_areas": null,
      "grid_template_columns": null,
      "grid_template_rows": null,
      "height": null,
      "justify_content": null,
      "justify_items": null,
      "left": null,
      "margin": null,
      "max_height": null,
      "max_width": null,
      "min_height": null,
      "min_width": null,
      "object_fit": null,
      "object_position": null,
      "order": null,
      "overflow": null,
      "overflow_x": null,
      "overflow_y": null,
      "padding": null,
      "right": null,
      "top": null,
      "visibility": null,
      "width": null
     }
    },
    "4cf01e3892a341769fea4bf7bf773c3e": {
     "model_module": "@jupyter-widgets/controls",
     "model_name": "DescriptionStyleModel",
     "model_module_version": "1.5.0",
     "state": {
      "_model_module": "@jupyter-widgets/controls",
      "_model_module_version": "1.5.0",
      "_model_name": "DescriptionStyleModel",
      "_view_count": null,
      "_view_module": "@jupyter-widgets/base",
      "_view_module_version": "1.2.0",
      "_view_name": "StyleView",
      "description_width": ""
     }
    },
    "b4c9d4c22d264ae281ae38416c7c6509": {
     "model_module": "@jupyter-widgets/controls",
     "model_name": "HBoxModel",
     "model_module_version": "1.5.0",
     "state": {
      "_dom_classes": [],
      "_model_module": "@jupyter-widgets/controls",
      "_model_module_version": "1.5.0",
      "_model_name": "HBoxModel",
      "_view_count": null,
      "_view_module": "@jupyter-widgets/controls",
      "_view_module_version": "1.5.0",
      "_view_name": "HBoxView",
      "box_style": "",
      "children": [
       "IPY_MODEL_9bf11d9c4f1c468ab30eec18cb8a4e62",
       "IPY_MODEL_7a2f79ab98ad42f1b3f4d7fb9eb9280f",
       "IPY_MODEL_3d4ed7db72c340aca4cd47b55069ab1f"
      ],
      "layout": "IPY_MODEL_56b284e4f7cb4ed4a07fde0df26c4466"
     }
    },
    "9bf11d9c4f1c468ab30eec18cb8a4e62": {
     "model_module": "@jupyter-widgets/controls",
     "model_name": "HTMLModel",
     "model_module_version": "1.5.0",
     "state": {
      "_dom_classes": [],
      "_model_module": "@jupyter-widgets/controls",
      "_model_module_version": "1.5.0",
      "_model_name": "HTMLModel",
      "_view_count": null,
      "_view_module": "@jupyter-widgets/controls",
      "_view_module_version": "1.5.0",
      "_view_name": "HTMLView",
      "description": "",
      "description_tooltip": null,
      "layout": "IPY_MODEL_79f05277a07d4e4b97967d1e727740c9",
      "placeholder": "​",
      "style": "IPY_MODEL_393798f5b277496b84c3b984fb2e65e5",
      "value": "Downloading (…)okenizer_config.json: 100%"
     }
    },
    "7a2f79ab98ad42f1b3f4d7fb9eb9280f": {
     "model_module": "@jupyter-widgets/controls",
     "model_name": "FloatProgressModel",
     "model_module_version": "1.5.0",
     "state": {
      "_dom_classes": [],
      "_model_module": "@jupyter-widgets/controls",
      "_model_module_version": "1.5.0",
      "_model_name": "FloatProgressModel",
      "_view_count": null,
      "_view_module": "@jupyter-widgets/controls",
      "_view_module_version": "1.5.0",
      "_view_name": "ProgressView",
      "bar_style": "success",
      "description": "",
      "description_tooltip": null,
      "layout": "IPY_MODEL_582451c4fc0d4bb2bd6aea3a89c6e21d",
      "max": 529,
      "min": 0,
      "orientation": "horizontal",
      "style": "IPY_MODEL_ffe13717d79a43d88b1050b05c3d880b",
      "value": 529
     }
    },
    "3d4ed7db72c340aca4cd47b55069ab1f": {
     "model_module": "@jupyter-widgets/controls",
     "model_name": "HTMLModel",
     "model_module_version": "1.5.0",
     "state": {
      "_dom_classes": [],
      "_model_module": "@jupyter-widgets/controls",
      "_model_module_version": "1.5.0",
      "_model_name": "HTMLModel",
      "_view_count": null,
      "_view_module": "@jupyter-widgets/controls",
      "_view_module_version": "1.5.0",
      "_view_name": "HTMLView",
      "description": "",
      "description_tooltip": null,
      "layout": "IPY_MODEL_47e5329adb9b40c68fc8333312969233",
      "placeholder": "​",
      "style": "IPY_MODEL_1e2e6013955c4fa083b3de67b6e3c5da",
      "value": " 529/529 [00:00&lt;00:00, 12.3kB/s]"
     }
    },
    "56b284e4f7cb4ed4a07fde0df26c4466": {
     "model_module": "@jupyter-widgets/base",
     "model_name": "LayoutModel",
     "model_module_version": "1.2.0",
     "state": {
      "_model_module": "@jupyter-widgets/base",
      "_model_module_version": "1.2.0",
      "_model_name": "LayoutModel",
      "_view_count": null,
      "_view_module": "@jupyter-widgets/base",
      "_view_module_version": "1.2.0",
      "_view_name": "LayoutView",
      "align_content": null,
      "align_items": null,
      "align_self": null,
      "border": null,
      "bottom": null,
      "display": null,
      "flex": null,
      "flex_flow": null,
      "grid_area": null,
      "grid_auto_columns": null,
      "grid_auto_flow": null,
      "grid_auto_rows": null,
      "grid_column": null,
      "grid_gap": null,
      "grid_row": null,
      "grid_template_areas": null,
      "grid_template_columns": null,
      "grid_template_rows": null,
      "height": null,
      "justify_content": null,
      "justify_items": null,
      "left": null,
      "margin": null,
      "max_height": null,
      "max_width": null,
      "min_height": null,
      "min_width": null,
      "object_fit": null,
      "object_position": null,
      "order": null,
      "overflow": null,
      "overflow_x": null,
      "overflow_y": null,
      "padding": null,
      "right": null,
      "top": null,
      "visibility": null,
      "width": null
     }
    },
    "79f05277a07d4e4b97967d1e727740c9": {
     "model_module": "@jupyter-widgets/base",
     "model_name": "LayoutModel",
     "model_module_version": "1.2.0",
     "state": {
      "_model_module": "@jupyter-widgets/base",
      "_model_module_version": "1.2.0",
      "_model_name": "LayoutModel",
      "_view_count": null,
      "_view_module": "@jupyter-widgets/base",
      "_view_module_version": "1.2.0",
      "_view_name": "LayoutView",
      "align_content": null,
      "align_items": null,
      "align_self": null,
      "border": null,
      "bottom": null,
      "display": null,
      "flex": null,
      "flex_flow": null,
      "grid_area": null,
      "grid_auto_columns": null,
      "grid_auto_flow": null,
      "grid_auto_rows": null,
      "grid_column": null,
      "grid_gap": null,
      "grid_row": null,
      "grid_template_areas": null,
      "grid_template_columns": null,
      "grid_template_rows": null,
      "height": null,
      "justify_content": null,
      "justify_items": null,
      "left": null,
      "margin": null,
      "max_height": null,
      "max_width": null,
      "min_height": null,
      "min_width": null,
      "object_fit": null,
      "object_position": null,
      "order": null,
      "overflow": null,
      "overflow_x": null,
      "overflow_y": null,
      "padding": null,
      "right": null,
      "top": null,
      "visibility": null,
      "width": null
     }
    },
    "393798f5b277496b84c3b984fb2e65e5": {
     "model_module": "@jupyter-widgets/controls",
     "model_name": "DescriptionStyleModel",
     "model_module_version": "1.5.0",
     "state": {
      "_model_module": "@jupyter-widgets/controls",
      "_model_module_version": "1.5.0",
      "_model_name": "DescriptionStyleModel",
      "_view_count": null,
      "_view_module": "@jupyter-widgets/base",
      "_view_module_version": "1.2.0",
      "_view_name": "StyleView",
      "description_width": ""
     }
    },
    "582451c4fc0d4bb2bd6aea3a89c6e21d": {
     "model_module": "@jupyter-widgets/base",
     "model_name": "LayoutModel",
     "model_module_version": "1.2.0",
     "state": {
      "_model_module": "@jupyter-widgets/base",
      "_model_module_version": "1.2.0",
      "_model_name": "LayoutModel",
      "_view_count": null,
      "_view_module": "@jupyter-widgets/base",
      "_view_module_version": "1.2.0",
      "_view_name": "LayoutView",
      "align_content": null,
      "align_items": null,
      "align_self": null,
      "border": null,
      "bottom": null,
      "display": null,
      "flex": null,
      "flex_flow": null,
      "grid_area": null,
      "grid_auto_columns": null,
      "grid_auto_flow": null,
      "grid_auto_rows": null,
      "grid_column": null,
      "grid_gap": null,
      "grid_row": null,
      "grid_template_areas": null,
      "grid_template_columns": null,
      "grid_template_rows": null,
      "height": null,
      "justify_content": null,
      "justify_items": null,
      "left": null,
      "margin": null,
      "max_height": null,
      "max_width": null,
      "min_height": null,
      "min_width": null,
      "object_fit": null,
      "object_position": null,
      "order": null,
      "overflow": null,
      "overflow_x": null,
      "overflow_y": null,
      "padding": null,
      "right": null,
      "top": null,
      "visibility": null,
      "width": null
     }
    },
    "ffe13717d79a43d88b1050b05c3d880b": {
     "model_module": "@jupyter-widgets/controls",
     "model_name": "ProgressStyleModel",
     "model_module_version": "1.5.0",
     "state": {
      "_model_module": "@jupyter-widgets/controls",
      "_model_module_version": "1.5.0",
      "_model_name": "ProgressStyleModel",
      "_view_count": null,
      "_view_module": "@jupyter-widgets/base",
      "_view_module_version": "1.2.0",
      "_view_name": "StyleView",
      "bar_color": null,
      "description_width": ""
     }
    },
    "47e5329adb9b40c68fc8333312969233": {
     "model_module": "@jupyter-widgets/base",
     "model_name": "LayoutModel",
     "model_module_version": "1.2.0",
     "state": {
      "_model_module": "@jupyter-widgets/base",
      "_model_module_version": "1.2.0",
      "_model_name": "LayoutModel",
      "_view_count": null,
      "_view_module": "@jupyter-widgets/base",
      "_view_module_version": "1.2.0",
      "_view_name": "LayoutView",
      "align_content": null,
      "align_items": null,
      "align_self": null,
      "border": null,
      "bottom": null,
      "display": null,
      "flex": null,
      "flex_flow": null,
      "grid_area": null,
      "grid_auto_columns": null,
      "grid_auto_flow": null,
      "grid_auto_rows": null,
      "grid_column": null,
      "grid_gap": null,
      "grid_row": null,
      "grid_template_areas": null,
      "grid_template_columns": null,
      "grid_template_rows": null,
      "height": null,
      "justify_content": null,
      "justify_items": null,
      "left": null,
      "margin": null,
      "max_height": null,
      "max_width": null,
      "min_height": null,
      "min_width": null,
      "object_fit": null,
      "object_position": null,
      "order": null,
      "overflow": null,
      "overflow_x": null,
      "overflow_y": null,
      "padding": null,
      "right": null,
      "top": null,
      "visibility": null,
      "width": null
     }
    },
    "1e2e6013955c4fa083b3de67b6e3c5da": {
     "model_module": "@jupyter-widgets/controls",
     "model_name": "DescriptionStyleModel",
     "model_module_version": "1.5.0",
     "state": {
      "_model_module": "@jupyter-widgets/controls",
      "_model_module_version": "1.5.0",
      "_model_name": "DescriptionStyleModel",
      "_view_count": null,
      "_view_module": "@jupyter-widgets/base",
      "_view_module_version": "1.2.0",
      "_view_name": "StyleView",
      "description_width": ""
     }
    },
    "e87199d9784e48bd83d565be9b07c8fb": {
     "model_module": "@jupyter-widgets/controls",
     "model_name": "HBoxModel",
     "model_module_version": "1.5.0",
     "state": {
      "_dom_classes": [],
      "_model_module": "@jupyter-widgets/controls",
      "_model_module_version": "1.5.0",
      "_model_name": "HBoxModel",
      "_view_count": null,
      "_view_module": "@jupyter-widgets/controls",
      "_view_module_version": "1.5.0",
      "_view_name": "HBoxView",
      "box_style": "",
      "children": [
       "IPY_MODEL_54a16c5a0c9e406b86858e18ee3e988f",
       "IPY_MODEL_07d5dbefdc9047dca468f2306fc493e4",
       "IPY_MODEL_1774e083a33040589d1c41e35a0854f2"
      ],
      "layout": "IPY_MODEL_fe360f93716446078834f25bf8524146"
     }
    },
    "54a16c5a0c9e406b86858e18ee3e988f": {
     "model_module": "@jupyter-widgets/controls",
     "model_name": "HTMLModel",
     "model_module_version": "1.5.0",
     "state": {
      "_dom_classes": [],
      "_model_module": "@jupyter-widgets/controls",
      "_model_module_version": "1.5.0",
      "_model_name": "HTMLModel",
      "_view_count": null,
      "_view_module": "@jupyter-widgets/controls",
      "_view_module_version": "1.5.0",
      "_view_name": "HTMLView",
      "description": "",
      "description_tooltip": null,
      "layout": "IPY_MODEL_4138fa66ebc64d998c799ba1d07c5d07",
      "placeholder": "​",
      "style": "IPY_MODEL_04de50fe1cdb4e6396c68959f6c3c3cf",
      "value": "Downloading (…)solve/main/vocab.txt: 100%"
     }
    },
    "07d5dbefdc9047dca468f2306fc493e4": {
     "model_module": "@jupyter-widgets/controls",
     "model_name": "FloatProgressModel",
     "model_module_version": "1.5.0",
     "state": {
      "_dom_classes": [],
      "_model_module": "@jupyter-widgets/controls",
      "_model_module_version": "1.5.0",
      "_model_name": "FloatProgressModel",
      "_view_count": null,
      "_view_module": "@jupyter-widgets/controls",
      "_view_module_version": "1.5.0",
      "_view_name": "ProgressView",
      "bar_style": "success",
      "description": "",
      "description_tooltip": null,
      "layout": "IPY_MODEL_88f7082c341a4d818ca76f3a01d856a6",
      "max": 231026,
      "min": 0,
      "orientation": "horizontal",
      "style": "IPY_MODEL_ccd1e630fdc840e380a931cd34c9a777",
      "value": 231026
     }
    },
    "1774e083a33040589d1c41e35a0854f2": {
     "model_module": "@jupyter-widgets/controls",
     "model_name": "HTMLModel",
     "model_module_version": "1.5.0",
     "state": {
      "_dom_classes": [],
      "_model_module": "@jupyter-widgets/controls",
      "_model_module_version": "1.5.0",
      "_model_name": "HTMLModel",
      "_view_count": null,
      "_view_module": "@jupyter-widgets/controls",
      "_view_module_version": "1.5.0",
      "_view_name": "HTMLView",
      "description": "",
      "description_tooltip": null,
      "layout": "IPY_MODEL_8b59dc67126542288ccf3c937f1a0711",
      "placeholder": "​",
      "style": "IPY_MODEL_20d5fe7fa2c84c73894f43bee9d6eb30",
      "value": " 231k/231k [00:00&lt;00:00, 2.33MB/s]"
     }
    },
    "fe360f93716446078834f25bf8524146": {
     "model_module": "@jupyter-widgets/base",
     "model_name": "LayoutModel",
     "model_module_version": "1.2.0",
     "state": {
      "_model_module": "@jupyter-widgets/base",
      "_model_module_version": "1.2.0",
      "_model_name": "LayoutModel",
      "_view_count": null,
      "_view_module": "@jupyter-widgets/base",
      "_view_module_version": "1.2.0",
      "_view_name": "LayoutView",
      "align_content": null,
      "align_items": null,
      "align_self": null,
      "border": null,
      "bottom": null,
      "display": null,
      "flex": null,
      "flex_flow": null,
      "grid_area": null,
      "grid_auto_columns": null,
      "grid_auto_flow": null,
      "grid_auto_rows": null,
      "grid_column": null,
      "grid_gap": null,
      "grid_row": null,
      "grid_template_areas": null,
      "grid_template_columns": null,
      "grid_template_rows": null,
      "height": null,
      "justify_content": null,
      "justify_items": null,
      "left": null,
      "margin": null,
      "max_height": null,
      "max_width": null,
      "min_height": null,
      "min_width": null,
      "object_fit": null,
      "object_position": null,
      "order": null,
      "overflow": null,
      "overflow_x": null,
      "overflow_y": null,
      "padding": null,
      "right": null,
      "top": null,
      "visibility": null,
      "width": null
     }
    },
    "4138fa66ebc64d998c799ba1d07c5d07": {
     "model_module": "@jupyter-widgets/base",
     "model_name": "LayoutModel",
     "model_module_version": "1.2.0",
     "state": {
      "_model_module": "@jupyter-widgets/base",
      "_model_module_version": "1.2.0",
      "_model_name": "LayoutModel",
      "_view_count": null,
      "_view_module": "@jupyter-widgets/base",
      "_view_module_version": "1.2.0",
      "_view_name": "LayoutView",
      "align_content": null,
      "align_items": null,
      "align_self": null,
      "border": null,
      "bottom": null,
      "display": null,
      "flex": null,
      "flex_flow": null,
      "grid_area": null,
      "grid_auto_columns": null,
      "grid_auto_flow": null,
      "grid_auto_rows": null,
      "grid_column": null,
      "grid_gap": null,
      "grid_row": null,
      "grid_template_areas": null,
      "grid_template_columns": null,
      "grid_template_rows": null,
      "height": null,
      "justify_content": null,
      "justify_items": null,
      "left": null,
      "margin": null,
      "max_height": null,
      "max_width": null,
      "min_height": null,
      "min_width": null,
      "object_fit": null,
      "object_position": null,
      "order": null,
      "overflow": null,
      "overflow_x": null,
      "overflow_y": null,
      "padding": null,
      "right": null,
      "top": null,
      "visibility": null,
      "width": null
     }
    },
    "04de50fe1cdb4e6396c68959f6c3c3cf": {
     "model_module": "@jupyter-widgets/controls",
     "model_name": "DescriptionStyleModel",
     "model_module_version": "1.5.0",
     "state": {
      "_model_module": "@jupyter-widgets/controls",
      "_model_module_version": "1.5.0",
      "_model_name": "DescriptionStyleModel",
      "_view_count": null,
      "_view_module": "@jupyter-widgets/base",
      "_view_module_version": "1.2.0",
      "_view_name": "StyleView",
      "description_width": ""
     }
    },
    "88f7082c341a4d818ca76f3a01d856a6": {
     "model_module": "@jupyter-widgets/base",
     "model_name": "LayoutModel",
     "model_module_version": "1.2.0",
     "state": {
      "_model_module": "@jupyter-widgets/base",
      "_model_module_version": "1.2.0",
      "_model_name": "LayoutModel",
      "_view_count": null,
      "_view_module": "@jupyter-widgets/base",
      "_view_module_version": "1.2.0",
      "_view_name": "LayoutView",
      "align_content": null,
      "align_items": null,
      "align_self": null,
      "border": null,
      "bottom": null,
      "display": null,
      "flex": null,
      "flex_flow": null,
      "grid_area": null,
      "grid_auto_columns": null,
      "grid_auto_flow": null,
      "grid_auto_rows": null,
      "grid_column": null,
      "grid_gap": null,
      "grid_row": null,
      "grid_template_areas": null,
      "grid_template_columns": null,
      "grid_template_rows": null,
      "height": null,
      "justify_content": null,
      "justify_items": null,
      "left": null,
      "margin": null,
      "max_height": null,
      "max_width": null,
      "min_height": null,
      "min_width": null,
      "object_fit": null,
      "object_position": null,
      "order": null,
      "overflow": null,
      "overflow_x": null,
      "overflow_y": null,
      "padding": null,
      "right": null,
      "top": null,
      "visibility": null,
      "width": null
     }
    },
    "ccd1e630fdc840e380a931cd34c9a777": {
     "model_module": "@jupyter-widgets/controls",
     "model_name": "ProgressStyleModel",
     "model_module_version": "1.5.0",
     "state": {
      "_model_module": "@jupyter-widgets/controls",
      "_model_module_version": "1.5.0",
      "_model_name": "ProgressStyleModel",
      "_view_count": null,
      "_view_module": "@jupyter-widgets/base",
      "_view_module_version": "1.2.0",
      "_view_name": "StyleView",
      "bar_color": null,
      "description_width": ""
     }
    },
    "8b59dc67126542288ccf3c937f1a0711": {
     "model_module": "@jupyter-widgets/base",
     "model_name": "LayoutModel",
     "model_module_version": "1.2.0",
     "state": {
      "_model_module": "@jupyter-widgets/base",
      "_model_module_version": "1.2.0",
      "_model_name": "LayoutModel",
      "_view_count": null,
      "_view_module": "@jupyter-widgets/base",
      "_view_module_version": "1.2.0",
      "_view_name": "LayoutView",
      "align_content": null,
      "align_items": null,
      "align_self": null,
      "border": null,
      "bottom": null,
      "display": null,
      "flex": null,
      "flex_flow": null,
      "grid_area": null,
      "grid_auto_columns": null,
      "grid_auto_flow": null,
      "grid_auto_rows": null,
      "grid_column": null,
      "grid_gap": null,
      "grid_row": null,
      "grid_template_areas": null,
      "grid_template_columns": null,
      "grid_template_rows": null,
      "height": null,
      "justify_content": null,
      "justify_items": null,
      "left": null,
      "margin": null,
      "max_height": null,
      "max_width": null,
      "min_height": null,
      "min_width": null,
      "object_fit": null,
      "object_position": null,
      "order": null,
      "overflow": null,
      "overflow_x": null,
      "overflow_y": null,
      "padding": null,
      "right": null,
      "top": null,
      "visibility": null,
      "width": null
     }
    },
    "20d5fe7fa2c84c73894f43bee9d6eb30": {
     "model_module": "@jupyter-widgets/controls",
     "model_name": "DescriptionStyleModel",
     "model_module_version": "1.5.0",
     "state": {
      "_model_module": "@jupyter-widgets/controls",
      "_model_module_version": "1.5.0",
      "_model_name": "DescriptionStyleModel",
      "_view_count": null,
      "_view_module": "@jupyter-widgets/base",
      "_view_module_version": "1.2.0",
      "_view_name": "StyleView",
      "description_width": ""
     }
    },
    "0c30789afdc84fe4bf7038acf22b2f7d": {
     "model_module": "@jupyter-widgets/controls",
     "model_name": "HBoxModel",
     "model_module_version": "1.5.0",
     "state": {
      "_dom_classes": [],
      "_model_module": "@jupyter-widgets/controls",
      "_model_module_version": "1.5.0",
      "_model_name": "HBoxModel",
      "_view_count": null,
      "_view_module": "@jupyter-widgets/controls",
      "_view_module_version": "1.5.0",
      "_view_name": "HBoxView",
      "box_style": "",
      "children": [
       "IPY_MODEL_6fc2a8e0fd2a4a35be093c3a2b44a139",
       "IPY_MODEL_baa9bb30fb194e71821f2c3da587e0d2",
       "IPY_MODEL_fe61d7adc2af4aec9994461311b10fcf"
      ],
      "layout": "IPY_MODEL_596406c5b76f40ec949f1aaeb6f358eb"
     }
    },
    "6fc2a8e0fd2a4a35be093c3a2b44a139": {
     "model_module": "@jupyter-widgets/controls",
     "model_name": "HTMLModel",
     "model_module_version": "1.5.0",
     "state": {
      "_dom_classes": [],
      "_model_module": "@jupyter-widgets/controls",
      "_model_module_version": "1.5.0",
      "_model_name": "HTMLModel",
      "_view_count": null,
      "_view_module": "@jupyter-widgets/controls",
      "_view_module_version": "1.5.0",
      "_view_name": "HTMLView",
      "description": "",
      "description_tooltip": null,
      "layout": "IPY_MODEL_63985085f73e46a9af14e6889f094948",
      "placeholder": "​",
      "style": "IPY_MODEL_6fcc2a574e294efc838dd3a975d3a79f",
      "value": "Downloading (…)cial_tokens_map.json: 100%"
     }
    },
    "baa9bb30fb194e71821f2c3da587e0d2": {
     "model_module": "@jupyter-widgets/controls",
     "model_name": "FloatProgressModel",
     "model_module_version": "1.5.0",
     "state": {
      "_dom_classes": [],
      "_model_module": "@jupyter-widgets/controls",
      "_model_module_version": "1.5.0",
      "_model_name": "FloatProgressModel",
      "_view_count": null,
      "_view_module": "@jupyter-widgets/controls",
      "_view_module_version": "1.5.0",
      "_view_name": "ProgressView",
      "bar_style": "success",
      "description": "",
      "description_tooltip": null,
      "layout": "IPY_MODEL_808ee08392f94d00b8fd3e3438b25de3",
      "max": 125,
      "min": 0,
      "orientation": "horizontal",
      "style": "IPY_MODEL_f9ee14ed05f84c69b2a0c27712200870",
      "value": 125
     }
    },
    "fe61d7adc2af4aec9994461311b10fcf": {
     "model_module": "@jupyter-widgets/controls",
     "model_name": "HTMLModel",
     "model_module_version": "1.5.0",
     "state": {
      "_dom_classes": [],
      "_model_module": "@jupyter-widgets/controls",
      "_model_module_version": "1.5.0",
      "_model_name": "HTMLModel",
      "_view_count": null,
      "_view_module": "@jupyter-widgets/controls",
      "_view_module_version": "1.5.0",
      "_view_name": "HTMLView",
      "description": "",
      "description_tooltip": null,
      "layout": "IPY_MODEL_46cec38c808b4737923e6d958dc759af",
      "placeholder": "​",
      "style": "IPY_MODEL_87dd12a0b68143738c2b809e1db8ac53",
      "value": " 125/125 [00:00&lt;00:00, 9.03kB/s]"
     }
    },
    "596406c5b76f40ec949f1aaeb6f358eb": {
     "model_module": "@jupyter-widgets/base",
     "model_name": "LayoutModel",
     "model_module_version": "1.2.0",
     "state": {
      "_model_module": "@jupyter-widgets/base",
      "_model_module_version": "1.2.0",
      "_model_name": "LayoutModel",
      "_view_count": null,
      "_view_module": "@jupyter-widgets/base",
      "_view_module_version": "1.2.0",
      "_view_name": "LayoutView",
      "align_content": null,
      "align_items": null,
      "align_self": null,
      "border": null,
      "bottom": null,
      "display": null,
      "flex": null,
      "flex_flow": null,
      "grid_area": null,
      "grid_auto_columns": null,
      "grid_auto_flow": null,
      "grid_auto_rows": null,
      "grid_column": null,
      "grid_gap": null,
      "grid_row": null,
      "grid_template_areas": null,
      "grid_template_columns": null,
      "grid_template_rows": null,
      "height": null,
      "justify_content": null,
      "justify_items": null,
      "left": null,
      "margin": null,
      "max_height": null,
      "max_width": null,
      "min_height": null,
      "min_width": null,
      "object_fit": null,
      "object_position": null,
      "order": null,
      "overflow": null,
      "overflow_x": null,
      "overflow_y": null,
      "padding": null,
      "right": null,
      "top": null,
      "visibility": null,
      "width": null
     }
    },
    "63985085f73e46a9af14e6889f094948": {
     "model_module": "@jupyter-widgets/base",
     "model_name": "LayoutModel",
     "model_module_version": "1.2.0",
     "state": {
      "_model_module": "@jupyter-widgets/base",
      "_model_module_version": "1.2.0",
      "_model_name": "LayoutModel",
      "_view_count": null,
      "_view_module": "@jupyter-widgets/base",
      "_view_module_version": "1.2.0",
      "_view_name": "LayoutView",
      "align_content": null,
      "align_items": null,
      "align_self": null,
      "border": null,
      "bottom": null,
      "display": null,
      "flex": null,
      "flex_flow": null,
      "grid_area": null,
      "grid_auto_columns": null,
      "grid_auto_flow": null,
      "grid_auto_rows": null,
      "grid_column": null,
      "grid_gap": null,
      "grid_row": null,
      "grid_template_areas": null,
      "grid_template_columns": null,
      "grid_template_rows": null,
      "height": null,
      "justify_content": null,
      "justify_items": null,
      "left": null,
      "margin": null,
      "max_height": null,
      "max_width": null,
      "min_height": null,
      "min_width": null,
      "object_fit": null,
      "object_position": null,
      "order": null,
      "overflow": null,
      "overflow_x": null,
      "overflow_y": null,
      "padding": null,
      "right": null,
      "top": null,
      "visibility": null,
      "width": null
     }
    },
    "6fcc2a574e294efc838dd3a975d3a79f": {
     "model_module": "@jupyter-widgets/controls",
     "model_name": "DescriptionStyleModel",
     "model_module_version": "1.5.0",
     "state": {
      "_model_module": "@jupyter-widgets/controls",
      "_model_module_version": "1.5.0",
      "_model_name": "DescriptionStyleModel",
      "_view_count": null,
      "_view_module": "@jupyter-widgets/base",
      "_view_module_version": "1.2.0",
      "_view_name": "StyleView",
      "description_width": ""
     }
    },
    "808ee08392f94d00b8fd3e3438b25de3": {
     "model_module": "@jupyter-widgets/base",
     "model_name": "LayoutModel",
     "model_module_version": "1.2.0",
     "state": {
      "_model_module": "@jupyter-widgets/base",
      "_model_module_version": "1.2.0",
      "_model_name": "LayoutModel",
      "_view_count": null,
      "_view_module": "@jupyter-widgets/base",
      "_view_module_version": "1.2.0",
      "_view_name": "LayoutView",
      "align_content": null,
      "align_items": null,
      "align_self": null,
      "border": null,
      "bottom": null,
      "display": null,
      "flex": null,
      "flex_flow": null,
      "grid_area": null,
      "grid_auto_columns": null,
      "grid_auto_flow": null,
      "grid_auto_rows": null,
      "grid_column": null,
      "grid_gap": null,
      "grid_row": null,
      "grid_template_areas": null,
      "grid_template_columns": null,
      "grid_template_rows": null,
      "height": null,
      "justify_content": null,
      "justify_items": null,
      "left": null,
      "margin": null,
      "max_height": null,
      "max_width": null,
      "min_height": null,
      "min_width": null,
      "object_fit": null,
      "object_position": null,
      "order": null,
      "overflow": null,
      "overflow_x": null,
      "overflow_y": null,
      "padding": null,
      "right": null,
      "top": null,
      "visibility": null,
      "width": null
     }
    },
    "f9ee14ed05f84c69b2a0c27712200870": {
     "model_module": "@jupyter-widgets/controls",
     "model_name": "ProgressStyleModel",
     "model_module_version": "1.5.0",
     "state": {
      "_model_module": "@jupyter-widgets/controls",
      "_model_module_version": "1.5.0",
      "_model_name": "ProgressStyleModel",
      "_view_count": null,
      "_view_module": "@jupyter-widgets/base",
      "_view_module_version": "1.2.0",
      "_view_name": "StyleView",
      "bar_color": null,
      "description_width": ""
     }
    },
    "46cec38c808b4737923e6d958dc759af": {
     "model_module": "@jupyter-widgets/base",
     "model_name": "LayoutModel",
     "model_module_version": "1.2.0",
     "state": {
      "_model_module": "@jupyter-widgets/base",
      "_model_module_version": "1.2.0",
      "_model_name": "LayoutModel",
      "_view_count": null,
      "_view_module": "@jupyter-widgets/base",
      "_view_module_version": "1.2.0",
      "_view_name": "LayoutView",
      "align_content": null,
      "align_items": null,
      "align_self": null,
      "border": null,
      "bottom": null,
      "display": null,
      "flex": null,
      "flex_flow": null,
      "grid_area": null,
      "grid_auto_columns": null,
      "grid_auto_flow": null,
      "grid_auto_rows": null,
      "grid_column": null,
      "grid_gap": null,
      "grid_row": null,
      "grid_template_areas": null,
      "grid_template_columns": null,
      "grid_template_rows": null,
      "height": null,
      "justify_content": null,
      "justify_items": null,
      "left": null,
      "margin": null,
      "max_height": null,
      "max_width": null,
      "min_height": null,
      "min_width": null,
      "object_fit": null,
      "object_position": null,
      "order": null,
      "overflow": null,
      "overflow_x": null,
      "overflow_y": null,
      "padding": null,
      "right": null,
      "top": null,
      "visibility": null,
      "width": null
     }
    },
    "87dd12a0b68143738c2b809e1db8ac53": {
     "model_module": "@jupyter-widgets/controls",
     "model_name": "DescriptionStyleModel",
     "model_module_version": "1.5.0",
     "state": {
      "_model_module": "@jupyter-widgets/controls",
      "_model_module_version": "1.5.0",
      "_model_name": "DescriptionStyleModel",
      "_view_count": null,
      "_view_module": "@jupyter-widgets/base",
      "_view_module_version": "1.2.0",
      "_view_name": "StyleView",
      "description_width": ""
     }
    }
   }
  }
 },
 "nbformat": 4,
 "nbformat_minor": 5
}